{
 "cells": [
  {
   "cell_type": "code",
   "execution_count": 1,
   "id": "7540766a-ff1d-445a-8e6e-3ef3cb421a52",
   "metadata": {},
   "outputs": [],
   "source": [
    "import lightgbm as lgb\n",
    "from lightgbm import LGBMRegressor\n",
    "from sklearn.model_selection import RandomizedSearchCV\n",
    "\n",
    "import os, sys, time\n",
    "from datetime import datetime\n",
    "\n",
    "import random\n",
    "import scipy.stats as st\n",
    "import pandas as pd\n",
    "import numpy as np\n",
    "from math import ceil\n",
    "from functools import reduce\n",
    "from tqdm import tqdm\n",
    "\n",
    "sys.path.insert(0, \"../scripts\")\n",
    "\n",
    "from feature_extractor import FeatureExtractor\n",
    "\n",
    "import warnings\n",
    "warnings.filterwarnings('ignore')"
   ]
  },
  {
   "cell_type": "code",
   "execution_count": 2,
   "id": "c772a7bd-1862-400f-8a17-5d493970aaac",
   "metadata": {},
   "outputs": [],
   "source": [
    "DATA_PATH = '../data/raw/pinheiro'\n",
    "data = pd.read_csv(os.path.join(DATA_PATH, 'data.csv'))"
   ]
  },
  {
   "cell_type": "code",
   "execution_count": 3,
   "id": "b93b35da-76b9-49c5-9c6c-19f4a9c2cbe8",
   "metadata": {},
   "outputs": [],
   "source": [
    "def data_aggregation(data, agg_level):\n",
    "    agg_cols_by_level = {\n",
    "        1: ['date'],\n",
    "        2: ['date', 'store_nbr'],\n",
    "        3: ['date', 'SECAO'],\n",
    "        4: ['date', 'GRUPO'],\n",
    "        5: ['date', 'SUBGRUPO'],\n",
    "        6: ['date', 'store_nbr', 'SECAO'],\n",
    "        7: ['date', 'store_nbr', 'GRUPO'],\n",
    "        8: ['date', 'store_nbr', 'SUBGRUPO'],\n",
    "        9: ['date', 'item_nbr'],\n",
    "        10: ['date', 'item_nbr', 'store_nbr']\n",
    "    }\n",
    "    \n",
    "    agg_sales =  data.groupby(\n",
    "        agg_cols_by_level[agg_level]\n",
    "    )['unit_sales'].mean().reset_index()\n",
    "    \n",
    "    merge_cols = agg_sales.columns.tolist()\n",
    "    merge_cols.remove('unit_sales')\n",
    "    \n",
    "    agg_data = data.drop(columns='unit_sales')\n",
    "    agg_data = agg_data.merge(agg_sales, on=merge_cols)\n",
    "    agg_data = agg_data[data.columns]\n",
    "    \n",
    "    return agg_data"
   ]
  },
  {
   "cell_type": "code",
   "execution_count": 4,
   "id": "40f17951-2b68-4483-a963-b7f92ed67075",
   "metadata": {},
   "outputs": [],
   "source": [
    "def categorical_features_encoding(grid_df):\n",
    "    id_columns = ['date', 'item_nbr', 'store_nbr']\n",
    "    feature_columns = [col for col in grid_df.columns if col not in id_columns]\n",
    "\n",
    "    categorical_features = grid_df[id_columns]\n",
    "    for feature in feature_columns:\n",
    "        df_dummy = pd.get_dummies(grid_df[feature])\n",
    "        df_dummy = df_dummy.rename(columns={\n",
    "            col: feature + '_' + str(col) for col in df_dummy.columns\n",
    "        })\n",
    "\n",
    "        categorical_features = pd.concat([categorical_features, df_dummy], axis=1)\n",
    "        \n",
    "    return categorical_features"
   ]
  },
  {
   "cell_type": "code",
   "execution_count": 5,
   "id": "c8bd9ddf-f4eb-4b47-a6af-53320de29faf",
   "metadata": {},
   "outputs": [],
   "source": [
    "def root_mean_squared_scaled_error(y, y_pred, h, n):\n",
    "    a = np.power(y[n:n+h] - y_pred[n:n+h], 2)\n",
    "    a = (1/h)*np.sum(a)\n",
    "    \n",
    "    b = 0\n",
    "    for t in range(1, n):\n",
    "        b += np.power(y[t][0] - y[t-1][0], 2)\n",
    "        \n",
    "    b = (1/(n-1))*b\n",
    "    \n",
    "    return np.sqrt(a/b)"
   ]
  },
  {
   "cell_type": "code",
   "execution_count": 6,
   "id": "4a17340e-107d-4837-80bd-c5638b2a70f5",
   "metadata": {},
   "outputs": [],
   "source": [
    "search_grid = {\n",
    "    'boosting_type': ['gbdt', 'dart', 'goss', 'rf'],\n",
    "    'num_leaves': [20, 40, 60, 80, 100],\n",
    "    'max_depth': [-1, 5, 10, 20],\n",
    "    'learning_rate': [0.05, 0.1, 0.2],\n",
    "    'n_estimators': [100, 200, 400, 600, 800, 1000],\n",
    "    'subsample_for_bin': [20000, 40000, 80000, 160000],\n",
    "    'class_weight': [None, 'balanced'],\n",
    "    'min_child_samples': [20, 40, 60, 80, 100],\n",
    "    'reg_alpha': [0.0, 0.2, 0.4, 0.6, 0.8, 1.0],\n",
    "    'reg_lambda': [0.0, 0.2, 0.4, 0.6, 0.8, 1.0],\n",
    "    'colsample_bytree': [0.6, 0.7, 0.8, 0.9, 1.0]\n",
    "}"
   ]
  },
  {
   "cell_type": "code",
   "execution_count": 7,
   "id": "3a455303-bdd7-4344-b939-8f3d71dd13f5",
   "metadata": {},
   "outputs": [],
   "source": [
    "samples = []\n",
    "for item_nbr in data['item_nbr'].unique():\n",
    "    for store_nbr in data['store_nbr'].unique():\n",
    "        samples.append((item_nbr, store_nbr))"
   ]
  },
  {
   "cell_type": "code",
   "execution_count": 14,
   "id": "25bab1b5-e92f-4726-9108-084ac2c019c7",
   "metadata": {
    "collapsed": true,
    "jupyter": {
     "outputs_hidden": true
    },
    "tags": []
   },
   "outputs": [
    {
     "name": "stderr",
     "output_type": "stream",
     "text": [
      "INFO:FeatureExtractor:Extracting date features\n",
      "INFO:FeatureExtractor:Extracting price features\n",
      "INFO:FeatureExtractor:Extracting lagged features\n",
      "INFO:FeatureExtractor:Features extracted successfully\n",
      "  0%|                              | 0/1936 [00:00<?, ?it/s]"
     ]
    },
    {
     "name": "stdout",
     "output_type": "stream",
     "text": [
      "Fitting 3 folds for each of 5 candidates, totalling 15 fits\n"
     ]
    },
    {
     "name": "stderr",
     "output_type": "stream",
     "text": [
      "  0%|                              | 1/1936 [00:04<2:12:22,  4.10s/it]"
     ]
    },
    {
     "name": "stdout",
     "output_type": "stream",
     "text": [
      "Fitting 3 folds for each of 5 candidates, totalling 15 fits\n"
     ]
    },
    {
     "name": "stderr",
     "output_type": "stream",
     "text": [
      "  0%|                              | 2/1936 [00:07<2:03:54,  3.84s/it]"
     ]
    },
    {
     "name": "stdout",
     "output_type": "stream",
     "text": [
      "Fitting 3 folds for each of 5 candidates, totalling 15 fits\n",
      "Cannot have number of splits n_splits=3 greater than the number of samples: n_samples=0.\n",
      "Fitting 3 folds for each of 5 candidates, totalling 15 fits\n"
     ]
    },
    {
     "name": "stderr",
     "output_type": "stream",
     "text": [
      "  0%|                              | 4/1936 [00:12<1:29:36,  2.78s/it]"
     ]
    },
    {
     "name": "stdout",
     "output_type": "stream",
     "text": [
      "Fitting 3 folds for each of 5 candidates, totalling 15 fits\n"
     ]
    },
    {
     "name": "stderr",
     "output_type": "stream",
     "text": [
      "  0%|                              | 5/1936 [00:15<1:39:02,  3.08s/it]"
     ]
    },
    {
     "name": "stdout",
     "output_type": "stream",
     "text": [
      "Fitting 3 folds for each of 5 candidates, totalling 15 fits\n",
      "Cannot have number of splits n_splits=3 greater than the number of samples: n_samples=0.\n",
      "Fitting 3 folds for each of 5 candidates, totalling 15 fits\n",
      "Cannot have number of splits n_splits=3 greater than the number of samples: n_samples=0.\n",
      "Fitting 3 folds for each of 5 candidates, totalling 15 fits\n",
      "Cannot have number of splits n_splits=3 greater than the number of samples: n_samples=0.\n",
      "Fitting 3 folds for each of 5 candidates, totalling 15 fits\n"
     ]
    },
    {
     "name": "stderr",
     "output_type": "stream",
     "text": [
      "  0%|▏                             | 9/1936 [00:26<1:30:06,  2.81s/it]"
     ]
    },
    {
     "name": "stdout",
     "output_type": "stream",
     "text": [
      "Fitting 3 folds for each of 5 candidates, totalling 15 fits\n"
     ]
    },
    {
     "name": "stderr",
     "output_type": "stream",
     "text": [
      "  1%|▏                             | 10/1936 [00:37<2:18:08,  4.30s/it]"
     ]
    },
    {
     "name": "stdout",
     "output_type": "stream",
     "text": [
      "Fitting 3 folds for each of 5 candidates, totalling 15 fits\n",
      "Cannot have number of splits n_splits=3 greater than the number of samples: n_samples=0.\n",
      "Fitting 3 folds for each of 5 candidates, totalling 15 fits\n"
     ]
    },
    {
     "name": "stderr",
     "output_type": "stream",
     "text": [
      "  1%|▏                             | 12/1936 [00:48<2:30:22,  4.69s/it]"
     ]
    },
    {
     "name": "stdout",
     "output_type": "stream",
     "text": [
      "Fitting 3 folds for each of 5 candidates, totalling 15 fits\n"
     ]
    },
    {
     "name": "stderr",
     "output_type": "stream",
     "text": [
      "  1%|▏                             | 13/1936 [00:59<3:15:13,  6.09s/it]"
     ]
    },
    {
     "name": "stdout",
     "output_type": "stream",
     "text": [
      "Fitting 3 folds for each of 5 candidates, totalling 15 fits\n",
      "Cannot have number of splits n_splits=3 greater than the number of samples: n_samples=0.\n",
      "Fitting 3 folds for each of 5 candidates, totalling 15 fits\n",
      "Cannot have number of splits n_splits=3 greater than the number of samples: n_samples=0.\n",
      "Fitting 3 folds for each of 5 candidates, totalling 15 fits\n",
      "Cannot have number of splits n_splits=3 greater than the number of samples: n_samples=0.\n",
      "Fitting 3 folds for each of 5 candidates, totalling 15 fits\n"
     ]
    },
    {
     "name": "stderr",
     "output_type": "stream",
     "text": [
      "  1%|▎                             | 17/1936 [01:12<2:25:09,  4.54s/it]"
     ]
    },
    {
     "name": "stdout",
     "output_type": "stream",
     "text": [
      "Fitting 3 folds for each of 5 candidates, totalling 15 fits\n"
     ]
    },
    {
     "name": "stderr",
     "output_type": "stream",
     "text": [
      "  1%|▎                             | 18/1936 [01:23<2:58:08,  5.57s/it]"
     ]
    },
    {
     "name": "stdout",
     "output_type": "stream",
     "text": [
      "Fitting 3 folds for each of 5 candidates, totalling 15 fits\n",
      "Cannot have number of splits n_splits=3 greater than the number of samples: n_samples=0.\n",
      "Fitting 3 folds for each of 5 candidates, totalling 15 fits\n"
     ]
    },
    {
     "name": "stderr",
     "output_type": "stream",
     "text": [
      "  1%|▎                             | 20/1936 [01:36<3:06:11,  5.83s/it]"
     ]
    },
    {
     "name": "stdout",
     "output_type": "stream",
     "text": [
      "Fitting 3 folds for each of 5 candidates, totalling 15 fits\n"
     ]
    },
    {
     "name": "stderr",
     "output_type": "stream",
     "text": [
      "  1%|▎                             | 21/1936 [01:47<3:36:05,  6.77s/it]"
     ]
    },
    {
     "name": "stdout",
     "output_type": "stream",
     "text": [
      "Fitting 3 folds for each of 5 candidates, totalling 15 fits\n",
      "Cannot have number of splits n_splits=3 greater than the number of samples: n_samples=0.\n",
      "Fitting 3 folds for each of 5 candidates, totalling 15 fits\n",
      "Cannot have number of splits n_splits=3 greater than the number of samples: n_samples=0.\n",
      "Fitting 3 folds for each of 5 candidates, totalling 15 fits\n",
      "Cannot have number of splits n_splits=3 greater than the number of samples: n_samples=0.\n",
      "Fitting 3 folds for each of 5 candidates, totalling 15 fits\n"
     ]
    },
    {
     "name": "stderr",
     "output_type": "stream",
     "text": [
      "  1%|▍                             | 25/1936 [01:59<2:33:16,  4.81s/it]"
     ]
    },
    {
     "name": "stdout",
     "output_type": "stream",
     "text": [
      "Fitting 3 folds for each of 5 candidates, totalling 15 fits\n"
     ]
    },
    {
     "name": "stderr",
     "output_type": "stream",
     "text": [
      "  1%|▍                             | 26/1936 [02:10<3:04:49,  5.81s/it]"
     ]
    },
    {
     "name": "stdout",
     "output_type": "stream",
     "text": [
      "Fitting 3 folds for each of 5 candidates, totalling 15 fits\n",
      "Cannot have number of splits n_splits=3 greater than the number of samples: n_samples=0.\n",
      "Fitting 3 folds for each of 5 candidates, totalling 15 fits\n"
     ]
    },
    {
     "name": "stderr",
     "output_type": "stream",
     "text": [
      "  1%|▍                             | 28/1936 [02:21<3:00:36,  5.68s/it]"
     ]
    },
    {
     "name": "stdout",
     "output_type": "stream",
     "text": [
      "Fitting 3 folds for each of 5 candidates, totalling 15 fits\n"
     ]
    },
    {
     "name": "stderr",
     "output_type": "stream",
     "text": [
      "  1%|▍                             | 29/1936 [02:31<3:29:56,  6.61s/it]"
     ]
    },
    {
     "name": "stdout",
     "output_type": "stream",
     "text": [
      "Fitting 3 folds for each of 5 candidates, totalling 15 fits\n",
      "Cannot have number of splits n_splits=3 greater than the number of samples: n_samples=0.\n",
      "Fitting 3 folds for each of 5 candidates, totalling 15 fits\n",
      "Cannot have number of splits n_splits=3 greater than the number of samples: n_samples=0.\n",
      "Fitting 3 folds for each of 5 candidates, totalling 15 fits\n",
      "Cannot have number of splits n_splits=3 greater than the number of samples: n_samples=0.\n",
      "Fitting 3 folds for each of 5 candidates, totalling 15 fits\n"
     ]
    },
    {
     "name": "stderr",
     "output_type": "stream",
     "text": [
      "  2%|▌                             | 33/1936 [02:43<2:28:48,  4.69s/it]"
     ]
    },
    {
     "name": "stdout",
     "output_type": "stream",
     "text": [
      "Fitting 3 folds for each of 5 candidates, totalling 15 fits\n"
     ]
    },
    {
     "name": "stderr",
     "output_type": "stream",
     "text": [
      "  2%|▌                             | 34/1936 [02:55<3:03:17,  5.78s/it]"
     ]
    },
    {
     "name": "stdout",
     "output_type": "stream",
     "text": [
      "Fitting 3 folds for each of 5 candidates, totalling 15 fits\n",
      "Cannot have number of splits n_splits=3 greater than the number of samples: n_samples=0.\n",
      "Fitting 3 folds for each of 5 candidates, totalling 15 fits\n"
     ]
    },
    {
     "name": "stderr",
     "output_type": "stream",
     "text": [
      "  2%|▌                             | 36/1936 [03:07<3:06:29,  5.89s/it]"
     ]
    },
    {
     "name": "stdout",
     "output_type": "stream",
     "text": [
      "Fitting 3 folds for each of 5 candidates, totalling 15 fits\n"
     ]
    },
    {
     "name": "stderr",
     "output_type": "stream",
     "text": [
      "  2%|▌                             | 37/1936 [03:20<3:44:44,  7.10s/it]"
     ]
    },
    {
     "name": "stdout",
     "output_type": "stream",
     "text": [
      "Fitting 3 folds for each of 5 candidates, totalling 15 fits\n",
      "Cannot have number of splits n_splits=3 greater than the number of samples: n_samples=0.\n",
      "Fitting 3 folds for each of 5 candidates, totalling 15 fits\n",
      "Cannot have number of splits n_splits=3 greater than the number of samples: n_samples=0.\n",
      "Fitting 3 folds for each of 5 candidates, totalling 15 fits\n",
      "Cannot have number of splits n_splits=3 greater than the number of samples: n_samples=0.\n",
      "Fitting 3 folds for each of 5 candidates, totalling 15 fits\n"
     ]
    },
    {
     "name": "stderr",
     "output_type": "stream",
     "text": [
      "  2%|▋                             | 41/1936 [03:30<2:33:57,  4.87s/it]"
     ]
    },
    {
     "name": "stdout",
     "output_type": "stream",
     "text": [
      "Fitting 3 folds for each of 5 candidates, totalling 15 fits\n"
     ]
    },
    {
     "name": "stderr",
     "output_type": "stream",
     "text": [
      "  2%|▋                             | 42/1936 [03:42<3:05:12,  5.87s/it]"
     ]
    },
    {
     "name": "stdout",
     "output_type": "stream",
     "text": [
      "Fitting 3 folds for each of 5 candidates, totalling 15 fits\n",
      "Cannot have number of splits n_splits=3 greater than the number of samples: n_samples=0.\n",
      "Fitting 3 folds for each of 5 candidates, totalling 15 fits\n"
     ]
    },
    {
     "name": "stderr",
     "output_type": "stream",
     "text": [
      "  2%|▋                             | 44/1936 [03:55<3:14:14,  6.16s/it]"
     ]
    },
    {
     "name": "stdout",
     "output_type": "stream",
     "text": [
      "Fitting 3 folds for each of 5 candidates, totalling 15 fits\n"
     ]
    },
    {
     "name": "stderr",
     "output_type": "stream",
     "text": [
      "  2%|▋                             | 45/1936 [04:08<3:52:17,  7.37s/it]"
     ]
    },
    {
     "name": "stdout",
     "output_type": "stream",
     "text": [
      "Fitting 3 folds for each of 5 candidates, totalling 15 fits\n",
      "Cannot have number of splits n_splits=3 greater than the number of samples: n_samples=0.\n",
      "Fitting 3 folds for each of 5 candidates, totalling 15 fits\n",
      "Cannot have number of splits n_splits=3 greater than the number of samples: n_samples=0.\n",
      "Fitting 3 folds for each of 5 candidates, totalling 15 fits\n",
      "Cannot have number of splits n_splits=3 greater than the number of samples: n_samples=0.\n",
      "Fitting 3 folds for each of 5 candidates, totalling 15 fits\n"
     ]
    },
    {
     "name": "stderr",
     "output_type": "stream",
     "text": [
      "  3%|▊                             | 49/1936 [04:20<2:43:15,  5.19s/it]"
     ]
    },
    {
     "name": "stdout",
     "output_type": "stream",
     "text": [
      "Fitting 3 folds for each of 5 candidates, totalling 15 fits\n"
     ]
    },
    {
     "name": "stderr",
     "output_type": "stream",
     "text": [
      "  3%|▊                             | 50/1936 [04:32<3:14:16,  6.18s/it]"
     ]
    },
    {
     "name": "stdout",
     "output_type": "stream",
     "text": [
      "Fitting 3 folds for each of 5 candidates, totalling 15 fits\n",
      "Cannot have number of splits n_splits=3 greater than the number of samples: n_samples=0.\n",
      "Fitting 3 folds for each of 5 candidates, totalling 15 fits\n"
     ]
    },
    {
     "name": "stderr",
     "output_type": "stream",
     "text": [
      "  3%|▊                             | 52/1936 [04:43<3:07:00,  5.96s/it]"
     ]
    },
    {
     "name": "stdout",
     "output_type": "stream",
     "text": [
      "Fitting 3 folds for each of 5 candidates, totalling 15 fits\n"
     ]
    },
    {
     "name": "stderr",
     "output_type": "stream",
     "text": [
      "  3%|▊                             | 53/1936 [04:54<3:37:04,  6.92s/it]"
     ]
    },
    {
     "name": "stdout",
     "output_type": "stream",
     "text": [
      "Fitting 3 folds for each of 5 candidates, totalling 15 fits\n",
      "Cannot have number of splits n_splits=3 greater than the number of samples: n_samples=0.\n",
      "Fitting 3 folds for each of 5 candidates, totalling 15 fits\n",
      "Cannot have number of splits n_splits=3 greater than the number of samples: n_samples=0.\n",
      "Fitting 3 folds for each of 5 candidates, totalling 15 fits\n",
      "Cannot have number of splits n_splits=3 greater than the number of samples: n_samples=0.\n",
      "Fitting 3 folds for each of 5 candidates, totalling 15 fits\n"
     ]
    },
    {
     "name": "stderr",
     "output_type": "stream",
     "text": [
      "  3%|▉                             | 57/1936 [05:07<2:35:18,  4.96s/it]"
     ]
    },
    {
     "name": "stdout",
     "output_type": "stream",
     "text": [
      "Fitting 3 folds for each of 5 candidates, totalling 15 fits\n"
     ]
    },
    {
     "name": "stderr",
     "output_type": "stream",
     "text": [
      "  3%|▉                             | 58/1936 [05:18<3:07:25,  5.99s/it]"
     ]
    },
    {
     "name": "stdout",
     "output_type": "stream",
     "text": [
      "Fitting 3 folds for each of 5 candidates, totalling 15 fits\n",
      "Cannot have number of splits n_splits=3 greater than the number of samples: n_samples=0.\n",
      "Fitting 3 folds for each of 5 candidates, totalling 15 fits\n"
     ]
    },
    {
     "name": "stderr",
     "output_type": "stream",
     "text": [
      "  3%|▉                             | 60/1936 [05:29<3:03:00,  5.85s/it]"
     ]
    },
    {
     "name": "stdout",
     "output_type": "stream",
     "text": [
      "Fitting 3 folds for each of 5 candidates, totalling 15 fits\n"
     ]
    },
    {
     "name": "stderr",
     "output_type": "stream",
     "text": [
      "  3%|▉                             | 61/1936 [05:40<3:31:23,  6.76s/it]"
     ]
    },
    {
     "name": "stdout",
     "output_type": "stream",
     "text": [
      "Fitting 3 folds for each of 5 candidates, totalling 15 fits\n",
      "Cannot have number of splits n_splits=3 greater than the number of samples: n_samples=0.\n",
      "Fitting 3 folds for each of 5 candidates, totalling 15 fits\n",
      "Cannot have number of splits n_splits=3 greater than the number of samples: n_samples=0.\n",
      "Fitting 3 folds for each of 5 candidates, totalling 15 fits\n",
      "Cannot have number of splits n_splits=3 greater than the number of samples: n_samples=0.\n",
      "Fitting 3 folds for each of 5 candidates, totalling 15 fits\n"
     ]
    },
    {
     "name": "stderr",
     "output_type": "stream",
     "text": [
      "  3%|█                             | 65/1936 [05:53<2:34:48,  4.96s/it]"
     ]
    },
    {
     "name": "stdout",
     "output_type": "stream",
     "text": [
      "Fitting 3 folds for each of 5 candidates, totalling 15 fits\n"
     ]
    },
    {
     "name": "stderr",
     "output_type": "stream",
     "text": [
      "  3%|█                             | 66/1936 [06:06<3:10:23,  6.11s/it]"
     ]
    },
    {
     "name": "stdout",
     "output_type": "stream",
     "text": [
      "Fitting 3 folds for each of 5 candidates, totalling 15 fits\n",
      "Cannot have number of splits n_splits=3 greater than the number of samples: n_samples=0.\n",
      "Fitting 3 folds for each of 5 candidates, totalling 15 fits\n"
     ]
    },
    {
     "name": "stderr",
     "output_type": "stream",
     "text": [
      "  4%|█                             | 68/1936 [06:18<3:09:09,  6.08s/it]"
     ]
    },
    {
     "name": "stdout",
     "output_type": "stream",
     "text": [
      "Fitting 3 folds for each of 5 candidates, totalling 15 fits\n"
     ]
    },
    {
     "name": "stderr",
     "output_type": "stream",
     "text": [
      "  4%|█                             | 69/1936 [06:30<3:43:46,  7.19s/it]"
     ]
    },
    {
     "name": "stdout",
     "output_type": "stream",
     "text": [
      "Fitting 3 folds for each of 5 candidates, totalling 15 fits\n",
      "Cannot have number of splits n_splits=3 greater than the number of samples: n_samples=0.\n",
      "Fitting 3 folds for each of 5 candidates, totalling 15 fits\n",
      "Cannot have number of splits n_splits=3 greater than the number of samples: n_samples=0.\n",
      "Fitting 3 folds for each of 5 candidates, totalling 15 fits\n",
      "Cannot have number of splits n_splits=3 greater than the number of samples: n_samples=0.\n",
      "Fitting 3 folds for each of 5 candidates, totalling 15 fits\n"
     ]
    },
    {
     "name": "stderr",
     "output_type": "stream",
     "text": [
      "  4%|█▏                            | 73/1936 [06:41<2:32:44,  4.92s/it]"
     ]
    },
    {
     "name": "stdout",
     "output_type": "stream",
     "text": [
      "Fitting 3 folds for each of 5 candidates, totalling 15 fits\n"
     ]
    },
    {
     "name": "stderr",
     "output_type": "stream",
     "text": [
      "  4%|█▏                            | 74/1936 [06:52<3:03:07,  5.90s/it]"
     ]
    },
    {
     "name": "stdout",
     "output_type": "stream",
     "text": [
      "Fitting 3 folds for each of 5 candidates, totalling 15 fits\n",
      "Cannot have number of splits n_splits=3 greater than the number of samples: n_samples=0.\n",
      "Fitting 3 folds for each of 5 candidates, totalling 15 fits\n"
     ]
    },
    {
     "name": "stderr",
     "output_type": "stream",
     "text": [
      "  4%|█▏                            | 76/1936 [07:04<3:02:14,  5.88s/it]"
     ]
    },
    {
     "name": "stdout",
     "output_type": "stream",
     "text": [
      "Fitting 3 folds for each of 5 candidates, totalling 15 fits\n"
     ]
    },
    {
     "name": "stderr",
     "output_type": "stream",
     "text": [
      "  4%|█▏                            | 77/1936 [07:15<3:30:22,  6.79s/it]"
     ]
    },
    {
     "name": "stdout",
     "output_type": "stream",
     "text": [
      "Fitting 3 folds for each of 5 candidates, totalling 15 fits\n",
      "Cannot have number of splits n_splits=3 greater than the number of samples: n_samples=0.\n",
      "Fitting 3 folds for each of 5 candidates, totalling 15 fits\n",
      "Cannot have number of splits n_splits=3 greater than the number of samples: n_samples=0.\n",
      "Fitting 3 folds for each of 5 candidates, totalling 15 fits\n",
      "Cannot have number of splits n_splits=3 greater than the number of samples: n_samples=0.\n",
      "Fitting 3 folds for each of 5 candidates, totalling 15 fits\n"
     ]
    },
    {
     "name": "stderr",
     "output_type": "stream",
     "text": [
      "  4%|█▎                            | 81/1936 [07:26<2:26:47,  4.75s/it]"
     ]
    },
    {
     "name": "stdout",
     "output_type": "stream",
     "text": [
      "Fitting 3 folds for each of 5 candidates, totalling 15 fits\n"
     ]
    },
    {
     "name": "stderr",
     "output_type": "stream",
     "text": [
      "  4%|█▎                            | 82/1936 [07:37<2:57:16,  5.74s/it]"
     ]
    },
    {
     "name": "stdout",
     "output_type": "stream",
     "text": [
      "Fitting 3 folds for each of 5 candidates, totalling 15 fits\n",
      "Cannot have number of splits n_splits=3 greater than the number of samples: n_samples=0.\n",
      "Fitting 3 folds for each of 5 candidates, totalling 15 fits\n"
     ]
    },
    {
     "name": "stderr",
     "output_type": "stream",
     "text": [
      "  4%|█▎                            | 84/1936 [07:49<2:58:27,  5.78s/it]"
     ]
    },
    {
     "name": "stdout",
     "output_type": "stream",
     "text": [
      "Fitting 3 folds for each of 5 candidates, totalling 15 fits\n"
     ]
    },
    {
     "name": "stderr",
     "output_type": "stream",
     "text": [
      "  4%|█▎                            | 85/1936 [08:00<3:30:22,  6.82s/it]"
     ]
    },
    {
     "name": "stdout",
     "output_type": "stream",
     "text": [
      "Fitting 3 folds for each of 5 candidates, totalling 15 fits\n",
      "Cannot have number of splits n_splits=3 greater than the number of samples: n_samples=0.\n",
      "Fitting 3 folds for each of 5 candidates, totalling 15 fits\n",
      "Cannot have number of splits n_splits=3 greater than the number of samples: n_samples=0.\n",
      "Fitting 3 folds for each of 5 candidates, totalling 15 fits\n",
      "Cannot have number of splits n_splits=3 greater than the number of samples: n_samples=0.\n",
      "Fitting 3 folds for each of 5 candidates, totalling 15 fits\n"
     ]
    },
    {
     "name": "stderr",
     "output_type": "stream",
     "text": [
      "  5%|█▍                            | 89/1936 [08:09<2:19:14,  4.52s/it]"
     ]
    },
    {
     "name": "stdout",
     "output_type": "stream",
     "text": [
      "Fitting 3 folds for each of 5 candidates, totalling 15 fits\n"
     ]
    },
    {
     "name": "stderr",
     "output_type": "stream",
     "text": [
      "  5%|█▍                            | 90/1936 [08:18<2:39:48,  5.19s/it]"
     ]
    },
    {
     "name": "stdout",
     "output_type": "stream",
     "text": [
      "Fitting 3 folds for each of 5 candidates, totalling 15 fits\n",
      "Cannot have number of splits n_splits=3 greater than the number of samples: n_samples=0.\n",
      "Fitting 3 folds for each of 5 candidates, totalling 15 fits\n"
     ]
    },
    {
     "name": "stderr",
     "output_type": "stream",
     "text": [
      "  5%|█▍                            | 92/1936 [08:27<2:33:26,  4.99s/it]"
     ]
    },
    {
     "name": "stdout",
     "output_type": "stream",
     "text": [
      "Fitting 3 folds for each of 5 candidates, totalling 15 fits\n"
     ]
    },
    {
     "name": "stderr",
     "output_type": "stream",
     "text": [
      "  5%|█▍                            | 93/1936 [08:36<2:55:47,  5.72s/it]"
     ]
    },
    {
     "name": "stdout",
     "output_type": "stream",
     "text": [
      "Fitting 3 folds for each of 5 candidates, totalling 15 fits\n",
      "Cannot have number of splits n_splits=3 greater than the number of samples: n_samples=0.\n",
      "Fitting 3 folds for each of 5 candidates, totalling 15 fits\n",
      "Cannot have number of splits n_splits=3 greater than the number of samples: n_samples=0.\n",
      "Fitting 3 folds for each of 5 candidates, totalling 15 fits\n",
      "Cannot have number of splits n_splits=3 greater than the number of samples: n_samples=0.\n",
      "Fitting 3 folds for each of 5 candidates, totalling 15 fits\n"
     ]
    },
    {
     "name": "stderr",
     "output_type": "stream",
     "text": [
      "  5%|█▌                            | 97/1936 [08:48<2:13:51,  4.37s/it]"
     ]
    },
    {
     "name": "stdout",
     "output_type": "stream",
     "text": [
      "Fitting 3 folds for each of 5 candidates, totalling 15 fits\n"
     ]
    },
    {
     "name": "stderr",
     "output_type": "stream",
     "text": [
      "  5%|█▌                            | 98/1936 [09:01<2:51:43,  5.61s/it]"
     ]
    },
    {
     "name": "stdout",
     "output_type": "stream",
     "text": [
      "Fitting 3 folds for each of 5 candidates, totalling 15 fits\n",
      "Cannot have number of splits n_splits=3 greater than the number of samples: n_samples=0.\n",
      "Fitting 3 folds for each of 5 candidates, totalling 15 fits\n"
     ]
    },
    {
     "name": "stderr",
     "output_type": "stream",
     "text": [
      "  5%|█▌                            | 100/1936 [09:12<2:52:56,  5.65s/it]"
     ]
    },
    {
     "name": "stdout",
     "output_type": "stream",
     "text": [
      "Fitting 3 folds for each of 5 candidates, totalling 15 fits\n"
     ]
    },
    {
     "name": "stderr",
     "output_type": "stream",
     "text": [
      "  5%|█▌                            | 101/1936 [09:24<3:24:08,  6.67s/it]"
     ]
    },
    {
     "name": "stdout",
     "output_type": "stream",
     "text": [
      "Fitting 3 folds for each of 5 candidates, totalling 15 fits\n",
      "Cannot have number of splits n_splits=3 greater than the number of samples: n_samples=0.\n",
      "Fitting 3 folds for each of 5 candidates, totalling 15 fits\n",
      "Cannot have number of splits n_splits=3 greater than the number of samples: n_samples=0.\n",
      "Fitting 3 folds for each of 5 candidates, totalling 15 fits\n",
      "Cannot have number of splits n_splits=3 greater than the number of samples: n_samples=0.\n",
      "Fitting 3 folds for each of 5 candidates, totalling 15 fits\n"
     ]
    },
    {
     "name": "stderr",
     "output_type": "stream",
     "text": [
      "  5%|█▋                            | 105/1936 [09:33<2:15:09,  4.43s/it]"
     ]
    },
    {
     "name": "stdout",
     "output_type": "stream",
     "text": [
      "Fitting 3 folds for each of 5 candidates, totalling 15 fits\n"
     ]
    },
    {
     "name": "stderr",
     "output_type": "stream",
     "text": [
      "  5%|█▋                            | 106/1936 [09:42<2:35:45,  5.11s/it]"
     ]
    },
    {
     "name": "stdout",
     "output_type": "stream",
     "text": [
      "Fitting 3 folds for each of 5 candidates, totalling 15 fits\n",
      "Cannot have number of splits n_splits=3 greater than the number of samples: n_samples=0.\n",
      "Fitting 3 folds for each of 5 candidates, totalling 15 fits\n"
     ]
    },
    {
     "name": "stderr",
     "output_type": "stream",
     "text": [
      "  6%|█▋                            | 108/1936 [09:51<2:31:10,  4.96s/it]"
     ]
    },
    {
     "name": "stdout",
     "output_type": "stream",
     "text": [
      "Fitting 3 folds for each of 5 candidates, totalling 15 fits\n"
     ]
    },
    {
     "name": "stderr",
     "output_type": "stream",
     "text": [
      "  6%|█▋                            | 109/1936 [10:00<2:54:00,  5.71s/it]"
     ]
    },
    {
     "name": "stdout",
     "output_type": "stream",
     "text": [
      "Fitting 3 folds for each of 5 candidates, totalling 15 fits\n",
      "Cannot have number of splits n_splits=3 greater than the number of samples: n_samples=0.\n",
      "Fitting 3 folds for each of 5 candidates, totalling 15 fits\n",
      "Cannot have number of splits n_splits=3 greater than the number of samples: n_samples=0.\n",
      "Fitting 3 folds for each of 5 candidates, totalling 15 fits\n",
      "Cannot have number of splits n_splits=3 greater than the number of samples: n_samples=0.\n",
      "Fitting 3 folds for each of 5 candidates, totalling 15 fits\n"
     ]
    },
    {
     "name": "stderr",
     "output_type": "stream",
     "text": [
      "  6%|█▊                            | 113/1936 [10:10<2:05:32,  4.13s/it]"
     ]
    },
    {
     "name": "stdout",
     "output_type": "stream",
     "text": [
      "Fitting 3 folds for each of 5 candidates, totalling 15 fits\n"
     ]
    },
    {
     "name": "stderr",
     "output_type": "stream",
     "text": [
      "  6%|█▊                            | 114/1936 [10:21<2:35:56,  5.14s/it]"
     ]
    },
    {
     "name": "stdout",
     "output_type": "stream",
     "text": [
      "Fitting 3 folds for each of 5 candidates, totalling 15 fits\n",
      "Cannot have number of splits n_splits=3 greater than the number of samples: n_samples=0.\n",
      "Fitting 3 folds for each of 5 candidates, totalling 15 fits\n"
     ]
    },
    {
     "name": "stderr",
     "output_type": "stream",
     "text": [
      "  6%|█▊                            | 116/1936 [10:32<2:40:19,  5.29s/it]"
     ]
    },
    {
     "name": "stdout",
     "output_type": "stream",
     "text": [
      "Fitting 3 folds for each of 5 candidates, totalling 15 fits\n"
     ]
    },
    {
     "name": "stderr",
     "output_type": "stream",
     "text": [
      "  6%|█▊                            | 117/1936 [10:43<3:09:47,  6.26s/it]"
     ]
    },
    {
     "name": "stdout",
     "output_type": "stream",
     "text": [
      "Fitting 3 folds for each of 5 candidates, totalling 15 fits\n",
      "Cannot have number of splits n_splits=3 greater than the number of samples: n_samples=0.\n",
      "Fitting 3 folds for each of 5 candidates, totalling 15 fits\n",
      "Cannot have number of splits n_splits=3 greater than the number of samples: n_samples=0.\n",
      "Fitting 3 folds for each of 5 candidates, totalling 15 fits\n",
      "Cannot have number of splits n_splits=3 greater than the number of samples: n_samples=0.\n",
      "Fitting 3 folds for each of 5 candidates, totalling 15 fits\n"
     ]
    },
    {
     "name": "stderr",
     "output_type": "stream",
     "text": [
      "  6%|█▉                            | 121/1936 [10:54<2:17:13,  4.54s/it]"
     ]
    },
    {
     "name": "stdout",
     "output_type": "stream",
     "text": [
      "Fitting 3 folds for each of 5 candidates, totalling 15 fits\n"
     ]
    },
    {
     "name": "stderr",
     "output_type": "stream",
     "text": [
      "  6%|█▉                            | 122/1936 [11:06<2:47:39,  5.55s/it]"
     ]
    },
    {
     "name": "stdout",
     "output_type": "stream",
     "text": [
      "Fitting 3 folds for each of 5 candidates, totalling 15 fits\n",
      "Cannot have number of splits n_splits=3 greater than the number of samples: n_samples=0.\n",
      "Fitting 3 folds for each of 5 candidates, totalling 15 fits\n"
     ]
    },
    {
     "name": "stderr",
     "output_type": "stream",
     "text": [
      "  6%|█▉                            | 124/1936 [11:16<2:46:29,  5.51s/it]"
     ]
    },
    {
     "name": "stdout",
     "output_type": "stream",
     "text": [
      "Fitting 3 folds for each of 5 candidates, totalling 15 fits\n"
     ]
    },
    {
     "name": "stderr",
     "output_type": "stream",
     "text": [
      "  6%|█▉                            | 125/1936 [11:27<3:13:55,  6.42s/it]"
     ]
    },
    {
     "name": "stdout",
     "output_type": "stream",
     "text": [
      "Fitting 3 folds for each of 5 candidates, totalling 15 fits\n",
      "Cannot have number of splits n_splits=3 greater than the number of samples: n_samples=0.\n",
      "Fitting 3 folds for each of 5 candidates, totalling 15 fits\n",
      "Cannot have number of splits n_splits=3 greater than the number of samples: n_samples=0.\n",
      "Fitting 3 folds for each of 5 candidates, totalling 15 fits\n",
      "Cannot have number of splits n_splits=3 greater than the number of samples: n_samples=0.\n",
      "Fitting 3 folds for each of 5 candidates, totalling 15 fits\n"
     ]
    },
    {
     "name": "stderr",
     "output_type": "stream",
     "text": [
      "  7%|█▉                            | 129/1936 [11:38<2:16:16,  4.52s/it]"
     ]
    },
    {
     "name": "stdout",
     "output_type": "stream",
     "text": [
      "Fitting 3 folds for each of 5 candidates, totalling 15 fits\n"
     ]
    },
    {
     "name": "stderr",
     "output_type": "stream",
     "text": [
      "  7%|██                            | 130/1936 [11:51<2:54:14,  5.79s/it]"
     ]
    },
    {
     "name": "stdout",
     "output_type": "stream",
     "text": [
      "Fitting 3 folds for each of 5 candidates, totalling 15 fits\n",
      "Cannot have number of splits n_splits=3 greater than the number of samples: n_samples=0.\n",
      "Fitting 3 folds for each of 5 candidates, totalling 15 fits\n"
     ]
    },
    {
     "name": "stderr",
     "output_type": "stream",
     "text": [
      "  7%|██                            | 132/1936 [12:03<2:59:54,  5.98s/it]"
     ]
    },
    {
     "name": "stdout",
     "output_type": "stream",
     "text": [
      "Fitting 3 folds for each of 5 candidates, totalling 15 fits\n"
     ]
    },
    {
     "name": "stderr",
     "output_type": "stream",
     "text": [
      "  7%|██                            | 133/1936 [12:15<3:29:02,  6.96s/it]"
     ]
    },
    {
     "name": "stdout",
     "output_type": "stream",
     "text": [
      "Fitting 3 folds for each of 5 candidates, totalling 15 fits\n",
      "Cannot have number of splits n_splits=3 greater than the number of samples: n_samples=0.\n",
      "Fitting 3 folds for each of 5 candidates, totalling 15 fits\n",
      "Cannot have number of splits n_splits=3 greater than the number of samples: n_samples=0.\n",
      "Fitting 3 folds for each of 5 candidates, totalling 15 fits\n",
      "Cannot have number of splits n_splits=3 greater than the number of samples: n_samples=0.\n",
      "Fitting 3 folds for each of 5 candidates, totalling 15 fits\n"
     ]
    },
    {
     "name": "stderr",
     "output_type": "stream",
     "text": [
      "  7%|██                            | 137/1936 [12:25<2:23:07,  4.77s/it]"
     ]
    },
    {
     "name": "stdout",
     "output_type": "stream",
     "text": [
      "Fitting 3 folds for each of 5 candidates, totalling 15 fits\n"
     ]
    },
    {
     "name": "stderr",
     "output_type": "stream",
     "text": [
      "  7%|██▏                           | 138/1936 [12:35<2:47:00,  5.57s/it]"
     ]
    },
    {
     "name": "stdout",
     "output_type": "stream",
     "text": [
      "Fitting 3 folds for each of 5 candidates, totalling 15 fits\n",
      "Cannot have number of splits n_splits=3 greater than the number of samples: n_samples=0.\n",
      "Fitting 3 folds for each of 5 candidates, totalling 15 fits\n"
     ]
    },
    {
     "name": "stderr",
     "output_type": "stream",
     "text": [
      "  7%|██▏                           | 140/1936 [12:46<2:45:01,  5.51s/it]"
     ]
    },
    {
     "name": "stdout",
     "output_type": "stream",
     "text": [
      "Fitting 3 folds for each of 5 candidates, totalling 15 fits\n"
     ]
    },
    {
     "name": "stderr",
     "output_type": "stream",
     "text": [
      "  7%|██▏                           | 141/1936 [12:57<3:11:47,  6.41s/it]"
     ]
    },
    {
     "name": "stdout",
     "output_type": "stream",
     "text": [
      "Fitting 3 folds for each of 5 candidates, totalling 15 fits\n",
      "Cannot have number of splits n_splits=3 greater than the number of samples: n_samples=0.\n",
      "Fitting 3 folds for each of 5 candidates, totalling 15 fits\n",
      "Cannot have number of splits n_splits=3 greater than the number of samples: n_samples=0.\n",
      "Fitting 3 folds for each of 5 candidates, totalling 15 fits\n",
      "Cannot have number of splits n_splits=3 greater than the number of samples: n_samples=0.\n",
      "Fitting 3 folds for each of 5 candidates, totalling 15 fits\n"
     ]
    },
    {
     "name": "stderr",
     "output_type": "stream",
     "text": [
      "  7%|██▏                           | 145/1936 [13:08<2:19:14,  4.66s/it]"
     ]
    },
    {
     "name": "stdout",
     "output_type": "stream",
     "text": [
      "Fitting 3 folds for each of 5 candidates, totalling 15 fits\n"
     ]
    },
    {
     "name": "stderr",
     "output_type": "stream",
     "text": [
      "  8%|██▎                           | 146/1936 [13:20<2:48:52,  5.66s/it]"
     ]
    },
    {
     "name": "stdout",
     "output_type": "stream",
     "text": [
      "Fitting 3 folds for each of 5 candidates, totalling 15 fits\n",
      "Cannot have number of splits n_splits=3 greater than the number of samples: n_samples=0.\n",
      "Fitting 3 folds for each of 5 candidates, totalling 15 fits\n"
     ]
    },
    {
     "name": "stderr",
     "output_type": "stream",
     "text": [
      "  8%|██▎                           | 148/1936 [13:32<2:54:18,  5.85s/it]"
     ]
    },
    {
     "name": "stdout",
     "output_type": "stream",
     "text": [
      "Fitting 3 folds for each of 5 candidates, totalling 15 fits\n"
     ]
    },
    {
     "name": "stderr",
     "output_type": "stream",
     "text": [
      "  8%|██▎                           | 149/1936 [13:43<3:20:25,  6.73s/it]"
     ]
    },
    {
     "name": "stdout",
     "output_type": "stream",
     "text": [
      "Fitting 3 folds for each of 5 candidates, totalling 15 fits\n",
      "Cannot have number of splits n_splits=3 greater than the number of samples: n_samples=0.\n",
      "Fitting 3 folds for each of 5 candidates, totalling 15 fits\n",
      "Cannot have number of splits n_splits=3 greater than the number of samples: n_samples=0.\n",
      "Fitting 3 folds for each of 5 candidates, totalling 15 fits\n",
      "Cannot have number of splits n_splits=3 greater than the number of samples: n_samples=0.\n",
      "Fitting 3 folds for each of 5 candidates, totalling 15 fits\n"
     ]
    },
    {
     "name": "stderr",
     "output_type": "stream",
     "text": [
      "  8%|██▎                           | 153/1936 [13:56<2:25:53,  4.91s/it]"
     ]
    },
    {
     "name": "stdout",
     "output_type": "stream",
     "text": [
      "Fitting 3 folds for each of 5 candidates, totalling 15 fits\n"
     ]
    },
    {
     "name": "stderr",
     "output_type": "stream",
     "text": [
      "  8%|██▍                           | 154/1936 [14:07<2:57:27,  5.97s/it]"
     ]
    },
    {
     "name": "stdout",
     "output_type": "stream",
     "text": [
      "Fitting 3 folds for each of 5 candidates, totalling 15 fits\n",
      "Cannot have number of splits n_splits=3 greater than the number of samples: n_samples=0.\n",
      "Fitting 3 folds for each of 5 candidates, totalling 15 fits\n"
     ]
    },
    {
     "name": "stderr",
     "output_type": "stream",
     "text": [
      "  8%|██▍                           | 156/1936 [14:18<2:52:52,  5.83s/it]"
     ]
    },
    {
     "name": "stdout",
     "output_type": "stream",
     "text": [
      "Fitting 3 folds for each of 5 candidates, totalling 15 fits\n"
     ]
    },
    {
     "name": "stderr",
     "output_type": "stream",
     "text": [
      "  8%|██▍                           | 157/1936 [14:29<3:18:20,  6.69s/it]"
     ]
    },
    {
     "name": "stdout",
     "output_type": "stream",
     "text": [
      "Fitting 3 folds for each of 5 candidates, totalling 15 fits\n",
      "Cannot have number of splits n_splits=3 greater than the number of samples: n_samples=0.\n",
      "Fitting 3 folds for each of 5 candidates, totalling 15 fits\n",
      "Cannot have number of splits n_splits=3 greater than the number of samples: n_samples=0.\n",
      "Fitting 3 folds for each of 5 candidates, totalling 15 fits\n",
      "Cannot have number of splits n_splits=3 greater than the number of samples: n_samples=0.\n",
      "Fitting 3 folds for each of 5 candidates, totalling 15 fits\n"
     ]
    },
    {
     "name": "stderr",
     "output_type": "stream",
     "text": [
      "  8%|██▍                           | 161/1936 [14:41<2:21:58,  4.80s/it]"
     ]
    },
    {
     "name": "stdout",
     "output_type": "stream",
     "text": [
      "Fitting 3 folds for each of 5 candidates, totalling 15 fits\n"
     ]
    },
    {
     "name": "stderr",
     "output_type": "stream",
     "text": [
      "  8%|██▌                           | 162/1936 [14:53<2:56:39,  5.97s/it]"
     ]
    },
    {
     "name": "stdout",
     "output_type": "stream",
     "text": [
      "Fitting 3 folds for each of 5 candidates, totalling 15 fits\n",
      "Cannot have number of splits n_splits=3 greater than the number of samples: n_samples=0.\n",
      "Fitting 3 folds for each of 5 candidates, totalling 15 fits\n"
     ]
    },
    {
     "name": "stderr",
     "output_type": "stream",
     "text": [
      "  8%|██▌                           | 164/1936 [15:06<2:58:07,  6.03s/it]"
     ]
    },
    {
     "name": "stdout",
     "output_type": "stream",
     "text": [
      "Fitting 3 folds for each of 5 candidates, totalling 15 fits\n"
     ]
    },
    {
     "name": "stderr",
     "output_type": "stream",
     "text": [
      "  9%|██▌                           | 165/1936 [15:17<3:24:33,  6.93s/it]"
     ]
    },
    {
     "name": "stdout",
     "output_type": "stream",
     "text": [
      "Fitting 3 folds for each of 5 candidates, totalling 15 fits\n",
      "Cannot have number of splits n_splits=3 greater than the number of samples: n_samples=0.\n",
      "Fitting 3 folds for each of 5 candidates, totalling 15 fits\n",
      "Cannot have number of splits n_splits=3 greater than the number of samples: n_samples=0.\n",
      "Fitting 3 folds for each of 5 candidates, totalling 15 fits\n",
      "Cannot have number of splits n_splits=3 greater than the number of samples: n_samples=0.\n",
      "Fitting 3 folds for each of 5 candidates, totalling 15 fits\n"
     ]
    },
    {
     "name": "stderr",
     "output_type": "stream",
     "text": [
      "  9%|██▌                           | 169/1936 [15:26<2:15:35,  4.60s/it]"
     ]
    },
    {
     "name": "stdout",
     "output_type": "stream",
     "text": [
      "Fitting 3 folds for each of 5 candidates, totalling 15 fits\n"
     ]
    },
    {
     "name": "stderr",
     "output_type": "stream",
     "text": [
      "  9%|██▋                           | 170/1936 [15:35<2:34:15,  5.24s/it]"
     ]
    },
    {
     "name": "stdout",
     "output_type": "stream",
     "text": [
      "Fitting 3 folds for each of 5 candidates, totalling 15 fits\n",
      "Cannot have number of splits n_splits=3 greater than the number of samples: n_samples=0.\n",
      "Fitting 3 folds for each of 5 candidates, totalling 15 fits\n"
     ]
    },
    {
     "name": "stderr",
     "output_type": "stream",
     "text": [
      "  9%|██▋                           | 172/1936 [15:44<2:27:33,  5.02s/it]"
     ]
    },
    {
     "name": "stdout",
     "output_type": "stream",
     "text": [
      "Fitting 3 folds for each of 5 candidates, totalling 15 fits\n"
     ]
    },
    {
     "name": "stderr",
     "output_type": "stream",
     "text": [
      "  9%|██▋                           | 173/1936 [15:53<2:49:32,  5.77s/it]"
     ]
    },
    {
     "name": "stdout",
     "output_type": "stream",
     "text": [
      "Fitting 3 folds for each of 5 candidates, totalling 15 fits\n",
      "Cannot have number of splits n_splits=3 greater than the number of samples: n_samples=0.\n",
      "Fitting 3 folds for each of 5 candidates, totalling 15 fits\n",
      "Cannot have number of splits n_splits=3 greater than the number of samples: n_samples=0.\n",
      "Fitting 3 folds for each of 5 candidates, totalling 15 fits\n",
      "Cannot have number of splits n_splits=3 greater than the number of samples: n_samples=0.\n",
      "Fitting 3 folds for each of 5 candidates, totalling 15 fits\n"
     ]
    },
    {
     "name": "stderr",
     "output_type": "stream",
     "text": [
      "  9%|██▋                           | 177/1936 [16:04<2:02:57,  4.19s/it]"
     ]
    },
    {
     "name": "stdout",
     "output_type": "stream",
     "text": [
      "Fitting 3 folds for each of 5 candidates, totalling 15 fits\n"
     ]
    },
    {
     "name": "stderr",
     "output_type": "stream",
     "text": [
      "  9%|██▊                           | 178/1936 [16:14<2:30:47,  5.15s/it]"
     ]
    },
    {
     "name": "stdout",
     "output_type": "stream",
     "text": [
      "Fitting 3 folds for each of 5 candidates, totalling 15 fits\n",
      "Cannot have number of splits n_splits=3 greater than the number of samples: n_samples=0.\n",
      "Fitting 3 folds for each of 5 candidates, totalling 15 fits\n"
     ]
    },
    {
     "name": "stderr",
     "output_type": "stream",
     "text": [
      "  9%|██▊                           | 180/1936 [16:27<2:41:07,  5.51s/it]"
     ]
    },
    {
     "name": "stdout",
     "output_type": "stream",
     "text": [
      "Fitting 3 folds for each of 5 candidates, totalling 15 fits\n"
     ]
    },
    {
     "name": "stderr",
     "output_type": "stream",
     "text": [
      "  9%|██▊                           | 181/1936 [16:40<3:20:35,  6.86s/it]"
     ]
    },
    {
     "name": "stdout",
     "output_type": "stream",
     "text": [
      "Fitting 3 folds for each of 5 candidates, totalling 15 fits\n",
      "Cannot have number of splits n_splits=3 greater than the number of samples: n_samples=0.\n",
      "Fitting 3 folds for each of 5 candidates, totalling 15 fits\n",
      "Cannot have number of splits n_splits=3 greater than the number of samples: n_samples=0.\n",
      "Fitting 3 folds for each of 5 candidates, totalling 15 fits\n",
      "Cannot have number of splits n_splits=3 greater than the number of samples: n_samples=0.\n",
      "Fitting 3 folds for each of 5 candidates, totalling 15 fits\n"
     ]
    },
    {
     "name": "stderr",
     "output_type": "stream",
     "text": [
      " 10%|██▊                           | 185/1936 [16:52<2:23:10,  4.91s/it]"
     ]
    },
    {
     "name": "stdout",
     "output_type": "stream",
     "text": [
      "Fitting 3 folds for each of 5 candidates, totalling 15 fits\n"
     ]
    },
    {
     "name": "stderr",
     "output_type": "stream",
     "text": [
      " 10%|██▉                           | 186/1936 [17:03<2:52:41,  5.92s/it]"
     ]
    },
    {
     "name": "stdout",
     "output_type": "stream",
     "text": [
      "Fitting 3 folds for each of 5 candidates, totalling 15 fits\n",
      "Cannot have number of splits n_splits=3 greater than the number of samples: n_samples=0.\n",
      "Fitting 3 folds for each of 5 candidates, totalling 15 fits\n"
     ]
    },
    {
     "name": "stderr",
     "output_type": "stream",
     "text": [
      " 10%|██▉                           | 188/1936 [17:14<2:46:59,  5.73s/it]"
     ]
    },
    {
     "name": "stdout",
     "output_type": "stream",
     "text": [
      "Fitting 3 folds for each of 5 candidates, totalling 15 fits\n"
     ]
    },
    {
     "name": "stderr",
     "output_type": "stream",
     "text": [
      " 10%|██▉                           | 189/1936 [17:25<3:13:50,  6.66s/it]"
     ]
    },
    {
     "name": "stdout",
     "output_type": "stream",
     "text": [
      "Fitting 3 folds for each of 5 candidates, totalling 15 fits\n",
      "Cannot have number of splits n_splits=3 greater than the number of samples: n_samples=0.\n",
      "Fitting 3 folds for each of 5 candidates, totalling 15 fits\n",
      "Cannot have number of splits n_splits=3 greater than the number of samples: n_samples=0.\n",
      "Fitting 3 folds for each of 5 candidates, totalling 15 fits\n",
      "Cannot have number of splits n_splits=3 greater than the number of samples: n_samples=0.\n",
      "Fitting 3 folds for each of 5 candidates, totalling 15 fits\n"
     ]
    },
    {
     "name": "stderr",
     "output_type": "stream",
     "text": [
      " 10%|██▉                           | 193/1936 [17:36<2:15:50,  4.68s/it]"
     ]
    },
    {
     "name": "stdout",
     "output_type": "stream",
     "text": [
      "Fitting 3 folds for each of 5 candidates, totalling 15 fits\n"
     ]
    },
    {
     "name": "stderr",
     "output_type": "stream",
     "text": [
      " 10%|███                           | 194/1936 [17:48<2:51:24,  5.90s/it]"
     ]
    },
    {
     "name": "stdout",
     "output_type": "stream",
     "text": [
      "Fitting 3 folds for each of 5 candidates, totalling 15 fits\n",
      "Cannot have number of splits n_splits=3 greater than the number of samples: n_samples=0.\n",
      "Fitting 3 folds for each of 5 candidates, totalling 15 fits\n"
     ]
    },
    {
     "name": "stderr",
     "output_type": "stream",
     "text": [
      " 10%|███                           | 196/1936 [18:01<2:54:36,  6.02s/it]"
     ]
    },
    {
     "name": "stdout",
     "output_type": "stream",
     "text": [
      "Fitting 3 folds for each of 5 candidates, totalling 15 fits\n"
     ]
    },
    {
     "name": "stderr",
     "output_type": "stream",
     "text": [
      " 10%|███                           | 197/1936 [18:13<3:22:49,  7.00s/it]"
     ]
    },
    {
     "name": "stdout",
     "output_type": "stream",
     "text": [
      "Fitting 3 folds for each of 5 candidates, totalling 15 fits\n",
      "Cannot have number of splits n_splits=3 greater than the number of samples: n_samples=0.\n",
      "Fitting 3 folds for each of 5 candidates, totalling 15 fits\n",
      "Cannot have number of splits n_splits=3 greater than the number of samples: n_samples=0.\n",
      "Fitting 3 folds for each of 5 candidates, totalling 15 fits\n",
      "Cannot have number of splits n_splits=3 greater than the number of samples: n_samples=0.\n",
      "Fitting 3 folds for each of 5 candidates, totalling 15 fits\n"
     ]
    },
    {
     "name": "stderr",
     "output_type": "stream",
     "text": [
      " 10%|███                           | 201/1936 [18:24<2:20:40,  4.86s/it]"
     ]
    },
    {
     "name": "stdout",
     "output_type": "stream",
     "text": [
      "Fitting 3 folds for each of 5 candidates, totalling 15 fits\n"
     ]
    },
    {
     "name": "stderr",
     "output_type": "stream",
     "text": [
      " 10%|███▏                          | 202/1936 [18:38<3:00:57,  6.26s/it]"
     ]
    },
    {
     "name": "stdout",
     "output_type": "stream",
     "text": [
      "Fitting 3 folds for each of 5 candidates, totalling 15 fits\n",
      "Cannot have number of splits n_splits=3 greater than the number of samples: n_samples=0.\n",
      "Fitting 3 folds for each of 5 candidates, totalling 15 fits\n"
     ]
    },
    {
     "name": "stderr",
     "output_type": "stream",
     "text": [
      " 11%|███▏                          | 204/1936 [18:49<2:57:46,  6.16s/it]"
     ]
    },
    {
     "name": "stdout",
     "output_type": "stream",
     "text": [
      "Fitting 3 folds for each of 5 candidates, totalling 15 fits\n"
     ]
    },
    {
     "name": "stderr",
     "output_type": "stream",
     "text": [
      " 11%|███▏                          | 205/1936 [19:01<3:24:28,  7.09s/it]"
     ]
    },
    {
     "name": "stdout",
     "output_type": "stream",
     "text": [
      "Fitting 3 folds for each of 5 candidates, totalling 15 fits\n",
      "Cannot have number of splits n_splits=3 greater than the number of samples: n_samples=0.\n",
      "Fitting 3 folds for each of 5 candidates, totalling 15 fits\n",
      "Cannot have number of splits n_splits=3 greater than the number of samples: n_samples=0.\n",
      "Fitting 3 folds for each of 5 candidates, totalling 15 fits\n",
      "Cannot have number of splits n_splits=3 greater than the number of samples: n_samples=0.\n",
      "Fitting 3 folds for each of 5 candidates, totalling 15 fits\n"
     ]
    },
    {
     "name": "stderr",
     "output_type": "stream",
     "text": [
      " 11%|███▏                          | 209/1936 [19:07<2:04:04,  4.31s/it]"
     ]
    },
    {
     "name": "stdout",
     "output_type": "stream",
     "text": [
      "Fitting 3 folds for each of 5 candidates, totalling 15 fits\n"
     ]
    },
    {
     "name": "stderr",
     "output_type": "stream",
     "text": [
      " 11%|███▎                          | 210/1936 [19:14<2:16:40,  4.75s/it]"
     ]
    },
    {
     "name": "stdout",
     "output_type": "stream",
     "text": [
      "Fitting 3 folds for each of 5 candidates, totalling 15 fits\n",
      "Cannot have number of splits n_splits=3 greater than the number of samples: n_samples=0.\n",
      "Fitting 3 folds for each of 5 candidates, totalling 15 fits\n"
     ]
    },
    {
     "name": "stderr",
     "output_type": "stream",
     "text": [
      " 11%|███▎                          | 212/1936 [19:21<2:02:19,  4.26s/it]"
     ]
    },
    {
     "name": "stdout",
     "output_type": "stream",
     "text": [
      "Fitting 3 folds for each of 5 candidates, totalling 15 fits\n"
     ]
    },
    {
     "name": "stderr",
     "output_type": "stream",
     "text": [
      " 11%|███▎                          | 213/1936 [19:27<2:12:09,  4.60s/it]"
     ]
    },
    {
     "name": "stdout",
     "output_type": "stream",
     "text": [
      "Fitting 3 folds for each of 5 candidates, totalling 15 fits\n",
      "Cannot have number of splits n_splits=3 greater than the number of samples: n_samples=0.\n",
      "Fitting 3 folds for each of 5 candidates, totalling 15 fits\n",
      "Cannot have number of splits n_splits=3 greater than the number of samples: n_samples=0.\n",
      "Fitting 3 folds for each of 5 candidates, totalling 15 fits\n",
      "Cannot have number of splits n_splits=3 greater than the number of samples: n_samples=0.\n",
      "Fitting 3 folds for each of 5 candidates, totalling 15 fits\n"
     ]
    },
    {
     "name": "stderr",
     "output_type": "stream",
     "text": [
      " 11%|███▎                          | 217/1936 [19:39<1:48:59,  3.80s/it]"
     ]
    },
    {
     "name": "stdout",
     "output_type": "stream",
     "text": [
      "Fitting 3 folds for each of 5 candidates, totalling 15 fits\n"
     ]
    },
    {
     "name": "stderr",
     "output_type": "stream",
     "text": [
      " 11%|███▍                          | 218/1936 [19:50<2:22:00,  4.96s/it]"
     ]
    },
    {
     "name": "stdout",
     "output_type": "stream",
     "text": [
      "Fitting 3 folds for each of 5 candidates, totalling 15 fits\n",
      "Cannot have number of splits n_splits=3 greater than the number of samples: n_samples=0.\n",
      "Fitting 3 folds for each of 5 candidates, totalling 15 fits\n"
     ]
    },
    {
     "name": "stderr",
     "output_type": "stream",
     "text": [
      " 11%|███▍                          | 220/1936 [20:02<2:29:37,  5.23s/it]"
     ]
    },
    {
     "name": "stdout",
     "output_type": "stream",
     "text": [
      "Fitting 3 folds for each of 5 candidates, totalling 15 fits\n"
     ]
    },
    {
     "name": "stderr",
     "output_type": "stream",
     "text": [
      " 11%|███▍                          | 221/1936 [20:15<3:09:37,  6.63s/it]"
     ]
    },
    {
     "name": "stdout",
     "output_type": "stream",
     "text": [
      "Fitting 3 folds for each of 5 candidates, totalling 15 fits\n",
      "Cannot have number of splits n_splits=3 greater than the number of samples: n_samples=0.\n",
      "Fitting 3 folds for each of 5 candidates, totalling 15 fits\n",
      "Cannot have number of splits n_splits=3 greater than the number of samples: n_samples=0.\n",
      "Fitting 3 folds for each of 5 candidates, totalling 15 fits\n",
      "Cannot have number of splits n_splits=3 greater than the number of samples: n_samples=0.\n",
      "Fitting 3 folds for each of 5 candidates, totalling 15 fits\n"
     ]
    },
    {
     "name": "stderr",
     "output_type": "stream",
     "text": [
      " 12%|███▍                          | 225/1936 [20:28<2:20:13,  4.92s/it]"
     ]
    },
    {
     "name": "stdout",
     "output_type": "stream",
     "text": [
      "Fitting 3 folds for each of 5 candidates, totalling 15 fits\n"
     ]
    },
    {
     "name": "stderr",
     "output_type": "stream",
     "text": [
      " 12%|███▌                          | 226/1936 [20:40<2:49:47,  5.96s/it]"
     ]
    },
    {
     "name": "stdout",
     "output_type": "stream",
     "text": [
      "Fitting 3 folds for each of 5 candidates, totalling 15 fits\n",
      "Cannot have number of splits n_splits=3 greater than the number of samples: n_samples=0.\n",
      "Fitting 3 folds for each of 5 candidates, totalling 15 fits\n"
     ]
    },
    {
     "name": "stderr",
     "output_type": "stream",
     "text": [
      " 12%|███▌                          | 228/1936 [20:52<2:49:18,  5.95s/it]"
     ]
    },
    {
     "name": "stdout",
     "output_type": "stream",
     "text": [
      "Fitting 3 folds for each of 5 candidates, totalling 15 fits\n"
     ]
    },
    {
     "name": "stderr",
     "output_type": "stream",
     "text": [
      " 12%|███▌                          | 229/1936 [21:03<3:17:25,  6.94s/it]"
     ]
    },
    {
     "name": "stdout",
     "output_type": "stream",
     "text": [
      "Fitting 3 folds for each of 5 candidates, totalling 15 fits\n",
      "Cannot have number of splits n_splits=3 greater than the number of samples: n_samples=0.\n",
      "Fitting 3 folds for each of 5 candidates, totalling 15 fits\n",
      "Cannot have number of splits n_splits=3 greater than the number of samples: n_samples=0.\n",
      "Fitting 3 folds for each of 5 candidates, totalling 15 fits\n",
      "Cannot have number of splits n_splits=3 greater than the number of samples: n_samples=0.\n",
      "Fitting 3 folds for each of 5 candidates, totalling 15 fits\n"
     ]
    },
    {
     "name": "stderr",
     "output_type": "stream",
     "text": [
      " 12%|███▌                          | 233/1936 [21:15<2:19:04,  4.90s/it]"
     ]
    },
    {
     "name": "stdout",
     "output_type": "stream",
     "text": [
      "Fitting 3 folds for each of 5 candidates, totalling 15 fits\n"
     ]
    },
    {
     "name": "stderr",
     "output_type": "stream",
     "text": [
      " 12%|███▋                          | 234/1936 [21:26<2:48:04,  5.92s/it]"
     ]
    },
    {
     "name": "stdout",
     "output_type": "stream",
     "text": [
      "Fitting 3 folds for each of 5 candidates, totalling 15 fits\n",
      "Cannot have number of splits n_splits=3 greater than the number of samples: n_samples=0.\n",
      "Fitting 3 folds for each of 5 candidates, totalling 15 fits\n"
     ]
    },
    {
     "name": "stderr",
     "output_type": "stream",
     "text": [
      " 12%|███▋                          | 236/1936 [21:37<2:43:48,  5.78s/it]"
     ]
    },
    {
     "name": "stdout",
     "output_type": "stream",
     "text": [
      "Fitting 3 folds for each of 5 candidates, totalling 15 fits\n"
     ]
    },
    {
     "name": "stderr",
     "output_type": "stream",
     "text": [
      " 12%|███▋                          | 237/1936 [21:48<3:09:23,  6.69s/it]"
     ]
    },
    {
     "name": "stdout",
     "output_type": "stream",
     "text": [
      "Fitting 3 folds for each of 5 candidates, totalling 15 fits\n",
      "Cannot have number of splits n_splits=3 greater than the number of samples: n_samples=0.\n",
      "Fitting 3 folds for each of 5 candidates, totalling 15 fits\n",
      "Cannot have number of splits n_splits=3 greater than the number of samples: n_samples=0.\n",
      "Fitting 3 folds for each of 5 candidates, totalling 15 fits\n",
      "Cannot have number of splits n_splits=3 greater than the number of samples: n_samples=0.\n",
      "Fitting 3 folds for each of 5 candidates, totalling 15 fits\n"
     ]
    },
    {
     "name": "stderr",
     "output_type": "stream",
     "text": [
      " 12%|███▋                          | 241/1936 [22:00<2:16:13,  4.82s/it]"
     ]
    },
    {
     "name": "stdout",
     "output_type": "stream",
     "text": [
      "Fitting 3 folds for each of 5 candidates, totalling 15 fits\n"
     ]
    },
    {
     "name": "stderr",
     "output_type": "stream",
     "text": [
      " 12%|███▊                          | 242/1936 [22:12<2:48:22,  5.96s/it]"
     ]
    },
    {
     "name": "stdout",
     "output_type": "stream",
     "text": [
      "Fitting 3 folds for each of 5 candidates, totalling 15 fits\n",
      "Cannot have number of splits n_splits=3 greater than the number of samples: n_samples=0.\n",
      "Fitting 3 folds for each of 5 candidates, totalling 15 fits\n"
     ]
    },
    {
     "name": "stderr",
     "output_type": "stream",
     "text": [
      " 13%|███▊                          | 244/1936 [22:24<2:45:14,  5.86s/it]"
     ]
    },
    {
     "name": "stdout",
     "output_type": "stream",
     "text": [
      "Fitting 3 folds for each of 5 candidates, totalling 15 fits\n"
     ]
    },
    {
     "name": "stderr",
     "output_type": "stream",
     "text": [
      " 13%|███▊                          | 245/1936 [22:34<3:10:19,  6.75s/it]"
     ]
    },
    {
     "name": "stdout",
     "output_type": "stream",
     "text": [
      "Fitting 3 folds for each of 5 candidates, totalling 15 fits\n",
      "Cannot have number of splits n_splits=3 greater than the number of samples: n_samples=0.\n",
      "Fitting 3 folds for each of 5 candidates, totalling 15 fits\n",
      "Cannot have number of splits n_splits=3 greater than the number of samples: n_samples=0.\n",
      "Fitting 3 folds for each of 5 candidates, totalling 15 fits\n",
      "Cannot have number of splits n_splits=3 greater than the number of samples: n_samples=0.\n",
      "Fitting 3 folds for each of 5 candidates, totalling 15 fits\n"
     ]
    },
    {
     "name": "stderr",
     "output_type": "stream",
     "text": [
      " 13%|███▊                          | 249/1936 [22:47<2:17:27,  4.89s/it]"
     ]
    },
    {
     "name": "stdout",
     "output_type": "stream",
     "text": [
      "Fitting 3 folds for each of 5 candidates, totalling 15 fits\n"
     ]
    },
    {
     "name": "stderr",
     "output_type": "stream",
     "text": [
      " 13%|███▊                          | 250/1936 [22:58<2:46:01,  5.91s/it]"
     ]
    },
    {
     "name": "stdout",
     "output_type": "stream",
     "text": [
      "Fitting 3 folds for each of 5 candidates, totalling 15 fits\n",
      "Cannot have number of splits n_splits=3 greater than the number of samples: n_samples=0.\n",
      "Fitting 3 folds for each of 5 candidates, totalling 15 fits\n"
     ]
    },
    {
     "name": "stderr",
     "output_type": "stream",
     "text": [
      " 13%|███▉                          | 252/1936 [23:09<2:41:55,  5.77s/it]"
     ]
    },
    {
     "name": "stdout",
     "output_type": "stream",
     "text": [
      "Fitting 3 folds for each of 5 candidates, totalling 15 fits\n"
     ]
    },
    {
     "name": "stderr",
     "output_type": "stream",
     "text": [
      " 13%|███▉                          | 253/1936 [23:20<3:06:32,  6.65s/it]"
     ]
    },
    {
     "name": "stdout",
     "output_type": "stream",
     "text": [
      "Fitting 3 folds for each of 5 candidates, totalling 15 fits\n",
      "Cannot have number of splits n_splits=3 greater than the number of samples: n_samples=0.\n",
      "Fitting 3 folds for each of 5 candidates, totalling 15 fits\n",
      "Cannot have number of splits n_splits=3 greater than the number of samples: n_samples=0.\n",
      "Fitting 3 folds for each of 5 candidates, totalling 15 fits\n",
      "Cannot have number of splits n_splits=3 greater than the number of samples: n_samples=0.\n",
      "Fitting 3 folds for each of 5 candidates, totalling 15 fits\n"
     ]
    },
    {
     "name": "stderr",
     "output_type": "stream",
     "text": [
      " 13%|███▉                          | 257/1936 [23:31<2:10:12,  4.65s/it]"
     ]
    },
    {
     "name": "stdout",
     "output_type": "stream",
     "text": [
      "Fitting 3 folds for each of 5 candidates, totalling 15 fits\n"
     ]
    },
    {
     "name": "stderr",
     "output_type": "stream",
     "text": [
      " 13%|███▉                          | 258/1936 [23:41<2:35:40,  5.57s/it]"
     ]
    },
    {
     "name": "stdout",
     "output_type": "stream",
     "text": [
      "Fitting 3 folds for each of 5 candidates, totalling 15 fits\n",
      "Cannot have number of splits n_splits=3 greater than the number of samples: n_samples=0.\n",
      "Fitting 3 folds for each of 5 candidates, totalling 15 fits\n"
     ]
    },
    {
     "name": "stderr",
     "output_type": "stream",
     "text": [
      " 13%|████                          | 260/1936 [23:53<2:36:36,  5.61s/it]"
     ]
    },
    {
     "name": "stdout",
     "output_type": "stream",
     "text": [
      "Fitting 3 folds for each of 5 candidates, totalling 15 fits\n"
     ]
    },
    {
     "name": "stderr",
     "output_type": "stream",
     "text": [
      " 13%|████                          | 261/1936 [24:04<3:05:31,  6.65s/it]"
     ]
    },
    {
     "name": "stdout",
     "output_type": "stream",
     "text": [
      "Fitting 3 folds for each of 5 candidates, totalling 15 fits\n",
      "Cannot have number of splits n_splits=3 greater than the number of samples: n_samples=0.\n",
      "Fitting 3 folds for each of 5 candidates, totalling 15 fits\n",
      "Cannot have number of splits n_splits=3 greater than the number of samples: n_samples=0.\n",
      "Fitting 3 folds for each of 5 candidates, totalling 15 fits\n",
      "Cannot have number of splits n_splits=3 greater than the number of samples: n_samples=0.\n",
      "Fitting 3 folds for each of 5 candidates, totalling 15 fits\n"
     ]
    },
    {
     "name": "stderr",
     "output_type": "stream",
     "text": [
      " 14%|████                          | 265/1936 [24:15<2:09:30,  4.65s/it]"
     ]
    },
    {
     "name": "stdout",
     "output_type": "stream",
     "text": [
      "Fitting 3 folds for each of 5 candidates, totalling 15 fits\n"
     ]
    },
    {
     "name": "stderr",
     "output_type": "stream",
     "text": [
      " 14%|████                          | 266/1936 [24:25<2:34:43,  5.56s/it]"
     ]
    },
    {
     "name": "stdout",
     "output_type": "stream",
     "text": [
      "Fitting 3 folds for each of 5 candidates, totalling 15 fits\n",
      "Cannot have number of splits n_splits=3 greater than the number of samples: n_samples=0.\n",
      "Fitting 3 folds for each of 5 candidates, totalling 15 fits\n"
     ]
    },
    {
     "name": "stderr",
     "output_type": "stream",
     "text": [
      " 14%|████▏                         | 268/1936 [24:36<2:32:38,  5.49s/it]"
     ]
    },
    {
     "name": "stdout",
     "output_type": "stream",
     "text": [
      "Fitting 3 folds for each of 5 candidates, totalling 15 fits\n"
     ]
    },
    {
     "name": "stderr",
     "output_type": "stream",
     "text": [
      " 14%|████▏                         | 269/1936 [24:47<2:59:41,  6.47s/it]"
     ]
    },
    {
     "name": "stdout",
     "output_type": "stream",
     "text": [
      "Fitting 3 folds for each of 5 candidates, totalling 15 fits\n",
      "Cannot have number of splits n_splits=3 greater than the number of samples: n_samples=0.\n",
      "Fitting 3 folds for each of 5 candidates, totalling 15 fits\n",
      "Cannot have number of splits n_splits=3 greater than the number of samples: n_samples=0.\n",
      "Fitting 3 folds for each of 5 candidates, totalling 15 fits\n",
      "Cannot have number of splits n_splits=3 greater than the number of samples: n_samples=0.\n",
      "Fitting 3 folds for each of 5 candidates, totalling 15 fits\n"
     ]
    },
    {
     "name": "stderr",
     "output_type": "stream",
     "text": [
      " 14%|████▏                         | 273/1936 [24:58<2:07:14,  4.59s/it]"
     ]
    },
    {
     "name": "stdout",
     "output_type": "stream",
     "text": [
      "Fitting 3 folds for each of 5 candidates, totalling 15 fits\n"
     ]
    },
    {
     "name": "stderr",
     "output_type": "stream",
     "text": [
      " 14%|████▏                         | 274/1936 [25:09<2:32:07,  5.49s/it]"
     ]
    },
    {
     "name": "stdout",
     "output_type": "stream",
     "text": [
      "Fitting 3 folds for each of 5 candidates, totalling 15 fits\n",
      "Cannot have number of splits n_splits=3 greater than the number of samples: n_samples=0.\n",
      "Fitting 3 folds for each of 5 candidates, totalling 15 fits\n"
     ]
    },
    {
     "name": "stderr",
     "output_type": "stream",
     "text": [
      " 14%|████▎                         | 276/1936 [25:19<2:29:41,  5.41s/it]"
     ]
    },
    {
     "name": "stdout",
     "output_type": "stream",
     "text": [
      "Fitting 3 folds for each of 5 candidates, totalling 15 fits\n"
     ]
    },
    {
     "name": "stderr",
     "output_type": "stream",
     "text": [
      " 14%|████▎                         | 277/1936 [25:29<2:53:36,  6.28s/it]"
     ]
    },
    {
     "name": "stdout",
     "output_type": "stream",
     "text": [
      "Fitting 3 folds for each of 5 candidates, totalling 15 fits\n",
      "Cannot have number of splits n_splits=3 greater than the number of samples: n_samples=0.\n",
      "Fitting 3 folds for each of 5 candidates, totalling 15 fits\n",
      "Cannot have number of splits n_splits=3 greater than the number of samples: n_samples=0.\n",
      "Fitting 3 folds for each of 5 candidates, totalling 15 fits\n",
      "Cannot have number of splits n_splits=3 greater than the number of samples: n_samples=0.\n",
      "Fitting 3 folds for each of 5 candidates, totalling 15 fits\n"
     ]
    },
    {
     "name": "stderr",
     "output_type": "stream",
     "text": [
      " 15%|████▎                         | 281/1936 [25:40<2:02:15,  4.43s/it]"
     ]
    },
    {
     "name": "stdout",
     "output_type": "stream",
     "text": [
      "Fitting 3 folds for each of 5 candidates, totalling 15 fits\n"
     ]
    },
    {
     "name": "stderr",
     "output_type": "stream",
     "text": [
      " 15%|████▎                         | 282/1936 [25:51<2:30:26,  5.46s/it]"
     ]
    },
    {
     "name": "stdout",
     "output_type": "stream",
     "text": [
      "Fitting 3 folds for each of 5 candidates, totalling 15 fits\n",
      "Cannot have number of splits n_splits=3 greater than the number of samples: n_samples=0.\n",
      "Fitting 3 folds for each of 5 candidates, totalling 15 fits\n"
     ]
    },
    {
     "name": "stderr",
     "output_type": "stream",
     "text": [
      " 15%|████▍                         | 284/1936 [26:02<2:31:09,  5.49s/it]"
     ]
    },
    {
     "name": "stdout",
     "output_type": "stream",
     "text": [
      "Fitting 3 folds for each of 5 candidates, totalling 15 fits\n"
     ]
    },
    {
     "name": "stderr",
     "output_type": "stream",
     "text": [
      " 15%|████▍                         | 285/1936 [26:13<2:58:59,  6.51s/it]"
     ]
    },
    {
     "name": "stdout",
     "output_type": "stream",
     "text": [
      "Fitting 3 folds for each of 5 candidates, totalling 15 fits\n",
      "Cannot have number of splits n_splits=3 greater than the number of samples: n_samples=0.\n",
      "Fitting 3 folds for each of 5 candidates, totalling 15 fits\n",
      "Cannot have number of splits n_splits=3 greater than the number of samples: n_samples=0.\n",
      "Fitting 3 folds for each of 5 candidates, totalling 15 fits\n",
      "Cannot have number of splits n_splits=3 greater than the number of samples: n_samples=0.\n",
      "Fitting 3 folds for each of 5 candidates, totalling 15 fits\n"
     ]
    },
    {
     "name": "stderr",
     "output_type": "stream",
     "text": [
      " 15%|████▍                         | 289/1936 [26:25<2:07:53,  4.66s/it]"
     ]
    },
    {
     "name": "stdout",
     "output_type": "stream",
     "text": [
      "Fitting 3 folds for each of 5 candidates, totalling 15 fits\n"
     ]
    },
    {
     "name": "stderr",
     "output_type": "stream",
     "text": [
      " 15%|████▍                         | 290/1936 [26:36<2:33:56,  5.61s/it]"
     ]
    },
    {
     "name": "stdout",
     "output_type": "stream",
     "text": [
      "Fitting 3 folds for each of 5 candidates, totalling 15 fits\n",
      "Cannot have number of splits n_splits=3 greater than the number of samples: n_samples=0.\n",
      "Fitting 3 folds for each of 5 candidates, totalling 15 fits\n"
     ]
    },
    {
     "name": "stderr",
     "output_type": "stream",
     "text": [
      " 15%|████▌                         | 292/1936 [26:48<2:39:53,  5.84s/it]"
     ]
    },
    {
     "name": "stdout",
     "output_type": "stream",
     "text": [
      "Fitting 3 folds for each of 5 candidates, totalling 15 fits\n"
     ]
    },
    {
     "name": "stderr",
     "output_type": "stream",
     "text": [
      " 15%|████▌                         | 293/1936 [27:00<3:09:53,  6.93s/it]"
     ]
    },
    {
     "name": "stdout",
     "output_type": "stream",
     "text": [
      "Fitting 3 folds for each of 5 candidates, totalling 15 fits\n",
      "Cannot have number of splits n_splits=3 greater than the number of samples: n_samples=0.\n",
      "Fitting 3 folds for each of 5 candidates, totalling 15 fits\n",
      "Cannot have number of splits n_splits=3 greater than the number of samples: n_samples=0.\n",
      "Fitting 3 folds for each of 5 candidates, totalling 15 fits\n",
      "Cannot have number of splits n_splits=3 greater than the number of samples: n_samples=0.\n",
      "Fitting 3 folds for each of 5 candidates, totalling 15 fits\n"
     ]
    },
    {
     "name": "stderr",
     "output_type": "stream",
     "text": [
      " 15%|████▌                         | 297/1936 [27:11<2:12:31,  4.85s/it]"
     ]
    },
    {
     "name": "stdout",
     "output_type": "stream",
     "text": [
      "Fitting 3 folds for each of 5 candidates, totalling 15 fits\n"
     ]
    },
    {
     "name": "stderr",
     "output_type": "stream",
     "text": [
      " 15%|████▌                         | 298/1936 [27:22<2:37:46,  5.78s/it]"
     ]
    },
    {
     "name": "stdout",
     "output_type": "stream",
     "text": [
      "Fitting 3 folds for each of 5 candidates, totalling 15 fits\n",
      "Cannot have number of splits n_splits=3 greater than the number of samples: n_samples=0.\n",
      "Fitting 3 folds for each of 5 candidates, totalling 15 fits\n"
     ]
    },
    {
     "name": "stderr",
     "output_type": "stream",
     "text": [
      " 15%|████▋                         | 300/1936 [27:34<2:37:57,  5.79s/it]"
     ]
    },
    {
     "name": "stdout",
     "output_type": "stream",
     "text": [
      "Fitting 3 folds for each of 5 candidates, totalling 15 fits\n"
     ]
    },
    {
     "name": "stderr",
     "output_type": "stream",
     "text": [
      " 16%|████▋                         | 301/1936 [27:45<3:02:25,  6.69s/it]"
     ]
    },
    {
     "name": "stdout",
     "output_type": "stream",
     "text": [
      "Fitting 3 folds for each of 5 candidates, totalling 15 fits\n",
      "Cannot have number of splits n_splits=3 greater than the number of samples: n_samples=0.\n",
      "Fitting 3 folds for each of 5 candidates, totalling 15 fits\n",
      "Cannot have number of splits n_splits=3 greater than the number of samples: n_samples=0.\n",
      "Fitting 3 folds for each of 5 candidates, totalling 15 fits\n",
      "Cannot have number of splits n_splits=3 greater than the number of samples: n_samples=0.\n",
      "Fitting 3 folds for each of 5 candidates, totalling 15 fits\n"
     ]
    },
    {
     "name": "stderr",
     "output_type": "stream",
     "text": [
      " 16%|████▋                         | 305/1936 [27:57<2:10:53,  4.82s/it]"
     ]
    },
    {
     "name": "stdout",
     "output_type": "stream",
     "text": [
      "Fitting 3 folds for each of 5 candidates, totalling 15 fits\n"
     ]
    },
    {
     "name": "stderr",
     "output_type": "stream",
     "text": [
      " 16%|████▋                         | 306/1936 [28:08<2:35:30,  5.72s/it]"
     ]
    },
    {
     "name": "stdout",
     "output_type": "stream",
     "text": [
      "Fitting 3 folds for each of 5 candidates, totalling 15 fits\n",
      "Cannot have number of splits n_splits=3 greater than the number of samples: n_samples=0.\n",
      "Fitting 3 folds for each of 5 candidates, totalling 15 fits\n"
     ]
    },
    {
     "name": "stderr",
     "output_type": "stream",
     "text": [
      " 16%|████▊                         | 308/1936 [28:18<2:31:43,  5.59s/it]"
     ]
    },
    {
     "name": "stdout",
     "output_type": "stream",
     "text": [
      "Fitting 3 folds for each of 5 candidates, totalling 15 fits\n"
     ]
    },
    {
     "name": "stderr",
     "output_type": "stream",
     "text": [
      " 16%|████▊                         | 309/1936 [28:29<2:55:08,  6.46s/it]"
     ]
    },
    {
     "name": "stdout",
     "output_type": "stream",
     "text": [
      "Fitting 3 folds for each of 5 candidates, totalling 15 fits\n",
      "Cannot have number of splits n_splits=3 greater than the number of samples: n_samples=0.\n",
      "Fitting 3 folds for each of 5 candidates, totalling 15 fits\n",
      "Cannot have number of splits n_splits=3 greater than the number of samples: n_samples=0.\n",
      "Fitting 3 folds for each of 5 candidates, totalling 15 fits\n",
      "Cannot have number of splits n_splits=3 greater than the number of samples: n_samples=0.\n",
      "Fitting 3 folds for each of 5 candidates, totalling 15 fits\n"
     ]
    },
    {
     "name": "stderr",
     "output_type": "stream",
     "text": [
      " 16%|████▊                         | 313/1936 [28:40<2:05:07,  4.63s/it]"
     ]
    },
    {
     "name": "stdout",
     "output_type": "stream",
     "text": [
      "Fitting 3 folds for each of 5 candidates, totalling 15 fits\n"
     ]
    },
    {
     "name": "stderr",
     "output_type": "stream",
     "text": [
      " 16%|████▊                         | 314/1936 [28:53<2:39:58,  5.92s/it]"
     ]
    },
    {
     "name": "stdout",
     "output_type": "stream",
     "text": [
      "Fitting 3 folds for each of 5 candidates, totalling 15 fits\n",
      "Cannot have number of splits n_splits=3 greater than the number of samples: n_samples=0.\n",
      "Fitting 3 folds for each of 5 candidates, totalling 15 fits\n"
     ]
    },
    {
     "name": "stderr",
     "output_type": "stream",
     "text": [
      " 16%|████▉                         | 316/1936 [29:05<2:39:03,  5.89s/it]"
     ]
    },
    {
     "name": "stdout",
     "output_type": "stream",
     "text": [
      "Fitting 3 folds for each of 5 candidates, totalling 15 fits\n"
     ]
    },
    {
     "name": "stderr",
     "output_type": "stream",
     "text": [
      " 16%|████▉                         | 317/1936 [29:16<3:04:16,  6.83s/it]"
     ]
    },
    {
     "name": "stdout",
     "output_type": "stream",
     "text": [
      "Fitting 3 folds for each of 5 candidates, totalling 15 fits\n",
      "Cannot have number of splits n_splits=3 greater than the number of samples: n_samples=0.\n",
      "Fitting 3 folds for each of 5 candidates, totalling 15 fits\n",
      "Cannot have number of splits n_splits=3 greater than the number of samples: n_samples=0.\n",
      "Fitting 3 folds for each of 5 candidates, totalling 15 fits\n",
      "Cannot have number of splits n_splits=3 greater than the number of samples: n_samples=0.\n",
      "Fitting 3 folds for each of 5 candidates, totalling 15 fits\n"
     ]
    },
    {
     "name": "stderr",
     "output_type": "stream",
     "text": [
      " 17%|████▉                         | 321/1936 [29:26<2:07:19,  4.73s/it]"
     ]
    },
    {
     "name": "stdout",
     "output_type": "stream",
     "text": [
      "Fitting 3 folds for each of 5 candidates, totalling 15 fits\n"
     ]
    },
    {
     "name": "stderr",
     "output_type": "stream",
     "text": [
      " 17%|████▉                         | 322/1936 [29:38<2:34:11,  5.73s/it]"
     ]
    },
    {
     "name": "stdout",
     "output_type": "stream",
     "text": [
      "Fitting 3 folds for each of 5 candidates, totalling 15 fits\n",
      "Cannot have number of splits n_splits=3 greater than the number of samples: n_samples=0.\n",
      "Fitting 3 folds for each of 5 candidates, totalling 15 fits\n"
     ]
    },
    {
     "name": "stderr",
     "output_type": "stream",
     "text": [
      " 17%|█████                         | 324/1936 [29:49<2:34:28,  5.75s/it]"
     ]
    },
    {
     "name": "stdout",
     "output_type": "stream",
     "text": [
      "Fitting 3 folds for each of 5 candidates, totalling 15 fits\n"
     ]
    },
    {
     "name": "stderr",
     "output_type": "stream",
     "text": [
      " 17%|█████                         | 325/1936 [30:03<3:12:53,  7.18s/it]"
     ]
    },
    {
     "name": "stdout",
     "output_type": "stream",
     "text": [
      "Fitting 3 folds for each of 5 candidates, totalling 15 fits\n",
      "Cannot have number of splits n_splits=3 greater than the number of samples: n_samples=0.\n",
      "Fitting 3 folds for each of 5 candidates, totalling 15 fits\n",
      "Cannot have number of splits n_splits=3 greater than the number of samples: n_samples=0.\n",
      "Fitting 3 folds for each of 5 candidates, totalling 15 fits\n",
      "Cannot have number of splits n_splits=3 greater than the number of samples: n_samples=0.\n",
      "Fitting 3 folds for each of 5 candidates, totalling 15 fits\n"
     ]
    },
    {
     "name": "stderr",
     "output_type": "stream",
     "text": [
      " 17%|█████                         | 329/1936 [30:13<2:09:19,  4.83s/it]"
     ]
    },
    {
     "name": "stdout",
     "output_type": "stream",
     "text": [
      "Fitting 3 folds for each of 5 candidates, totalling 15 fits\n"
     ]
    },
    {
     "name": "stderr",
     "output_type": "stream",
     "text": [
      " 17%|█████                         | 330/1936 [30:22<2:26:59,  5.49s/it]"
     ]
    },
    {
     "name": "stdout",
     "output_type": "stream",
     "text": [
      "Fitting 3 folds for each of 5 candidates, totalling 15 fits\n",
      "Cannot have number of splits n_splits=3 greater than the number of samples: n_samples=0.\n",
      "Fitting 3 folds for each of 5 candidates, totalling 15 fits\n"
     ]
    },
    {
     "name": "stderr",
     "output_type": "stream",
     "text": [
      " 17%|█████▏                        | 332/1936 [30:31<2:17:50,  5.16s/it]"
     ]
    },
    {
     "name": "stdout",
     "output_type": "stream",
     "text": [
      "Fitting 3 folds for each of 5 candidates, totalling 15 fits\n"
     ]
    },
    {
     "name": "stderr",
     "output_type": "stream",
     "text": [
      " 17%|█████▏                        | 333/1936 [30:40<2:34:52,  5.80s/it]"
     ]
    },
    {
     "name": "stdout",
     "output_type": "stream",
     "text": [
      "Fitting 3 folds for each of 5 candidates, totalling 15 fits\n",
      "Cannot have number of splits n_splits=3 greater than the number of samples: n_samples=0.\n",
      "Fitting 3 folds for each of 5 candidates, totalling 15 fits\n",
      "Cannot have number of splits n_splits=3 greater than the number of samples: n_samples=0.\n",
      "Fitting 3 folds for each of 5 candidates, totalling 15 fits\n",
      "Cannot have number of splits n_splits=3 greater than the number of samples: n_samples=0.\n",
      "Fitting 3 folds for each of 5 candidates, totalling 15 fits\n"
     ]
    },
    {
     "name": "stderr",
     "output_type": "stream",
     "text": [
      " 17%|█████▏                        | 337/1936 [30:50<1:51:37,  4.19s/it]"
     ]
    },
    {
     "name": "stdout",
     "output_type": "stream",
     "text": [
      "Fitting 3 folds for each of 5 candidates, totalling 15 fits\n"
     ]
    },
    {
     "name": "stderr",
     "output_type": "stream",
     "text": [
      " 17%|█████▏                        | 338/1936 [31:01<2:19:07,  5.22s/it]"
     ]
    },
    {
     "name": "stdout",
     "output_type": "stream",
     "text": [
      "Fitting 3 folds for each of 5 candidates, totalling 15 fits\n",
      "Cannot have number of splits n_splits=3 greater than the number of samples: n_samples=0.\n",
      "Fitting 3 folds for each of 5 candidates, totalling 15 fits\n"
     ]
    },
    {
     "name": "stderr",
     "output_type": "stream",
     "text": [
      " 18%|█████▎                        | 340/1936 [31:12<2:18:23,  5.20s/it]"
     ]
    },
    {
     "name": "stdout",
     "output_type": "stream",
     "text": [
      "Fitting 3 folds for each of 5 candidates, totalling 15 fits\n"
     ]
    },
    {
     "name": "stderr",
     "output_type": "stream",
     "text": [
      " 18%|█████▎                        | 341/1936 [31:22<2:41:48,  6.09s/it]"
     ]
    },
    {
     "name": "stdout",
     "output_type": "stream",
     "text": [
      "Fitting 3 folds for each of 5 candidates, totalling 15 fits\n",
      "Cannot have number of splits n_splits=3 greater than the number of samples: n_samples=0.\n",
      "Fitting 3 folds for each of 5 candidates, totalling 15 fits\n",
      "Cannot have number of splits n_splits=3 greater than the number of samples: n_samples=0.\n",
      "Fitting 3 folds for each of 5 candidates, totalling 15 fits\n",
      "Cannot have number of splits n_splits=3 greater than the number of samples: n_samples=0.\n",
      "Fitting 3 folds for each of 5 candidates, totalling 15 fits\n"
     ]
    },
    {
     "name": "stderr",
     "output_type": "stream",
     "text": [
      " 18%|█████▎                        | 345/1936 [31:32<1:52:34,  4.25s/it]"
     ]
    },
    {
     "name": "stdout",
     "output_type": "stream",
     "text": [
      "Fitting 3 folds for each of 5 candidates, totalling 15 fits\n"
     ]
    },
    {
     "name": "stderr",
     "output_type": "stream",
     "text": [
      " 18%|█████▎                        | 346/1936 [31:41<2:15:15,  5.10s/it]"
     ]
    },
    {
     "name": "stdout",
     "output_type": "stream",
     "text": [
      "Fitting 3 folds for each of 5 candidates, totalling 15 fits\n",
      "Cannot have number of splits n_splits=3 greater than the number of samples: n_samples=0.\n",
      "Fitting 3 folds for each of 5 candidates, totalling 15 fits\n"
     ]
    },
    {
     "name": "stderr",
     "output_type": "stream",
     "text": [
      " 18%|█████▍                        | 348/1936 [31:52<2:15:22,  5.11s/it]"
     ]
    },
    {
     "name": "stdout",
     "output_type": "stream",
     "text": [
      "Fitting 3 folds for each of 5 candidates, totalling 15 fits\n"
     ]
    },
    {
     "name": "stderr",
     "output_type": "stream",
     "text": [
      " 18%|█████▍                        | 349/1936 [32:02<2:40:30,  6.07s/it]"
     ]
    },
    {
     "name": "stdout",
     "output_type": "stream",
     "text": [
      "Fitting 3 folds for each of 5 candidates, totalling 15 fits\n",
      "Cannot have number of splits n_splits=3 greater than the number of samples: n_samples=0.\n",
      "Fitting 3 folds for each of 5 candidates, totalling 15 fits\n",
      "Cannot have number of splits n_splits=3 greater than the number of samples: n_samples=0.\n",
      "Fitting 3 folds for each of 5 candidates, totalling 15 fits\n",
      "Cannot have number of splits n_splits=3 greater than the number of samples: n_samples=0.\n",
      "Fitting 3 folds for each of 5 candidates, totalling 15 fits\n"
     ]
    },
    {
     "name": "stderr",
     "output_type": "stream",
     "text": [
      " 18%|█████▍                        | 353/1936 [32:12<1:52:27,  4.26s/it]"
     ]
    },
    {
     "name": "stdout",
     "output_type": "stream",
     "text": [
      "Fitting 3 folds for each of 5 candidates, totalling 15 fits\n"
     ]
    },
    {
     "name": "stderr",
     "output_type": "stream",
     "text": [
      " 18%|█████▍                        | 354/1936 [32:22<2:14:32,  5.10s/it]"
     ]
    },
    {
     "name": "stdout",
     "output_type": "stream",
     "text": [
      "Fitting 3 folds for each of 5 candidates, totalling 15 fits\n",
      "Cannot have number of splits n_splits=3 greater than the number of samples: n_samples=0.\n",
      "Fitting 3 folds for each of 5 candidates, totalling 15 fits\n"
     ]
    },
    {
     "name": "stderr",
     "output_type": "stream",
     "text": [
      " 18%|█████▌                        | 356/1936 [32:32<2:13:10,  5.06s/it]"
     ]
    },
    {
     "name": "stdout",
     "output_type": "stream",
     "text": [
      "Fitting 3 folds for each of 5 candidates, totalling 15 fits\n"
     ]
    },
    {
     "name": "stderr",
     "output_type": "stream",
     "text": [
      " 18%|█████▌                        | 357/1936 [32:42<2:35:55,  5.93s/it]"
     ]
    },
    {
     "name": "stdout",
     "output_type": "stream",
     "text": [
      "Fitting 3 folds for each of 5 candidates, totalling 15 fits\n",
      "Cannot have number of splits n_splits=3 greater than the number of samples: n_samples=0.\n",
      "Fitting 3 folds for each of 5 candidates, totalling 15 fits\n",
      "Cannot have number of splits n_splits=3 greater than the number of samples: n_samples=0.\n",
      "Fitting 3 folds for each of 5 candidates, totalling 15 fits\n",
      "Cannot have number of splits n_splits=3 greater than the number of samples: n_samples=0.\n",
      "Fitting 3 folds for each of 5 candidates, totalling 15 fits\n"
     ]
    },
    {
     "name": "stderr",
     "output_type": "stream",
     "text": [
      " 19%|█████▌                        | 361/1936 [32:54<1:56:15,  4.43s/it]"
     ]
    },
    {
     "name": "stdout",
     "output_type": "stream",
     "text": [
      "Fitting 3 folds for each of 5 candidates, totalling 15 fits\n"
     ]
    },
    {
     "name": "stderr",
     "output_type": "stream",
     "text": [
      " 19%|█████▌                        | 362/1936 [33:06<2:26:53,  5.60s/it]"
     ]
    },
    {
     "name": "stdout",
     "output_type": "stream",
     "text": [
      "Fitting 3 folds for each of 5 candidates, totalling 15 fits\n",
      "Cannot have number of splits n_splits=3 greater than the number of samples: n_samples=0.\n",
      "Fitting 3 folds for each of 5 candidates, totalling 15 fits\n"
     ]
    },
    {
     "name": "stderr",
     "output_type": "stream",
     "text": [
      " 19%|█████▋                        | 364/1936 [33:18<2:30:53,  5.76s/it]"
     ]
    },
    {
     "name": "stdout",
     "output_type": "stream",
     "text": [
      "Fitting 3 folds for each of 5 candidates, totalling 15 fits\n"
     ]
    },
    {
     "name": "stderr",
     "output_type": "stream",
     "text": [
      " 19%|█████▋                        | 365/1936 [33:29<2:56:29,  6.74s/it]"
     ]
    },
    {
     "name": "stdout",
     "output_type": "stream",
     "text": [
      "Fitting 3 folds for each of 5 candidates, totalling 15 fits\n",
      "Cannot have number of splits n_splits=3 greater than the number of samples: n_samples=0.\n",
      "Fitting 3 folds for each of 5 candidates, totalling 15 fits\n",
      "Cannot have number of splits n_splits=3 greater than the number of samples: n_samples=0.\n",
      "Fitting 3 folds for each of 5 candidates, totalling 15 fits\n",
      "Cannot have number of splits n_splits=3 greater than the number of samples: n_samples=0.\n",
      "Fitting 3 folds for each of 5 candidates, totalling 15 fits\n"
     ]
    },
    {
     "name": "stderr",
     "output_type": "stream",
     "text": [
      " 19%|█████▋                        | 369/1936 [33:40<2:04:32,  4.77s/it]"
     ]
    },
    {
     "name": "stdout",
     "output_type": "stream",
     "text": [
      "Fitting 3 folds for each of 5 candidates, totalling 15 fits\n"
     ]
    },
    {
     "name": "stderr",
     "output_type": "stream",
     "text": [
      " 19%|█████▋                        | 370/1936 [33:53<2:34:46,  5.93s/it]"
     ]
    },
    {
     "name": "stdout",
     "output_type": "stream",
     "text": [
      "Fitting 3 folds for each of 5 candidates, totalling 15 fits\n",
      "Cannot have number of splits n_splits=3 greater than the number of samples: n_samples=0.\n",
      "Fitting 3 folds for each of 5 candidates, totalling 15 fits\n"
     ]
    },
    {
     "name": "stderr",
     "output_type": "stream",
     "text": [
      " 19%|█████▊                        | 372/1936 [34:09<2:50:21,  6.54s/it]"
     ]
    },
    {
     "name": "stdout",
     "output_type": "stream",
     "text": [
      "Fitting 3 folds for each of 5 candidates, totalling 15 fits\n"
     ]
    },
    {
     "name": "stderr",
     "output_type": "stream",
     "text": [
      " 19%|█████▊                        | 373/1936 [34:21<3:18:11,  7.61s/it]"
     ]
    },
    {
     "name": "stdout",
     "output_type": "stream",
     "text": [
      "Fitting 3 folds for each of 5 candidates, totalling 15 fits\n",
      "Cannot have number of splits n_splits=3 greater than the number of samples: n_samples=0.\n",
      "Fitting 3 folds for each of 5 candidates, totalling 15 fits\n",
      "Cannot have number of splits n_splits=3 greater than the number of samples: n_samples=0.\n",
      "Fitting 3 folds for each of 5 candidates, totalling 15 fits\n",
      "Cannot have number of splits n_splits=3 greater than the number of samples: n_samples=0.\n",
      "Fitting 3 folds for each of 5 candidates, totalling 15 fits\n"
     ]
    },
    {
     "name": "stderr",
     "output_type": "stream",
     "text": [
      " 19%|█████▊                        | 377/1936 [34:32<2:13:55,  5.15s/it]"
     ]
    },
    {
     "name": "stdout",
     "output_type": "stream",
     "text": [
      "Fitting 3 folds for each of 5 candidates, totalling 15 fits\n"
     ]
    },
    {
     "name": "stderr",
     "output_type": "stream",
     "text": [
      " 20%|█████▊                        | 378/1936 [34:43<2:37:13,  6.05s/it]"
     ]
    },
    {
     "name": "stdout",
     "output_type": "stream",
     "text": [
      "Fitting 3 folds for each of 5 candidates, totalling 15 fits\n",
      "Cannot have number of splits n_splits=3 greater than the number of samples: n_samples=0.\n",
      "Fitting 3 folds for each of 5 candidates, totalling 15 fits\n"
     ]
    },
    {
     "name": "stderr",
     "output_type": "stream",
     "text": [
      " 20%|█████▉                        | 380/1936 [34:55<2:33:36,  5.92s/it]"
     ]
    },
    {
     "name": "stdout",
     "output_type": "stream",
     "text": [
      "Fitting 3 folds for each of 5 candidates, totalling 15 fits\n"
     ]
    },
    {
     "name": "stderr",
     "output_type": "stream",
     "text": [
      " 20%|█████▉                        | 381/1936 [35:06<2:59:32,  6.93s/it]"
     ]
    },
    {
     "name": "stdout",
     "output_type": "stream",
     "text": [
      "Fitting 3 folds for each of 5 candidates, totalling 15 fits\n",
      "Cannot have number of splits n_splits=3 greater than the number of samples: n_samples=0.\n",
      "Fitting 3 folds for each of 5 candidates, totalling 15 fits\n",
      "Cannot have number of splits n_splits=3 greater than the number of samples: n_samples=0.\n",
      "Fitting 3 folds for each of 5 candidates, totalling 15 fits\n",
      "Cannot have number of splits n_splits=3 greater than the number of samples: n_samples=0.\n",
      "Fitting 3 folds for each of 5 candidates, totalling 15 fits\n"
     ]
    },
    {
     "name": "stderr",
     "output_type": "stream",
     "text": [
      " 20%|█████▉                        | 385/1936 [35:15<1:58:39,  4.59s/it]"
     ]
    },
    {
     "name": "stdout",
     "output_type": "stream",
     "text": [
      "Fitting 3 folds for each of 5 candidates, totalling 15 fits\n"
     ]
    },
    {
     "name": "stderr",
     "output_type": "stream",
     "text": [
      " 20%|█████▉                        | 386/1936 [35:24<2:15:27,  5.24s/it]"
     ]
    },
    {
     "name": "stdout",
     "output_type": "stream",
     "text": [
      "Fitting 3 folds for each of 5 candidates, totalling 15 fits\n",
      "Cannot have number of splits n_splits=3 greater than the number of samples: n_samples=0.\n",
      "Fitting 3 folds for each of 5 candidates, totalling 15 fits\n"
     ]
    },
    {
     "name": "stderr",
     "output_type": "stream",
     "text": [
      " 20%|██████                        | 388/1936 [35:33<2:07:05,  4.93s/it]"
     ]
    },
    {
     "name": "stdout",
     "output_type": "stream",
     "text": [
      "Fitting 3 folds for each of 5 candidates, totalling 15 fits\n"
     ]
    },
    {
     "name": "stderr",
     "output_type": "stream",
     "text": [
      " 20%|██████                        | 389/1936 [35:41<2:22:48,  5.54s/it]"
     ]
    },
    {
     "name": "stdout",
     "output_type": "stream",
     "text": [
      "Fitting 3 folds for each of 5 candidates, totalling 15 fits\n",
      "Cannot have number of splits n_splits=3 greater than the number of samples: n_samples=0.\n",
      "Fitting 3 folds for each of 5 candidates, totalling 15 fits\n",
      "Cannot have number of splits n_splits=3 greater than the number of samples: n_samples=0.\n",
      "Fitting 3 folds for each of 5 candidates, totalling 15 fits\n",
      "Cannot have number of splits n_splits=3 greater than the number of samples: n_samples=0.\n",
      "Fitting 3 folds for each of 5 candidates, totalling 15 fits\n"
     ]
    },
    {
     "name": "stderr",
     "output_type": "stream",
     "text": [
      " 20%|██████                        | 393/1936 [35:52<1:47:49,  4.19s/it]"
     ]
    },
    {
     "name": "stdout",
     "output_type": "stream",
     "text": [
      "Fitting 3 folds for each of 5 candidates, totalling 15 fits\n"
     ]
    },
    {
     "name": "stderr",
     "output_type": "stream",
     "text": [
      " 20%|██████                        | 394/1936 [36:04<2:15:00,  5.25s/it]"
     ]
    },
    {
     "name": "stdout",
     "output_type": "stream",
     "text": [
      "Fitting 3 folds for each of 5 candidates, totalling 15 fits\n",
      "Cannot have number of splits n_splits=3 greater than the number of samples: n_samples=0.\n",
      "Fitting 3 folds for each of 5 candidates, totalling 15 fits\n"
     ]
    },
    {
     "name": "stderr",
     "output_type": "stream",
     "text": [
      " 20%|██████▏                       | 396/1936 [36:15<2:20:21,  5.47s/it]"
     ]
    },
    {
     "name": "stdout",
     "output_type": "stream",
     "text": [
      "Fitting 3 folds for each of 5 candidates, totalling 15 fits\n"
     ]
    },
    {
     "name": "stderr",
     "output_type": "stream",
     "text": [
      " 21%|██████▏                       | 397/1936 [36:27<2:48:09,  6.56s/it]"
     ]
    },
    {
     "name": "stdout",
     "output_type": "stream",
     "text": [
      "Fitting 3 folds for each of 5 candidates, totalling 15 fits\n",
      "Cannot have number of splits n_splits=3 greater than the number of samples: n_samples=0.\n",
      "Fitting 3 folds for each of 5 candidates, totalling 15 fits\n",
      "Cannot have number of splits n_splits=3 greater than the number of samples: n_samples=0.\n",
      "Fitting 3 folds for each of 5 candidates, totalling 15 fits\n",
      "Cannot have number of splits n_splits=3 greater than the number of samples: n_samples=0.\n",
      "Fitting 3 folds for each of 5 candidates, totalling 15 fits\n"
     ]
    },
    {
     "name": "stderr",
     "output_type": "stream",
     "text": [
      " 21%|██████▏                       | 401/1936 [36:37<1:56:35,  4.56s/it]"
     ]
    },
    {
     "name": "stdout",
     "output_type": "stream",
     "text": [
      "Fitting 3 folds for each of 5 candidates, totalling 15 fits\n"
     ]
    },
    {
     "name": "stderr",
     "output_type": "stream",
     "text": [
      " 21%|██████▏                       | 402/1936 [36:48<2:21:13,  5.52s/it]"
     ]
    },
    {
     "name": "stdout",
     "output_type": "stream",
     "text": [
      "Fitting 3 folds for each of 5 candidates, totalling 15 fits\n",
      "Cannot have number of splits n_splits=3 greater than the number of samples: n_samples=0.\n",
      "Fitting 3 folds for each of 5 candidates, totalling 15 fits\n"
     ]
    },
    {
     "name": "stderr",
     "output_type": "stream",
     "text": [
      " 21%|██████▎                       | 404/1936 [36:59<2:20:51,  5.52s/it]"
     ]
    },
    {
     "name": "stdout",
     "output_type": "stream",
     "text": [
      "Fitting 3 folds for each of 5 candidates, totalling 15 fits\n"
     ]
    },
    {
     "name": "stderr",
     "output_type": "stream",
     "text": [
      " 21%|██████▎                       | 405/1936 [37:10<2:46:42,  6.53s/it]"
     ]
    },
    {
     "name": "stdout",
     "output_type": "stream",
     "text": [
      "Fitting 3 folds for each of 5 candidates, totalling 15 fits\n",
      "Cannot have number of splits n_splits=3 greater than the number of samples: n_samples=0.\n",
      "Fitting 3 folds for each of 5 candidates, totalling 15 fits\n",
      "Cannot have number of splits n_splits=3 greater than the number of samples: n_samples=0.\n",
      "Fitting 3 folds for each of 5 candidates, totalling 15 fits\n",
      "Cannot have number of splits n_splits=3 greater than the number of samples: n_samples=0.\n",
      "Fitting 3 folds for each of 5 candidates, totalling 15 fits\n"
     ]
    },
    {
     "name": "stderr",
     "output_type": "stream",
     "text": [
      " 21%|██████▎                       | 409/1936 [37:23<2:02:20,  4.81s/it]"
     ]
    },
    {
     "name": "stdout",
     "output_type": "stream",
     "text": [
      "Fitting 3 folds for each of 5 candidates, totalling 15 fits\n"
     ]
    },
    {
     "name": "stderr",
     "output_type": "stream",
     "text": [
      " 21%|██████▎                       | 410/1936 [37:35<2:29:04,  5.86s/it]"
     ]
    },
    {
     "name": "stdout",
     "output_type": "stream",
     "text": [
      "Fitting 3 folds for each of 5 candidates, totalling 15 fits\n",
      "Cannot have number of splits n_splits=3 greater than the number of samples: n_samples=0.\n",
      "Fitting 3 folds for each of 5 candidates, totalling 15 fits\n"
     ]
    },
    {
     "name": "stderr",
     "output_type": "stream",
     "text": [
      " 21%|██████▍                       | 412/1936 [37:46<2:27:24,  5.80s/it]"
     ]
    },
    {
     "name": "stdout",
     "output_type": "stream",
     "text": [
      "Fitting 3 folds for each of 5 candidates, totalling 15 fits\n"
     ]
    },
    {
     "name": "stderr",
     "output_type": "stream",
     "text": [
      " 21%|██████▍                       | 413/1936 [37:58<2:55:01,  6.90s/it]"
     ]
    },
    {
     "name": "stdout",
     "output_type": "stream",
     "text": [
      "Fitting 3 folds for each of 5 candidates, totalling 15 fits\n",
      "Cannot have number of splits n_splits=3 greater than the number of samples: n_samples=0.\n",
      "Fitting 3 folds for each of 5 candidates, totalling 15 fits\n",
      "Cannot have number of splits n_splits=3 greater than the number of samples: n_samples=0.\n",
      "Fitting 3 folds for each of 5 candidates, totalling 15 fits\n",
      "Cannot have number of splits n_splits=3 greater than the number of samples: n_samples=0.\n",
      "Fitting 3 folds for each of 5 candidates, totalling 15 fits\n"
     ]
    },
    {
     "name": "stderr",
     "output_type": "stream",
     "text": [
      " 22%|██████▍                       | 417/1936 [38:09<2:01:26,  4.80s/it]"
     ]
    },
    {
     "name": "stdout",
     "output_type": "stream",
     "text": [
      "Fitting 3 folds for each of 5 candidates, totalling 15 fits\n"
     ]
    },
    {
     "name": "stderr",
     "output_type": "stream",
     "text": [
      " 22%|██████▍                       | 418/1936 [38:20<2:24:07,  5.70s/it]"
     ]
    },
    {
     "name": "stdout",
     "output_type": "stream",
     "text": [
      "Fitting 3 folds for each of 5 candidates, totalling 15 fits\n",
      "Cannot have number of splits n_splits=3 greater than the number of samples: n_samples=0.\n",
      "Fitting 3 folds for each of 5 candidates, totalling 15 fits\n"
     ]
    },
    {
     "name": "stderr",
     "output_type": "stream",
     "text": [
      " 22%|██████▌                       | 420/1936 [38:30<2:19:39,  5.53s/it]"
     ]
    },
    {
     "name": "stdout",
     "output_type": "stream",
     "text": [
      "Fitting 3 folds for each of 5 candidates, totalling 15 fits\n"
     ]
    },
    {
     "name": "stderr",
     "output_type": "stream",
     "text": [
      " 22%|██████▌                       | 421/1936 [38:40<2:40:57,  6.37s/it]"
     ]
    },
    {
     "name": "stdout",
     "output_type": "stream",
     "text": [
      "Fitting 3 folds for each of 5 candidates, totalling 15 fits\n",
      "Cannot have number of splits n_splits=3 greater than the number of samples: n_samples=0.\n",
      "Fitting 3 folds for each of 5 candidates, totalling 15 fits\n",
      "Cannot have number of splits n_splits=3 greater than the number of samples: n_samples=0.\n",
      "Fitting 3 folds for each of 5 candidates, totalling 15 fits\n",
      "Cannot have number of splits n_splits=3 greater than the number of samples: n_samples=0.\n",
      "Fitting 3 folds for each of 5 candidates, totalling 15 fits\n"
     ]
    },
    {
     "name": "stderr",
     "output_type": "stream",
     "text": [
      " 22%|██████▌                       | 425/1936 [38:50<1:52:18,  4.46s/it]"
     ]
    },
    {
     "name": "stdout",
     "output_type": "stream",
     "text": [
      "Fitting 3 folds for each of 5 candidates, totalling 15 fits\n"
     ]
    },
    {
     "name": "stderr",
     "output_type": "stream",
     "text": [
      " 22%|██████▌                       | 426/1936 [39:00<2:11:25,  5.22s/it]"
     ]
    },
    {
     "name": "stdout",
     "output_type": "stream",
     "text": [
      "Fitting 3 folds for each of 5 candidates, totalling 15 fits\n",
      "Cannot have number of splits n_splits=3 greater than the number of samples: n_samples=0.\n",
      "Fitting 3 folds for each of 5 candidates, totalling 15 fits\n"
     ]
    },
    {
     "name": "stderr",
     "output_type": "stream",
     "text": [
      " 22%|██████▋                       | 428/1936 [39:09<2:07:01,  5.05s/it]"
     ]
    },
    {
     "name": "stdout",
     "output_type": "stream",
     "text": [
      "Fitting 3 folds for each of 5 candidates, totalling 15 fits\n"
     ]
    },
    {
     "name": "stderr",
     "output_type": "stream",
     "text": [
      " 22%|██████▋                       | 429/1936 [39:18<2:24:05,  5.74s/it]"
     ]
    },
    {
     "name": "stdout",
     "output_type": "stream",
     "text": [
      "Fitting 3 folds for each of 5 candidates, totalling 15 fits\n",
      "Cannot have number of splits n_splits=3 greater than the number of samples: n_samples=0.\n",
      "Fitting 3 folds for each of 5 candidates, totalling 15 fits\n",
      "Cannot have number of splits n_splits=3 greater than the number of samples: n_samples=0.\n",
      "Fitting 3 folds for each of 5 candidates, totalling 15 fits\n",
      "Cannot have number of splits n_splits=3 greater than the number of samples: n_samples=0.\n",
      "Fitting 3 folds for each of 5 candidates, totalling 15 fits\n"
     ]
    },
    {
     "name": "stderr",
     "output_type": "stream",
     "text": [
      " 22%|██████▋                       | 433/1936 [39:29<1:46:16,  4.24s/it]"
     ]
    },
    {
     "name": "stdout",
     "output_type": "stream",
     "text": [
      "Fitting 3 folds for each of 5 candidates, totalling 15 fits\n"
     ]
    },
    {
     "name": "stderr",
     "output_type": "stream",
     "text": [
      " 22%|██████▋                       | 434/1936 [39:40<2:10:48,  5.23s/it]"
     ]
    },
    {
     "name": "stdout",
     "output_type": "stream",
     "text": [
      "Fitting 3 folds for each of 5 candidates, totalling 15 fits\n",
      "Cannot have number of splits n_splits=3 greater than the number of samples: n_samples=0.\n",
      "Fitting 3 folds for each of 5 candidates, totalling 15 fits\n"
     ]
    },
    {
     "name": "stderr",
     "output_type": "stream",
     "text": [
      " 23%|██████▊                       | 436/1936 [39:51<2:13:10,  5.33s/it]"
     ]
    },
    {
     "name": "stdout",
     "output_type": "stream",
     "text": [
      "Fitting 3 folds for each of 5 candidates, totalling 15 fits\n"
     ]
    },
    {
     "name": "stderr",
     "output_type": "stream",
     "text": [
      " 23%|██████▊                       | 437/1936 [40:03<2:41:06,  6.45s/it]"
     ]
    },
    {
     "name": "stdout",
     "output_type": "stream",
     "text": [
      "Fitting 3 folds for each of 5 candidates, totalling 15 fits\n",
      "Cannot have number of splits n_splits=3 greater than the number of samples: n_samples=0.\n",
      "Fitting 3 folds for each of 5 candidates, totalling 15 fits\n",
      "Cannot have number of splits n_splits=3 greater than the number of samples: n_samples=0.\n",
      "Fitting 3 folds for each of 5 candidates, totalling 15 fits\n",
      "Cannot have number of splits n_splits=3 greater than the number of samples: n_samples=0.\n",
      "Fitting 3 folds for each of 5 candidates, totalling 15 fits\n"
     ]
    },
    {
     "name": "stderr",
     "output_type": "stream",
     "text": [
      " 23%|██████▊                       | 441/1936 [40:16<2:00:41,  4.84s/it]"
     ]
    },
    {
     "name": "stdout",
     "output_type": "stream",
     "text": [
      "Fitting 3 folds for each of 5 candidates, totalling 15 fits\n"
     ]
    },
    {
     "name": "stderr",
     "output_type": "stream",
     "text": [
      " 23%|██████▊                       | 442/1936 [40:29<2:31:44,  6.09s/it]"
     ]
    },
    {
     "name": "stdout",
     "output_type": "stream",
     "text": [
      "Fitting 3 folds for each of 5 candidates, totalling 15 fits\n",
      "Cannot have number of splits n_splits=3 greater than the number of samples: n_samples=0.\n",
      "Fitting 3 folds for each of 5 candidates, totalling 15 fits\n"
     ]
    },
    {
     "name": "stderr",
     "output_type": "stream",
     "text": [
      " 23%|██████▉                       | 444/1936 [40:41<2:33:22,  6.17s/it]"
     ]
    },
    {
     "name": "stdout",
     "output_type": "stream",
     "text": [
      "Fitting 3 folds for each of 5 candidates, totalling 15 fits\n"
     ]
    },
    {
     "name": "stderr",
     "output_type": "stream",
     "text": [
      " 23%|██████▉                       | 445/1936 [40:54<3:00:43,  7.27s/it]"
     ]
    },
    {
     "name": "stdout",
     "output_type": "stream",
     "text": [
      "Fitting 3 folds for each of 5 candidates, totalling 15 fits\n",
      "Cannot have number of splits n_splits=3 greater than the number of samples: n_samples=0.\n",
      "Fitting 3 folds for each of 5 candidates, totalling 15 fits\n",
      "Cannot have number of splits n_splits=3 greater than the number of samples: n_samples=0.\n",
      "Fitting 3 folds for each of 5 candidates, totalling 15 fits\n",
      "Cannot have number of splits n_splits=3 greater than the number of samples: n_samples=0.\n",
      "Fitting 3 folds for each of 5 candidates, totalling 15 fits\n"
     ]
    },
    {
     "name": "stderr",
     "output_type": "stream",
     "text": [
      " 23%|██████▉                       | 449/1936 [41:07<2:10:18,  5.26s/it]"
     ]
    },
    {
     "name": "stdout",
     "output_type": "stream",
     "text": [
      "Fitting 3 folds for each of 5 candidates, totalling 15 fits\n"
     ]
    },
    {
     "name": "stderr",
     "output_type": "stream",
     "text": [
      " 23%|██████▉                       | 450/1936 [41:18<2:33:26,  6.20s/it]"
     ]
    },
    {
     "name": "stdout",
     "output_type": "stream",
     "text": [
      "Fitting 3 folds for each of 5 candidates, totalling 15 fits\n",
      "Cannot have number of splits n_splits=3 greater than the number of samples: n_samples=0.\n",
      "Fitting 3 folds for each of 5 candidates, totalling 15 fits\n"
     ]
    },
    {
     "name": "stderr",
     "output_type": "stream",
     "text": [
      " 23%|███████                       | 452/1936 [41:30<2:30:45,  6.10s/it]"
     ]
    },
    {
     "name": "stdout",
     "output_type": "stream",
     "text": [
      "Fitting 3 folds for each of 5 candidates, totalling 15 fits\n"
     ]
    },
    {
     "name": "stderr",
     "output_type": "stream",
     "text": [
      " 23%|███████                       | 453/1936 [41:42<2:57:28,  7.18s/it]"
     ]
    },
    {
     "name": "stdout",
     "output_type": "stream",
     "text": [
      "Fitting 3 folds for each of 5 candidates, totalling 15 fits\n",
      "Cannot have number of splits n_splits=3 greater than the number of samples: n_samples=0.\n",
      "Fitting 3 folds for each of 5 candidates, totalling 15 fits\n",
      "Cannot have number of splits n_splits=3 greater than the number of samples: n_samples=0.\n",
      "Fitting 3 folds for each of 5 candidates, totalling 15 fits\n",
      "Cannot have number of splits n_splits=3 greater than the number of samples: n_samples=0.\n",
      "Fitting 3 folds for each of 5 candidates, totalling 15 fits\n"
     ]
    },
    {
     "name": "stderr",
     "output_type": "stream",
     "text": [
      " 24%|███████                       | 457/1936 [41:54<2:03:46,  5.02s/it]"
     ]
    },
    {
     "name": "stdout",
     "output_type": "stream",
     "text": [
      "Fitting 3 folds for each of 5 candidates, totalling 15 fits\n"
     ]
    },
    {
     "name": "stderr",
     "output_type": "stream",
     "text": [
      " 24%|███████                       | 458/1936 [42:06<2:30:29,  6.11s/it]"
     ]
    },
    {
     "name": "stdout",
     "output_type": "stream",
     "text": [
      "Fitting 3 folds for each of 5 candidates, totalling 15 fits\n",
      "Cannot have number of splits n_splits=3 greater than the number of samples: n_samples=0.\n",
      "Fitting 3 folds for each of 5 candidates, totalling 15 fits\n"
     ]
    },
    {
     "name": "stderr",
     "output_type": "stream",
     "text": [
      " 24%|███████▏                      | 460/1936 [42:18<2:27:59,  6.02s/it]"
     ]
    },
    {
     "name": "stdout",
     "output_type": "stream",
     "text": [
      "Fitting 3 folds for each of 5 candidates, totalling 15 fits\n"
     ]
    },
    {
     "name": "stderr",
     "output_type": "stream",
     "text": [
      " 24%|███████▏                      | 461/1936 [42:30<2:54:18,  7.09s/it]"
     ]
    },
    {
     "name": "stdout",
     "output_type": "stream",
     "text": [
      "Fitting 3 folds for each of 5 candidates, totalling 15 fits\n",
      "Cannot have number of splits n_splits=3 greater than the number of samples: n_samples=0.\n",
      "Fitting 3 folds for each of 5 candidates, totalling 15 fits\n",
      "Cannot have number of splits n_splits=3 greater than the number of samples: n_samples=0.\n",
      "Fitting 3 folds for each of 5 candidates, totalling 15 fits\n",
      "Cannot have number of splits n_splits=3 greater than the number of samples: n_samples=0.\n",
      "Fitting 3 folds for each of 5 candidates, totalling 15 fits\n"
     ]
    },
    {
     "name": "stderr",
     "output_type": "stream",
     "text": [
      " 24%|███████▏                      | 465/1936 [42:41<2:01:28,  4.95s/it]"
     ]
    },
    {
     "name": "stdout",
     "output_type": "stream",
     "text": [
      "Fitting 3 folds for each of 5 candidates, totalling 15 fits\n"
     ]
    },
    {
     "name": "stderr",
     "output_type": "stream",
     "text": [
      " 24%|███████▏                      | 466/1936 [42:53<2:29:03,  6.08s/it]"
     ]
    },
    {
     "name": "stdout",
     "output_type": "stream",
     "text": [
      "Fitting 3 folds for each of 5 candidates, totalling 15 fits\n",
      "Cannot have number of splits n_splits=3 greater than the number of samples: n_samples=0.\n",
      "Fitting 3 folds for each of 5 candidates, totalling 15 fits\n"
     ]
    },
    {
     "name": "stderr",
     "output_type": "stream",
     "text": [
      " 24%|███████▎                      | 468/1936 [43:07<2:34:17,  6.31s/it]"
     ]
    },
    {
     "name": "stdout",
     "output_type": "stream",
     "text": [
      "Fitting 3 folds for each of 5 candidates, totalling 15 fits\n"
     ]
    },
    {
     "name": "stderr",
     "output_type": "stream",
     "text": [
      " 24%|███████▎                      | 469/1936 [43:18<2:56:27,  7.22s/it]"
     ]
    },
    {
     "name": "stdout",
     "output_type": "stream",
     "text": [
      "Fitting 3 folds for each of 5 candidates, totalling 15 fits\n",
      "Cannot have number of splits n_splits=3 greater than the number of samples: n_samples=0.\n",
      "Fitting 3 folds for each of 5 candidates, totalling 15 fits\n",
      "Cannot have number of splits n_splits=3 greater than the number of samples: n_samples=0.\n",
      "Fitting 3 folds for each of 5 candidates, totalling 15 fits\n",
      "Cannot have number of splits n_splits=3 greater than the number of samples: n_samples=0.\n",
      "Fitting 3 folds for each of 5 candidates, totalling 15 fits\n"
     ]
    },
    {
     "name": "stderr",
     "output_type": "stream",
     "text": [
      " 24%|███████▎                      | 473/1936 [43:31<2:05:00,  5.13s/it]"
     ]
    },
    {
     "name": "stdout",
     "output_type": "stream",
     "text": [
      "Fitting 3 folds for each of 5 candidates, totalling 15 fits\n"
     ]
    },
    {
     "name": "stderr",
     "output_type": "stream",
     "text": [
      " 24%|███████▎                      | 474/1936 [43:43<2:30:45,  6.19s/it]"
     ]
    },
    {
     "name": "stdout",
     "output_type": "stream",
     "text": [
      "Fitting 3 folds for each of 5 candidates, totalling 15 fits\n",
      "Cannot have number of splits n_splits=3 greater than the number of samples: n_samples=0.\n",
      "Fitting 3 folds for each of 5 candidates, totalling 15 fits\n"
     ]
    },
    {
     "name": "stderr",
     "output_type": "stream",
     "text": [
      " 25%|███████▍                      | 476/1936 [43:56<2:34:22,  6.34s/it]"
     ]
    },
    {
     "name": "stdout",
     "output_type": "stream",
     "text": [
      "Fitting 3 folds for each of 5 candidates, totalling 15 fits\n"
     ]
    },
    {
     "name": "stderr",
     "output_type": "stream",
     "text": [
      " 25%|███████▍                      | 477/1936 [44:08<2:56:43,  7.27s/it]"
     ]
    },
    {
     "name": "stdout",
     "output_type": "stream",
     "text": [
      "Fitting 3 folds for each of 5 candidates, totalling 15 fits\n",
      "Cannot have number of splits n_splits=3 greater than the number of samples: n_samples=0.\n",
      "Fitting 3 folds for each of 5 candidates, totalling 15 fits\n",
      "Cannot have number of splits n_splits=3 greater than the number of samples: n_samples=0.\n",
      "Fitting 3 folds for each of 5 candidates, totalling 15 fits\n",
      "Cannot have number of splits n_splits=3 greater than the number of samples: n_samples=0.\n",
      "Fitting 3 folds for each of 5 candidates, totalling 15 fits\n"
     ]
    },
    {
     "name": "stderr",
     "output_type": "stream",
     "text": [
      " 25%|███████▍                      | 481/1936 [44:17<1:54:44,  4.73s/it]"
     ]
    },
    {
     "name": "stdout",
     "output_type": "stream",
     "text": [
      "Fitting 3 folds for each of 5 candidates, totalling 15 fits\n"
     ]
    },
    {
     "name": "stderr",
     "output_type": "stream",
     "text": [
      " 25%|███████▍                      | 482/1936 [44:26<2:11:41,  5.43s/it]"
     ]
    },
    {
     "name": "stdout",
     "output_type": "stream",
     "text": [
      "Fitting 3 folds for each of 5 candidates, totalling 15 fits\n",
      "Cannot have number of splits n_splits=3 greater than the number of samples: n_samples=0.\n",
      "Fitting 3 folds for each of 5 candidates, totalling 15 fits\n"
     ]
    },
    {
     "name": "stderr",
     "output_type": "stream",
     "text": [
      " 25%|███████▌                      | 484/1936 [44:35<2:03:16,  5.09s/it]"
     ]
    },
    {
     "name": "stdout",
     "output_type": "stream",
     "text": [
      "Fitting 3 folds for each of 5 candidates, totalling 15 fits\n"
     ]
    },
    {
     "name": "stderr",
     "output_type": "stream",
     "text": [
      " 25%|███████▌                      | 485/1936 [44:43<2:18:38,  5.73s/it]"
     ]
    },
    {
     "name": "stdout",
     "output_type": "stream",
     "text": [
      "Fitting 3 folds for each of 5 candidates, totalling 15 fits\n",
      "Cannot have number of splits n_splits=3 greater than the number of samples: n_samples=0.\n",
      "Fitting 3 folds for each of 5 candidates, totalling 15 fits\n",
      "Cannot have number of splits n_splits=3 greater than the number of samples: n_samples=0.\n",
      "Fitting 3 folds for each of 5 candidates, totalling 15 fits\n",
      "Cannot have number of splits n_splits=3 greater than the number of samples: n_samples=0.\n",
      "Fitting 3 folds for each of 5 candidates, totalling 15 fits\n"
     ]
    },
    {
     "name": "stderr",
     "output_type": "stream",
     "text": [
      " 25%|███████▌                      | 489/1936 [44:56<1:46:53,  4.43s/it]"
     ]
    },
    {
     "name": "stdout",
     "output_type": "stream",
     "text": [
      "Fitting 3 folds for each of 5 candidates, totalling 15 fits\n"
     ]
    },
    {
     "name": "stderr",
     "output_type": "stream",
     "text": [
      " 25%|███████▌                      | 490/1936 [45:08<2:13:38,  5.55s/it]"
     ]
    },
    {
     "name": "stdout",
     "output_type": "stream",
     "text": [
      "Fitting 3 folds for each of 5 candidates, totalling 15 fits\n",
      "Cannot have number of splits n_splits=3 greater than the number of samples: n_samples=0.\n",
      "Fitting 3 folds for each of 5 candidates, totalling 15 fits\n"
     ]
    },
    {
     "name": "stderr",
     "output_type": "stream",
     "text": [
      " 25%|███████▌                      | 492/1936 [45:19<2:12:52,  5.52s/it]"
     ]
    },
    {
     "name": "stdout",
     "output_type": "stream",
     "text": [
      "Fitting 3 folds for each of 5 candidates, totalling 15 fits\n"
     ]
    },
    {
     "name": "stderr",
     "output_type": "stream",
     "text": [
      " 25%|███████▋                      | 493/1936 [45:30<2:37:56,  6.57s/it]"
     ]
    },
    {
     "name": "stdout",
     "output_type": "stream",
     "text": [
      "Fitting 3 folds for each of 5 candidates, totalling 15 fits\n",
      "Cannot have number of splits n_splits=3 greater than the number of samples: n_samples=0.\n",
      "Fitting 3 folds for each of 5 candidates, totalling 15 fits\n",
      "Cannot have number of splits n_splits=3 greater than the number of samples: n_samples=0.\n",
      "Fitting 3 folds for each of 5 candidates, totalling 15 fits\n",
      "Cannot have number of splits n_splits=3 greater than the number of samples: n_samples=0.\n",
      "Fitting 3 folds for each of 5 candidates, totalling 15 fits\n"
     ]
    },
    {
     "name": "stderr",
     "output_type": "stream",
     "text": [
      " 26%|███████▋                      | 497/1936 [45:42<1:53:34,  4.74s/it]"
     ]
    },
    {
     "name": "stdout",
     "output_type": "stream",
     "text": [
      "Fitting 3 folds for each of 5 candidates, totalling 15 fits\n"
     ]
    },
    {
     "name": "stderr",
     "output_type": "stream",
     "text": [
      " 26%|███████▋                      | 498/1936 [45:54<2:21:19,  5.90s/it]"
     ]
    },
    {
     "name": "stdout",
     "output_type": "stream",
     "text": [
      "Fitting 3 folds for each of 5 candidates, totalling 15 fits\n",
      "Cannot have number of splits n_splits=3 greater than the number of samples: n_samples=0.\n",
      "Fitting 3 folds for each of 5 candidates, totalling 15 fits\n"
     ]
    },
    {
     "name": "stderr",
     "output_type": "stream",
     "text": [
      " 26%|███████▋                      | 500/1936 [46:06<2:22:24,  5.95s/it]"
     ]
    },
    {
     "name": "stdout",
     "output_type": "stream",
     "text": [
      "Fitting 3 folds for each of 5 candidates, totalling 15 fits\n"
     ]
    },
    {
     "name": "stderr",
     "output_type": "stream",
     "text": [
      " 26%|███████▊                      | 501/1936 [46:18<2:45:18,  6.91s/it]"
     ]
    },
    {
     "name": "stdout",
     "output_type": "stream",
     "text": [
      "Fitting 3 folds for each of 5 candidates, totalling 15 fits\n",
      "Cannot have number of splits n_splits=3 greater than the number of samples: n_samples=0.\n",
      "Fitting 3 folds for each of 5 candidates, totalling 15 fits\n",
      "Cannot have number of splits n_splits=3 greater than the number of samples: n_samples=0.\n",
      "Fitting 3 folds for each of 5 candidates, totalling 15 fits\n",
      "Cannot have number of splits n_splits=3 greater than the number of samples: n_samples=0.\n",
      "Fitting 3 folds for each of 5 candidates, totalling 15 fits\n"
     ]
    },
    {
     "name": "stderr",
     "output_type": "stream",
     "text": [
      " 26%|███████▊                      | 505/1936 [46:28<1:52:43,  4.73s/it]"
     ]
    },
    {
     "name": "stdout",
     "output_type": "stream",
     "text": [
      "Fitting 3 folds for each of 5 candidates, totalling 15 fits\n"
     ]
    },
    {
     "name": "stderr",
     "output_type": "stream",
     "text": [
      " 26%|███████▊                      | 506/1936 [46:38<2:13:09,  5.59s/it]"
     ]
    },
    {
     "name": "stdout",
     "output_type": "stream",
     "text": [
      "Fitting 3 folds for each of 5 candidates, totalling 15 fits\n",
      "Cannot have number of splits n_splits=3 greater than the number of samples: n_samples=0.\n",
      "Fitting 3 folds for each of 5 candidates, totalling 15 fits\n"
     ]
    },
    {
     "name": "stderr",
     "output_type": "stream",
     "text": [
      " 26%|███████▊                      | 508/1936 [46:49<2:11:14,  5.51s/it]"
     ]
    },
    {
     "name": "stdout",
     "output_type": "stream",
     "text": [
      "Fitting 3 folds for each of 5 candidates, totalling 15 fits\n"
     ]
    },
    {
     "name": "stderr",
     "output_type": "stream",
     "text": [
      " 26%|███████▉                      | 509/1936 [47:00<2:33:09,  6.44s/it]"
     ]
    },
    {
     "name": "stdout",
     "output_type": "stream",
     "text": [
      "Fitting 3 folds for each of 5 candidates, totalling 15 fits\n",
      "Cannot have number of splits n_splits=3 greater than the number of samples: n_samples=0.\n",
      "Fitting 3 folds for each of 5 candidates, totalling 15 fits\n",
      "Cannot have number of splits n_splits=3 greater than the number of samples: n_samples=0.\n",
      "Fitting 3 folds for each of 5 candidates, totalling 15 fits\n",
      "Cannot have number of splits n_splits=3 greater than the number of samples: n_samples=0.\n",
      "Fitting 3 folds for each of 5 candidates, totalling 15 fits\n"
     ]
    },
    {
     "name": "stderr",
     "output_type": "stream",
     "text": [
      " 26%|███████▉                      | 513/1936 [47:11<1:49:06,  4.60s/it]"
     ]
    },
    {
     "name": "stdout",
     "output_type": "stream",
     "text": [
      "Fitting 3 folds for each of 5 candidates, totalling 15 fits\n"
     ]
    },
    {
     "name": "stderr",
     "output_type": "stream",
     "text": [
      " 27%|███████▉                      | 514/1936 [47:22<2:14:03,  5.66s/it]"
     ]
    },
    {
     "name": "stdout",
     "output_type": "stream",
     "text": [
      "Fitting 3 folds for each of 5 candidates, totalling 15 fits\n",
      "Cannot have number of splits n_splits=3 greater than the number of samples: n_samples=0.\n",
      "Fitting 3 folds for each of 5 candidates, totalling 15 fits\n"
     ]
    },
    {
     "name": "stderr",
     "output_type": "stream",
     "text": [
      " 27%|███████▉                      | 516/1936 [47:33<2:12:33,  5.60s/it]"
     ]
    },
    {
     "name": "stdout",
     "output_type": "stream",
     "text": [
      "Fitting 3 folds for each of 5 candidates, totalling 15 fits\n"
     ]
    },
    {
     "name": "stderr",
     "output_type": "stream",
     "text": [
      " 27%|████████                      | 517/1936 [47:44<2:35:41,  6.58s/it]"
     ]
    },
    {
     "name": "stdout",
     "output_type": "stream",
     "text": [
      "Fitting 3 folds for each of 5 candidates, totalling 15 fits\n",
      "Cannot have number of splits n_splits=3 greater than the number of samples: n_samples=0.\n",
      "Fitting 3 folds for each of 5 candidates, totalling 15 fits\n",
      "Cannot have number of splits n_splits=3 greater than the number of samples: n_samples=0.\n",
      "Fitting 3 folds for each of 5 candidates, totalling 15 fits\n",
      "Cannot have number of splits n_splits=3 greater than the number of samples: n_samples=0.\n",
      "Fitting 3 folds for each of 5 candidates, totalling 15 fits\n"
     ]
    },
    {
     "name": "stderr",
     "output_type": "stream",
     "text": [
      " 27%|████████                      | 521/1936 [47:58<1:56:38,  4.95s/it]"
     ]
    },
    {
     "name": "stdout",
     "output_type": "stream",
     "text": [
      "Fitting 3 folds for each of 5 candidates, totalling 15 fits\n"
     ]
    },
    {
     "name": "stderr",
     "output_type": "stream",
     "text": [
      " 27%|████████                      | 522/1936 [48:09<2:19:33,  5.92s/it]"
     ]
    },
    {
     "name": "stdout",
     "output_type": "stream",
     "text": [
      "Fitting 3 folds for each of 5 candidates, totalling 15 fits\n",
      "Cannot have number of splits n_splits=3 greater than the number of samples: n_samples=0.\n",
      "Fitting 3 folds for each of 5 candidates, totalling 15 fits\n"
     ]
    },
    {
     "name": "stderr",
     "output_type": "stream",
     "text": [
      " 27%|████████                      | 524/1936 [48:20<2:14:57,  5.73s/it]"
     ]
    },
    {
     "name": "stdout",
     "output_type": "stream",
     "text": [
      "Fitting 3 folds for each of 5 candidates, totalling 15 fits\n"
     ]
    },
    {
     "name": "stderr",
     "output_type": "stream",
     "text": [
      " 27%|████████▏                     | 525/1936 [48:31<2:37:34,  6.70s/it]"
     ]
    },
    {
     "name": "stdout",
     "output_type": "stream",
     "text": [
      "Fitting 3 folds for each of 5 candidates, totalling 15 fits\n",
      "Cannot have number of splits n_splits=3 greater than the number of samples: n_samples=0.\n",
      "Fitting 3 folds for each of 5 candidates, totalling 15 fits\n",
      "Cannot have number of splits n_splits=3 greater than the number of samples: n_samples=0.\n",
      "Fitting 3 folds for each of 5 candidates, totalling 15 fits\n",
      "Cannot have number of splits n_splits=3 greater than the number of samples: n_samples=0.\n",
      "Fitting 3 folds for each of 5 candidates, totalling 15 fits\n"
     ]
    },
    {
     "name": "stderr",
     "output_type": "stream",
     "text": [
      " 27%|████████▏                     | 529/1936 [48:42<1:50:27,  4.71s/it]"
     ]
    },
    {
     "name": "stdout",
     "output_type": "stream",
     "text": [
      "Fitting 3 folds for each of 5 candidates, totalling 15 fits\n"
     ]
    },
    {
     "name": "stderr",
     "output_type": "stream",
     "text": [
      " 27%|████████▏                     | 530/1936 [48:53<2:12:35,  5.66s/it]"
     ]
    },
    {
     "name": "stdout",
     "output_type": "stream",
     "text": [
      "Fitting 3 folds for each of 5 candidates, totalling 15 fits\n",
      "Cannot have number of splits n_splits=3 greater than the number of samples: n_samples=0.\n",
      "Fitting 3 folds for each of 5 candidates, totalling 15 fits\n"
     ]
    },
    {
     "name": "stderr",
     "output_type": "stream",
     "text": [
      " 27%|████████▏                     | 532/1936 [49:05<2:15:08,  5.78s/it]"
     ]
    },
    {
     "name": "stdout",
     "output_type": "stream",
     "text": [
      "Fitting 3 folds for each of 5 candidates, totalling 15 fits\n"
     ]
    },
    {
     "name": "stderr",
     "output_type": "stream",
     "text": [
      " 28%|████████▎                     | 533/1936 [49:16<2:35:28,  6.65s/it]"
     ]
    },
    {
     "name": "stdout",
     "output_type": "stream",
     "text": [
      "Fitting 3 folds for each of 5 candidates, totalling 15 fits\n",
      "Cannot have number of splits n_splits=3 greater than the number of samples: n_samples=0.\n",
      "Fitting 3 folds for each of 5 candidates, totalling 15 fits\n",
      "Cannot have number of splits n_splits=3 greater than the number of samples: n_samples=0.\n",
      "Fitting 3 folds for each of 5 candidates, totalling 15 fits\n",
      "Cannot have number of splits n_splits=3 greater than the number of samples: n_samples=0.\n",
      "Fitting 3 folds for each of 5 candidates, totalling 15 fits\n"
     ]
    },
    {
     "name": "stderr",
     "output_type": "stream",
     "text": [
      " 28%|████████▎                     | 537/1936 [49:26<1:46:04,  4.55s/it]"
     ]
    },
    {
     "name": "stdout",
     "output_type": "stream",
     "text": [
      "Fitting 3 folds for each of 5 candidates, totalling 15 fits\n"
     ]
    },
    {
     "name": "stderr",
     "output_type": "stream",
     "text": [
      " 28%|████████▎                     | 538/1936 [49:36<2:05:19,  5.38s/it]"
     ]
    },
    {
     "name": "stdout",
     "output_type": "stream",
     "text": [
      "Fitting 3 folds for each of 5 candidates, totalling 15 fits\n",
      "Cannot have number of splits n_splits=3 greater than the number of samples: n_samples=0.\n",
      "Fitting 3 folds for each of 5 candidates, totalling 15 fits\n"
     ]
    },
    {
     "name": "stderr",
     "output_type": "stream",
     "text": [
      " 28%|████████▎                     | 540/1936 [49:45<2:01:41,  5.23s/it]"
     ]
    },
    {
     "name": "stdout",
     "output_type": "stream",
     "text": [
      "Fitting 3 folds for each of 5 candidates, totalling 15 fits\n"
     ]
    },
    {
     "name": "stderr",
     "output_type": "stream",
     "text": [
      " 28%|████████▍                     | 541/1936 [49:56<2:22:49,  6.14s/it]"
     ]
    },
    {
     "name": "stdout",
     "output_type": "stream",
     "text": [
      "Fitting 3 folds for each of 5 candidates, totalling 15 fits\n",
      "Cannot have number of splits n_splits=3 greater than the number of samples: n_samples=0.\n",
      "Fitting 3 folds for each of 5 candidates, totalling 15 fits\n",
      "Cannot have number of splits n_splits=3 greater than the number of samples: n_samples=0.\n",
      "Fitting 3 folds for each of 5 candidates, totalling 15 fits\n",
      "Cannot have number of splits n_splits=3 greater than the number of samples: n_samples=0.\n",
      "Fitting 3 folds for each of 5 candidates, totalling 15 fits\n"
     ]
    },
    {
     "name": "stderr",
     "output_type": "stream",
     "text": [
      " 28%|████████▍                     | 545/1936 [50:03<1:32:54,  4.01s/it]"
     ]
    },
    {
     "name": "stdout",
     "output_type": "stream",
     "text": [
      "Fitting 3 folds for each of 5 candidates, totalling 15 fits\n"
     ]
    },
    {
     "name": "stderr",
     "output_type": "stream",
     "text": [
      " 28%|████████▍                     | 546/1936 [50:11<1:45:06,  4.54s/it]"
     ]
    },
    {
     "name": "stdout",
     "output_type": "stream",
     "text": [
      "Fitting 3 folds for each of 5 candidates, totalling 15 fits\n",
      "Cannot have number of splits n_splits=3 greater than the number of samples: n_samples=0.\n",
      "Fitting 3 folds for each of 5 candidates, totalling 15 fits\n"
     ]
    },
    {
     "name": "stderr",
     "output_type": "stream",
     "text": [
      " 28%|████████▍                     | 548/1936 [50:18<1:39:01,  4.28s/it]"
     ]
    },
    {
     "name": "stdout",
     "output_type": "stream",
     "text": [
      "Fitting 3 folds for each of 5 candidates, totalling 15 fits\n"
     ]
    },
    {
     "name": "stderr",
     "output_type": "stream",
     "text": [
      " 28%|████████▌                     | 549/1936 [50:26<1:53:16,  4.90s/it]"
     ]
    },
    {
     "name": "stdout",
     "output_type": "stream",
     "text": [
      "Fitting 3 folds for each of 5 candidates, totalling 15 fits\n",
      "Cannot have number of splits n_splits=3 greater than the number of samples: n_samples=0.\n",
      "Fitting 3 folds for each of 5 candidates, totalling 15 fits\n",
      "Cannot have number of splits n_splits=3 greater than the number of samples: n_samples=0.\n",
      "Fitting 3 folds for each of 5 candidates, totalling 15 fits\n",
      "Cannot have number of splits n_splits=3 greater than the number of samples: n_samples=0.\n",
      "Fitting 3 folds for each of 5 candidates, totalling 15 fits\n"
     ]
    },
    {
     "name": "stderr",
     "output_type": "stream",
     "text": [
      " 29%|████████▌                     | 553/1936 [50:38<1:30:41,  3.93s/it]"
     ]
    },
    {
     "name": "stdout",
     "output_type": "stream",
     "text": [
      "Fitting 3 folds for each of 5 candidates, totalling 15 fits\n"
     ]
    },
    {
     "name": "stderr",
     "output_type": "stream",
     "text": [
      " 29%|████████▌                     | 554/1936 [50:51<2:01:21,  5.27s/it]"
     ]
    },
    {
     "name": "stdout",
     "output_type": "stream",
     "text": [
      "Fitting 3 folds for each of 5 candidates, totalling 15 fits\n",
      "Cannot have number of splits n_splits=3 greater than the number of samples: n_samples=0.\n",
      "Fitting 3 folds for each of 5 candidates, totalling 15 fits\n"
     ]
    },
    {
     "name": "stderr",
     "output_type": "stream",
     "text": [
      " 29%|████████▌                     | 556/1936 [51:03<2:06:30,  5.50s/it]"
     ]
    },
    {
     "name": "stdout",
     "output_type": "stream",
     "text": [
      "Fitting 3 folds for each of 5 candidates, totalling 15 fits\n"
     ]
    },
    {
     "name": "stderr",
     "output_type": "stream",
     "text": [
      " 29%|████████▋                     | 557/1936 [51:14<2:29:38,  6.51s/it]"
     ]
    },
    {
     "name": "stdout",
     "output_type": "stream",
     "text": [
      "Fitting 3 folds for each of 5 candidates, totalling 15 fits\n",
      "Cannot have number of splits n_splits=3 greater than the number of samples: n_samples=0.\n",
      "Fitting 3 folds for each of 5 candidates, totalling 15 fits\n",
      "Cannot have number of splits n_splits=3 greater than the number of samples: n_samples=0.\n",
      "Fitting 3 folds for each of 5 candidates, totalling 15 fits\n",
      "Cannot have number of splits n_splits=3 greater than the number of samples: n_samples=0.\n",
      "Fitting 3 folds for each of 5 candidates, totalling 15 fits\n"
     ]
    },
    {
     "name": "stderr",
     "output_type": "stream",
     "text": [
      " 29%|████████▋                     | 561/1936 [51:25<1:47:20,  4.68s/it]"
     ]
    },
    {
     "name": "stdout",
     "output_type": "stream",
     "text": [
      "Fitting 3 folds for each of 5 candidates, totalling 15 fits\n"
     ]
    },
    {
     "name": "stderr",
     "output_type": "stream",
     "text": [
      " 29%|████████▋                     | 562/1936 [51:36<2:09:42,  5.66s/it]"
     ]
    },
    {
     "name": "stdout",
     "output_type": "stream",
     "text": [
      "Fitting 3 folds for each of 5 candidates, totalling 15 fits\n",
      "Cannot have number of splits n_splits=3 greater than the number of samples: n_samples=0.\n",
      "Fitting 3 folds for each of 5 candidates, totalling 15 fits\n"
     ]
    },
    {
     "name": "stderr",
     "output_type": "stream",
     "text": [
      " 29%|████████▋                     | 564/1936 [51:48<2:09:00,  5.64s/it]"
     ]
    },
    {
     "name": "stdout",
     "output_type": "stream",
     "text": [
      "Fitting 3 folds for each of 5 candidates, totalling 15 fits\n"
     ]
    },
    {
     "name": "stderr",
     "output_type": "stream",
     "text": [
      " 29%|████████▊                     | 565/1936 [51:59<2:31:50,  6.65s/it]"
     ]
    },
    {
     "name": "stdout",
     "output_type": "stream",
     "text": [
      "Fitting 3 folds for each of 5 candidates, totalling 15 fits\n",
      "Cannot have number of splits n_splits=3 greater than the number of samples: n_samples=0.\n",
      "Fitting 3 folds for each of 5 candidates, totalling 15 fits\n",
      "Cannot have number of splits n_splits=3 greater than the number of samples: n_samples=0.\n",
      "Fitting 3 folds for each of 5 candidates, totalling 15 fits\n",
      "Cannot have number of splits n_splits=3 greater than the number of samples: n_samples=0.\n",
      "Fitting 3 folds for each of 5 candidates, totalling 15 fits\n"
     ]
    },
    {
     "name": "stderr",
     "output_type": "stream",
     "text": [
      " 29%|████████▊                     | 569/1936 [52:09<1:43:52,  4.56s/it]"
     ]
    },
    {
     "name": "stdout",
     "output_type": "stream",
     "text": [
      "Fitting 3 folds for each of 5 candidates, totalling 15 fits\n"
     ]
    },
    {
     "name": "stderr",
     "output_type": "stream",
     "text": [
      " 29%|████████▊                     | 570/1936 [52:19<2:02:18,  5.37s/it]"
     ]
    },
    {
     "name": "stdout",
     "output_type": "stream",
     "text": [
      "Fitting 3 folds for each of 5 candidates, totalling 15 fits\n",
      "Cannot have number of splits n_splits=3 greater than the number of samples: n_samples=0.\n",
      "Fitting 3 folds for each of 5 candidates, totalling 15 fits\n"
     ]
    },
    {
     "name": "stderr",
     "output_type": "stream",
     "text": [
      " 30%|████████▊                     | 572/1936 [52:29<1:58:51,  5.23s/it]"
     ]
    },
    {
     "name": "stdout",
     "output_type": "stream",
     "text": [
      "Fitting 3 folds for each of 5 candidates, totalling 15 fits\n"
     ]
    },
    {
     "name": "stderr",
     "output_type": "stream",
     "text": [
      " 30%|████████▉                     | 573/1936 [52:38<2:17:09,  6.04s/it]"
     ]
    },
    {
     "name": "stdout",
     "output_type": "stream",
     "text": [
      "Fitting 3 folds for each of 5 candidates, totalling 15 fits\n",
      "Cannot have number of splits n_splits=3 greater than the number of samples: n_samples=0.\n",
      "Fitting 3 folds for each of 5 candidates, totalling 15 fits\n",
      "Cannot have number of splits n_splits=3 greater than the number of samples: n_samples=0.\n",
      "Fitting 3 folds for each of 5 candidates, totalling 15 fits\n",
      "Cannot have number of splits n_splits=3 greater than the number of samples: n_samples=0.\n",
      "Fitting 3 folds for each of 5 candidates, totalling 15 fits\n"
     ]
    },
    {
     "name": "stderr",
     "output_type": "stream",
     "text": [
      " 30%|████████▉                     | 577/1936 [52:49<1:39:01,  4.37s/it]"
     ]
    },
    {
     "name": "stdout",
     "output_type": "stream",
     "text": [
      "Fitting 3 folds for each of 5 candidates, totalling 15 fits\n"
     ]
    },
    {
     "name": "stderr",
     "output_type": "stream",
     "text": [
      " 30%|████████▉                     | 578/1936 [53:00<2:02:02,  5.39s/it]"
     ]
    },
    {
     "name": "stdout",
     "output_type": "stream",
     "text": [
      "Fitting 3 folds for each of 5 candidates, totalling 15 fits\n",
      "Cannot have number of splits n_splits=3 greater than the number of samples: n_samples=0.\n",
      "Fitting 3 folds for each of 5 candidates, totalling 15 fits\n"
     ]
    },
    {
     "name": "stderr",
     "output_type": "stream",
     "text": [
      " 30%|████████▉                     | 580/1936 [53:11<2:01:30,  5.38s/it]"
     ]
    },
    {
     "name": "stdout",
     "output_type": "stream",
     "text": [
      "Fitting 3 folds for each of 5 candidates, totalling 15 fits\n"
     ]
    },
    {
     "name": "stderr",
     "output_type": "stream",
     "text": [
      " 30%|█████████                     | 581/1936 [53:21<2:21:37,  6.27s/it]"
     ]
    },
    {
     "name": "stdout",
     "output_type": "stream",
     "text": [
      "Fitting 3 folds for each of 5 candidates, totalling 15 fits\n",
      "Cannot have number of splits n_splits=3 greater than the number of samples: n_samples=0.\n",
      "Fitting 3 folds for each of 5 candidates, totalling 15 fits\n",
      "Cannot have number of splits n_splits=3 greater than the number of samples: n_samples=0.\n",
      "Fitting 3 folds for each of 5 candidates, totalling 15 fits\n",
      "Cannot have number of splits n_splits=3 greater than the number of samples: n_samples=0.\n",
      "Fitting 3 folds for each of 5 candidates, totalling 15 fits\n"
     ]
    },
    {
     "name": "stderr",
     "output_type": "stream",
     "text": [
      " 30%|█████████                     | 585/1936 [53:32<1:40:36,  4.47s/it]"
     ]
    },
    {
     "name": "stdout",
     "output_type": "stream",
     "text": [
      "Fitting 3 folds for each of 5 candidates, totalling 15 fits\n"
     ]
    },
    {
     "name": "stderr",
     "output_type": "stream",
     "text": [
      " 30%|█████████                     | 586/1936 [53:43<2:02:07,  5.43s/it]"
     ]
    },
    {
     "name": "stdout",
     "output_type": "stream",
     "text": [
      "Fitting 3 folds for each of 5 candidates, totalling 15 fits\n",
      "Cannot have number of splits n_splits=3 greater than the number of samples: n_samples=0.\n",
      "Fitting 3 folds for each of 5 candidates, totalling 15 fits\n"
     ]
    },
    {
     "name": "stderr",
     "output_type": "stream",
     "text": [
      " 30%|█████████                     | 588/1936 [53:54<2:03:02,  5.48s/it]"
     ]
    },
    {
     "name": "stdout",
     "output_type": "stream",
     "text": [
      "Fitting 3 folds for each of 5 candidates, totalling 15 fits\n"
     ]
    },
    {
     "name": "stderr",
     "output_type": "stream",
     "text": [
      " 30%|█████████▏                    | 589/1936 [54:05<2:25:42,  6.49s/it]"
     ]
    },
    {
     "name": "stdout",
     "output_type": "stream",
     "text": [
      "Fitting 3 folds for each of 5 candidates, totalling 15 fits\n",
      "Cannot have number of splits n_splits=3 greater than the number of samples: n_samples=0.\n",
      "Fitting 3 folds for each of 5 candidates, totalling 15 fits\n",
      "Cannot have number of splits n_splits=3 greater than the number of samples: n_samples=0.\n",
      "Fitting 3 folds for each of 5 candidates, totalling 15 fits\n",
      "Cannot have number of splits n_splits=3 greater than the number of samples: n_samples=0.\n",
      "Fitting 3 folds for each of 5 candidates, totalling 15 fits\n"
     ]
    },
    {
     "name": "stderr",
     "output_type": "stream",
     "text": [
      " 31%|█████████▏                    | 593/1936 [54:14<1:36:50,  4.33s/it]"
     ]
    },
    {
     "name": "stdout",
     "output_type": "stream",
     "text": [
      "Fitting 3 folds for each of 5 candidates, totalling 15 fits\n"
     ]
    },
    {
     "name": "stderr",
     "output_type": "stream",
     "text": [
      " 31%|█████████▏                    | 594/1936 [54:23<1:51:03,  4.97s/it]"
     ]
    },
    {
     "name": "stdout",
     "output_type": "stream",
     "text": [
      "Fitting 3 folds for each of 5 candidates, totalling 15 fits\n",
      "Cannot have number of splits n_splits=3 greater than the number of samples: n_samples=0.\n",
      "Fitting 3 folds for each of 5 candidates, totalling 15 fits\n"
     ]
    },
    {
     "name": "stderr",
     "output_type": "stream",
     "text": [
      " 31%|█████████▏                    | 596/1936 [54:31<1:46:26,  4.77s/it]"
     ]
    },
    {
     "name": "stdout",
     "output_type": "stream",
     "text": [
      "Fitting 3 folds for each of 5 candidates, totalling 15 fits\n"
     ]
    },
    {
     "name": "stderr",
     "output_type": "stream",
     "text": [
      " 31%|█████████▎                    | 597/1936 [54:40<2:01:28,  5.44s/it]"
     ]
    },
    {
     "name": "stdout",
     "output_type": "stream",
     "text": [
      "Fitting 3 folds for each of 5 candidates, totalling 15 fits\n",
      "Cannot have number of splits n_splits=3 greater than the number of samples: n_samples=0.\n",
      "Fitting 3 folds for each of 5 candidates, totalling 15 fits\n",
      "Cannot have number of splits n_splits=3 greater than the number of samples: n_samples=0.\n",
      "Fitting 3 folds for each of 5 candidates, totalling 15 fits\n",
      "Cannot have number of splits n_splits=3 greater than the number of samples: n_samples=0.\n",
      "Fitting 3 folds for each of 5 candidates, totalling 15 fits\n"
     ]
    },
    {
     "name": "stderr",
     "output_type": "stream",
     "text": [
      " 31%|█████████▎                    | 601/1936 [54:51<1:30:57,  4.09s/it]"
     ]
    },
    {
     "name": "stdout",
     "output_type": "stream",
     "text": [
      "Fitting 3 folds for each of 5 candidates, totalling 15 fits\n"
     ]
    },
    {
     "name": "stderr",
     "output_type": "stream",
     "text": [
      " 31%|█████████▎                    | 602/1936 [55:02<1:54:58,  5.17s/it]"
     ]
    },
    {
     "name": "stdout",
     "output_type": "stream",
     "text": [
      "Fitting 3 folds for each of 5 candidates, totalling 15 fits\n",
      "Cannot have number of splits n_splits=3 greater than the number of samples: n_samples=0.\n",
      "Fitting 3 folds for each of 5 candidates, totalling 15 fits\n"
     ]
    },
    {
     "name": "stderr",
     "output_type": "stream",
     "text": [
      " 31%|█████████▎                    | 604/1936 [55:13<1:56:37,  5.25s/it]"
     ]
    },
    {
     "name": "stdout",
     "output_type": "stream",
     "text": [
      "Fitting 3 folds for each of 5 candidates, totalling 15 fits\n"
     ]
    },
    {
     "name": "stderr",
     "output_type": "stream",
     "text": [
      " 31%|█████████▍                    | 605/1936 [55:24<2:17:45,  6.21s/it]"
     ]
    },
    {
     "name": "stdout",
     "output_type": "stream",
     "text": [
      "Fitting 3 folds for each of 5 candidates, totalling 15 fits\n",
      "Cannot have number of splits n_splits=3 greater than the number of samples: n_samples=0.\n",
      "Fitting 3 folds for each of 5 candidates, totalling 15 fits\n",
      "Cannot have number of splits n_splits=3 greater than the number of samples: n_samples=0.\n",
      "Fitting 3 folds for each of 5 candidates, totalling 15 fits\n",
      "Cannot have number of splits n_splits=3 greater than the number of samples: n_samples=0.\n",
      "Fitting 3 folds for each of 5 candidates, totalling 15 fits\n"
     ]
    },
    {
     "name": "stderr",
     "output_type": "stream",
     "text": [
      " 31%|█████████▍                    | 609/1936 [55:34<1:37:23,  4.40s/it]"
     ]
    },
    {
     "name": "stdout",
     "output_type": "stream",
     "text": [
      "Fitting 3 folds for each of 5 candidates, totalling 15 fits\n"
     ]
    },
    {
     "name": "stderr",
     "output_type": "stream",
     "text": [
      " 32%|█████████▍                    | 610/1936 [55:45<1:57:46,  5.33s/it]"
     ]
    },
    {
     "name": "stdout",
     "output_type": "stream",
     "text": [
      "Fitting 3 folds for each of 5 candidates, totalling 15 fits\n",
      "Cannot have number of splits n_splits=3 greater than the number of samples: n_samples=0.\n",
      "Fitting 3 folds for each of 5 candidates, totalling 15 fits\n"
     ]
    },
    {
     "name": "stderr",
     "output_type": "stream",
     "text": [
      " 32%|█████████▍                    | 612/1936 [55:56<1:59:22,  5.41s/it]"
     ]
    },
    {
     "name": "stdout",
     "output_type": "stream",
     "text": [
      "Fitting 3 folds for each of 5 candidates, totalling 15 fits\n"
     ]
    },
    {
     "name": "stderr",
     "output_type": "stream",
     "text": [
      " 32%|█████████▍                    | 613/1936 [56:07<2:21:05,  6.40s/it]"
     ]
    },
    {
     "name": "stdout",
     "output_type": "stream",
     "text": [
      "Fitting 3 folds for each of 5 candidates, totalling 15 fits\n",
      "Cannot have number of splits n_splits=3 greater than the number of samples: n_samples=0.\n",
      "Fitting 3 folds for each of 5 candidates, totalling 15 fits\n",
      "Cannot have number of splits n_splits=3 greater than the number of samples: n_samples=0.\n",
      "Fitting 3 folds for each of 5 candidates, totalling 15 fits\n",
      "Cannot have number of splits n_splits=3 greater than the number of samples: n_samples=0.\n",
      "Fitting 3 folds for each of 5 candidates, totalling 15 fits\n"
     ]
    },
    {
     "name": "stderr",
     "output_type": "stream",
     "text": [
      " 32%|█████████▌                    | 617/1936 [56:17<1:39:14,  4.51s/it]"
     ]
    },
    {
     "name": "stdout",
     "output_type": "stream",
     "text": [
      "Fitting 3 folds for each of 5 candidates, totalling 15 fits\n"
     ]
    },
    {
     "name": "stderr",
     "output_type": "stream",
     "text": [
      " 32%|█████████▌                    | 618/1936 [56:28<1:59:27,  5.44s/it]"
     ]
    },
    {
     "name": "stdout",
     "output_type": "stream",
     "text": [
      "Fitting 3 folds for each of 5 candidates, totalling 15 fits\n",
      "Cannot have number of splits n_splits=3 greater than the number of samples: n_samples=0.\n",
      "Fitting 3 folds for each of 5 candidates, totalling 15 fits\n"
     ]
    },
    {
     "name": "stderr",
     "output_type": "stream",
     "text": [
      " 32%|█████████▌                    | 620/1936 [56:39<1:58:39,  5.41s/it]"
     ]
    },
    {
     "name": "stdout",
     "output_type": "stream",
     "text": [
      "Fitting 3 folds for each of 5 candidates, totalling 15 fits\n"
     ]
    },
    {
     "name": "stderr",
     "output_type": "stream",
     "text": [
      " 32%|█████████▌                    | 621/1936 [56:50<2:21:47,  6.47s/it]"
     ]
    },
    {
     "name": "stdout",
     "output_type": "stream",
     "text": [
      "Fitting 3 folds for each of 5 candidates, totalling 15 fits\n",
      "Cannot have number of splits n_splits=3 greater than the number of samples: n_samples=0.\n",
      "Fitting 3 folds for each of 5 candidates, totalling 15 fits\n",
      "Cannot have number of splits n_splits=3 greater than the number of samples: n_samples=0.\n",
      "Fitting 3 folds for each of 5 candidates, totalling 15 fits\n",
      "Cannot have number of splits n_splits=3 greater than the number of samples: n_samples=0.\n",
      "Fitting 3 folds for each of 5 candidates, totalling 15 fits\n"
     ]
    },
    {
     "name": "stderr",
     "output_type": "stream",
     "text": [
      " 32%|█████████▋                    | 625/1936 [57:01<1:41:00,  4.62s/it]"
     ]
    },
    {
     "name": "stdout",
     "output_type": "stream",
     "text": [
      "Fitting 3 folds for each of 5 candidates, totalling 15 fits\n"
     ]
    },
    {
     "name": "stderr",
     "output_type": "stream",
     "text": [
      " 32%|█████████▋                    | 626/1936 [57:12<2:02:41,  5.62s/it]"
     ]
    },
    {
     "name": "stdout",
     "output_type": "stream",
     "text": [
      "Fitting 3 folds for each of 5 candidates, totalling 15 fits\n",
      "Cannot have number of splits n_splits=3 greater than the number of samples: n_samples=0.\n",
      "Fitting 3 folds for each of 5 candidates, totalling 15 fits\n"
     ]
    },
    {
     "name": "stderr",
     "output_type": "stream",
     "text": [
      " 32%|█████████▋                    | 628/1936 [57:23<2:00:29,  5.53s/it]"
     ]
    },
    {
     "name": "stdout",
     "output_type": "stream",
     "text": [
      "Fitting 3 folds for each of 5 candidates, totalling 15 fits\n"
     ]
    },
    {
     "name": "stderr",
     "output_type": "stream",
     "text": [
      " 32%|█████████▋                    | 629/1936 [57:34<2:20:23,  6.45s/it]"
     ]
    },
    {
     "name": "stdout",
     "output_type": "stream",
     "text": [
      "Fitting 3 folds for each of 5 candidates, totalling 15 fits\n",
      "Cannot have number of splits n_splits=3 greater than the number of samples: n_samples=0.\n",
      "Fitting 3 folds for each of 5 candidates, totalling 15 fits\n",
      "Cannot have number of splits n_splits=3 greater than the number of samples: n_samples=0.\n",
      "Fitting 3 folds for each of 5 candidates, totalling 15 fits\n",
      "Cannot have number of splits n_splits=3 greater than the number of samples: n_samples=0.\n",
      "Fitting 3 folds for each of 5 candidates, totalling 15 fits\n"
     ]
    },
    {
     "name": "stderr",
     "output_type": "stream",
     "text": [
      " 33%|█████████▊                    | 633/1936 [57:45<1:39:30,  4.58s/it]"
     ]
    },
    {
     "name": "stdout",
     "output_type": "stream",
     "text": [
      "Fitting 3 folds for each of 5 candidates, totalling 15 fits\n"
     ]
    },
    {
     "name": "stderr",
     "output_type": "stream",
     "text": [
      " 33%|█████████▊                    | 634/1936 [57:56<2:01:42,  5.61s/it]"
     ]
    },
    {
     "name": "stdout",
     "output_type": "stream",
     "text": [
      "Fitting 3 folds for each of 5 candidates, totalling 15 fits\n",
      "Cannot have number of splits n_splits=3 greater than the number of samples: n_samples=0.\n",
      "Fitting 3 folds for each of 5 candidates, totalling 15 fits\n"
     ]
    },
    {
     "name": "stderr",
     "output_type": "stream",
     "text": [
      " 33%|█████████▊                    | 636/1936 [58:07<2:00:36,  5.57s/it]"
     ]
    },
    {
     "name": "stdout",
     "output_type": "stream",
     "text": [
      "Fitting 3 folds for each of 5 candidates, totalling 15 fits\n"
     ]
    },
    {
     "name": "stderr",
     "output_type": "stream",
     "text": [
      " 33%|█████████▊                    | 637/1936 [58:18<2:21:46,  6.55s/it]"
     ]
    },
    {
     "name": "stdout",
     "output_type": "stream",
     "text": [
      "Fitting 3 folds for each of 5 candidates, totalling 15 fits\n",
      "Cannot have number of splits n_splits=3 greater than the number of samples: n_samples=0.\n",
      "Fitting 3 folds for each of 5 candidates, totalling 15 fits\n",
      "Cannot have number of splits n_splits=3 greater than the number of samples: n_samples=0.\n",
      "Fitting 3 folds for each of 5 candidates, totalling 15 fits\n",
      "Cannot have number of splits n_splits=3 greater than the number of samples: n_samples=0.\n",
      "Fitting 3 folds for each of 5 candidates, totalling 15 fits\n"
     ]
    },
    {
     "name": "stderr",
     "output_type": "stream",
     "text": [
      " 33%|█████████▉                    | 641/1936 [58:29<1:39:36,  4.62s/it]"
     ]
    },
    {
     "name": "stdout",
     "output_type": "stream",
     "text": [
      "Fitting 3 folds for each of 5 candidates, totalling 15 fits\n"
     ]
    },
    {
     "name": "stderr",
     "output_type": "stream",
     "text": [
      " 33%|█████████▉                    | 642/1936 [58:40<2:01:02,  5.61s/it]"
     ]
    },
    {
     "name": "stdout",
     "output_type": "stream",
     "text": [
      "Fitting 3 folds for each of 5 candidates, totalling 15 fits\n",
      "Cannot have number of splits n_splits=3 greater than the number of samples: n_samples=0.\n",
      "Fitting 3 folds for each of 5 candidates, totalling 15 fits\n"
     ]
    },
    {
     "name": "stderr",
     "output_type": "stream",
     "text": [
      " 33%|█████████▉                    | 644/1936 [58:52<2:04:19,  5.77s/it]"
     ]
    },
    {
     "name": "stdout",
     "output_type": "stream",
     "text": [
      "Fitting 3 folds for each of 5 candidates, totalling 15 fits\n"
     ]
    },
    {
     "name": "stderr",
     "output_type": "stream",
     "text": [
      " 33%|█████████▉                    | 645/1936 [59:04<2:28:48,  6.92s/it]"
     ]
    },
    {
     "name": "stdout",
     "output_type": "stream",
     "text": [
      "Fitting 3 folds for each of 5 candidates, totalling 15 fits\n",
      "Cannot have number of splits n_splits=3 greater than the number of samples: n_samples=0.\n",
      "Fitting 3 folds for each of 5 candidates, totalling 15 fits\n",
      "Cannot have number of splits n_splits=3 greater than the number of samples: n_samples=0.\n",
      "Fitting 3 folds for each of 5 candidates, totalling 15 fits\n",
      "Cannot have number of splits n_splits=3 greater than the number of samples: n_samples=0.\n",
      "Fitting 3 folds for each of 5 candidates, totalling 15 fits\n"
     ]
    },
    {
     "name": "stderr",
     "output_type": "stream",
     "text": [
      " 34%|██████████                    | 649/1936 [59:16<1:45:07,  4.90s/it]"
     ]
    },
    {
     "name": "stdout",
     "output_type": "stream",
     "text": [
      "Fitting 3 folds for each of 5 candidates, totalling 15 fits\n"
     ]
    },
    {
     "name": "stderr",
     "output_type": "stream",
     "text": [
      " 34%|██████████                    | 650/1936 [59:28<2:08:14,  5.98s/it]"
     ]
    },
    {
     "name": "stdout",
     "output_type": "stream",
     "text": [
      "Fitting 3 folds for each of 5 candidates, totalling 15 fits\n",
      "Cannot have number of splits n_splits=3 greater than the number of samples: n_samples=0.\n",
      "Fitting 3 folds for each of 5 candidates, totalling 15 fits\n"
     ]
    },
    {
     "name": "stderr",
     "output_type": "stream",
     "text": [
      " 34%|██████████                    | 652/1936 [59:39<2:05:57,  5.89s/it]"
     ]
    },
    {
     "name": "stdout",
     "output_type": "stream",
     "text": [
      "Fitting 3 folds for each of 5 candidates, totalling 15 fits\n"
     ]
    },
    {
     "name": "stderr",
     "output_type": "stream",
     "text": [
      " 34%|██████████                    | 653/1936 [59:51<2:26:54,  6.87s/it]"
     ]
    },
    {
     "name": "stdout",
     "output_type": "stream",
     "text": [
      "Fitting 3 folds for each of 5 candidates, totalling 15 fits\n",
      "Cannot have number of splits n_splits=3 greater than the number of samples: n_samples=0.\n",
      "Fitting 3 folds for each of 5 candidates, totalling 15 fits\n",
      "Cannot have number of splits n_splits=3 greater than the number of samples: n_samples=0.\n",
      "Fitting 3 folds for each of 5 candidates, totalling 15 fits\n",
      "Cannot have number of splits n_splits=3 greater than the number of samples: n_samples=0.\n",
      "Fitting 3 folds for each of 5 candidates, totalling 15 fits\n"
     ]
    },
    {
     "name": "stderr",
     "output_type": "stream",
     "text": [
      " 34%|██████████▏                   | 657/1936 [1:00:02<1:43:32,  4.86s/it]"
     ]
    },
    {
     "name": "stdout",
     "output_type": "stream",
     "text": [
      "Fitting 3 folds for each of 5 candidates, totalling 15 fits\n"
     ]
    },
    {
     "name": "stderr",
     "output_type": "stream",
     "text": [
      " 34%|██████████▏                   | 658/1936 [1:00:13<2:03:21,  5.79s/it]"
     ]
    },
    {
     "name": "stdout",
     "output_type": "stream",
     "text": [
      "Fitting 3 folds for each of 5 candidates, totalling 15 fits\n",
      "Cannot have number of splits n_splits=3 greater than the number of samples: n_samples=0.\n",
      "Fitting 3 folds for each of 5 candidates, totalling 15 fits\n"
     ]
    },
    {
     "name": "stderr",
     "output_type": "stream",
     "text": [
      " 34%|██████████▏                   | 660/1936 [1:00:26<2:06:46,  5.96s/it]"
     ]
    },
    {
     "name": "stdout",
     "output_type": "stream",
     "text": [
      "Fitting 3 folds for each of 5 candidates, totalling 15 fits\n"
     ]
    },
    {
     "name": "stderr",
     "output_type": "stream",
     "text": [
      " 34%|██████████▏                   | 661/1936 [1:00:38<2:29:29,  7.03s/it]"
     ]
    },
    {
     "name": "stdout",
     "output_type": "stream",
     "text": [
      "Fitting 3 folds for each of 5 candidates, totalling 15 fits\n",
      "Cannot have number of splits n_splits=3 greater than the number of samples: n_samples=0.\n",
      "Fitting 3 folds for each of 5 candidates, totalling 15 fits\n",
      "Cannot have number of splits n_splits=3 greater than the number of samples: n_samples=0.\n",
      "Fitting 3 folds for each of 5 candidates, totalling 15 fits\n",
      "Cannot have number of splits n_splits=3 greater than the number of samples: n_samples=0.\n",
      "Fitting 3 folds for each of 5 candidates, totalling 15 fits\n"
     ]
    },
    {
     "name": "stderr",
     "output_type": "stream",
     "text": [
      " 34%|██████████▎                   | 665/1936 [1:00:50<1:44:24,  4.93s/it]"
     ]
    },
    {
     "name": "stdout",
     "output_type": "stream",
     "text": [
      "Fitting 3 folds for each of 5 candidates, totalling 15 fits\n"
     ]
    },
    {
     "name": "stderr",
     "output_type": "stream",
     "text": [
      " 34%|██████████▎                   | 666/1936 [1:01:03<2:11:17,  6.20s/it]"
     ]
    },
    {
     "name": "stdout",
     "output_type": "stream",
     "text": [
      "Fitting 3 folds for each of 5 candidates, totalling 15 fits\n",
      "Cannot have number of splits n_splits=3 greater than the number of samples: n_samples=0.\n",
      "Fitting 3 folds for each of 5 candidates, totalling 15 fits\n"
     ]
    },
    {
     "name": "stderr",
     "output_type": "stream",
     "text": [
      " 35%|██████████▎                   | 668/1936 [1:01:14<2:08:49,  6.10s/it]"
     ]
    },
    {
     "name": "stdout",
     "output_type": "stream",
     "text": [
      "Fitting 3 folds for each of 5 candidates, totalling 15 fits\n"
     ]
    },
    {
     "name": "stderr",
     "output_type": "stream",
     "text": [
      " 35%|██████████▎                   | 669/1936 [1:01:26<2:29:01,  7.06s/it]"
     ]
    },
    {
     "name": "stdout",
     "output_type": "stream",
     "text": [
      "Fitting 3 folds for each of 5 candidates, totalling 15 fits\n",
      "Cannot have number of splits n_splits=3 greater than the number of samples: n_samples=0.\n",
      "Fitting 3 folds for each of 5 candidates, totalling 15 fits\n",
      "Cannot have number of splits n_splits=3 greater than the number of samples: n_samples=0.\n",
      "Fitting 3 folds for each of 5 candidates, totalling 15 fits\n",
      "Cannot have number of splits n_splits=3 greater than the number of samples: n_samples=0.\n",
      "Fitting 3 folds for each of 5 candidates, totalling 15 fits\n"
     ]
    },
    {
     "name": "stderr",
     "output_type": "stream",
     "text": [
      " 35%|██████████▍                   | 673/1936 [1:01:38<1:45:02,  4.99s/it]"
     ]
    },
    {
     "name": "stdout",
     "output_type": "stream",
     "text": [
      "Fitting 3 folds for each of 5 candidates, totalling 15 fits\n"
     ]
    },
    {
     "name": "stderr",
     "output_type": "stream",
     "text": [
      " 35%|██████████▍                   | 674/1936 [1:01:50<2:07:50,  6.08s/it]"
     ]
    },
    {
     "name": "stdout",
     "output_type": "stream",
     "text": [
      "Fitting 3 folds for each of 5 candidates, totalling 15 fits\n",
      "Cannot have number of splits n_splits=3 greater than the number of samples: n_samples=0.\n",
      "Fitting 3 folds for each of 5 candidates, totalling 15 fits\n"
     ]
    },
    {
     "name": "stderr",
     "output_type": "stream",
     "text": [
      " 35%|██████████▍                   | 676/1936 [1:02:02<2:08:25,  6.12s/it]"
     ]
    },
    {
     "name": "stdout",
     "output_type": "stream",
     "text": [
      "Fitting 3 folds for each of 5 candidates, totalling 15 fits\n"
     ]
    },
    {
     "name": "stderr",
     "output_type": "stream",
     "text": [
      " 35%|██████████▍                   | 677/1936 [1:02:14<2:27:26,  7.03s/it]"
     ]
    },
    {
     "name": "stdout",
     "output_type": "stream",
     "text": [
      "Fitting 3 folds for each of 5 candidates, totalling 15 fits\n",
      "Cannot have number of splits n_splits=3 greater than the number of samples: n_samples=0.\n",
      "Fitting 3 folds for each of 5 candidates, totalling 15 fits\n",
      "Cannot have number of splits n_splits=3 greater than the number of samples: n_samples=0.\n",
      "Fitting 3 folds for each of 5 candidates, totalling 15 fits\n",
      "Cannot have number of splits n_splits=3 greater than the number of samples: n_samples=0.\n",
      "Fitting 3 folds for each of 5 candidates, totalling 15 fits\n"
     ]
    },
    {
     "name": "stderr",
     "output_type": "stream",
     "text": [
      " 35%|██████████▌                   | 681/1936 [1:02:25<1:43:20,  4.94s/it]"
     ]
    },
    {
     "name": "stdout",
     "output_type": "stream",
     "text": [
      "Fitting 3 folds for each of 5 candidates, totalling 15 fits\n"
     ]
    },
    {
     "name": "stderr",
     "output_type": "stream",
     "text": [
      " 35%|██████████▌                   | 682/1936 [1:02:37<2:05:14,  5.99s/it]"
     ]
    },
    {
     "name": "stdout",
     "output_type": "stream",
     "text": [
      "Fitting 3 folds for each of 5 candidates, totalling 15 fits\n",
      "Cannot have number of splits n_splits=3 greater than the number of samples: n_samples=0.\n",
      "Fitting 3 folds for each of 5 candidates, totalling 15 fits\n"
     ]
    },
    {
     "name": "stderr",
     "output_type": "stream",
     "text": [
      " 35%|██████████▌                   | 684/1936 [1:02:49<2:05:56,  6.04s/it]"
     ]
    },
    {
     "name": "stdout",
     "output_type": "stream",
     "text": [
      "Fitting 3 folds for each of 5 candidates, totalling 15 fits\n"
     ]
    },
    {
     "name": "stderr",
     "output_type": "stream",
     "text": [
      " 35%|██████████▌                   | 685/1936 [1:03:01<2:26:53,  7.04s/it]"
     ]
    },
    {
     "name": "stdout",
     "output_type": "stream",
     "text": [
      "Fitting 3 folds for each of 5 candidates, totalling 15 fits\n",
      "Cannot have number of splits n_splits=3 greater than the number of samples: n_samples=0.\n",
      "Fitting 3 folds for each of 5 candidates, totalling 15 fits\n",
      "Cannot have number of splits n_splits=3 greater than the number of samples: n_samples=0.\n",
      "Fitting 3 folds for each of 5 candidates, totalling 15 fits\n",
      "Cannot have number of splits n_splits=3 greater than the number of samples: n_samples=0.\n",
      "Fitting 3 folds for each of 5 candidates, totalling 15 fits\n"
     ]
    },
    {
     "name": "stderr",
     "output_type": "stream",
     "text": [
      " 36%|██████████▋                   | 689/1936 [1:03:13<1:45:06,  5.06s/it]"
     ]
    },
    {
     "name": "stdout",
     "output_type": "stream",
     "text": [
      "Fitting 3 folds for each of 5 candidates, totalling 15 fits\n"
     ]
    },
    {
     "name": "stderr",
     "output_type": "stream",
     "text": [
      " 36%|██████████▋                   | 690/1936 [1:03:26<2:10:16,  6.27s/it]"
     ]
    },
    {
     "name": "stdout",
     "output_type": "stream",
     "text": [
      "Fitting 3 folds for each of 5 candidates, totalling 15 fits\n",
      "Cannot have number of splits n_splits=3 greater than the number of samples: n_samples=0.\n",
      "Fitting 3 folds for each of 5 candidates, totalling 15 fits\n"
     ]
    },
    {
     "name": "stderr",
     "output_type": "stream",
     "text": [
      " 36%|██████████▋                   | 692/1936 [1:03:38<2:08:07,  6.18s/it]"
     ]
    },
    {
     "name": "stdout",
     "output_type": "stream",
     "text": [
      "Fitting 3 folds for each of 5 candidates, totalling 15 fits\n"
     ]
    },
    {
     "name": "stderr",
     "output_type": "stream",
     "text": [
      " 36%|██████████▋                   | 693/1936 [1:03:50<2:28:51,  7.19s/it]"
     ]
    },
    {
     "name": "stdout",
     "output_type": "stream",
     "text": [
      "Fitting 3 folds for each of 5 candidates, totalling 15 fits\n",
      "Cannot have number of splits n_splits=3 greater than the number of samples: n_samples=0.\n",
      "Fitting 3 folds for each of 5 candidates, totalling 15 fits\n",
      "Cannot have number of splits n_splits=3 greater than the number of samples: n_samples=0.\n",
      "Fitting 3 folds for each of 5 candidates, totalling 15 fits\n",
      "Cannot have number of splits n_splits=3 greater than the number of samples: n_samples=0.\n",
      "Fitting 3 folds for each of 5 candidates, totalling 15 fits\n"
     ]
    },
    {
     "name": "stderr",
     "output_type": "stream",
     "text": [
      " 36%|██████████▊                   | 697/1936 [1:04:01<1:43:04,  4.99s/it]"
     ]
    },
    {
     "name": "stdout",
     "output_type": "stream",
     "text": [
      "Fitting 3 folds for each of 5 candidates, totalling 15 fits\n"
     ]
    },
    {
     "name": "stderr",
     "output_type": "stream",
     "text": [
      " 36%|██████████▊                   | 698/1936 [1:04:13<2:02:55,  5.96s/it]"
     ]
    },
    {
     "name": "stdout",
     "output_type": "stream",
     "text": [
      "Fitting 3 folds for each of 5 candidates, totalling 15 fits\n",
      "Cannot have number of splits n_splits=3 greater than the number of samples: n_samples=0.\n",
      "Fitting 3 folds for each of 5 candidates, totalling 15 fits\n"
     ]
    },
    {
     "name": "stderr",
     "output_type": "stream",
     "text": [
      " 36%|██████████▊                   | 700/1936 [1:04:25<2:04:18,  6.03s/it]"
     ]
    },
    {
     "name": "stdout",
     "output_type": "stream",
     "text": [
      "Fitting 3 folds for each of 5 candidates, totalling 15 fits\n"
     ]
    },
    {
     "name": "stderr",
     "output_type": "stream",
     "text": [
      " 36%|██████████▊                   | 701/1936 [1:04:37<2:27:02,  7.14s/it]"
     ]
    },
    {
     "name": "stdout",
     "output_type": "stream",
     "text": [
      "Fitting 3 folds for each of 5 candidates, totalling 15 fits\n",
      "Cannot have number of splits n_splits=3 greater than the number of samples: n_samples=0.\n",
      "Fitting 3 folds for each of 5 candidates, totalling 15 fits\n",
      "Cannot have number of splits n_splits=3 greater than the number of samples: n_samples=0.\n",
      "Fitting 3 folds for each of 5 candidates, totalling 15 fits\n",
      "Cannot have number of splits n_splits=3 greater than the number of samples: n_samples=0.\n",
      "Fitting 3 folds for each of 5 candidates, totalling 15 fits\n"
     ]
    },
    {
     "name": "stderr",
     "output_type": "stream",
     "text": [
      " 36%|██████████▉                   | 705/1936 [1:04:48<1:40:53,  4.92s/it]"
     ]
    },
    {
     "name": "stdout",
     "output_type": "stream",
     "text": [
      "Fitting 3 folds for each of 5 candidates, totalling 15 fits\n"
     ]
    },
    {
     "name": "stderr",
     "output_type": "stream",
     "text": [
      " 36%|██████████▉                   | 706/1936 [1:04:59<1:58:38,  5.79s/it]"
     ]
    },
    {
     "name": "stdout",
     "output_type": "stream",
     "text": [
      "Fitting 3 folds for each of 5 candidates, totalling 15 fits\n",
      "Cannot have number of splits n_splits=3 greater than the number of samples: n_samples=0.\n",
      "Fitting 3 folds for each of 5 candidates, totalling 15 fits\n"
     ]
    },
    {
     "name": "stderr",
     "output_type": "stream",
     "text": [
      " 37%|██████████▉                   | 708/1936 [1:05:11<2:00:47,  5.90s/it]"
     ]
    },
    {
     "name": "stdout",
     "output_type": "stream",
     "text": [
      "Fitting 3 folds for each of 5 candidates, totalling 15 fits\n"
     ]
    },
    {
     "name": "stderr",
     "output_type": "stream",
     "text": [
      " 37%|██████████▉                   | 709/1936 [1:05:23<2:20:35,  6.87s/it]"
     ]
    },
    {
     "name": "stdout",
     "output_type": "stream",
     "text": [
      "Fitting 3 folds for each of 5 candidates, totalling 15 fits\n",
      "Cannot have number of splits n_splits=3 greater than the number of samples: n_samples=0.\n",
      "Fitting 3 folds for each of 5 candidates, totalling 15 fits\n",
      "Cannot have number of splits n_splits=3 greater than the number of samples: n_samples=0.\n",
      "Fitting 3 folds for each of 5 candidates, totalling 15 fits\n",
      "Cannot have number of splits n_splits=3 greater than the number of samples: n_samples=0.\n",
      "Fitting 3 folds for each of 5 candidates, totalling 15 fits\n"
     ]
    },
    {
     "name": "stderr",
     "output_type": "stream",
     "text": [
      " 37%|███████████                   | 713/1936 [1:05:34<1:37:46,  4.80s/it]"
     ]
    },
    {
     "name": "stdout",
     "output_type": "stream",
     "text": [
      "Fitting 3 folds for each of 5 candidates, totalling 15 fits\n"
     ]
    },
    {
     "name": "stderr",
     "output_type": "stream",
     "text": [
      " 37%|███████████                   | 714/1936 [1:05:45<1:56:42,  5.73s/it]"
     ]
    },
    {
     "name": "stdout",
     "output_type": "stream",
     "text": [
      "Fitting 3 folds for each of 5 candidates, totalling 15 fits\n",
      "Cannot have number of splits n_splits=3 greater than the number of samples: n_samples=0.\n",
      "Fitting 3 folds for each of 5 candidates, totalling 15 fits\n"
     ]
    },
    {
     "name": "stderr",
     "output_type": "stream",
     "text": [
      " 37%|███████████                   | 716/1936 [1:05:55<1:54:19,  5.62s/it]"
     ]
    },
    {
     "name": "stdout",
     "output_type": "stream",
     "text": [
      "Fitting 3 folds for each of 5 candidates, totalling 15 fits\n"
     ]
    },
    {
     "name": "stderr",
     "output_type": "stream",
     "text": [
      " 37%|███████████                   | 717/1936 [1:06:07<2:14:34,  6.62s/it]"
     ]
    },
    {
     "name": "stdout",
     "output_type": "stream",
     "text": [
      "Fitting 3 folds for each of 5 candidates, totalling 15 fits\n",
      "Cannot have number of splits n_splits=3 greater than the number of samples: n_samples=0.\n",
      "Fitting 3 folds for each of 5 candidates, totalling 15 fits\n",
      "Cannot have number of splits n_splits=3 greater than the number of samples: n_samples=0.\n",
      "Fitting 3 folds for each of 5 candidates, totalling 15 fits\n",
      "Cannot have number of splits n_splits=3 greater than the number of samples: n_samples=0.\n",
      "Fitting 3 folds for each of 5 candidates, totalling 15 fits\n"
     ]
    },
    {
     "name": "stderr",
     "output_type": "stream",
     "text": [
      " 37%|███████████▏                  | 721/1936 [1:06:18<1:35:27,  4.71s/it]"
     ]
    },
    {
     "name": "stdout",
     "output_type": "stream",
     "text": [
      "Fitting 3 folds for each of 5 candidates, totalling 15 fits\n"
     ]
    },
    {
     "name": "stderr",
     "output_type": "stream",
     "text": [
      " 37%|███████████▏                  | 722/1936 [1:06:29<1:54:55,  5.68s/it]"
     ]
    },
    {
     "name": "stdout",
     "output_type": "stream",
     "text": [
      "Fitting 3 folds for each of 5 candidates, totalling 15 fits\n",
      "Cannot have number of splits n_splits=3 greater than the number of samples: n_samples=0.\n",
      "Fitting 3 folds for each of 5 candidates, totalling 15 fits\n"
     ]
    },
    {
     "name": "stderr",
     "output_type": "stream",
     "text": [
      " 37%|███████████▏                  | 724/1936 [1:06:40<1:53:00,  5.59s/it]"
     ]
    },
    {
     "name": "stdout",
     "output_type": "stream",
     "text": [
      "Fitting 3 folds for each of 5 candidates, totalling 15 fits\n"
     ]
    },
    {
     "name": "stderr",
     "output_type": "stream",
     "text": [
      " 37%|███████████▏                  | 725/1936 [1:06:50<2:11:00,  6.49s/it]"
     ]
    },
    {
     "name": "stdout",
     "output_type": "stream",
     "text": [
      "Fitting 3 folds for each of 5 candidates, totalling 15 fits\n",
      "Cannot have number of splits n_splits=3 greater than the number of samples: n_samples=0.\n",
      "Fitting 3 folds for each of 5 candidates, totalling 15 fits\n",
      "Cannot have number of splits n_splits=3 greater than the number of samples: n_samples=0.\n",
      "Fitting 3 folds for each of 5 candidates, totalling 15 fits\n",
      "Cannot have number of splits n_splits=3 greater than the number of samples: n_samples=0.\n",
      "Fitting 3 folds for each of 5 candidates, totalling 15 fits\n"
     ]
    },
    {
     "name": "stderr",
     "output_type": "stream",
     "text": [
      " 38%|███████████▎                  | 729/1936 [1:07:01<1:31:29,  4.55s/it]"
     ]
    },
    {
     "name": "stdout",
     "output_type": "stream",
     "text": [
      "Fitting 3 folds for each of 5 candidates, totalling 15 fits\n"
     ]
    },
    {
     "name": "stderr",
     "output_type": "stream",
     "text": [
      " 38%|███████████▎                  | 730/1936 [1:07:12<1:51:17,  5.54s/it]"
     ]
    },
    {
     "name": "stdout",
     "output_type": "stream",
     "text": [
      "Fitting 3 folds for each of 5 candidates, totalling 15 fits\n",
      "Cannot have number of splits n_splits=3 greater than the number of samples: n_samples=0.\n",
      "Fitting 3 folds for each of 5 candidates, totalling 15 fits\n"
     ]
    },
    {
     "name": "stderr",
     "output_type": "stream",
     "text": [
      " 38%|███████████▎                  | 732/1936 [1:07:23<1:51:54,  5.58s/it]"
     ]
    },
    {
     "name": "stdout",
     "output_type": "stream",
     "text": [
      "Fitting 3 folds for each of 5 candidates, totalling 15 fits\n"
     ]
    },
    {
     "name": "stderr",
     "output_type": "stream",
     "text": [
      " 38%|███████████▎                  | 733/1936 [1:07:34<2:10:05,  6.49s/it]"
     ]
    },
    {
     "name": "stdout",
     "output_type": "stream",
     "text": [
      "Fitting 3 folds for each of 5 candidates, totalling 15 fits\n",
      "Cannot have number of splits n_splits=3 greater than the number of samples: n_samples=0.\n",
      "Fitting 3 folds for each of 5 candidates, totalling 15 fits\n",
      "Cannot have number of splits n_splits=3 greater than the number of samples: n_samples=0.\n",
      "Fitting 3 folds for each of 5 candidates, totalling 15 fits\n",
      "Cannot have number of splits n_splits=3 greater than the number of samples: n_samples=0.\n",
      "Fitting 3 folds for each of 5 candidates, totalling 15 fits\n"
     ]
    },
    {
     "name": "stderr",
     "output_type": "stream",
     "text": [
      " 38%|███████████▍                  | 737/1936 [1:07:45<1:30:41,  4.54s/it]"
     ]
    },
    {
     "name": "stdout",
     "output_type": "stream",
     "text": [
      "Fitting 3 folds for each of 5 candidates, totalling 15 fits\n"
     ]
    },
    {
     "name": "stderr",
     "output_type": "stream",
     "text": [
      " 38%|███████████▍                  | 738/1936 [1:07:56<1:50:24,  5.53s/it]"
     ]
    },
    {
     "name": "stdout",
     "output_type": "stream",
     "text": [
      "Fitting 3 folds for each of 5 candidates, totalling 15 fits\n",
      "Cannot have number of splits n_splits=3 greater than the number of samples: n_samples=0.\n",
      "Fitting 3 folds for each of 5 candidates, totalling 15 fits\n"
     ]
    },
    {
     "name": "stderr",
     "output_type": "stream",
     "text": [
      " 38%|███████████▍                  | 740/1936 [1:08:06<1:49:28,  5.49s/it]"
     ]
    },
    {
     "name": "stdout",
     "output_type": "stream",
     "text": [
      "Fitting 3 folds for each of 5 candidates, totalling 15 fits\n"
     ]
    },
    {
     "name": "stderr",
     "output_type": "stream",
     "text": [
      " 38%|███████████▍                  | 741/1936 [1:08:17<2:06:53,  6.37s/it]"
     ]
    },
    {
     "name": "stdout",
     "output_type": "stream",
     "text": [
      "Fitting 3 folds for each of 5 candidates, totalling 15 fits\n",
      "Cannot have number of splits n_splits=3 greater than the number of samples: n_samples=0.\n",
      "Fitting 3 folds for each of 5 candidates, totalling 15 fits\n",
      "Cannot have number of splits n_splits=3 greater than the number of samples: n_samples=0.\n",
      "Fitting 3 folds for each of 5 candidates, totalling 15 fits\n",
      "Cannot have number of splits n_splits=3 greater than the number of samples: n_samples=0.\n",
      "Fitting 3 folds for each of 5 candidates, totalling 15 fits\n"
     ]
    },
    {
     "name": "stderr",
     "output_type": "stream",
     "text": [
      " 38%|███████████▌                  | 745/1936 [1:08:24<1:19:32,  4.01s/it]"
     ]
    },
    {
     "name": "stdout",
     "output_type": "stream",
     "text": [
      "Fitting 3 folds for each of 5 candidates, totalling 15 fits\n"
     ]
    },
    {
     "name": "stderr",
     "output_type": "stream",
     "text": [
      " 39%|███████████▌                  | 746/1936 [1:08:30<1:27:46,  4.43s/it]"
     ]
    },
    {
     "name": "stdout",
     "output_type": "stream",
     "text": [
      "Fitting 3 folds for each of 5 candidates, totalling 15 fits\n",
      "Cannot have number of splits n_splits=3 greater than the number of samples: n_samples=0.\n",
      "Fitting 3 folds for each of 5 candidates, totalling 15 fits\n"
     ]
    },
    {
     "name": "stderr",
     "output_type": "stream",
     "text": [
      " 39%|███████████▌                  | 748/1936 [1:08:37<1:21:37,  4.12s/it]"
     ]
    },
    {
     "name": "stdout",
     "output_type": "stream",
     "text": [
      "Fitting 3 folds for each of 5 candidates, totalling 15 fits\n"
     ]
    },
    {
     "name": "stderr",
     "output_type": "stream",
     "text": [
      " 39%|███████████▌                  | 749/1936 [1:08:44<1:31:00,  4.60s/it]"
     ]
    },
    {
     "name": "stdout",
     "output_type": "stream",
     "text": [
      "Fitting 3 folds for each of 5 candidates, totalling 15 fits\n",
      "Cannot have number of splits n_splits=3 greater than the number of samples: n_samples=0.\n",
      "Fitting 3 folds for each of 5 candidates, totalling 15 fits\n",
      "Cannot have number of splits n_splits=3 greater than the number of samples: n_samples=0.\n",
      "Fitting 3 folds for each of 5 candidates, totalling 15 fits\n",
      "Cannot have number of splits n_splits=3 greater than the number of samples: n_samples=0.\n",
      "Fitting 3 folds for each of 5 candidates, totalling 15 fits\n"
     ]
    },
    {
     "name": "stderr",
     "output_type": "stream",
     "text": [
      " 39%|███████████▋                  | 753/1936 [1:08:55<1:13:31,  3.73s/it]"
     ]
    },
    {
     "name": "stdout",
     "output_type": "stream",
     "text": [
      "Fitting 3 folds for each of 5 candidates, totalling 15 fits\n"
     ]
    },
    {
     "name": "stderr",
     "output_type": "stream",
     "text": [
      " 39%|███████████▋                  | 754/1936 [1:09:07<1:35:44,  4.86s/it]"
     ]
    },
    {
     "name": "stdout",
     "output_type": "stream",
     "text": [
      "Fitting 3 folds for each of 5 candidates, totalling 15 fits\n",
      "Cannot have number of splits n_splits=3 greater than the number of samples: n_samples=0.\n",
      "Fitting 3 folds for each of 5 candidates, totalling 15 fits\n"
     ]
    },
    {
     "name": "stderr",
     "output_type": "stream",
     "text": [
      " 39%|███████████▋                  | 756/1936 [1:09:18<1:39:28,  5.06s/it]"
     ]
    },
    {
     "name": "stdout",
     "output_type": "stream",
     "text": [
      "Fitting 3 folds for each of 5 candidates, totalling 15 fits\n"
     ]
    },
    {
     "name": "stderr",
     "output_type": "stream",
     "text": [
      " 39%|███████████▋                  | 757/1936 [1:09:28<1:59:02,  6.06s/it]"
     ]
    },
    {
     "name": "stdout",
     "output_type": "stream",
     "text": [
      "Fitting 3 folds for each of 5 candidates, totalling 15 fits\n",
      "Cannot have number of splits n_splits=3 greater than the number of samples: n_samples=0.\n",
      "Fitting 3 folds for each of 5 candidates, totalling 15 fits\n",
      "Cannot have number of splits n_splits=3 greater than the number of samples: n_samples=0.\n",
      "Fitting 3 folds for each of 5 candidates, totalling 15 fits\n",
      "Cannot have number of splits n_splits=3 greater than the number of samples: n_samples=0.\n",
      "Fitting 3 folds for each of 5 candidates, totalling 15 fits\n"
     ]
    },
    {
     "name": "stderr",
     "output_type": "stream",
     "text": [
      " 39%|███████████▊                  | 761/1936 [1:09:30<1:02:42,  3.20s/it]"
     ]
    },
    {
     "name": "stdout",
     "output_type": "stream",
     "text": [
      "Fitting 3 folds for each of 5 candidates, totalling 15 fits\n"
     ]
    },
    {
     "name": "stderr",
     "output_type": "stream",
     "text": [
      " 39%|███████████▊                  | 762/1936 [1:09:32<57:58,  2.96s/it]  "
     ]
    },
    {
     "name": "stdout",
     "output_type": "stream",
     "text": [
      "Fitting 3 folds for each of 5 candidates, totalling 15 fits\n",
      "Cannot have number of splits n_splits=3 greater than the number of samples: n_samples=0.\n",
      "Fitting 3 folds for each of 5 candidates, totalling 15 fits\n"
     ]
    },
    {
     "name": "stderr",
     "output_type": "stream",
     "text": [
      " 39%|███████████▊                  | 764/1936 [1:09:33<45:11,  2.31s/it]"
     ]
    },
    {
     "name": "stdout",
     "output_type": "stream",
     "text": [
      "Fitting 3 folds for each of 5 candidates, totalling 15 fits\n"
     ]
    },
    {
     "name": "stderr",
     "output_type": "stream",
     "text": [
      " 40%|███████████▊                  | 765/1936 [1:09:35<43:44,  2.24s/it]"
     ]
    },
    {
     "name": "stdout",
     "output_type": "stream",
     "text": [
      "Fitting 3 folds for each of 5 candidates, totalling 15 fits\n",
      "Cannot have number of splits n_splits=3 greater than the number of samples: n_samples=0.\n",
      "Fitting 3 folds for each of 5 candidates, totalling 15 fits\n",
      "Cannot have number of splits n_splits=3 greater than the number of samples: n_samples=0.\n",
      "Fitting 3 folds for each of 5 candidates, totalling 15 fits\n",
      "Cannot have number of splits n_splits=3 greater than the number of samples: n_samples=0.\n",
      "Fitting 3 folds for each of 5 candidates, totalling 15 fits\n"
     ]
    },
    {
     "name": "stderr",
     "output_type": "stream",
     "text": [
      " 40%|███████████▉                  | 769/1936 [1:09:46<48:39,  2.50s/it]"
     ]
    },
    {
     "name": "stdout",
     "output_type": "stream",
     "text": [
      "Fitting 3 folds for each of 5 candidates, totalling 15 fits\n"
     ]
    },
    {
     "name": "stderr",
     "output_type": "stream",
     "text": [
      " 40%|███████████▉                  | 770/1936 [1:09:58<1:16:07,  3.92s/it]"
     ]
    },
    {
     "name": "stdout",
     "output_type": "stream",
     "text": [
      "Fitting 3 folds for each of 5 candidates, totalling 15 fits\n",
      "Cannot have number of splits n_splits=3 greater than the number of samples: n_samples=0.\n",
      "Fitting 3 folds for each of 5 candidates, totalling 15 fits\n"
     ]
    },
    {
     "name": "stderr",
     "output_type": "stream",
     "text": [
      " 40%|███████████▉                  | 772/1936 [1:10:09<1:26:01,  4.43s/it]"
     ]
    },
    {
     "name": "stdout",
     "output_type": "stream",
     "text": [
      "Fitting 3 folds for each of 5 candidates, totalling 15 fits\n"
     ]
    },
    {
     "name": "stderr",
     "output_type": "stream",
     "text": [
      " 40%|███████████▉                  | 773/1936 [1:10:20<1:48:28,  5.60s/it]"
     ]
    },
    {
     "name": "stdout",
     "output_type": "stream",
     "text": [
      "Fitting 3 folds for each of 5 candidates, totalling 15 fits\n",
      "Cannot have number of splits n_splits=3 greater than the number of samples: n_samples=0.\n",
      "Fitting 3 folds for each of 5 candidates, totalling 15 fits\n",
      "Cannot have number of splits n_splits=3 greater than the number of samples: n_samples=0.\n",
      "Fitting 3 folds for each of 5 candidates, totalling 15 fits\n",
      "Cannot have number of splits n_splits=3 greater than the number of samples: n_samples=0.\n",
      "Fitting 3 folds for each of 5 candidates, totalling 15 fits\n"
     ]
    },
    {
     "name": "stderr",
     "output_type": "stream",
     "text": [
      " 40%|████████████                  | 777/1936 [1:10:30<1:17:43,  4.02s/it]"
     ]
    },
    {
     "name": "stdout",
     "output_type": "stream",
     "text": [
      "Fitting 3 folds for each of 5 candidates, totalling 15 fits\n"
     ]
    },
    {
     "name": "stderr",
     "output_type": "stream",
     "text": [
      " 40%|████████████                  | 778/1936 [1:10:40<1:34:41,  4.91s/it]"
     ]
    },
    {
     "name": "stdout",
     "output_type": "stream",
     "text": [
      "Fitting 3 folds for each of 5 candidates, totalling 15 fits\n",
      "Cannot have number of splits n_splits=3 greater than the number of samples: n_samples=0.\n",
      "Fitting 3 folds for each of 5 candidates, totalling 15 fits\n"
     ]
    },
    {
     "name": "stderr",
     "output_type": "stream",
     "text": [
      " 40%|████████████                  | 780/1936 [1:10:50<1:36:54,  5.03s/it]"
     ]
    },
    {
     "name": "stdout",
     "output_type": "stream",
     "text": [
      "Fitting 3 folds for each of 5 candidates, totalling 15 fits\n"
     ]
    },
    {
     "name": "stderr",
     "output_type": "stream",
     "text": [
      " 40%|████████████                  | 781/1936 [1:11:01<1:55:33,  6.00s/it]"
     ]
    },
    {
     "name": "stdout",
     "output_type": "stream",
     "text": [
      "Fitting 3 folds for each of 5 candidates, totalling 15 fits\n",
      "Cannot have number of splits n_splits=3 greater than the number of samples: n_samples=0.\n",
      "Fitting 3 folds for each of 5 candidates, totalling 15 fits\n",
      "Cannot have number of splits n_splits=3 greater than the number of samples: n_samples=0.\n",
      "Fitting 3 folds for each of 5 candidates, totalling 15 fits\n",
      "Cannot have number of splits n_splits=3 greater than the number of samples: n_samples=0.\n",
      "Fitting 3 folds for each of 5 candidates, totalling 15 fits\n"
     ]
    },
    {
     "name": "stderr",
     "output_type": "stream",
     "text": [
      " 41%|████████████▏                 | 785/1936 [1:11:11<1:22:37,  4.31s/it]"
     ]
    },
    {
     "name": "stdout",
     "output_type": "stream",
     "text": [
      "Fitting 3 folds for each of 5 candidates, totalling 15 fits\n"
     ]
    },
    {
     "name": "stderr",
     "output_type": "stream",
     "text": [
      " 41%|████████████▏                 | 786/1936 [1:11:22<1:40:48,  5.26s/it]"
     ]
    },
    {
     "name": "stdout",
     "output_type": "stream",
     "text": [
      "Fitting 3 folds for each of 5 candidates, totalling 15 fits\n",
      "Cannot have number of splits n_splits=3 greater than the number of samples: n_samples=0.\n",
      "Fitting 3 folds for each of 5 candidates, totalling 15 fits\n"
     ]
    },
    {
     "name": "stderr",
     "output_type": "stream",
     "text": [
      " 41%|████████████▏                 | 788/1936 [1:11:32<1:40:00,  5.23s/it]"
     ]
    },
    {
     "name": "stdout",
     "output_type": "stream",
     "text": [
      "Fitting 3 folds for each of 5 candidates, totalling 15 fits\n"
     ]
    },
    {
     "name": "stderr",
     "output_type": "stream",
     "text": [
      " 41%|████████████▏                 | 789/1936 [1:11:43<1:58:09,  6.18s/it]"
     ]
    },
    {
     "name": "stdout",
     "output_type": "stream",
     "text": [
      "Fitting 3 folds for each of 5 candidates, totalling 15 fits\n",
      "Cannot have number of splits n_splits=3 greater than the number of samples: n_samples=0.\n",
      "Fitting 3 folds for each of 5 candidates, totalling 15 fits\n",
      "Cannot have number of splits n_splits=3 greater than the number of samples: n_samples=0.\n",
      "Fitting 3 folds for each of 5 candidates, totalling 15 fits\n",
      "Cannot have number of splits n_splits=3 greater than the number of samples: n_samples=0.\n",
      "Fitting 3 folds for each of 5 candidates, totalling 15 fits\n"
     ]
    },
    {
     "name": "stderr",
     "output_type": "stream",
     "text": [
      " 41%|████████████▎                 | 793/1936 [1:11:54<1:25:11,  4.47s/it]"
     ]
    },
    {
     "name": "stdout",
     "output_type": "stream",
     "text": [
      "Fitting 3 folds for each of 5 candidates, totalling 15 fits\n"
     ]
    },
    {
     "name": "stderr",
     "output_type": "stream",
     "text": [
      " 41%|████████████▎                 | 794/1936 [1:12:05<1:44:47,  5.51s/it]"
     ]
    },
    {
     "name": "stdout",
     "output_type": "stream",
     "text": [
      "Fitting 3 folds for each of 5 candidates, totalling 15 fits\n",
      "Cannot have number of splits n_splits=3 greater than the number of samples: n_samples=0.\n",
      "Fitting 3 folds for each of 5 candidates, totalling 15 fits\n"
     ]
    },
    {
     "name": "stderr",
     "output_type": "stream",
     "text": [
      " 41%|████████████▎                 | 796/1936 [1:12:17<1:45:13,  5.54s/it]"
     ]
    },
    {
     "name": "stdout",
     "output_type": "stream",
     "text": [
      "Fitting 3 folds for each of 5 candidates, totalling 15 fits\n"
     ]
    },
    {
     "name": "stderr",
     "output_type": "stream",
     "text": [
      " 41%|████████████▎                 | 797/1936 [1:12:28<2:03:27,  6.50s/it]"
     ]
    },
    {
     "name": "stdout",
     "output_type": "stream",
     "text": [
      "Fitting 3 folds for each of 5 candidates, totalling 15 fits\n",
      "Cannot have number of splits n_splits=3 greater than the number of samples: n_samples=0.\n",
      "Fitting 3 folds for each of 5 candidates, totalling 15 fits\n",
      "Cannot have number of splits n_splits=3 greater than the number of samples: n_samples=0.\n",
      "Fitting 3 folds for each of 5 candidates, totalling 15 fits\n",
      "Cannot have number of splits n_splits=3 greater than the number of samples: n_samples=0.\n",
      "Fitting 3 folds for each of 5 candidates, totalling 15 fits\n"
     ]
    },
    {
     "name": "stderr",
     "output_type": "stream",
     "text": [
      " 41%|████████████▍                 | 801/1936 [1:12:36<1:22:00,  4.34s/it]"
     ]
    },
    {
     "name": "stdout",
     "output_type": "stream",
     "text": [
      "Fitting 3 folds for each of 5 candidates, totalling 15 fits\n"
     ]
    },
    {
     "name": "stderr",
     "output_type": "stream",
     "text": [
      " 41%|████████████▍                 | 802/1936 [1:12:45<1:34:36,  5.01s/it]"
     ]
    },
    {
     "name": "stdout",
     "output_type": "stream",
     "text": [
      "Fitting 3 folds for each of 5 candidates, totalling 15 fits\n",
      "Cannot have number of splits n_splits=3 greater than the number of samples: n_samples=0.\n",
      "Fitting 3 folds for each of 5 candidates, totalling 15 fits\n"
     ]
    },
    {
     "name": "stderr",
     "output_type": "stream",
     "text": [
      " 42%|████████████▍                 | 804/1936 [1:12:55<1:32:48,  4.92s/it]"
     ]
    },
    {
     "name": "stdout",
     "output_type": "stream",
     "text": [
      "Fitting 3 folds for each of 5 candidates, totalling 15 fits\n"
     ]
    },
    {
     "name": "stderr",
     "output_type": "stream",
     "text": [
      " 42%|████████████▍                 | 805/1936 [1:13:05<1:50:06,  5.84s/it]"
     ]
    },
    {
     "name": "stdout",
     "output_type": "stream",
     "text": [
      "Fitting 3 folds for each of 5 candidates, totalling 15 fits\n",
      "Cannot have number of splits n_splits=3 greater than the number of samples: n_samples=0.\n",
      "Fitting 3 folds for each of 5 candidates, totalling 15 fits\n",
      "Cannot have number of splits n_splits=3 greater than the number of samples: n_samples=0.\n",
      "Fitting 3 folds for each of 5 candidates, totalling 15 fits\n",
      "Cannot have number of splits n_splits=3 greater than the number of samples: n_samples=0.\n",
      "Fitting 3 folds for each of 5 candidates, totalling 15 fits\n"
     ]
    },
    {
     "name": "stderr",
     "output_type": "stream",
     "text": [
      " 42%|████████████▌                 | 809/1936 [1:13:16<1:21:44,  4.35s/it]"
     ]
    },
    {
     "name": "stdout",
     "output_type": "stream",
     "text": [
      "Fitting 3 folds for each of 5 candidates, totalling 15 fits\n"
     ]
    },
    {
     "name": "stderr",
     "output_type": "stream",
     "text": [
      " 42%|████████████▌                 | 810/1936 [1:13:27<1:41:16,  5.40s/it]"
     ]
    },
    {
     "name": "stdout",
     "output_type": "stream",
     "text": [
      "Fitting 3 folds for each of 5 candidates, totalling 15 fits\n",
      "Cannot have number of splits n_splits=3 greater than the number of samples: n_samples=0.\n",
      "Fitting 3 folds for each of 5 candidates, totalling 15 fits\n"
     ]
    },
    {
     "name": "stderr",
     "output_type": "stream",
     "text": [
      " 42%|████████████▌                 | 812/1936 [1:13:42<1:50:54,  5.92s/it]"
     ]
    },
    {
     "name": "stdout",
     "output_type": "stream",
     "text": [
      "Fitting 3 folds for each of 5 candidates, totalling 15 fits\n"
     ]
    },
    {
     "name": "stderr",
     "output_type": "stream",
     "text": [
      " 42%|████████████▌                 | 813/1936 [1:13:55<2:14:18,  7.18s/it]"
     ]
    },
    {
     "name": "stdout",
     "output_type": "stream",
     "text": [
      "Fitting 3 folds for each of 5 candidates, totalling 15 fits\n",
      "Cannot have number of splits n_splits=3 greater than the number of samples: n_samples=0.\n",
      "Fitting 3 folds for each of 5 candidates, totalling 15 fits\n",
      "Cannot have number of splits n_splits=3 greater than the number of samples: n_samples=0.\n",
      "Fitting 3 folds for each of 5 candidates, totalling 15 fits\n",
      "Cannot have number of splits n_splits=3 greater than the number of samples: n_samples=0.\n",
      "Fitting 3 folds for each of 5 candidates, totalling 15 fits\n"
     ]
    },
    {
     "name": "stderr",
     "output_type": "stream",
     "text": [
      " 42%|████████████▋                 | 817/1936 [1:14:07<1:36:21,  5.17s/it]"
     ]
    },
    {
     "name": "stdout",
     "output_type": "stream",
     "text": [
      "Fitting 3 folds for each of 5 candidates, totalling 15 fits\n"
     ]
    },
    {
     "name": "stderr",
     "output_type": "stream",
     "text": [
      " 42%|████████████▋                 | 818/1936 [1:14:19<1:54:20,  6.14s/it]"
     ]
    },
    {
     "name": "stdout",
     "output_type": "stream",
     "text": [
      "Fitting 3 folds for each of 5 candidates, totalling 15 fits\n",
      "Cannot have number of splits n_splits=3 greater than the number of samples: n_samples=0.\n",
      "Fitting 3 folds for each of 5 candidates, totalling 15 fits\n"
     ]
    },
    {
     "name": "stderr",
     "output_type": "stream",
     "text": [
      " 42%|████████████▋                 | 820/1936 [1:14:30<1:51:19,  5.99s/it]"
     ]
    },
    {
     "name": "stdout",
     "output_type": "stream",
     "text": [
      "Fitting 3 folds for each of 5 candidates, totalling 15 fits\n"
     ]
    },
    {
     "name": "stderr",
     "output_type": "stream",
     "text": [
      " 42%|████████████▋                 | 821/1936 [1:14:42<2:10:46,  7.04s/it]"
     ]
    },
    {
     "name": "stdout",
     "output_type": "stream",
     "text": [
      "Fitting 3 folds for each of 5 candidates, totalling 15 fits\n",
      "Cannot have number of splits n_splits=3 greater than the number of samples: n_samples=0.\n",
      "Fitting 3 folds for each of 5 candidates, totalling 15 fits\n",
      "Cannot have number of splits n_splits=3 greater than the number of samples: n_samples=0.\n",
      "Fitting 3 folds for each of 5 candidates, totalling 15 fits\n",
      "Cannot have number of splits n_splits=3 greater than the number of samples: n_samples=0.\n",
      "Fitting 3 folds for each of 5 candidates, totalling 15 fits\n"
     ]
    },
    {
     "name": "stderr",
     "output_type": "stream",
     "text": [
      " 43%|████████████▊                 | 825/1936 [1:14:54<1:31:51,  4.96s/it]"
     ]
    },
    {
     "name": "stdout",
     "output_type": "stream",
     "text": [
      "Fitting 3 folds for each of 5 candidates, totalling 15 fits\n"
     ]
    },
    {
     "name": "stderr",
     "output_type": "stream",
     "text": [
      " 43%|████████████▊                 | 826/1936 [1:15:05<1:49:47,  5.93s/it]"
     ]
    },
    {
     "name": "stdout",
     "output_type": "stream",
     "text": [
      "Fitting 3 folds for each of 5 candidates, totalling 15 fits\n",
      "Cannot have number of splits n_splits=3 greater than the number of samples: n_samples=0.\n",
      "Fitting 3 folds for each of 5 candidates, totalling 15 fits\n"
     ]
    },
    {
     "name": "stderr",
     "output_type": "stream",
     "text": [
      " 43%|████████████▊                 | 828/1936 [1:15:16<1:47:33,  5.82s/it]"
     ]
    },
    {
     "name": "stdout",
     "output_type": "stream",
     "text": [
      "Fitting 3 folds for each of 5 candidates, totalling 15 fits\n"
     ]
    },
    {
     "name": "stderr",
     "output_type": "stream",
     "text": [
      " 43%|████████████▊                 | 829/1936 [1:15:27<2:03:35,  6.70s/it]"
     ]
    },
    {
     "name": "stdout",
     "output_type": "stream",
     "text": [
      "Fitting 3 folds for each of 5 candidates, totalling 15 fits\n",
      "Cannot have number of splits n_splits=3 greater than the number of samples: n_samples=0.\n",
      "Fitting 3 folds for each of 5 candidates, totalling 15 fits\n",
      "Cannot have number of splits n_splits=3 greater than the number of samples: n_samples=0.\n",
      "Fitting 3 folds for each of 5 candidates, totalling 15 fits\n",
      "Cannot have number of splits n_splits=3 greater than the number of samples: n_samples=0.\n",
      "Fitting 3 folds for each of 5 candidates, totalling 15 fits\n"
     ]
    },
    {
     "name": "stderr",
     "output_type": "stream",
     "text": [
      " 43%|████████████▉                 | 833/1936 [1:15:39<1:29:04,  4.85s/it]"
     ]
    },
    {
     "name": "stdout",
     "output_type": "stream",
     "text": [
      "Fitting 3 folds for each of 5 candidates, totalling 15 fits\n"
     ]
    },
    {
     "name": "stderr",
     "output_type": "stream",
     "text": [
      " 43%|████████████▉                 | 834/1936 [1:15:51<1:49:24,  5.96s/it]"
     ]
    },
    {
     "name": "stdout",
     "output_type": "stream",
     "text": [
      "Fitting 3 folds for each of 5 candidates, totalling 15 fits\n",
      "Cannot have number of splits n_splits=3 greater than the number of samples: n_samples=0.\n",
      "Fitting 3 folds for each of 5 candidates, totalling 15 fits\n"
     ]
    },
    {
     "name": "stderr",
     "output_type": "stream",
     "text": [
      " 43%|████████████▉                 | 836/1936 [1:16:02<1:47:36,  5.87s/it]"
     ]
    },
    {
     "name": "stdout",
     "output_type": "stream",
     "text": [
      "Fitting 3 folds for each of 5 candidates, totalling 15 fits\n"
     ]
    },
    {
     "name": "stderr",
     "output_type": "stream",
     "text": [
      " 43%|████████████▉                 | 837/1936 [1:16:13<2:03:56,  6.77s/it]"
     ]
    },
    {
     "name": "stdout",
     "output_type": "stream",
     "text": [
      "Fitting 3 folds for each of 5 candidates, totalling 15 fits\n",
      "Cannot have number of splits n_splits=3 greater than the number of samples: n_samples=0.\n",
      "Fitting 3 folds for each of 5 candidates, totalling 15 fits\n",
      "Cannot have number of splits n_splits=3 greater than the number of samples: n_samples=0.\n",
      "Fitting 3 folds for each of 5 candidates, totalling 15 fits\n",
      "Cannot have number of splits n_splits=3 greater than the number of samples: n_samples=0.\n",
      "Fitting 3 folds for each of 5 candidates, totalling 15 fits\n"
     ]
    },
    {
     "name": "stderr",
     "output_type": "stream",
     "text": [
      " 43%|█████████████                 | 841/1936 [1:16:24<1:25:26,  4.68s/it]"
     ]
    },
    {
     "name": "stdout",
     "output_type": "stream",
     "text": [
      "Fitting 3 folds for each of 5 candidates, totalling 15 fits\n"
     ]
    },
    {
     "name": "stderr",
     "output_type": "stream",
     "text": [
      " 43%|█████████████                 | 842/1936 [1:16:34<1:41:08,  5.55s/it]"
     ]
    },
    {
     "name": "stdout",
     "output_type": "stream",
     "text": [
      "Fitting 3 folds for each of 5 candidates, totalling 15 fits\n",
      "Cannot have number of splits n_splits=3 greater than the number of samples: n_samples=0.\n",
      "Fitting 3 folds for each of 5 candidates, totalling 15 fits\n"
     ]
    },
    {
     "name": "stderr",
     "output_type": "stream",
     "text": [
      " 44%|█████████████                 | 844/1936 [1:16:45<1:38:56,  5.44s/it]"
     ]
    },
    {
     "name": "stdout",
     "output_type": "stream",
     "text": [
      "Fitting 3 folds for each of 5 candidates, totalling 15 fits\n"
     ]
    },
    {
     "name": "stderr",
     "output_type": "stream",
     "text": [
      " 44%|█████████████                 | 845/1936 [1:16:56<1:58:13,  6.50s/it]"
     ]
    },
    {
     "name": "stdout",
     "output_type": "stream",
     "text": [
      "Fitting 3 folds for each of 5 candidates, totalling 15 fits\n",
      "Cannot have number of splits n_splits=3 greater than the number of samples: n_samples=0.\n",
      "Fitting 3 folds for each of 5 candidates, totalling 15 fits\n",
      "Cannot have number of splits n_splits=3 greater than the number of samples: n_samples=0.\n",
      "Fitting 3 folds for each of 5 candidates, totalling 15 fits\n",
      "Cannot have number of splits n_splits=3 greater than the number of samples: n_samples=0.\n",
      "Fitting 3 folds for each of 5 candidates, totalling 15 fits\n"
     ]
    },
    {
     "name": "stderr",
     "output_type": "stream",
     "text": [
      " 44%|█████████████▏                | 849/1936 [1:17:07<1:24:26,  4.66s/it]"
     ]
    },
    {
     "name": "stdout",
     "output_type": "stream",
     "text": [
      "Fitting 3 folds for each of 5 candidates, totalling 15 fits\n"
     ]
    },
    {
     "name": "stderr",
     "output_type": "stream",
     "text": [
      " 44%|█████████████▏                | 850/1936 [1:17:18<1:40:53,  5.57s/it]"
     ]
    },
    {
     "name": "stdout",
     "output_type": "stream",
     "text": [
      "Fitting 3 folds for each of 5 candidates, totalling 15 fits\n",
      "Cannot have number of splits n_splits=3 greater than the number of samples: n_samples=0.\n",
      "Fitting 3 folds for each of 5 candidates, totalling 15 fits\n"
     ]
    },
    {
     "name": "stderr",
     "output_type": "stream",
     "text": [
      " 44%|█████████████▏                | 852/1936 [1:17:29<1:39:26,  5.50s/it]"
     ]
    },
    {
     "name": "stdout",
     "output_type": "stream",
     "text": [
      "Fitting 3 folds for each of 5 candidates, totalling 15 fits\n"
     ]
    },
    {
     "name": "stderr",
     "output_type": "stream",
     "text": [
      " 44%|█████████████▏                | 853/1936 [1:17:40<1:57:44,  6.52s/it]"
     ]
    },
    {
     "name": "stdout",
     "output_type": "stream",
     "text": [
      "Fitting 3 folds for each of 5 candidates, totalling 15 fits\n",
      "Cannot have number of splits n_splits=3 greater than the number of samples: n_samples=0.\n",
      "Fitting 3 folds for each of 5 candidates, totalling 15 fits\n",
      "Cannot have number of splits n_splits=3 greater than the number of samples: n_samples=0.\n",
      "Fitting 3 folds for each of 5 candidates, totalling 15 fits\n",
      "Cannot have number of splits n_splits=3 greater than the number of samples: n_samples=0.\n",
      "Fitting 3 folds for each of 5 candidates, totalling 15 fits\n"
     ]
    },
    {
     "name": "stderr",
     "output_type": "stream",
     "text": [
      " 44%|█████████████▎                | 857/1936 [1:17:51<1:24:03,  4.67s/it]"
     ]
    },
    {
     "name": "stdout",
     "output_type": "stream",
     "text": [
      "Fitting 3 folds for each of 5 candidates, totalling 15 fits\n"
     ]
    },
    {
     "name": "stderr",
     "output_type": "stream",
     "text": [
      " 44%|█████████████▎                | 858/1936 [1:18:03<1:42:30,  5.71s/it]"
     ]
    },
    {
     "name": "stdout",
     "output_type": "stream",
     "text": [
      "Fitting 3 folds for each of 5 candidates, totalling 15 fits\n",
      "Cannot have number of splits n_splits=3 greater than the number of samples: n_samples=0.\n",
      "Fitting 3 folds for each of 5 candidates, totalling 15 fits\n"
     ]
    },
    {
     "name": "stderr",
     "output_type": "stream",
     "text": [
      " 44%|█████████████▎                | 860/1936 [1:18:14<1:40:33,  5.61s/it]"
     ]
    },
    {
     "name": "stdout",
     "output_type": "stream",
     "text": [
      "Fitting 3 folds for each of 5 candidates, totalling 15 fits\n"
     ]
    },
    {
     "name": "stderr",
     "output_type": "stream",
     "text": [
      " 44%|█████████████▎                | 861/1936 [1:18:24<1:57:11,  6.54s/it]"
     ]
    },
    {
     "name": "stdout",
     "output_type": "stream",
     "text": [
      "Fitting 3 folds for each of 5 candidates, totalling 15 fits\n",
      "Cannot have number of splits n_splits=3 greater than the number of samples: n_samples=0.\n",
      "Fitting 3 folds for each of 5 candidates, totalling 15 fits\n",
      "Cannot have number of splits n_splits=3 greater than the number of samples: n_samples=0.\n",
      "Fitting 3 folds for each of 5 candidates, totalling 15 fits\n",
      "Cannot have number of splits n_splits=3 greater than the number of samples: n_samples=0.\n",
      "Fitting 3 folds for each of 5 candidates, totalling 15 fits\n"
     ]
    },
    {
     "name": "stderr",
     "output_type": "stream",
     "text": [
      " 45%|█████████████▍                | 865/1936 [1:18:35<1:22:25,  4.62s/it]"
     ]
    },
    {
     "name": "stdout",
     "output_type": "stream",
     "text": [
      "Fitting 3 folds for each of 5 candidates, totalling 15 fits\n"
     ]
    },
    {
     "name": "stderr",
     "output_type": "stream",
     "text": [
      " 45%|█████████████▍                | 866/1936 [1:18:46<1:39:34,  5.58s/it]"
     ]
    },
    {
     "name": "stdout",
     "output_type": "stream",
     "text": [
      "Fitting 3 folds for each of 5 candidates, totalling 15 fits\n",
      "Cannot have number of splits n_splits=3 greater than the number of samples: n_samples=0.\n",
      "Fitting 3 folds for each of 5 candidates, totalling 15 fits\n"
     ]
    },
    {
     "name": "stderr",
     "output_type": "stream",
     "text": [
      " 45%|█████████████▍                | 868/1936 [1:18:58<1:40:00,  5.62s/it]"
     ]
    },
    {
     "name": "stdout",
     "output_type": "stream",
     "text": [
      "Fitting 3 folds for each of 5 candidates, totalling 15 fits\n"
     ]
    },
    {
     "name": "stderr",
     "output_type": "stream",
     "text": [
      " 45%|█████████████▍                | 869/1936 [1:19:09<1:57:10,  6.59s/it]"
     ]
    },
    {
     "name": "stdout",
     "output_type": "stream",
     "text": [
      "Fitting 3 folds for each of 5 candidates, totalling 15 fits\n",
      "Cannot have number of splits n_splits=3 greater than the number of samples: n_samples=0.\n",
      "Fitting 3 folds for each of 5 candidates, totalling 15 fits\n",
      "Cannot have number of splits n_splits=3 greater than the number of samples: n_samples=0.\n",
      "Fitting 3 folds for each of 5 candidates, totalling 15 fits\n",
      "Cannot have number of splits n_splits=3 greater than the number of samples: n_samples=0.\n",
      "Fitting 3 folds for each of 5 candidates, totalling 15 fits\n"
     ]
    },
    {
     "name": "stderr",
     "output_type": "stream",
     "text": [
      " 45%|█████████████▌                | 873/1936 [1:19:19<1:21:17,  4.59s/it]"
     ]
    },
    {
     "name": "stdout",
     "output_type": "stream",
     "text": [
      "Fitting 3 folds for each of 5 candidates, totalling 15 fits\n"
     ]
    },
    {
     "name": "stderr",
     "output_type": "stream",
     "text": [
      " 45%|█████████████▌                | 874/1936 [1:19:30<1:37:40,  5.52s/it]"
     ]
    },
    {
     "name": "stdout",
     "output_type": "stream",
     "text": [
      "Fitting 3 folds for each of 5 candidates, totalling 15 fits\n",
      "Cannot have number of splits n_splits=3 greater than the number of samples: n_samples=0.\n",
      "Fitting 3 folds for each of 5 candidates, totalling 15 fits\n"
     ]
    },
    {
     "name": "stderr",
     "output_type": "stream",
     "text": [
      " 45%|█████████████▌                | 876/1936 [1:19:42<1:38:46,  5.59s/it]"
     ]
    },
    {
     "name": "stdout",
     "output_type": "stream",
     "text": [
      "Fitting 3 folds for each of 5 candidates, totalling 15 fits\n"
     ]
    },
    {
     "name": "stderr",
     "output_type": "stream",
     "text": [
      " 45%|█████████████▌                | 877/1936 [1:19:55<2:02:03,  6.92s/it]"
     ]
    },
    {
     "name": "stdout",
     "output_type": "stream",
     "text": [
      "Fitting 3 folds for each of 5 candidates, totalling 15 fits\n",
      "Cannot have number of splits n_splits=3 greater than the number of samples: n_samples=0.\n",
      "Fitting 3 folds for each of 5 candidates, totalling 15 fits\n",
      "Cannot have number of splits n_splits=3 greater than the number of samples: n_samples=0.\n",
      "Fitting 3 folds for each of 5 candidates, totalling 15 fits\n",
      "Cannot have number of splits n_splits=3 greater than the number of samples: n_samples=0.\n",
      "Fitting 3 folds for each of 5 candidates, totalling 15 fits\n"
     ]
    },
    {
     "name": "stderr",
     "output_type": "stream",
     "text": [
      " 46%|█████████████▋                | 881/1936 [1:20:07<1:27:15,  4.96s/it]"
     ]
    },
    {
     "name": "stdout",
     "output_type": "stream",
     "text": [
      "Fitting 3 folds for each of 5 candidates, totalling 15 fits\n"
     ]
    },
    {
     "name": "stderr",
     "output_type": "stream",
     "text": [
      " 46%|█████████████▋                | 882/1936 [1:20:18<1:44:06,  5.93s/it]"
     ]
    },
    {
     "name": "stdout",
     "output_type": "stream",
     "text": [
      "Fitting 3 folds for each of 5 candidates, totalling 15 fits\n",
      "Cannot have number of splits n_splits=3 greater than the number of samples: n_samples=0.\n",
      "Fitting 3 folds for each of 5 candidates, totalling 15 fits\n"
     ]
    },
    {
     "name": "stderr",
     "output_type": "stream",
     "text": [
      " 46%|█████████████▋                | 884/1936 [1:20:29<1:42:39,  5.85s/it]"
     ]
    },
    {
     "name": "stdout",
     "output_type": "stream",
     "text": [
      "Fitting 3 folds for each of 5 candidates, totalling 15 fits\n"
     ]
    },
    {
     "name": "stderr",
     "output_type": "stream",
     "text": [
      " 46%|█████████████▋                | 885/1936 [1:20:41<1:59:09,  6.80s/it]"
     ]
    },
    {
     "name": "stdout",
     "output_type": "stream",
     "text": [
      "Fitting 3 folds for each of 5 candidates, totalling 15 fits\n",
      "Cannot have number of splits n_splits=3 greater than the number of samples: n_samples=0.\n",
      "Fitting 3 folds for each of 5 candidates, totalling 15 fits\n",
      "Cannot have number of splits n_splits=3 greater than the number of samples: n_samples=0.\n",
      "Fitting 3 folds for each of 5 candidates, totalling 15 fits\n",
      "Cannot have number of splits n_splits=3 greater than the number of samples: n_samples=0.\n",
      "Fitting 3 folds for each of 5 candidates, totalling 15 fits\n"
     ]
    },
    {
     "name": "stderr",
     "output_type": "stream",
     "text": [
      " 46%|█████████████▊                | 889/1936 [1:20:53<1:25:42,  4.91s/it]"
     ]
    },
    {
     "name": "stdout",
     "output_type": "stream",
     "text": [
      "Fitting 3 folds for each of 5 candidates, totalling 15 fits\n"
     ]
    },
    {
     "name": "stderr",
     "output_type": "stream",
     "text": [
      " 46%|█████████████▊                | 890/1936 [1:21:07<1:50:26,  6.33s/it]"
     ]
    },
    {
     "name": "stdout",
     "output_type": "stream",
     "text": [
      "Fitting 3 folds for each of 5 candidates, totalling 15 fits\n",
      "Cannot have number of splits n_splits=3 greater than the number of samples: n_samples=0.\n",
      "Fitting 3 folds for each of 5 candidates, totalling 15 fits\n"
     ]
    },
    {
     "name": "stderr",
     "output_type": "stream",
     "text": [
      " 46%|█████████████▊                | 892/1936 [1:21:19<1:48:39,  6.24s/it]"
     ]
    },
    {
     "name": "stdout",
     "output_type": "stream",
     "text": [
      "Fitting 3 folds for each of 5 candidates, totalling 15 fits\n"
     ]
    },
    {
     "name": "stderr",
     "output_type": "stream",
     "text": [
      " 46%|█████████████▊                | 893/1936 [1:21:30<2:04:12,  7.15s/it]"
     ]
    },
    {
     "name": "stdout",
     "output_type": "stream",
     "text": [
      "Fitting 3 folds for each of 5 candidates, totalling 15 fits\n",
      "Cannot have number of splits n_splits=3 greater than the number of samples: n_samples=0.\n",
      "Fitting 3 folds for each of 5 candidates, totalling 15 fits\n",
      "Cannot have number of splits n_splits=3 greater than the number of samples: n_samples=0.\n",
      "Fitting 3 folds for each of 5 candidates, totalling 15 fits\n",
      "Cannot have number of splits n_splits=3 greater than the number of samples: n_samples=0.\n",
      "Fitting 3 folds for each of 5 candidates, totalling 15 fits\n"
     ]
    },
    {
     "name": "stderr",
     "output_type": "stream",
     "text": [
      " 46%|█████████████▉                | 897/1936 [1:21:41<1:25:19,  4.93s/it]"
     ]
    },
    {
     "name": "stdout",
     "output_type": "stream",
     "text": [
      "Fitting 3 folds for each of 5 candidates, totalling 15 fits\n"
     ]
    },
    {
     "name": "stderr",
     "output_type": "stream",
     "text": [
      " 46%|█████████████▉                | 898/1936 [1:21:53<1:42:12,  5.91s/it]"
     ]
    },
    {
     "name": "stdout",
     "output_type": "stream",
     "text": [
      "Fitting 3 folds for each of 5 candidates, totalling 15 fits\n",
      "Cannot have number of splits n_splits=3 greater than the number of samples: n_samples=0.\n",
      "Fitting 3 folds for each of 5 candidates, totalling 15 fits\n"
     ]
    },
    {
     "name": "stderr",
     "output_type": "stream",
     "text": [
      " 46%|█████████████▉                | 900/1936 [1:22:04<1:40:31,  5.82s/it]"
     ]
    },
    {
     "name": "stdout",
     "output_type": "stream",
     "text": [
      "Fitting 3 folds for each of 5 candidates, totalling 15 fits\n"
     ]
    },
    {
     "name": "stderr",
     "output_type": "stream",
     "text": [
      " 47%|█████████████▉                | 901/1936 [1:22:15<1:55:42,  6.71s/it]"
     ]
    },
    {
     "name": "stdout",
     "output_type": "stream",
     "text": [
      "Fitting 3 folds for each of 5 candidates, totalling 15 fits\n",
      "Cannot have number of splits n_splits=3 greater than the number of samples: n_samples=0.\n",
      "Fitting 3 folds for each of 5 candidates, totalling 15 fits\n",
      "Cannot have number of splits n_splits=3 greater than the number of samples: n_samples=0.\n",
      "Fitting 3 folds for each of 5 candidates, totalling 15 fits\n",
      "Cannot have number of splits n_splits=3 greater than the number of samples: n_samples=0.\n",
      "Fitting 3 folds for each of 5 candidates, totalling 15 fits\n"
     ]
    },
    {
     "name": "stderr",
     "output_type": "stream",
     "text": [
      " 47%|██████████████                | 905/1936 [1:22:19<1:05:16,  3.80s/it]"
     ]
    },
    {
     "name": "stdout",
     "output_type": "stream",
     "text": [
      "Fitting 3 folds for each of 5 candidates, totalling 15 fits\n"
     ]
    },
    {
     "name": "stderr",
     "output_type": "stream",
     "text": [
      " 47%|██████████████                | 906/1936 [1:22:22<1:05:05,  3.79s/it]"
     ]
    },
    {
     "name": "stdout",
     "output_type": "stream",
     "text": [
      "Fitting 3 folds for each of 5 candidates, totalling 15 fits\n",
      "Cannot have number of splits n_splits=3 greater than the number of samples: n_samples=0.\n",
      "Fitting 3 folds for each of 5 candidates, totalling 15 fits\n"
     ]
    },
    {
     "name": "stderr",
     "output_type": "stream",
     "text": [
      " 47%|██████████████                | 908/1936 [1:22:26<55:01,  3.21s/it]  "
     ]
    },
    {
     "name": "stdout",
     "output_type": "stream",
     "text": [
      "Fitting 3 folds for each of 5 candidates, totalling 15 fits\n"
     ]
    },
    {
     "name": "stderr",
     "output_type": "stream",
     "text": [
      " 47%|██████████████                | 909/1936 [1:22:30<56:41,  3.31s/it]"
     ]
    },
    {
     "name": "stdout",
     "output_type": "stream",
     "text": [
      "Fitting 3 folds for each of 5 candidates, totalling 15 fits\n",
      "Cannot have number of splits n_splits=3 greater than the number of samples: n_samples=0.\n",
      "Fitting 3 folds for each of 5 candidates, totalling 15 fits\n",
      "Cannot have number of splits n_splits=3 greater than the number of samples: n_samples=0.\n",
      "Fitting 3 folds for each of 5 candidates, totalling 15 fits\n",
      "Cannot have number of splits n_splits=3 greater than the number of samples: n_samples=0.\n",
      "Fitting 3 folds for each of 5 candidates, totalling 15 fits\n"
     ]
    },
    {
     "name": "stderr",
     "output_type": "stream",
     "text": [
      " 47%|██████████████▏               | 913/1936 [1:22:41<51:03,  2.99s/it]"
     ]
    },
    {
     "name": "stdout",
     "output_type": "stream",
     "text": [
      "Fitting 3 folds for each of 5 candidates, totalling 15 fits\n"
     ]
    },
    {
     "name": "stderr",
     "output_type": "stream",
     "text": [
      " 47%|██████████████▏               | 914/1936 [1:22:52<1:12:23,  4.25s/it]"
     ]
    },
    {
     "name": "stdout",
     "output_type": "stream",
     "text": [
      "Fitting 3 folds for each of 5 candidates, totalling 15 fits\n",
      "Cannot have number of splits n_splits=3 greater than the number of samples: n_samples=0.\n",
      "Fitting 3 folds for each of 5 candidates, totalling 15 fits\n"
     ]
    },
    {
     "name": "stderr",
     "output_type": "stream",
     "text": [
      " 47%|██████████████▏               | 916/1936 [1:23:03<1:19:43,  4.69s/it]"
     ]
    },
    {
     "name": "stdout",
     "output_type": "stream",
     "text": [
      "Fitting 3 folds for each of 5 candidates, totalling 15 fits\n"
     ]
    },
    {
     "name": "stderr",
     "output_type": "stream",
     "text": [
      " 47%|██████████████▏               | 917/1936 [1:23:15<1:40:00,  5.89s/it]"
     ]
    },
    {
     "name": "stdout",
     "output_type": "stream",
     "text": [
      "Fitting 3 folds for each of 5 candidates, totalling 15 fits\n",
      "Cannot have number of splits n_splits=3 greater than the number of samples: n_samples=0.\n",
      "Fitting 3 folds for each of 5 candidates, totalling 15 fits\n",
      "Cannot have number of splits n_splits=3 greater than the number of samples: n_samples=0.\n",
      "Fitting 3 folds for each of 5 candidates, totalling 15 fits\n",
      "Cannot have number of splits n_splits=3 greater than the number of samples: n_samples=0.\n",
      "Fitting 3 folds for each of 5 candidates, totalling 15 fits\n"
     ]
    },
    {
     "name": "stderr",
     "output_type": "stream",
     "text": [
      " 48%|██████████████▎               | 921/1936 [1:23:25<1:12:11,  4.27s/it]"
     ]
    },
    {
     "name": "stdout",
     "output_type": "stream",
     "text": [
      "Fitting 3 folds for each of 5 candidates, totalling 15 fits\n"
     ]
    },
    {
     "name": "stderr",
     "output_type": "stream",
     "text": [
      " 48%|██████████████▎               | 922/1936 [1:23:35<1:27:04,  5.15s/it]"
     ]
    },
    {
     "name": "stdout",
     "output_type": "stream",
     "text": [
      "Fitting 3 folds for each of 5 candidates, totalling 15 fits\n",
      "Cannot have number of splits n_splits=3 greater than the number of samples: n_samples=0.\n",
      "Fitting 3 folds for each of 5 candidates, totalling 15 fits\n"
     ]
    },
    {
     "name": "stderr",
     "output_type": "stream",
     "text": [
      " 48%|██████████████▎               | 924/1936 [1:23:45<1:26:26,  5.13s/it]"
     ]
    },
    {
     "name": "stdout",
     "output_type": "stream",
     "text": [
      "Fitting 3 folds for each of 5 candidates, totalling 15 fits\n"
     ]
    },
    {
     "name": "stderr",
     "output_type": "stream",
     "text": [
      " 48%|██████████████▎               | 925/1936 [1:23:56<1:41:13,  6.01s/it]"
     ]
    },
    {
     "name": "stdout",
     "output_type": "stream",
     "text": [
      "Fitting 3 folds for each of 5 candidates, totalling 15 fits\n",
      "Cannot have number of splits n_splits=3 greater than the number of samples: n_samples=0.\n",
      "Fitting 3 folds for each of 5 candidates, totalling 15 fits\n",
      "Cannot have number of splits n_splits=3 greater than the number of samples: n_samples=0.\n",
      "Fitting 3 folds for each of 5 candidates, totalling 15 fits\n",
      "Cannot have number of splits n_splits=3 greater than the number of samples: n_samples=0.\n",
      "Fitting 3 folds for each of 5 candidates, totalling 15 fits\n"
     ]
    },
    {
     "name": "stderr",
     "output_type": "stream",
     "text": [
      " 48%|██████████████▍               | 929/1936 [1:24:06<1:12:59,  4.35s/it]"
     ]
    },
    {
     "name": "stdout",
     "output_type": "stream",
     "text": [
      "Fitting 3 folds for each of 5 candidates, totalling 15 fits\n"
     ]
    },
    {
     "name": "stderr",
     "output_type": "stream",
     "text": [
      " 48%|██████████████▍               | 930/1936 [1:24:18<1:31:10,  5.44s/it]"
     ]
    },
    {
     "name": "stdout",
     "output_type": "stream",
     "text": [
      "Fitting 3 folds for each of 5 candidates, totalling 15 fits\n",
      "Cannot have number of splits n_splits=3 greater than the number of samples: n_samples=0.\n",
      "Fitting 3 folds for each of 5 candidates, totalling 15 fits\n"
     ]
    },
    {
     "name": "stderr",
     "output_type": "stream",
     "text": [
      " 48%|██████████████▍               | 932/1936 [1:24:29<1:31:08,  5.45s/it]"
     ]
    },
    {
     "name": "stdout",
     "output_type": "stream",
     "text": [
      "Fitting 3 folds for each of 5 candidates, totalling 15 fits\n"
     ]
    },
    {
     "name": "stderr",
     "output_type": "stream",
     "text": [
      " 48%|██████████████▍               | 933/1936 [1:24:40<1:47:45,  6.45s/it]"
     ]
    },
    {
     "name": "stdout",
     "output_type": "stream",
     "text": [
      "Fitting 3 folds for each of 5 candidates, totalling 15 fits\n",
      "Cannot have number of splits n_splits=3 greater than the number of samples: n_samples=0.\n",
      "Fitting 3 folds for each of 5 candidates, totalling 15 fits\n",
      "Cannot have number of splits n_splits=3 greater than the number of samples: n_samples=0.\n",
      "Fitting 3 folds for each of 5 candidates, totalling 15 fits\n",
      "Cannot have number of splits n_splits=3 greater than the number of samples: n_samples=0.\n",
      "Fitting 3 folds for each of 5 candidates, totalling 15 fits\n"
     ]
    },
    {
     "name": "stderr",
     "output_type": "stream",
     "text": [
      " 48%|██████████████▌               | 937/1936 [1:24:51<1:15:33,  4.54s/it]"
     ]
    },
    {
     "name": "stdout",
     "output_type": "stream",
     "text": [
      "Fitting 3 folds for each of 5 candidates, totalling 15 fits\n"
     ]
    },
    {
     "name": "stderr",
     "output_type": "stream",
     "text": [
      " 48%|██████████████▌               | 938/1936 [1:25:01<1:30:56,  5.47s/it]"
     ]
    },
    {
     "name": "stdout",
     "output_type": "stream",
     "text": [
      "Fitting 3 folds for each of 5 candidates, totalling 15 fits\n",
      "Cannot have number of splits n_splits=3 greater than the number of samples: n_samples=0.\n",
      "Fitting 3 folds for each of 5 candidates, totalling 15 fits\n"
     ]
    },
    {
     "name": "stderr",
     "output_type": "stream",
     "text": [
      " 49%|██████████████▌               | 940/1936 [1:25:12<1:30:58,  5.48s/it]"
     ]
    },
    {
     "name": "stdout",
     "output_type": "stream",
     "text": [
      "Fitting 3 folds for each of 5 candidates, totalling 15 fits\n"
     ]
    },
    {
     "name": "stderr",
     "output_type": "stream",
     "text": [
      " 49%|██████████████▌               | 941/1936 [1:25:24<1:50:55,  6.69s/it]"
     ]
    },
    {
     "name": "stdout",
     "output_type": "stream",
     "text": [
      "Fitting 3 folds for each of 5 candidates, totalling 15 fits\n",
      "Cannot have number of splits n_splits=3 greater than the number of samples: n_samples=0.\n",
      "Fitting 3 folds for each of 5 candidates, totalling 15 fits\n",
      "Cannot have number of splits n_splits=3 greater than the number of samples: n_samples=0.\n",
      "Fitting 3 folds for each of 5 candidates, totalling 15 fits\n",
      "Cannot have number of splits n_splits=3 greater than the number of samples: n_samples=0.\n",
      "Fitting 3 folds for each of 5 candidates, totalling 15 fits\n"
     ]
    },
    {
     "name": "stderr",
     "output_type": "stream",
     "text": [
      " 49%|██████████████▋               | 945/1936 [1:25:37<1:20:58,  4.90s/it]"
     ]
    },
    {
     "name": "stdout",
     "output_type": "stream",
     "text": [
      "Fitting 3 folds for each of 5 candidates, totalling 15 fits\n"
     ]
    },
    {
     "name": "stderr",
     "output_type": "stream",
     "text": [
      " 49%|██████████████▋               | 946/1936 [1:25:49<1:39:21,  6.02s/it]"
     ]
    },
    {
     "name": "stdout",
     "output_type": "stream",
     "text": [
      "Fitting 3 folds for each of 5 candidates, totalling 15 fits\n",
      "Cannot have number of splits n_splits=3 greater than the number of samples: n_samples=0.\n",
      "Fitting 3 folds for each of 5 candidates, totalling 15 fits\n"
     ]
    },
    {
     "name": "stderr",
     "output_type": "stream",
     "text": [
      " 49%|██████████████▋               | 948/1936 [1:26:01<1:39:04,  6.02s/it]"
     ]
    },
    {
     "name": "stdout",
     "output_type": "stream",
     "text": [
      "Fitting 3 folds for each of 5 candidates, totalling 15 fits\n"
     ]
    },
    {
     "name": "stderr",
     "output_type": "stream",
     "text": [
      " 49%|██████████████▋               | 949/1936 [1:26:14<1:57:30,  7.14s/it]"
     ]
    },
    {
     "name": "stdout",
     "output_type": "stream",
     "text": [
      "Fitting 3 folds for each of 5 candidates, totalling 15 fits\n",
      "Cannot have number of splits n_splits=3 greater than the number of samples: n_samples=0.\n",
      "Fitting 3 folds for each of 5 candidates, totalling 15 fits\n",
      "Cannot have number of splits n_splits=3 greater than the number of samples: n_samples=0.\n",
      "Fitting 3 folds for each of 5 candidates, totalling 15 fits\n",
      "Cannot have number of splits n_splits=3 greater than the number of samples: n_samples=0.\n",
      "Fitting 3 folds for each of 5 candidates, totalling 15 fits\n"
     ]
    },
    {
     "name": "stderr",
     "output_type": "stream",
     "text": [
      " 49%|██████████████▊               | 953/1936 [1:26:23<1:18:03,  4.76s/it]"
     ]
    },
    {
     "name": "stdout",
     "output_type": "stream",
     "text": [
      "Fitting 3 folds for each of 5 candidates, totalling 15 fits\n"
     ]
    },
    {
     "name": "stderr",
     "output_type": "stream",
     "text": [
      " 49%|██████████████▊               | 954/1936 [1:26:33<1:30:06,  5.51s/it]"
     ]
    },
    {
     "name": "stdout",
     "output_type": "stream",
     "text": [
      "Fitting 3 folds for each of 5 candidates, totalling 15 fits\n",
      "Cannot have number of splits n_splits=3 greater than the number of samples: n_samples=0.\n",
      "Fitting 3 folds for each of 5 candidates, totalling 15 fits\n"
     ]
    },
    {
     "name": "stderr",
     "output_type": "stream",
     "text": [
      " 49%|██████████████▊               | 956/1936 [1:26:43<1:28:06,  5.39s/it]"
     ]
    },
    {
     "name": "stdout",
     "output_type": "stream",
     "text": [
      "Fitting 3 folds for each of 5 candidates, totalling 15 fits\n"
     ]
    },
    {
     "name": "stderr",
     "output_type": "stream",
     "text": [
      " 49%|██████████████▊               | 957/1936 [1:26:53<1:41:51,  6.24s/it]"
     ]
    },
    {
     "name": "stdout",
     "output_type": "stream",
     "text": [
      "Fitting 3 folds for each of 5 candidates, totalling 15 fits\n",
      "Cannot have number of splits n_splits=3 greater than the number of samples: n_samples=0.\n",
      "Fitting 3 folds for each of 5 candidates, totalling 15 fits\n",
      "Cannot have number of splits n_splits=3 greater than the number of samples: n_samples=0.\n",
      "Fitting 3 folds for each of 5 candidates, totalling 15 fits\n",
      "Cannot have number of splits n_splits=3 greater than the number of samples: n_samples=0.\n",
      "Fitting 3 folds for each of 5 candidates, totalling 15 fits\n"
     ]
    },
    {
     "name": "stderr",
     "output_type": "stream",
     "text": [
      " 50%|██████████████▉               | 961/1936 [1:27:06<1:15:38,  4.65s/it]"
     ]
    },
    {
     "name": "stdout",
     "output_type": "stream",
     "text": [
      "Fitting 3 folds for each of 5 candidates, totalling 15 fits\n"
     ]
    },
    {
     "name": "stderr",
     "output_type": "stream",
     "text": [
      " 50%|██████████████▉               | 962/1936 [1:27:17<1:32:43,  5.71s/it]"
     ]
    },
    {
     "name": "stdout",
     "output_type": "stream",
     "text": [
      "Fitting 3 folds for each of 5 candidates, totalling 15 fits\n",
      "Cannot have number of splits n_splits=3 greater than the number of samples: n_samples=0.\n",
      "Fitting 3 folds for each of 5 candidates, totalling 15 fits\n"
     ]
    },
    {
     "name": "stderr",
     "output_type": "stream",
     "text": [
      " 50%|██████████████▉               | 964/1936 [1:27:29<1:31:54,  5.67s/it]"
     ]
    },
    {
     "name": "stdout",
     "output_type": "stream",
     "text": [
      "Fitting 3 folds for each of 5 candidates, totalling 15 fits\n"
     ]
    },
    {
     "name": "stderr",
     "output_type": "stream",
     "text": [
      " 50%|██████████████▉               | 965/1936 [1:27:40<1:47:17,  6.63s/it]"
     ]
    },
    {
     "name": "stdout",
     "output_type": "stream",
     "text": [
      "Fitting 3 folds for each of 5 candidates, totalling 15 fits\n",
      "Cannot have number of splits n_splits=3 greater than the number of samples: n_samples=0.\n",
      "Fitting 3 folds for each of 5 candidates, totalling 15 fits\n",
      "Cannot have number of splits n_splits=3 greater than the number of samples: n_samples=0.\n",
      "Fitting 3 folds for each of 5 candidates, totalling 15 fits\n",
      "Cannot have number of splits n_splits=3 greater than the number of samples: n_samples=0.\n",
      "Fitting 3 folds for each of 5 candidates, totalling 15 fits\n"
     ]
    },
    {
     "name": "stderr",
     "output_type": "stream",
     "text": [
      " 50%|███████████████               | 969/1936 [1:27:49<1:12:13,  4.48s/it]"
     ]
    },
    {
     "name": "stdout",
     "output_type": "stream",
     "text": [
      "Fitting 3 folds for each of 5 candidates, totalling 15 fits\n"
     ]
    },
    {
     "name": "stderr",
     "output_type": "stream",
     "text": [
      " 50%|███████████████               | 970/1936 [1:27:58<1:24:10,  5.23s/it]"
     ]
    },
    {
     "name": "stdout",
     "output_type": "stream",
     "text": [
      "Fitting 3 folds for each of 5 candidates, totalling 15 fits\n",
      "Cannot have number of splits n_splits=3 greater than the number of samples: n_samples=0.\n",
      "Fitting 3 folds for each of 5 candidates, totalling 15 fits\n"
     ]
    },
    {
     "name": "stderr",
     "output_type": "stream",
     "text": [
      " 50%|███████████████               | 972/1936 [1:28:08<1:20:40,  5.02s/it]"
     ]
    },
    {
     "name": "stdout",
     "output_type": "stream",
     "text": [
      "Fitting 3 folds for each of 5 candidates, totalling 15 fits\n"
     ]
    },
    {
     "name": "stderr",
     "output_type": "stream",
     "text": [
      " 50%|███████████████               | 973/1936 [1:28:16<1:31:46,  5.72s/it]"
     ]
    },
    {
     "name": "stdout",
     "output_type": "stream",
     "text": [
      "Fitting 3 folds for each of 5 candidates, totalling 15 fits\n",
      "Cannot have number of splits n_splits=3 greater than the number of samples: n_samples=0.\n",
      "Fitting 3 folds for each of 5 candidates, totalling 15 fits\n",
      "Cannot have number of splits n_splits=3 greater than the number of samples: n_samples=0.\n",
      "Fitting 3 folds for each of 5 candidates, totalling 15 fits\n",
      "Cannot have number of splits n_splits=3 greater than the number of samples: n_samples=0.\n",
      "Fitting 3 folds for each of 5 candidates, totalling 15 fits\n"
     ]
    },
    {
     "name": "stderr",
     "output_type": "stream",
     "text": [
      " 50%|███████████████▏              | 977/1936 [1:28:26<1:05:03,  4.07s/it]"
     ]
    },
    {
     "name": "stdout",
     "output_type": "stream",
     "text": [
      "Fitting 3 folds for each of 5 candidates, totalling 15 fits\n"
     ]
    },
    {
     "name": "stderr",
     "output_type": "stream",
     "text": [
      " 51%|███████████████▏              | 978/1936 [1:28:36<1:19:24,  4.97s/it]"
     ]
    },
    {
     "name": "stdout",
     "output_type": "stream",
     "text": [
      "Fitting 3 folds for each of 5 candidates, totalling 15 fits\n",
      "Cannot have number of splits n_splits=3 greater than the number of samples: n_samples=0.\n",
      "Fitting 3 folds for each of 5 candidates, totalling 15 fits\n"
     ]
    },
    {
     "name": "stderr",
     "output_type": "stream",
     "text": [
      " 51%|███████████████▏              | 980/1936 [1:28:46<1:19:16,  4.98s/it]"
     ]
    },
    {
     "name": "stdout",
     "output_type": "stream",
     "text": [
      "Fitting 3 folds for each of 5 candidates, totalling 15 fits\n"
     ]
    },
    {
     "name": "stderr",
     "output_type": "stream",
     "text": [
      " 51%|███████████████▏              | 981/1936 [1:28:57<1:35:04,  5.97s/it]"
     ]
    },
    {
     "name": "stdout",
     "output_type": "stream",
     "text": [
      "Fitting 3 folds for each of 5 candidates, totalling 15 fits\n",
      "Cannot have number of splits n_splits=3 greater than the number of samples: n_samples=0.\n",
      "Fitting 3 folds for each of 5 candidates, totalling 15 fits\n",
      "Cannot have number of splits n_splits=3 greater than the number of samples: n_samples=0.\n",
      "Fitting 3 folds for each of 5 candidates, totalling 15 fits\n",
      "Cannot have number of splits n_splits=3 greater than the number of samples: n_samples=0.\n",
      "Fitting 3 folds for each of 5 candidates, totalling 15 fits\n"
     ]
    },
    {
     "name": "stderr",
     "output_type": "stream",
     "text": [
      " 51%|███████████████▎              | 985/1936 [1:29:08<1:08:23,  4.31s/it]"
     ]
    },
    {
     "name": "stdout",
     "output_type": "stream",
     "text": [
      "Fitting 3 folds for each of 5 candidates, totalling 15 fits\n"
     ]
    },
    {
     "name": "stderr",
     "output_type": "stream",
     "text": [
      " 51%|███████████████▎              | 986/1936 [1:29:18<1:24:03,  5.31s/it]"
     ]
    },
    {
     "name": "stdout",
     "output_type": "stream",
     "text": [
      "Fitting 3 folds for each of 5 candidates, totalling 15 fits\n",
      "Cannot have number of splits n_splits=3 greater than the number of samples: n_samples=0.\n",
      "Fitting 3 folds for each of 5 candidates, totalling 15 fits\n"
     ]
    },
    {
     "name": "stderr",
     "output_type": "stream",
     "text": [
      " 51%|███████████████▎              | 988/1936 [1:29:29<1:23:31,  5.29s/it]"
     ]
    },
    {
     "name": "stdout",
     "output_type": "stream",
     "text": [
      "Fitting 3 folds for each of 5 candidates, totalling 15 fits\n"
     ]
    },
    {
     "name": "stderr",
     "output_type": "stream",
     "text": [
      " 51%|███████████████▎              | 989/1936 [1:29:40<1:38:52,  6.26s/it]"
     ]
    },
    {
     "name": "stdout",
     "output_type": "stream",
     "text": [
      "Fitting 3 folds for each of 5 candidates, totalling 15 fits\n",
      "Cannot have number of splits n_splits=3 greater than the number of samples: n_samples=0.\n",
      "Fitting 3 folds for each of 5 candidates, totalling 15 fits\n",
      "Cannot have number of splits n_splits=3 greater than the number of samples: n_samples=0.\n",
      "Fitting 3 folds for each of 5 candidates, totalling 15 fits\n",
      "Cannot have number of splits n_splits=3 greater than the number of samples: n_samples=0.\n",
      "Fitting 3 folds for each of 5 candidates, totalling 15 fits\n"
     ]
    },
    {
     "name": "stderr",
     "output_type": "stream",
     "text": [
      " 51%|███████████████▍              | 993/1936 [1:29:53<1:16:01,  4.84s/it]"
     ]
    },
    {
     "name": "stdout",
     "output_type": "stream",
     "text": [
      "Fitting 3 folds for each of 5 candidates, totalling 15 fits\n"
     ]
    },
    {
     "name": "stderr",
     "output_type": "stream",
     "text": [
      " 51%|███████████████▍              | 994/1936 [1:30:07<1:36:46,  6.16s/it]"
     ]
    },
    {
     "name": "stdout",
     "output_type": "stream",
     "text": [
      "Fitting 3 folds for each of 5 candidates, totalling 15 fits\n",
      "Cannot have number of splits n_splits=3 greater than the number of samples: n_samples=0.\n",
      "Fitting 3 folds for each of 5 candidates, totalling 15 fits\n"
     ]
    },
    {
     "name": "stderr",
     "output_type": "stream",
     "text": [
      " 51%|███████████████▍              | 996/1936 [1:30:19<1:35:57,  6.13s/it]"
     ]
    },
    {
     "name": "stdout",
     "output_type": "stream",
     "text": [
      "Fitting 3 folds for each of 5 candidates, totalling 15 fits\n"
     ]
    },
    {
     "name": "stderr",
     "output_type": "stream",
     "text": [
      " 51%|███████████████▍              | 997/1936 [1:30:30<1:50:56,  7.09s/it]"
     ]
    },
    {
     "name": "stdout",
     "output_type": "stream",
     "text": [
      "Fitting 3 folds for each of 5 candidates, totalling 15 fits\n",
      "Cannot have number of splits n_splits=3 greater than the number of samples: n_samples=0.\n",
      "Fitting 3 folds for each of 5 candidates, totalling 15 fits\n",
      "Cannot have number of splits n_splits=3 greater than the number of samples: n_samples=0.\n",
      "Fitting 3 folds for each of 5 candidates, totalling 15 fits\n",
      "Cannot have number of splits n_splits=3 greater than the number of samples: n_samples=0.\n",
      "Fitting 3 folds for each of 5 candidates, totalling 15 fits\n"
     ]
    },
    {
     "name": "stderr",
     "output_type": "stream",
     "text": [
      " 52%|███████████████▌              | 1001/1936 [1:30:42<1:17:15,  4.96s/it]"
     ]
    },
    {
     "name": "stdout",
     "output_type": "stream",
     "text": [
      "Fitting 3 folds for each of 5 candidates, totalling 15 fits\n"
     ]
    },
    {
     "name": "stderr",
     "output_type": "stream",
     "text": [
      " 52%|███████████████▌              | 1002/1936 [1:30:53<1:32:29,  5.94s/it]"
     ]
    },
    {
     "name": "stdout",
     "output_type": "stream",
     "text": [
      "Fitting 3 folds for each of 5 candidates, totalling 15 fits\n",
      "Cannot have number of splits n_splits=3 greater than the number of samples: n_samples=0.\n",
      "Fitting 3 folds for each of 5 candidates, totalling 15 fits\n"
     ]
    },
    {
     "name": "stderr",
     "output_type": "stream",
     "text": [
      " 52%|███████████████▌              | 1004/1936 [1:31:06<1:33:46,  6.04s/it]"
     ]
    },
    {
     "name": "stdout",
     "output_type": "stream",
     "text": [
      "Fitting 3 folds for each of 5 candidates, totalling 15 fits\n"
     ]
    },
    {
     "name": "stderr",
     "output_type": "stream",
     "text": [
      " 52%|███████████████▌              | 1005/1936 [1:31:18<1:49:44,  7.07s/it]"
     ]
    },
    {
     "name": "stdout",
     "output_type": "stream",
     "text": [
      "Fitting 3 folds for each of 5 candidates, totalling 15 fits\n",
      "Cannot have number of splits n_splits=3 greater than the number of samples: n_samples=0.\n",
      "Fitting 3 folds for each of 5 candidates, totalling 15 fits\n",
      "Cannot have number of splits n_splits=3 greater than the number of samples: n_samples=0.\n",
      "Fitting 3 folds for each of 5 candidates, totalling 15 fits\n",
      "Cannot have number of splits n_splits=3 greater than the number of samples: n_samples=0.\n",
      "Fitting 3 folds for each of 5 candidates, totalling 15 fits\n"
     ]
    },
    {
     "name": "stderr",
     "output_type": "stream",
     "text": [
      " 52%|███████████████▋              | 1009/1936 [1:31:29<1:16:38,  4.96s/it]"
     ]
    },
    {
     "name": "stdout",
     "output_type": "stream",
     "text": [
      "Fitting 3 folds for each of 5 candidates, totalling 15 fits\n"
     ]
    },
    {
     "name": "stderr",
     "output_type": "stream",
     "text": [
      " 52%|███████████████▋              | 1010/1936 [1:31:41<1:31:30,  5.93s/it]"
     ]
    },
    {
     "name": "stdout",
     "output_type": "stream",
     "text": [
      "Fitting 3 folds for each of 5 candidates, totalling 15 fits\n",
      "Cannot have number of splits n_splits=3 greater than the number of samples: n_samples=0.\n",
      "Fitting 3 folds for each of 5 candidates, totalling 15 fits\n"
     ]
    },
    {
     "name": "stderr",
     "output_type": "stream",
     "text": [
      " 52%|███████████████▋              | 1012/1936 [1:31:53<1:31:58,  5.97s/it]"
     ]
    },
    {
     "name": "stdout",
     "output_type": "stream",
     "text": [
      "Fitting 3 folds for each of 5 candidates, totalling 15 fits\n"
     ]
    },
    {
     "name": "stderr",
     "output_type": "stream",
     "text": [
      " 52%|███████████████▋              | 1013/1936 [1:32:05<1:49:28,  7.12s/it]"
     ]
    },
    {
     "name": "stdout",
     "output_type": "stream",
     "text": [
      "Fitting 3 folds for each of 5 candidates, totalling 15 fits\n",
      "Cannot have number of splits n_splits=3 greater than the number of samples: n_samples=0.\n",
      "Fitting 3 folds for each of 5 candidates, totalling 15 fits\n",
      "Cannot have number of splits n_splits=3 greater than the number of samples: n_samples=0.\n",
      "Fitting 3 folds for each of 5 candidates, totalling 15 fits\n",
      "Cannot have number of splits n_splits=3 greater than the number of samples: n_samples=0.\n",
      "Fitting 3 folds for each of 5 candidates, totalling 15 fits\n"
     ]
    },
    {
     "name": "stderr",
     "output_type": "stream",
     "text": [
      " 53%|███████████████▊              | 1017/1936 [1:32:17<1:16:29,  4.99s/it]"
     ]
    },
    {
     "name": "stdout",
     "output_type": "stream",
     "text": [
      "Fitting 3 folds for each of 5 candidates, totalling 15 fits\n"
     ]
    },
    {
     "name": "stderr",
     "output_type": "stream",
     "text": [
      " 53%|███████████████▊              | 1018/1936 [1:32:28<1:31:17,  5.97s/it]"
     ]
    },
    {
     "name": "stdout",
     "output_type": "stream",
     "text": [
      "Fitting 3 folds for each of 5 candidates, totalling 15 fits\n",
      "Cannot have number of splits n_splits=3 greater than the number of samples: n_samples=0.\n",
      "Fitting 3 folds for each of 5 candidates, totalling 15 fits\n"
     ]
    },
    {
     "name": "stderr",
     "output_type": "stream",
     "text": [
      " 53%|███████████████▊              | 1020/1936 [1:32:39<1:28:06,  5.77s/it]"
     ]
    },
    {
     "name": "stdout",
     "output_type": "stream",
     "text": [
      "Fitting 3 folds for each of 5 candidates, totalling 15 fits\n"
     ]
    },
    {
     "name": "stderr",
     "output_type": "stream",
     "text": [
      " 53%|███████████████▊              | 1021/1936 [1:32:50<1:42:42,  6.73s/it]"
     ]
    },
    {
     "name": "stdout",
     "output_type": "stream",
     "text": [
      "Fitting 3 folds for each of 5 candidates, totalling 15 fits\n",
      "Cannot have number of splits n_splits=3 greater than the number of samples: n_samples=0.\n",
      "Fitting 3 folds for each of 5 candidates, totalling 15 fits\n",
      "Cannot have number of splits n_splits=3 greater than the number of samples: n_samples=0.\n",
      "Fitting 3 folds for each of 5 candidates, totalling 15 fits\n",
      "Cannot have number of splits n_splits=3 greater than the number of samples: n_samples=0.\n",
      "Fitting 3 folds for each of 5 candidates, totalling 15 fits\n"
     ]
    },
    {
     "name": "stderr",
     "output_type": "stream",
     "text": [
      " 53%|███████████████▉              | 1025/1936 [1:33:01<1:12:32,  4.78s/it]"
     ]
    },
    {
     "name": "stdout",
     "output_type": "stream",
     "text": [
      "Fitting 3 folds for each of 5 candidates, totalling 15 fits\n"
     ]
    },
    {
     "name": "stderr",
     "output_type": "stream",
     "text": [
      " 53%|███████████████▉              | 1026/1936 [1:33:12<1:26:29,  5.70s/it]"
     ]
    },
    {
     "name": "stdout",
     "output_type": "stream",
     "text": [
      "Fitting 3 folds for each of 5 candidates, totalling 15 fits\n",
      "Cannot have number of splits n_splits=3 greater than the number of samples: n_samples=0.\n",
      "Fitting 3 folds for each of 5 candidates, totalling 15 fits\n"
     ]
    },
    {
     "name": "stderr",
     "output_type": "stream",
     "text": [
      " 53%|███████████████▉              | 1028/1936 [1:33:23<1:24:43,  5.60s/it]"
     ]
    },
    {
     "name": "stdout",
     "output_type": "stream",
     "text": [
      "Fitting 3 folds for each of 5 candidates, totalling 15 fits\n"
     ]
    },
    {
     "name": "stderr",
     "output_type": "stream",
     "text": [
      " 53%|███████████████▉              | 1029/1936 [1:33:34<1:38:34,  6.52s/it]"
     ]
    },
    {
     "name": "stdout",
     "output_type": "stream",
     "text": [
      "Fitting 3 folds for each of 5 candidates, totalling 15 fits\n",
      "Cannot have number of splits n_splits=3 greater than the number of samples: n_samples=0.\n",
      "Fitting 3 folds for each of 5 candidates, totalling 15 fits\n",
      "Cannot have number of splits n_splits=3 greater than the number of samples: n_samples=0.\n",
      "Fitting 3 folds for each of 5 candidates, totalling 15 fits\n",
      "Cannot have number of splits n_splits=3 greater than the number of samples: n_samples=0.\n",
      "Fitting 3 folds for each of 5 candidates, totalling 15 fits\n"
     ]
    },
    {
     "name": "stderr",
     "output_type": "stream",
     "text": [
      " 53%|████████████████              | 1033/1936 [1:33:43<1:06:54,  4.45s/it]"
     ]
    },
    {
     "name": "stdout",
     "output_type": "stream",
     "text": [
      "Fitting 3 folds for each of 5 candidates, totalling 15 fits\n"
     ]
    },
    {
     "name": "stderr",
     "output_type": "stream",
     "text": [
      " 53%|████████████████              | 1034/1936 [1:33:53<1:18:39,  5.23s/it]"
     ]
    },
    {
     "name": "stdout",
     "output_type": "stream",
     "text": [
      "Fitting 3 folds for each of 5 candidates, totalling 15 fits\n",
      "Cannot have number of splits n_splits=3 greater than the number of samples: n_samples=0.\n",
      "Fitting 3 folds for each of 5 candidates, totalling 15 fits\n"
     ]
    },
    {
     "name": "stderr",
     "output_type": "stream",
     "text": [
      " 54%|████████████████              | 1036/1936 [1:34:03<1:16:43,  5.11s/it]"
     ]
    },
    {
     "name": "stdout",
     "output_type": "stream",
     "text": [
      "Fitting 3 folds for each of 5 candidates, totalling 15 fits\n"
     ]
    },
    {
     "name": "stderr",
     "output_type": "stream",
     "text": [
      " 54%|████████████████              | 1037/1936 [1:34:13<1:31:22,  6.10s/it]"
     ]
    },
    {
     "name": "stdout",
     "output_type": "stream",
     "text": [
      "Fitting 3 folds for each of 5 candidates, totalling 15 fits\n",
      "Cannot have number of splits n_splits=3 greater than the number of samples: n_samples=0.\n",
      "Fitting 3 folds for each of 5 candidates, totalling 15 fits\n",
      "Cannot have number of splits n_splits=3 greater than the number of samples: n_samples=0.\n",
      "Fitting 3 folds for each of 5 candidates, totalling 15 fits\n",
      "Cannot have number of splits n_splits=3 greater than the number of samples: n_samples=0.\n",
      "Fitting 3 folds for each of 5 candidates, totalling 15 fits\n"
     ]
    },
    {
     "name": "stderr",
     "output_type": "stream",
     "text": [
      " 54%|████████████████▏             | 1041/1936 [1:34:24<1:04:45,  4.34s/it]"
     ]
    },
    {
     "name": "stdout",
     "output_type": "stream",
     "text": [
      "Fitting 3 folds for each of 5 candidates, totalling 15 fits\n"
     ]
    },
    {
     "name": "stderr",
     "output_type": "stream",
     "text": [
      " 54%|████████████████▏             | 1042/1936 [1:34:34<1:19:14,  5.32s/it]"
     ]
    },
    {
     "name": "stdout",
     "output_type": "stream",
     "text": [
      "Fitting 3 folds for each of 5 candidates, totalling 15 fits\n",
      "Cannot have number of splits n_splits=3 greater than the number of samples: n_samples=0.\n",
      "Fitting 3 folds for each of 5 candidates, totalling 15 fits\n"
     ]
    },
    {
     "name": "stderr",
     "output_type": "stream",
     "text": [
      " 54%|████████████████▏             | 1044/1936 [1:34:45<1:18:04,  5.25s/it]"
     ]
    },
    {
     "name": "stdout",
     "output_type": "stream",
     "text": [
      "Fitting 3 folds for each of 5 candidates, totalling 15 fits\n"
     ]
    },
    {
     "name": "stderr",
     "output_type": "stream",
     "text": [
      " 54%|████████████████▏             | 1045/1936 [1:34:55<1:32:09,  6.21s/it]"
     ]
    },
    {
     "name": "stdout",
     "output_type": "stream",
     "text": [
      "Fitting 3 folds for each of 5 candidates, totalling 15 fits\n",
      "Cannot have number of splits n_splits=3 greater than the number of samples: n_samples=0.\n",
      "Fitting 3 folds for each of 5 candidates, totalling 15 fits\n",
      "Cannot have number of splits n_splits=3 greater than the number of samples: n_samples=0.\n",
      "Fitting 3 folds for each of 5 candidates, totalling 15 fits\n",
      "Cannot have number of splits n_splits=3 greater than the number of samples: n_samples=0.\n",
      "Fitting 3 folds for each of 5 candidates, totalling 15 fits\n"
     ]
    },
    {
     "name": "stderr",
     "output_type": "stream",
     "text": [
      " 54%|████████████████▎             | 1049/1936 [1:35:05<1:04:11,  4.34s/it]"
     ]
    },
    {
     "name": "stdout",
     "output_type": "stream",
     "text": [
      "Fitting 3 folds for each of 5 candidates, totalling 15 fits\n"
     ]
    },
    {
     "name": "stderr",
     "output_type": "stream",
     "text": [
      " 54%|████████████████▎             | 1050/1936 [1:35:15<1:15:12,  5.09s/it]"
     ]
    },
    {
     "name": "stdout",
     "output_type": "stream",
     "text": [
      "Fitting 3 folds for each of 5 candidates, totalling 15 fits\n",
      "Cannot have number of splits n_splits=3 greater than the number of samples: n_samples=0.\n",
      "Fitting 3 folds for each of 5 candidates, totalling 15 fits\n"
     ]
    },
    {
     "name": "stderr",
     "output_type": "stream",
     "text": [
      " 54%|████████████████▎             | 1052/1936 [1:35:23<1:11:43,  4.87s/it]"
     ]
    },
    {
     "name": "stdout",
     "output_type": "stream",
     "text": [
      "Fitting 3 folds for each of 5 candidates, totalling 15 fits\n"
     ]
    },
    {
     "name": "stderr",
     "output_type": "stream",
     "text": [
      " 54%|████████████████▎             | 1053/1936 [1:35:32<1:21:15,  5.52s/it]"
     ]
    },
    {
     "name": "stdout",
     "output_type": "stream",
     "text": [
      "Fitting 3 folds for each of 5 candidates, totalling 15 fits\n",
      "Cannot have number of splits n_splits=3 greater than the number of samples: n_samples=0.\n",
      "Fitting 3 folds for each of 5 candidates, totalling 15 fits\n",
      "Cannot have number of splits n_splits=3 greater than the number of samples: n_samples=0.\n",
      "Fitting 3 folds for each of 5 candidates, totalling 15 fits\n",
      "Cannot have number of splits n_splits=3 greater than the number of samples: n_samples=0.\n",
      "Fitting 3 folds for each of 5 candidates, totalling 15 fits\n"
     ]
    },
    {
     "name": "stderr",
     "output_type": "stream",
     "text": [
      " 55%|████████████████▍             | 1057/1936 [1:35:43<1:01:30,  4.20s/it]"
     ]
    },
    {
     "name": "stdout",
     "output_type": "stream",
     "text": [
      "Fitting 3 folds for each of 5 candidates, totalling 15 fits\n"
     ]
    },
    {
     "name": "stderr",
     "output_type": "stream",
     "text": [
      " 55%|████████████████▍             | 1058/1936 [1:35:55<1:17:17,  5.28s/it]"
     ]
    },
    {
     "name": "stdout",
     "output_type": "stream",
     "text": [
      "Fitting 3 folds for each of 5 candidates, totalling 15 fits\n",
      "Cannot have number of splits n_splits=3 greater than the number of samples: n_samples=0.\n",
      "Fitting 3 folds for each of 5 candidates, totalling 15 fits\n"
     ]
    },
    {
     "name": "stderr",
     "output_type": "stream",
     "text": [
      " 55%|████████████████▍             | 1060/1936 [1:36:07<1:20:17,  5.50s/it]"
     ]
    },
    {
     "name": "stdout",
     "output_type": "stream",
     "text": [
      "Fitting 3 folds for each of 5 candidates, totalling 15 fits\n"
     ]
    },
    {
     "name": "stderr",
     "output_type": "stream",
     "text": [
      " 55%|████████████████▍             | 1061/1936 [1:36:18<1:36:19,  6.61s/it]"
     ]
    },
    {
     "name": "stdout",
     "output_type": "stream",
     "text": [
      "Fitting 3 folds for each of 5 candidates, totalling 15 fits\n",
      "Cannot have number of splits n_splits=3 greater than the number of samples: n_samples=0.\n",
      "Fitting 3 folds for each of 5 candidates, totalling 15 fits\n",
      "Cannot have number of splits n_splits=3 greater than the number of samples: n_samples=0.\n",
      "Fitting 3 folds for each of 5 candidates, totalling 15 fits\n",
      "Cannot have number of splits n_splits=3 greater than the number of samples: n_samples=0.\n",
      "Fitting 3 folds for each of 5 candidates, totalling 15 fits\n"
     ]
    },
    {
     "name": "stderr",
     "output_type": "stream",
     "text": [
      " 55%|████████████████▌             | 1065/1936 [1:36:29<1:06:55,  4.61s/it]"
     ]
    },
    {
     "name": "stdout",
     "output_type": "stream",
     "text": [
      "Fitting 3 folds for each of 5 candidates, totalling 15 fits\n"
     ]
    },
    {
     "name": "stderr",
     "output_type": "stream",
     "text": [
      " 55%|████████████████▌             | 1066/1936 [1:36:40<1:20:18,  5.54s/it]"
     ]
    },
    {
     "name": "stdout",
     "output_type": "stream",
     "text": [
      "Fitting 3 folds for each of 5 candidates, totalling 15 fits\n",
      "Cannot have number of splits n_splits=3 greater than the number of samples: n_samples=0.\n",
      "Fitting 3 folds for each of 5 candidates, totalling 15 fits\n"
     ]
    },
    {
     "name": "stderr",
     "output_type": "stream",
     "text": [
      " 55%|████████████████▌             | 1068/1936 [1:36:51<1:20:31,  5.57s/it]"
     ]
    },
    {
     "name": "stdout",
     "output_type": "stream",
     "text": [
      "Fitting 3 folds for each of 5 candidates, totalling 15 fits\n"
     ]
    },
    {
     "name": "stderr",
     "output_type": "stream",
     "text": [
      " 55%|████████████████▌             | 1069/1936 [1:37:03<1:36:04,  6.65s/it]"
     ]
    },
    {
     "name": "stdout",
     "output_type": "stream",
     "text": [
      "Fitting 3 folds for each of 5 candidates, totalling 15 fits\n",
      "Cannot have number of splits n_splits=3 greater than the number of samples: n_samples=0.\n",
      "Fitting 3 folds for each of 5 candidates, totalling 15 fits\n",
      "Cannot have number of splits n_splits=3 greater than the number of samples: n_samples=0.\n",
      "Fitting 3 folds for each of 5 candidates, totalling 15 fits\n",
      "Cannot have number of splits n_splits=3 greater than the number of samples: n_samples=0.\n",
      "Fitting 3 folds for each of 5 candidates, totalling 15 fits\n"
     ]
    },
    {
     "name": "stderr",
     "output_type": "stream",
     "text": [
      " 55%|████████████████▋             | 1073/1936 [1:37:14<1:07:56,  4.72s/it]"
     ]
    },
    {
     "name": "stdout",
     "output_type": "stream",
     "text": [
      "Fitting 3 folds for each of 5 candidates, totalling 15 fits\n"
     ]
    },
    {
     "name": "stderr",
     "output_type": "stream",
     "text": [
      " 55%|████████████████▋             | 1074/1936 [1:37:25<1:21:46,  5.69s/it]"
     ]
    },
    {
     "name": "stdout",
     "output_type": "stream",
     "text": [
      "Fitting 3 folds for each of 5 candidates, totalling 15 fits\n",
      "Cannot have number of splits n_splits=3 greater than the number of samples: n_samples=0.\n",
      "Fitting 3 folds for each of 5 candidates, totalling 15 fits\n"
     ]
    },
    {
     "name": "stderr",
     "output_type": "stream",
     "text": [
      " 56%|████████████████▋             | 1076/1936 [1:37:36<1:21:27,  5.68s/it]"
     ]
    },
    {
     "name": "stdout",
     "output_type": "stream",
     "text": [
      "Fitting 3 folds for each of 5 candidates, totalling 15 fits\n"
     ]
    },
    {
     "name": "stderr",
     "output_type": "stream",
     "text": [
      " 56%|████████████████▋             | 1077/1936 [1:37:49<1:38:20,  6.87s/it]"
     ]
    },
    {
     "name": "stdout",
     "output_type": "stream",
     "text": [
      "Fitting 3 folds for each of 5 candidates, totalling 15 fits\n",
      "Cannot have number of splits n_splits=3 greater than the number of samples: n_samples=0.\n",
      "Fitting 3 folds for each of 5 candidates, totalling 15 fits\n",
      "Cannot have number of splits n_splits=3 greater than the number of samples: n_samples=0.\n",
      "Fitting 3 folds for each of 5 candidates, totalling 15 fits\n",
      "Cannot have number of splits n_splits=3 greater than the number of samples: n_samples=0.\n",
      "Fitting 3 folds for each of 5 candidates, totalling 15 fits\n"
     ]
    },
    {
     "name": "stderr",
     "output_type": "stream",
     "text": [
      " 56%|████████████████▊             | 1081/1936 [1:38:00<1:09:19,  4.86s/it]"
     ]
    },
    {
     "name": "stdout",
     "output_type": "stream",
     "text": [
      "Fitting 3 folds for each of 5 candidates, totalling 15 fits\n"
     ]
    },
    {
     "name": "stderr",
     "output_type": "stream",
     "text": [
      " 56%|████████████████▊             | 1082/1936 [1:38:11<1:22:44,  5.81s/it]"
     ]
    },
    {
     "name": "stdout",
     "output_type": "stream",
     "text": [
      "Fitting 3 folds for each of 5 candidates, totalling 15 fits\n",
      "Cannot have number of splits n_splits=3 greater than the number of samples: n_samples=0.\n",
      "Fitting 3 folds for each of 5 candidates, totalling 15 fits\n"
     ]
    },
    {
     "name": "stderr",
     "output_type": "stream",
     "text": [
      " 56%|████████████████▊             | 1084/1936 [1:38:22<1:21:16,  5.72s/it]"
     ]
    },
    {
     "name": "stdout",
     "output_type": "stream",
     "text": [
      "Fitting 3 folds for each of 5 candidates, totalling 15 fits\n"
     ]
    },
    {
     "name": "stderr",
     "output_type": "stream",
     "text": [
      " 56%|████████████████▊             | 1085/1936 [1:38:33<1:33:47,  6.61s/it]"
     ]
    },
    {
     "name": "stdout",
     "output_type": "stream",
     "text": [
      "Fitting 3 folds for each of 5 candidates, totalling 15 fits\n",
      "Cannot have number of splits n_splits=3 greater than the number of samples: n_samples=0.\n",
      "Fitting 3 folds for each of 5 candidates, totalling 15 fits\n",
      "Cannot have number of splits n_splits=3 greater than the number of samples: n_samples=0.\n",
      "Fitting 3 folds for each of 5 candidates, totalling 15 fits\n",
      "Cannot have number of splits n_splits=3 greater than the number of samples: n_samples=0.\n",
      "Fitting 3 folds for each of 5 candidates, totalling 15 fits\n"
     ]
    },
    {
     "name": "stderr",
     "output_type": "stream",
     "text": [
      " 56%|████████████████▉             | 1089/1936 [1:38:42<1:02:05,  4.40s/it]"
     ]
    },
    {
     "name": "stdout",
     "output_type": "stream",
     "text": [
      "Fitting 3 folds for each of 5 candidates, totalling 15 fits\n"
     ]
    },
    {
     "name": "stderr",
     "output_type": "stream",
     "text": [
      " 56%|████████████████▉             | 1090/1936 [1:38:51<1:11:53,  5.10s/it]"
     ]
    },
    {
     "name": "stdout",
     "output_type": "stream",
     "text": [
      "Fitting 3 folds for each of 5 candidates, totalling 15 fits\n",
      "Cannot have number of splits n_splits=3 greater than the number of samples: n_samples=0.\n",
      "Fitting 3 folds for each of 5 candidates, totalling 15 fits\n"
     ]
    },
    {
     "name": "stderr",
     "output_type": "stream",
     "text": [
      " 56%|████████████████▉             | 1092/1936 [1:39:00<1:09:16,  4.93s/it]"
     ]
    },
    {
     "name": "stdout",
     "output_type": "stream",
     "text": [
      "Fitting 3 folds for each of 5 candidates, totalling 15 fits\n"
     ]
    },
    {
     "name": "stderr",
     "output_type": "stream",
     "text": [
      " 56%|████████████████▉             | 1093/1936 [1:39:09<1:19:04,  5.63s/it]"
     ]
    },
    {
     "name": "stdout",
     "output_type": "stream",
     "text": [
      "Fitting 3 folds for each of 5 candidates, totalling 15 fits\n",
      "Cannot have number of splits n_splits=3 greater than the number of samples: n_samples=0.\n",
      "Fitting 3 folds for each of 5 candidates, totalling 15 fits\n",
      "Cannot have number of splits n_splits=3 greater than the number of samples: n_samples=0.\n",
      "Fitting 3 folds for each of 5 candidates, totalling 15 fits\n",
      "Cannot have number of splits n_splits=3 greater than the number of samples: n_samples=0.\n",
      "Fitting 3 folds for each of 5 candidates, totalling 15 fits\n"
     ]
    },
    {
     "name": "stderr",
     "output_type": "stream",
     "text": [
      " 57%|████████████████▉             | 1097/1936 [1:39:20<58:15,  4.17s/it]  "
     ]
    },
    {
     "name": "stdout",
     "output_type": "stream",
     "text": [
      "Fitting 3 folds for each of 5 candidates, totalling 15 fits\n"
     ]
    },
    {
     "name": "stderr",
     "output_type": "stream",
     "text": [
      " 57%|█████████████████             | 1098/1936 [1:39:31<1:12:42,  5.21s/it]"
     ]
    },
    {
     "name": "stdout",
     "output_type": "stream",
     "text": [
      "Fitting 3 folds for each of 5 candidates, totalling 15 fits\n",
      "Cannot have number of splits n_splits=3 greater than the number of samples: n_samples=0.\n",
      "Fitting 3 folds for each of 5 candidates, totalling 15 fits\n"
     ]
    },
    {
     "name": "stderr",
     "output_type": "stream",
     "text": [
      " 57%|█████████████████             | 1100/1936 [1:39:42<1:14:10,  5.32s/it]"
     ]
    },
    {
     "name": "stdout",
     "output_type": "stream",
     "text": [
      "Fitting 3 folds for each of 5 candidates, totalling 15 fits\n"
     ]
    },
    {
     "name": "stderr",
     "output_type": "stream",
     "text": [
      " 57%|█████████████████             | 1101/1936 [1:39:53<1:28:40,  6.37s/it]"
     ]
    },
    {
     "name": "stdout",
     "output_type": "stream",
     "text": [
      "Fitting 3 folds for each of 5 candidates, totalling 15 fits\n",
      "Cannot have number of splits n_splits=3 greater than the number of samples: n_samples=0.\n",
      "Fitting 3 folds for each of 5 candidates, totalling 15 fits\n",
      "Cannot have number of splits n_splits=3 greater than the number of samples: n_samples=0.\n",
      "Fitting 3 folds for each of 5 candidates, totalling 15 fits\n",
      "Cannot have number of splits n_splits=3 greater than the number of samples: n_samples=0.\n",
      "Fitting 3 folds for each of 5 candidates, totalling 15 fits\n"
     ]
    },
    {
     "name": "stderr",
     "output_type": "stream",
     "text": [
      " 57%|█████████████████             | 1105/1936 [1:40:04<1:03:31,  4.59s/it]"
     ]
    },
    {
     "name": "stdout",
     "output_type": "stream",
     "text": [
      "Fitting 3 folds for each of 5 candidates, totalling 15 fits\n"
     ]
    },
    {
     "name": "stderr",
     "output_type": "stream",
     "text": [
      " 57%|█████████████████▏            | 1106/1936 [1:40:15<1:16:34,  5.54s/it]"
     ]
    },
    {
     "name": "stdout",
     "output_type": "stream",
     "text": [
      "Fitting 3 folds for each of 5 candidates, totalling 15 fits\n",
      "Cannot have number of splits n_splits=3 greater than the number of samples: n_samples=0.\n",
      "Fitting 3 folds for each of 5 candidates, totalling 15 fits\n"
     ]
    },
    {
     "name": "stderr",
     "output_type": "stream",
     "text": [
      " 57%|█████████████████▏            | 1108/1936 [1:40:26<1:16:09,  5.52s/it]"
     ]
    },
    {
     "name": "stdout",
     "output_type": "stream",
     "text": [
      "Fitting 3 folds for each of 5 candidates, totalling 15 fits\n"
     ]
    },
    {
     "name": "stderr",
     "output_type": "stream",
     "text": [
      " 57%|█████████████████▏            | 1109/1936 [1:40:37<1:29:10,  6.47s/it]"
     ]
    },
    {
     "name": "stdout",
     "output_type": "stream",
     "text": [
      "Fitting 3 folds for each of 5 candidates, totalling 15 fits\n",
      "Cannot have number of splits n_splits=3 greater than the number of samples: n_samples=0.\n",
      "Fitting 3 folds for each of 5 candidates, totalling 15 fits\n",
      "Cannot have number of splits n_splits=3 greater than the number of samples: n_samples=0.\n",
      "Fitting 3 folds for each of 5 candidates, totalling 15 fits\n",
      "Cannot have number of splits n_splits=3 greater than the number of samples: n_samples=0.\n",
      "Fitting 3 folds for each of 5 candidates, totalling 15 fits\n"
     ]
    },
    {
     "name": "stderr",
     "output_type": "stream",
     "text": [
      " 57%|█████████████████▏            | 1113/1936 [1:40:48<1:02:32,  4.56s/it]"
     ]
    },
    {
     "name": "stdout",
     "output_type": "stream",
     "text": [
      "Fitting 3 folds for each of 5 candidates, totalling 15 fits\n"
     ]
    },
    {
     "name": "stderr",
     "output_type": "stream",
     "text": [
      " 58%|█████████████████▎            | 1114/1936 [1:41:00<1:17:38,  5.67s/it]"
     ]
    },
    {
     "name": "stdout",
     "output_type": "stream",
     "text": [
      "Fitting 3 folds for each of 5 candidates, totalling 15 fits\n",
      "Cannot have number of splits n_splits=3 greater than the number of samples: n_samples=0.\n",
      "Fitting 3 folds for each of 5 candidates, totalling 15 fits\n"
     ]
    },
    {
     "name": "stderr",
     "output_type": "stream",
     "text": [
      " 58%|█████████████████▎            | 1116/1936 [1:41:11<1:16:50,  5.62s/it]"
     ]
    },
    {
     "name": "stdout",
     "output_type": "stream",
     "text": [
      "Fitting 3 folds for each of 5 candidates, totalling 15 fits\n"
     ]
    },
    {
     "name": "stderr",
     "output_type": "stream",
     "text": [
      " 58%|█████████████████▎            | 1117/1936 [1:41:21<1:28:55,  6.51s/it]"
     ]
    },
    {
     "name": "stdout",
     "output_type": "stream",
     "text": [
      "Fitting 3 folds for each of 5 candidates, totalling 15 fits\n",
      "Cannot have number of splits n_splits=3 greater than the number of samples: n_samples=0.\n",
      "Fitting 3 folds for each of 5 candidates, totalling 15 fits\n",
      "Cannot have number of splits n_splits=3 greater than the number of samples: n_samples=0.\n",
      "Fitting 3 folds for each of 5 candidates, totalling 15 fits\n",
      "Cannot have number of splits n_splits=3 greater than the number of samples: n_samples=0.\n",
      "Fitting 3 folds for each of 5 candidates, totalling 15 fits\n"
     ]
    },
    {
     "name": "stderr",
     "output_type": "stream",
     "text": [
      " 58%|█████████████████▎            | 1121/1936 [1:41:32<1:01:55,  4.56s/it]"
     ]
    },
    {
     "name": "stdout",
     "output_type": "stream",
     "text": [
      "Fitting 3 folds for each of 5 candidates, totalling 15 fits\n"
     ]
    },
    {
     "name": "stderr",
     "output_type": "stream",
     "text": [
      " 58%|█████████████████▍            | 1122/1936 [1:41:43<1:15:20,  5.55s/it]"
     ]
    },
    {
     "name": "stdout",
     "output_type": "stream",
     "text": [
      "Fitting 3 folds for each of 5 candidates, totalling 15 fits\n",
      "Cannot have number of splits n_splits=3 greater than the number of samples: n_samples=0.\n",
      "Fitting 3 folds for each of 5 candidates, totalling 15 fits\n"
     ]
    },
    {
     "name": "stderr",
     "output_type": "stream",
     "text": [
      " 58%|█████████████████▍            | 1124/1936 [1:41:54<1:15:57,  5.61s/it]"
     ]
    },
    {
     "name": "stdout",
     "output_type": "stream",
     "text": [
      "Fitting 3 folds for each of 5 candidates, totalling 15 fits\n"
     ]
    },
    {
     "name": "stderr",
     "output_type": "stream",
     "text": [
      " 58%|█████████████████▍            | 1125/1936 [1:42:06<1:29:29,  6.62s/it]"
     ]
    },
    {
     "name": "stdout",
     "output_type": "stream",
     "text": [
      "Fitting 3 folds for each of 5 candidates, totalling 15 fits\n",
      "Cannot have number of splits n_splits=3 greater than the number of samples: n_samples=0.\n",
      "Fitting 3 folds for each of 5 candidates, totalling 15 fits\n",
      "Cannot have number of splits n_splits=3 greater than the number of samples: n_samples=0.\n",
      "Fitting 3 folds for each of 5 candidates, totalling 15 fits\n",
      "Cannot have number of splits n_splits=3 greater than the number of samples: n_samples=0.\n",
      "Fitting 3 folds for each of 5 candidates, totalling 15 fits\n"
     ]
    },
    {
     "name": "stderr",
     "output_type": "stream",
     "text": [
      " 58%|█████████████████▍            | 1129/1936 [1:42:16<1:02:14,  4.63s/it]"
     ]
    },
    {
     "name": "stdout",
     "output_type": "stream",
     "text": [
      "Fitting 3 folds for each of 5 candidates, totalling 15 fits\n"
     ]
    },
    {
     "name": "stderr",
     "output_type": "stream",
     "text": [
      " 58%|█████████████████▌            | 1130/1936 [1:42:27<1:14:20,  5.53s/it]"
     ]
    },
    {
     "name": "stdout",
     "output_type": "stream",
     "text": [
      "Fitting 3 folds for each of 5 candidates, totalling 15 fits\n",
      "Cannot have number of splits n_splits=3 greater than the number of samples: n_samples=0.\n",
      "Fitting 3 folds for each of 5 candidates, totalling 15 fits\n"
     ]
    },
    {
     "name": "stderr",
     "output_type": "stream",
     "text": [
      " 58%|█████████████████▌            | 1132/1936 [1:42:37<1:13:00,  5.45s/it]"
     ]
    },
    {
     "name": "stdout",
     "output_type": "stream",
     "text": [
      "Fitting 3 folds for each of 5 candidates, totalling 15 fits\n"
     ]
    },
    {
     "name": "stderr",
     "output_type": "stream",
     "text": [
      " 59%|█████████████████▌            | 1133/1936 [1:42:48<1:25:18,  6.37s/it]"
     ]
    },
    {
     "name": "stdout",
     "output_type": "stream",
     "text": [
      "Fitting 3 folds for each of 5 candidates, totalling 15 fits\n",
      "Cannot have number of splits n_splits=3 greater than the number of samples: n_samples=0.\n",
      "Fitting 3 folds for each of 5 candidates, totalling 15 fits\n",
      "Cannot have number of splits n_splits=3 greater than the number of samples: n_samples=0.\n",
      "Fitting 3 folds for each of 5 candidates, totalling 15 fits\n",
      "Cannot have number of splits n_splits=3 greater than the number of samples: n_samples=0.\n",
      "Fitting 3 folds for each of 5 candidates, totalling 15 fits\n"
     ]
    },
    {
     "name": "stderr",
     "output_type": "stream",
     "text": [
      " 59%|█████████████████▌            | 1137/1936 [1:42:59<1:00:46,  4.56s/it]"
     ]
    },
    {
     "name": "stdout",
     "output_type": "stream",
     "text": [
      "Fitting 3 folds for each of 5 candidates, totalling 15 fits\n"
     ]
    },
    {
     "name": "stderr",
     "output_type": "stream",
     "text": [
      " 59%|█████████████████▋            | 1138/1936 [1:43:10<1:13:07,  5.50s/it]"
     ]
    },
    {
     "name": "stdout",
     "output_type": "stream",
     "text": [
      "Fitting 3 folds for each of 5 candidates, totalling 15 fits\n",
      "Cannot have number of splits n_splits=3 greater than the number of samples: n_samples=0.\n",
      "Fitting 3 folds for each of 5 candidates, totalling 15 fits\n"
     ]
    },
    {
     "name": "stderr",
     "output_type": "stream",
     "text": [
      " 59%|█████████████████▋            | 1140/1936 [1:43:20<1:12:05,  5.43s/it]"
     ]
    },
    {
     "name": "stdout",
     "output_type": "stream",
     "text": [
      "Fitting 3 folds for each of 5 candidates, totalling 15 fits\n"
     ]
    },
    {
     "name": "stderr",
     "output_type": "stream",
     "text": [
      " 59%|█████████████████▋            | 1141/1936 [1:43:31<1:23:48,  6.33s/it]"
     ]
    },
    {
     "name": "stdout",
     "output_type": "stream",
     "text": [
      "Fitting 3 folds for each of 5 candidates, totalling 15 fits\n",
      "Cannot have number of splits n_splits=3 greater than the number of samples: n_samples=0.\n",
      "Fitting 3 folds for each of 5 candidates, totalling 15 fits\n",
      "Cannot have number of splits n_splits=3 greater than the number of samples: n_samples=0.\n",
      "Fitting 3 folds for each of 5 candidates, totalling 15 fits\n",
      "Cannot have number of splits n_splits=3 greater than the number of samples: n_samples=0.\n",
      "Fitting 3 folds for each of 5 candidates, totalling 15 fits\n"
     ]
    },
    {
     "name": "stderr",
     "output_type": "stream",
     "text": [
      " 59%|█████████████████▋            | 1145/1936 [1:43:42<59:43,  4.53s/it]  "
     ]
    },
    {
     "name": "stdout",
     "output_type": "stream",
     "text": [
      "Fitting 3 folds for each of 5 candidates, totalling 15 fits\n"
     ]
    },
    {
     "name": "stderr",
     "output_type": "stream",
     "text": [
      " 59%|█████████████████▊            | 1146/1936 [1:43:54<1:13:56,  5.62s/it]"
     ]
    },
    {
     "name": "stdout",
     "output_type": "stream",
     "text": [
      "Fitting 3 folds for each of 5 candidates, totalling 15 fits\n",
      "Cannot have number of splits n_splits=3 greater than the number of samples: n_samples=0.\n",
      "Fitting 3 folds for each of 5 candidates, totalling 15 fits\n"
     ]
    },
    {
     "name": "stderr",
     "output_type": "stream",
     "text": [
      " 59%|█████████████████▊            | 1148/1936 [1:44:05<1:14:25,  5.67s/it]"
     ]
    },
    {
     "name": "stdout",
     "output_type": "stream",
     "text": [
      "Fitting 3 folds for each of 5 candidates, totalling 15 fits\n"
     ]
    },
    {
     "name": "stderr",
     "output_type": "stream",
     "text": [
      " 59%|█████████████████▊            | 1149/1936 [1:44:16<1:26:27,  6.59s/it]"
     ]
    },
    {
     "name": "stdout",
     "output_type": "stream",
     "text": [
      "Fitting 3 folds for each of 5 candidates, totalling 15 fits\n",
      "Cannot have number of splits n_splits=3 greater than the number of samples: n_samples=0.\n",
      "Fitting 3 folds for each of 5 candidates, totalling 15 fits\n",
      "Cannot have number of splits n_splits=3 greater than the number of samples: n_samples=0.\n",
      "Fitting 3 folds for each of 5 candidates, totalling 15 fits\n",
      "Cannot have number of splits n_splits=3 greater than the number of samples: n_samples=0.\n",
      "Fitting 3 folds for each of 5 candidates, totalling 15 fits\n"
     ]
    },
    {
     "name": "stderr",
     "output_type": "stream",
     "text": [
      " 60%|█████████████████▊            | 1153/1936 [1:44:25<57:27,  4.40s/it]  "
     ]
    },
    {
     "name": "stdout",
     "output_type": "stream",
     "text": [
      "Fitting 3 folds for each of 5 candidates, totalling 15 fits\n"
     ]
    },
    {
     "name": "stderr",
     "output_type": "stream",
     "text": [
      " 60%|█████████████████▉            | 1154/1936 [1:44:34<1:06:15,  5.08s/it]"
     ]
    },
    {
     "name": "stdout",
     "output_type": "stream",
     "text": [
      "Fitting 3 folds for each of 5 candidates, totalling 15 fits\n",
      "Cannot have number of splits n_splits=3 greater than the number of samples: n_samples=0.\n",
      "Fitting 3 folds for each of 5 candidates, totalling 15 fits\n"
     ]
    },
    {
     "name": "stderr",
     "output_type": "stream",
     "text": [
      " 60%|█████████████████▉            | 1156/1936 [1:44:43<1:03:27,  4.88s/it]"
     ]
    },
    {
     "name": "stdout",
     "output_type": "stream",
     "text": [
      "Fitting 3 folds for each of 5 candidates, totalling 15 fits\n"
     ]
    },
    {
     "name": "stderr",
     "output_type": "stream",
     "text": [
      " 60%|█████████████████▉            | 1157/1936 [1:44:52<1:12:50,  5.61s/it]"
     ]
    },
    {
     "name": "stdout",
     "output_type": "stream",
     "text": [
      "Fitting 3 folds for each of 5 candidates, totalling 15 fits\n",
      "Cannot have number of splits n_splits=3 greater than the number of samples: n_samples=0.\n",
      "Fitting 3 folds for each of 5 candidates, totalling 15 fits\n",
      "Cannot have number of splits n_splits=3 greater than the number of samples: n_samples=0.\n",
      "Fitting 3 folds for each of 5 candidates, totalling 15 fits\n",
      "Cannot have number of splits n_splits=3 greater than the number of samples: n_samples=0.\n",
      "Fitting 3 folds for each of 5 candidates, totalling 15 fits\n"
     ]
    },
    {
     "name": "stderr",
     "output_type": "stream",
     "text": [
      " 60%|█████████████████▉            | 1161/1936 [1:45:03<54:08,  4.19s/it]  "
     ]
    },
    {
     "name": "stdout",
     "output_type": "stream",
     "text": [
      "Fitting 3 folds for each of 5 candidates, totalling 15 fits\n"
     ]
    },
    {
     "name": "stderr",
     "output_type": "stream",
     "text": [
      " 60%|██████████████████            | 1162/1936 [1:45:14<1:06:59,  5.19s/it]"
     ]
    },
    {
     "name": "stdout",
     "output_type": "stream",
     "text": [
      "Fitting 3 folds for each of 5 candidates, totalling 15 fits\n",
      "Cannot have number of splits n_splits=3 greater than the number of samples: n_samples=0.\n",
      "Fitting 3 folds for each of 5 candidates, totalling 15 fits\n"
     ]
    },
    {
     "name": "stderr",
     "output_type": "stream",
     "text": [
      " 60%|██████████████████            | 1164/1936 [1:45:24<1:07:39,  5.26s/it]"
     ]
    },
    {
     "name": "stdout",
     "output_type": "stream",
     "text": [
      "Fitting 3 folds for each of 5 candidates, totalling 15 fits\n"
     ]
    },
    {
     "name": "stderr",
     "output_type": "stream",
     "text": [
      " 60%|██████████████████            | 1165/1936 [1:45:35<1:20:03,  6.23s/it]"
     ]
    },
    {
     "name": "stdout",
     "output_type": "stream",
     "text": [
      "Fitting 3 folds for each of 5 candidates, totalling 15 fits\n",
      "Cannot have number of splits n_splits=3 greater than the number of samples: n_samples=0.\n",
      "Fitting 3 folds for each of 5 candidates, totalling 15 fits\n",
      "Cannot have number of splits n_splits=3 greater than the number of samples: n_samples=0.\n",
      "Fitting 3 folds for each of 5 candidates, totalling 15 fits\n",
      "Cannot have number of splits n_splits=3 greater than the number of samples: n_samples=0.\n",
      "Fitting 3 folds for each of 5 candidates, totalling 15 fits\n"
     ]
    },
    {
     "name": "stderr",
     "output_type": "stream",
     "text": [
      " 60%|██████████████████            | 1169/1936 [1:45:47<58:41,  4.59s/it]  "
     ]
    },
    {
     "name": "stdout",
     "output_type": "stream",
     "text": [
      "Fitting 3 folds for each of 5 candidates, totalling 15 fits\n"
     ]
    },
    {
     "name": "stderr",
     "output_type": "stream",
     "text": [
      " 60%|██████████████████▏           | 1170/1936 [1:45:59<1:11:51,  5.63s/it]"
     ]
    },
    {
     "name": "stdout",
     "output_type": "stream",
     "text": [
      "Fitting 3 folds for each of 5 candidates, totalling 15 fits\n",
      "Cannot have number of splits n_splits=3 greater than the number of samples: n_samples=0.\n",
      "Fitting 3 folds for each of 5 candidates, totalling 15 fits\n"
     ]
    },
    {
     "name": "stderr",
     "output_type": "stream",
     "text": [
      " 61%|██████████████████▏           | 1172/1936 [1:46:09<1:10:47,  5.56s/it]"
     ]
    },
    {
     "name": "stdout",
     "output_type": "stream",
     "text": [
      "Fitting 3 folds for each of 5 candidates, totalling 15 fits\n"
     ]
    },
    {
     "name": "stderr",
     "output_type": "stream",
     "text": [
      " 61%|██████████████████▏           | 1173/1936 [1:46:20<1:22:37,  6.50s/it]"
     ]
    },
    {
     "name": "stdout",
     "output_type": "stream",
     "text": [
      "Fitting 3 folds for each of 5 candidates, totalling 15 fits\n",
      "Cannot have number of splits n_splits=3 greater than the number of samples: n_samples=0.\n",
      "Fitting 3 folds for each of 5 candidates, totalling 15 fits\n",
      "Cannot have number of splits n_splits=3 greater than the number of samples: n_samples=0.\n",
      "Fitting 3 folds for each of 5 candidates, totalling 15 fits\n",
      "Cannot have number of splits n_splits=3 greater than the number of samples: n_samples=0.\n",
      "Fitting 3 folds for each of 5 candidates, totalling 15 fits\n"
     ]
    },
    {
     "name": "stderr",
     "output_type": "stream",
     "text": [
      " 61%|██████████████████▏           | 1177/1936 [1:46:31<57:47,  4.57s/it]  "
     ]
    },
    {
     "name": "stdout",
     "output_type": "stream",
     "text": [
      "Fitting 3 folds for each of 5 candidates, totalling 15 fits\n"
     ]
    },
    {
     "name": "stderr",
     "output_type": "stream",
     "text": [
      " 61%|██████████████████▎           | 1178/1936 [1:46:42<1:09:43,  5.52s/it]"
     ]
    },
    {
     "name": "stdout",
     "output_type": "stream",
     "text": [
      "Fitting 3 folds for each of 5 candidates, totalling 15 fits\n",
      "Cannot have number of splits n_splits=3 greater than the number of samples: n_samples=0.\n",
      "Fitting 3 folds for each of 5 candidates, totalling 15 fits\n"
     ]
    },
    {
     "name": "stderr",
     "output_type": "stream",
     "text": [
      " 61%|██████████████████▎           | 1180/1936 [1:46:53<1:10:22,  5.59s/it]"
     ]
    },
    {
     "name": "stdout",
     "output_type": "stream",
     "text": [
      "Fitting 3 folds for each of 5 candidates, totalling 15 fits\n"
     ]
    },
    {
     "name": "stderr",
     "output_type": "stream",
     "text": [
      " 61%|██████████████████▎           | 1181/1936 [1:47:05<1:23:28,  6.63s/it]"
     ]
    },
    {
     "name": "stdout",
     "output_type": "stream",
     "text": [
      "Fitting 3 folds for each of 5 candidates, totalling 15 fits\n",
      "Cannot have number of splits n_splits=3 greater than the number of samples: n_samples=0.\n",
      "Fitting 3 folds for each of 5 candidates, totalling 15 fits\n",
      "Cannot have number of splits n_splits=3 greater than the number of samples: n_samples=0.\n",
      "Fitting 3 folds for each of 5 candidates, totalling 15 fits\n",
      "Cannot have number of splits n_splits=3 greater than the number of samples: n_samples=0.\n",
      "Fitting 3 folds for each of 5 candidates, totalling 15 fits\n"
     ]
    },
    {
     "name": "stderr",
     "output_type": "stream",
     "text": [
      " 61%|██████████████████▎           | 1185/1936 [1:47:15<58:15,  4.65s/it]  "
     ]
    },
    {
     "name": "stdout",
     "output_type": "stream",
     "text": [
      "Fitting 3 folds for each of 5 candidates, totalling 15 fits\n"
     ]
    },
    {
     "name": "stderr",
     "output_type": "stream",
     "text": [
      " 61%|██████████████████▍           | 1186/1936 [1:47:26<1:09:43,  5.58s/it]"
     ]
    },
    {
     "name": "stdout",
     "output_type": "stream",
     "text": [
      "Fitting 3 folds for each of 5 candidates, totalling 15 fits\n",
      "Cannot have number of splits n_splits=3 greater than the number of samples: n_samples=0.\n",
      "Fitting 3 folds for each of 5 candidates, totalling 15 fits\n"
     ]
    },
    {
     "name": "stderr",
     "output_type": "stream",
     "text": [
      " 61%|██████████████████▍           | 1188/1936 [1:47:37<1:09:02,  5.54s/it]"
     ]
    },
    {
     "name": "stdout",
     "output_type": "stream",
     "text": [
      "Fitting 3 folds for each of 5 candidates, totalling 15 fits\n"
     ]
    },
    {
     "name": "stderr",
     "output_type": "stream",
     "text": [
      " 61%|██████████████████▍           | 1189/1936 [1:47:49<1:23:19,  6.69s/it]"
     ]
    },
    {
     "name": "stdout",
     "output_type": "stream",
     "text": [
      "Fitting 3 folds for each of 5 candidates, totalling 15 fits\n",
      "Cannot have number of splits n_splits=3 greater than the number of samples: n_samples=0.\n",
      "Fitting 3 folds for each of 5 candidates, totalling 15 fits\n",
      "Cannot have number of splits n_splits=3 greater than the number of samples: n_samples=0.\n",
      "Fitting 3 folds for each of 5 candidates, totalling 15 fits\n",
      "Cannot have number of splits n_splits=3 greater than the number of samples: n_samples=0.\n",
      "Fitting 3 folds for each of 5 candidates, totalling 15 fits\n"
     ]
    },
    {
     "name": "stderr",
     "output_type": "stream",
     "text": [
      " 62%|██████████████████▍           | 1193/1936 [1:48:01<59:32,  4.81s/it]  "
     ]
    },
    {
     "name": "stdout",
     "output_type": "stream",
     "text": [
      "Fitting 3 folds for each of 5 candidates, totalling 15 fits\n"
     ]
    },
    {
     "name": "stderr",
     "output_type": "stream",
     "text": [
      " 62%|██████████████████▌           | 1194/1936 [1:48:12<1:11:42,  5.80s/it]"
     ]
    },
    {
     "name": "stdout",
     "output_type": "stream",
     "text": [
      "Fitting 3 folds for each of 5 candidates, totalling 15 fits\n",
      "Cannot have number of splits n_splits=3 greater than the number of samples: n_samples=0.\n",
      "Fitting 3 folds for each of 5 candidates, totalling 15 fits\n"
     ]
    },
    {
     "name": "stderr",
     "output_type": "stream",
     "text": [
      " 62%|██████████████████▌           | 1196/1936 [1:48:23<1:10:53,  5.75s/it]"
     ]
    },
    {
     "name": "stdout",
     "output_type": "stream",
     "text": [
      "Fitting 3 folds for each of 5 candidates, totalling 15 fits\n"
     ]
    },
    {
     "name": "stderr",
     "output_type": "stream",
     "text": [
      " 62%|██████████████████▌           | 1197/1936 [1:48:35<1:22:34,  6.70s/it]"
     ]
    },
    {
     "name": "stdout",
     "output_type": "stream",
     "text": [
      "Fitting 3 folds for each of 5 candidates, totalling 15 fits\n",
      "Cannot have number of splits n_splits=3 greater than the number of samples: n_samples=0.\n",
      "Fitting 3 folds for each of 5 candidates, totalling 15 fits\n",
      "Cannot have number of splits n_splits=3 greater than the number of samples: n_samples=0.\n",
      "Fitting 3 folds for each of 5 candidates, totalling 15 fits\n",
      "Cannot have number of splits n_splits=3 greater than the number of samples: n_samples=0.\n",
      "Fitting 3 folds for each of 5 candidates, totalling 15 fits\n"
     ]
    },
    {
     "name": "stderr",
     "output_type": "stream",
     "text": [
      " 62%|██████████████████▌           | 1201/1936 [1:48:46<58:06,  4.74s/it]  "
     ]
    },
    {
     "name": "stdout",
     "output_type": "stream",
     "text": [
      "Fitting 3 folds for each of 5 candidates, totalling 15 fits\n"
     ]
    },
    {
     "name": "stderr",
     "output_type": "stream",
     "text": [
      " 62%|██████████████████▋           | 1202/1936 [1:48:58<1:11:09,  5.82s/it]"
     ]
    },
    {
     "name": "stdout",
     "output_type": "stream",
     "text": [
      "Fitting 3 folds for each of 5 candidates, totalling 15 fits\n",
      "Cannot have number of splits n_splits=3 greater than the number of samples: n_samples=0.\n",
      "Fitting 3 folds for each of 5 candidates, totalling 15 fits\n"
     ]
    },
    {
     "name": "stderr",
     "output_type": "stream",
     "text": [
      " 62%|██████████████████▋           | 1204/1936 [1:49:09<1:11:12,  5.84s/it]"
     ]
    },
    {
     "name": "stdout",
     "output_type": "stream",
     "text": [
      "Fitting 3 folds for each of 5 candidates, totalling 15 fits\n"
     ]
    },
    {
     "name": "stderr",
     "output_type": "stream",
     "text": [
      " 62%|██████████████████▋           | 1205/1936 [1:49:21<1:23:11,  6.83s/it]"
     ]
    },
    {
     "name": "stdout",
     "output_type": "stream",
     "text": [
      "Fitting 3 folds for each of 5 candidates, totalling 15 fits\n",
      "Cannot have number of splits n_splits=3 greater than the number of samples: n_samples=0.\n",
      "Fitting 3 folds for each of 5 candidates, totalling 15 fits\n",
      "Cannot have number of splits n_splits=3 greater than the number of samples: n_samples=0.\n",
      "Fitting 3 folds for each of 5 candidates, totalling 15 fits\n",
      "Cannot have number of splits n_splits=3 greater than the number of samples: n_samples=0.\n",
      "Fitting 3 folds for each of 5 candidates, totalling 15 fits\n"
     ]
    },
    {
     "name": "stderr",
     "output_type": "stream",
     "text": [
      " 62%|██████████████████▋           | 1209/1936 [1:49:32<57:49,  4.77s/it]  "
     ]
    },
    {
     "name": "stdout",
     "output_type": "stream",
     "text": [
      "Fitting 3 folds for each of 5 candidates, totalling 15 fits\n"
     ]
    },
    {
     "name": "stderr",
     "output_type": "stream",
     "text": [
      " 62%|██████████████████▊           | 1210/1936 [1:49:43<1:09:04,  5.71s/it]"
     ]
    },
    {
     "name": "stdout",
     "output_type": "stream",
     "text": [
      "Fitting 3 folds for each of 5 candidates, totalling 15 fits\n",
      "Cannot have number of splits n_splits=3 greater than the number of samples: n_samples=0.\n",
      "Fitting 3 folds for each of 5 candidates, totalling 15 fits\n"
     ]
    },
    {
     "name": "stderr",
     "output_type": "stream",
     "text": [
      " 63%|██████████████████▊           | 1212/1936 [1:49:54<1:08:57,  5.72s/it]"
     ]
    },
    {
     "name": "stdout",
     "output_type": "stream",
     "text": [
      "Fitting 3 folds for each of 5 candidates, totalling 15 fits\n"
     ]
    },
    {
     "name": "stderr",
     "output_type": "stream",
     "text": [
      " 63%|██████████████████▊           | 1213/1936 [1:50:06<1:21:30,  6.76s/it]"
     ]
    },
    {
     "name": "stdout",
     "output_type": "stream",
     "text": [
      "Fitting 3 folds for each of 5 candidates, totalling 15 fits\n",
      "Cannot have number of splits n_splits=3 greater than the number of samples: n_samples=0.\n",
      "Fitting 3 folds for each of 5 candidates, totalling 15 fits\n",
      "Cannot have number of splits n_splits=3 greater than the number of samples: n_samples=0.\n",
      "Fitting 3 folds for each of 5 candidates, totalling 15 fits\n",
      "Cannot have number of splits n_splits=3 greater than the number of samples: n_samples=0.\n",
      "Fitting 3 folds for each of 5 candidates, totalling 15 fits\n"
     ]
    },
    {
     "name": "stderr",
     "output_type": "stream",
     "text": [
      " 63%|██████████████████▊           | 1217/1936 [1:50:17<57:21,  4.79s/it]  "
     ]
    },
    {
     "name": "stdout",
     "output_type": "stream",
     "text": [
      "Fitting 3 folds for each of 5 candidates, totalling 15 fits\n"
     ]
    },
    {
     "name": "stderr",
     "output_type": "stream",
     "text": [
      " 63%|██████████████████▊           | 1218/1936 [1:50:28<1:08:59,  5.77s/it]"
     ]
    },
    {
     "name": "stdout",
     "output_type": "stream",
     "text": [
      "Fitting 3 folds for each of 5 candidates, totalling 15 fits\n",
      "Cannot have number of splits n_splits=3 greater than the number of samples: n_samples=0.\n",
      "Fitting 3 folds for each of 5 candidates, totalling 15 fits\n"
     ]
    },
    {
     "name": "stderr",
     "output_type": "stream",
     "text": [
      " 63%|██████████████████▉           | 1220/1936 [1:50:39<1:08:12,  5.72s/it]"
     ]
    },
    {
     "name": "stdout",
     "output_type": "stream",
     "text": [
      "Fitting 3 folds for each of 5 candidates, totalling 15 fits\n"
     ]
    },
    {
     "name": "stderr",
     "output_type": "stream",
     "text": [
      " 63%|██████████████████▉           | 1221/1936 [1:50:51<1:20:45,  6.78s/it]"
     ]
    },
    {
     "name": "stdout",
     "output_type": "stream",
     "text": [
      "Fitting 3 folds for each of 5 candidates, totalling 15 fits\n",
      "Cannot have number of splits n_splits=3 greater than the number of samples: n_samples=0.\n",
      "Fitting 3 folds for each of 5 candidates, totalling 15 fits\n",
      "Cannot have number of splits n_splits=3 greater than the number of samples: n_samples=0.\n",
      "Fitting 3 folds for each of 5 candidates, totalling 15 fits\n",
      "Cannot have number of splits n_splits=3 greater than the number of samples: n_samples=0.\n",
      "Fitting 3 folds for each of 5 candidates, totalling 15 fits\n"
     ]
    },
    {
     "name": "stderr",
     "output_type": "stream",
     "text": [
      " 63%|██████████████████▉           | 1225/1936 [1:51:01<54:53,  4.63s/it]  "
     ]
    },
    {
     "name": "stdout",
     "output_type": "stream",
     "text": [
      "Fitting 3 folds for each of 5 candidates, totalling 15 fits\n"
     ]
    },
    {
     "name": "stderr",
     "output_type": "stream",
     "text": [
      " 63%|██████████████████▉           | 1226/1936 [1:51:11<1:03:39,  5.38s/it]"
     ]
    },
    {
     "name": "stdout",
     "output_type": "stream",
     "text": [
      "Fitting 3 folds for each of 5 candidates, totalling 15 fits\n",
      "Cannot have number of splits n_splits=3 greater than the number of samples: n_samples=0.\n",
      "Fitting 3 folds for each of 5 candidates, totalling 15 fits\n"
     ]
    },
    {
     "name": "stderr",
     "output_type": "stream",
     "text": [
      " 63%|███████████████████           | 1228/1936 [1:51:20<1:00:45,  5.15s/it]"
     ]
    },
    {
     "name": "stdout",
     "output_type": "stream",
     "text": [
      "Fitting 3 folds for each of 5 candidates, totalling 15 fits\n"
     ]
    },
    {
     "name": "stderr",
     "output_type": "stream",
     "text": [
      " 63%|███████████████████           | 1229/1936 [1:51:29<1:09:10,  5.87s/it]"
     ]
    },
    {
     "name": "stdout",
     "output_type": "stream",
     "text": [
      "Fitting 3 folds for each of 5 candidates, totalling 15 fits\n",
      "Cannot have number of splits n_splits=3 greater than the number of samples: n_samples=0.\n",
      "Fitting 3 folds for each of 5 candidates, totalling 15 fits\n",
      "Cannot have number of splits n_splits=3 greater than the number of samples: n_samples=0.\n",
      "Fitting 3 folds for each of 5 candidates, totalling 15 fits\n",
      "Cannot have number of splits n_splits=3 greater than the number of samples: n_samples=0.\n",
      "Fitting 3 folds for each of 5 candidates, totalling 15 fits\n"
     ]
    },
    {
     "name": "stderr",
     "output_type": "stream",
     "text": [
      " 64%|███████████████████           | 1233/1936 [1:51:38<47:34,  4.06s/it]  "
     ]
    },
    {
     "name": "stdout",
     "output_type": "stream",
     "text": [
      "Fitting 3 folds for each of 5 candidates, totalling 15 fits\n"
     ]
    },
    {
     "name": "stderr",
     "output_type": "stream",
     "text": [
      " 64%|███████████████████           | 1234/1936 [1:51:47<56:31,  4.83s/it]"
     ]
    },
    {
     "name": "stdout",
     "output_type": "stream",
     "text": [
      "Fitting 3 folds for each of 5 candidates, totalling 15 fits\n",
      "Cannot have number of splits n_splits=3 greater than the number of samples: n_samples=0.\n",
      "Fitting 3 folds for each of 5 candidates, totalling 15 fits\n"
     ]
    },
    {
     "name": "stderr",
     "output_type": "stream",
     "text": [
      " 64%|███████████████████▏          | 1236/1936 [1:51:57<55:45,  4.78s/it]"
     ]
    },
    {
     "name": "stdout",
     "output_type": "stream",
     "text": [
      "Fitting 3 folds for each of 5 candidates, totalling 15 fits\n"
     ]
    },
    {
     "name": "stderr",
     "output_type": "stream",
     "text": [
      " 64%|███████████████████▏          | 1237/1936 [1:52:06<1:05:18,  5.61s/it]"
     ]
    },
    {
     "name": "stdout",
     "output_type": "stream",
     "text": [
      "Fitting 3 folds for each of 5 candidates, totalling 15 fits\n",
      "Cannot have number of splits n_splits=3 greater than the number of samples: n_samples=0.\n",
      "Fitting 3 folds for each of 5 candidates, totalling 15 fits\n",
      "Cannot have number of splits n_splits=3 greater than the number of samples: n_samples=0.\n",
      "Fitting 3 folds for each of 5 candidates, totalling 15 fits\n",
      "Cannot have number of splits n_splits=3 greater than the number of samples: n_samples=0.\n",
      "Fitting 3 folds for each of 5 candidates, totalling 15 fits\n"
     ]
    },
    {
     "name": "stderr",
     "output_type": "stream",
     "text": [
      " 64%|███████████████████▏          | 1241/1936 [1:52:17<48:01,  4.15s/it]  "
     ]
    },
    {
     "name": "stdout",
     "output_type": "stream",
     "text": [
      "Fitting 3 folds for each of 5 candidates, totalling 15 fits\n"
     ]
    },
    {
     "name": "stderr",
     "output_type": "stream",
     "text": [
      " 64%|███████████████████▏          | 1242/1936 [1:52:28<1:00:00,  5.19s/it]"
     ]
    },
    {
     "name": "stdout",
     "output_type": "stream",
     "text": [
      "Fitting 3 folds for each of 5 candidates, totalling 15 fits\n",
      "Cannot have number of splits n_splits=3 greater than the number of samples: n_samples=0.\n",
      "Fitting 3 folds for each of 5 candidates, totalling 15 fits\n"
     ]
    },
    {
     "name": "stderr",
     "output_type": "stream",
     "text": [
      " 64%|███████████████████▎          | 1244/1936 [1:52:39<1:00:55,  5.28s/it]"
     ]
    },
    {
     "name": "stdout",
     "output_type": "stream",
     "text": [
      "Fitting 3 folds for each of 5 candidates, totalling 15 fits\n"
     ]
    },
    {
     "name": "stderr",
     "output_type": "stream",
     "text": [
      " 64%|███████████████████▎          | 1245/1936 [1:52:51<1:13:47,  6.41s/it]"
     ]
    },
    {
     "name": "stdout",
     "output_type": "stream",
     "text": [
      "Fitting 3 folds for each of 5 candidates, totalling 15 fits\n",
      "Cannot have number of splits n_splits=3 greater than the number of samples: n_samples=0.\n",
      "Fitting 3 folds for each of 5 candidates, totalling 15 fits\n",
      "Cannot have number of splits n_splits=3 greater than the number of samples: n_samples=0.\n",
      "Fitting 3 folds for each of 5 candidates, totalling 15 fits\n",
      "Cannot have number of splits n_splits=3 greater than the number of samples: n_samples=0.\n",
      "Fitting 3 folds for each of 5 candidates, totalling 15 fits\n"
     ]
    },
    {
     "name": "stderr",
     "output_type": "stream",
     "text": [
      " 65%|███████████████████▎          | 1249/1936 [1:53:03<53:30,  4.67s/it]  "
     ]
    },
    {
     "name": "stdout",
     "output_type": "stream",
     "text": [
      "Fitting 3 folds for each of 5 candidates, totalling 15 fits\n"
     ]
    },
    {
     "name": "stderr",
     "output_type": "stream",
     "text": [
      " 65%|███████████████████▎          | 1250/1936 [1:53:14<1:05:44,  5.75s/it]"
     ]
    },
    {
     "name": "stdout",
     "output_type": "stream",
     "text": [
      "Fitting 3 folds for each of 5 candidates, totalling 15 fits\n",
      "Cannot have number of splits n_splits=3 greater than the number of samples: n_samples=0.\n",
      "Fitting 3 folds for each of 5 candidates, totalling 15 fits\n"
     ]
    },
    {
     "name": "stderr",
     "output_type": "stream",
     "text": [
      " 65%|███████████████████▍          | 1252/1936 [1:53:26<1:05:43,  5.77s/it]"
     ]
    },
    {
     "name": "stdout",
     "output_type": "stream",
     "text": [
      "Fitting 3 folds for each of 5 candidates, totalling 15 fits\n"
     ]
    },
    {
     "name": "stderr",
     "output_type": "stream",
     "text": [
      " 65%|███████████████████▍          | 1253/1936 [1:53:37<1:17:27,  6.80s/it]"
     ]
    },
    {
     "name": "stdout",
     "output_type": "stream",
     "text": [
      "Fitting 3 folds for each of 5 candidates, totalling 15 fits\n",
      "Cannot have number of splits n_splits=3 greater than the number of samples: n_samples=0.\n",
      "Fitting 3 folds for each of 5 candidates, totalling 15 fits\n",
      "Cannot have number of splits n_splits=3 greater than the number of samples: n_samples=0.\n",
      "Fitting 3 folds for each of 5 candidates, totalling 15 fits\n",
      "Cannot have number of splits n_splits=3 greater than the number of samples: n_samples=0.\n",
      "Fitting 3 folds for each of 5 candidates, totalling 15 fits\n"
     ]
    },
    {
     "name": "stderr",
     "output_type": "stream",
     "text": [
      " 65%|███████████████████▍          | 1257/1936 [1:53:49<55:01,  4.86s/it]  "
     ]
    },
    {
     "name": "stdout",
     "output_type": "stream",
     "text": [
      "Fitting 3 folds for each of 5 candidates, totalling 15 fits\n"
     ]
    },
    {
     "name": "stderr",
     "output_type": "stream",
     "text": [
      " 65%|███████████████████▍          | 1258/1936 [1:54:01<1:07:24,  5.97s/it]"
     ]
    },
    {
     "name": "stdout",
     "output_type": "stream",
     "text": [
      "Fitting 3 folds for each of 5 candidates, totalling 15 fits\n",
      "Cannot have number of splits n_splits=3 greater than the number of samples: n_samples=0.\n",
      "Fitting 3 folds for each of 5 candidates, totalling 15 fits\n"
     ]
    },
    {
     "name": "stderr",
     "output_type": "stream",
     "text": [
      " 65%|███████████████████▌          | 1260/1936 [1:54:13<1:06:54,  5.94s/it]"
     ]
    },
    {
     "name": "stdout",
     "output_type": "stream",
     "text": [
      "Fitting 3 folds for each of 5 candidates, totalling 15 fits\n"
     ]
    },
    {
     "name": "stderr",
     "output_type": "stream",
     "text": [
      " 65%|███████████████████▌          | 1261/1936 [1:54:25<1:17:50,  6.92s/it]"
     ]
    },
    {
     "name": "stdout",
     "output_type": "stream",
     "text": [
      "Fitting 3 folds for each of 5 candidates, totalling 15 fits\n",
      "Cannot have number of splits n_splits=3 greater than the number of samples: n_samples=0.\n",
      "Fitting 3 folds for each of 5 candidates, totalling 15 fits\n",
      "Cannot have number of splits n_splits=3 greater than the number of samples: n_samples=0.\n",
      "Fitting 3 folds for each of 5 candidates, totalling 15 fits\n",
      "Cannot have number of splits n_splits=3 greater than the number of samples: n_samples=0.\n",
      "Fitting 3 folds for each of 5 candidates, totalling 15 fits\n"
     ]
    },
    {
     "name": "stderr",
     "output_type": "stream",
     "text": [
      " 65%|███████████████████▌          | 1265/1936 [1:54:33<50:42,  4.53s/it]  "
     ]
    },
    {
     "name": "stdout",
     "output_type": "stream",
     "text": [
      "Fitting 3 folds for each of 5 candidates, totalling 15 fits\n"
     ]
    },
    {
     "name": "stderr",
     "output_type": "stream",
     "text": [
      " 65%|███████████████████▌          | 1266/1936 [1:54:42<57:34,  5.16s/it]"
     ]
    },
    {
     "name": "stdout",
     "output_type": "stream",
     "text": [
      "Fitting 3 folds for each of 5 candidates, totalling 15 fits\n",
      "Cannot have number of splits n_splits=3 greater than the number of samples: n_samples=0.\n",
      "Fitting 3 folds for each of 5 candidates, totalling 15 fits\n"
     ]
    },
    {
     "name": "stderr",
     "output_type": "stream",
     "text": [
      " 65%|███████████████████▋          | 1268/1936 [1:54:51<55:30,  4.99s/it]"
     ]
    },
    {
     "name": "stdout",
     "output_type": "stream",
     "text": [
      "Fitting 3 folds for each of 5 candidates, totalling 15 fits\n"
     ]
    },
    {
     "name": "stderr",
     "output_type": "stream",
     "text": [
      " 66%|███████████████████▋          | 1269/1936 [1:55:00<1:03:58,  5.75s/it]"
     ]
    },
    {
     "name": "stdout",
     "output_type": "stream",
     "text": [
      "Fitting 3 folds for each of 5 candidates, totalling 15 fits\n",
      "Cannot have number of splits n_splits=3 greater than the number of samples: n_samples=0.\n",
      "Fitting 3 folds for each of 5 candidates, totalling 15 fits\n",
      "Cannot have number of splits n_splits=3 greater than the number of samples: n_samples=0.\n",
      "Fitting 3 folds for each of 5 candidates, totalling 15 fits\n",
      "Cannot have number of splits n_splits=3 greater than the number of samples: n_samples=0.\n",
      "Fitting 3 folds for each of 5 candidates, totalling 15 fits\n"
     ]
    },
    {
     "name": "stderr",
     "output_type": "stream",
     "text": [
      " 66%|███████████████████▋          | 1273/1936 [1:55:12<47:37,  4.31s/it]  "
     ]
    },
    {
     "name": "stdout",
     "output_type": "stream",
     "text": [
      "Fitting 3 folds for each of 5 candidates, totalling 15 fits\n"
     ]
    },
    {
     "name": "stderr",
     "output_type": "stream",
     "text": [
      " 66%|███████████████████▋          | 1274/1936 [1:55:23<59:15,  5.37s/it]"
     ]
    },
    {
     "name": "stdout",
     "output_type": "stream",
     "text": [
      "Fitting 3 folds for each of 5 candidates, totalling 15 fits\n",
      "Cannot have number of splits n_splits=3 greater than the number of samples: n_samples=0.\n",
      "Fitting 3 folds for each of 5 candidates, totalling 15 fits\n"
     ]
    },
    {
     "name": "stderr",
     "output_type": "stream",
     "text": [
      " 66%|███████████████████▊          | 1276/1936 [1:55:35<59:59,  5.45s/it]"
     ]
    },
    {
     "name": "stdout",
     "output_type": "stream",
     "text": [
      "Fitting 3 folds for each of 5 candidates, totalling 15 fits\n"
     ]
    },
    {
     "name": "stderr",
     "output_type": "stream",
     "text": [
      " 66%|███████████████████▊          | 1277/1936 [1:55:46<1:11:20,  6.50s/it]"
     ]
    },
    {
     "name": "stdout",
     "output_type": "stream",
     "text": [
      "Fitting 3 folds for each of 5 candidates, totalling 15 fits\n",
      "Cannot have number of splits n_splits=3 greater than the number of samples: n_samples=0.\n",
      "Fitting 3 folds for each of 5 candidates, totalling 15 fits\n",
      "Cannot have number of splits n_splits=3 greater than the number of samples: n_samples=0.\n",
      "Fitting 3 folds for each of 5 candidates, totalling 15 fits\n",
      "Cannot have number of splits n_splits=3 greater than the number of samples: n_samples=0.\n",
      "Fitting 3 folds for each of 5 candidates, totalling 15 fits\n"
     ]
    },
    {
     "name": "stderr",
     "output_type": "stream",
     "text": [
      " 66%|███████████████████▊          | 1281/1936 [1:55:58<52:01,  4.76s/it]  "
     ]
    },
    {
     "name": "stdout",
     "output_type": "stream",
     "text": [
      "Fitting 3 folds for each of 5 candidates, totalling 15 fits\n"
     ]
    },
    {
     "name": "stderr",
     "output_type": "stream",
     "text": [
      " 66%|███████████████████▊          | 1282/1936 [1:56:11<1:04:59,  5.96s/it]"
     ]
    },
    {
     "name": "stdout",
     "output_type": "stream",
     "text": [
      "Fitting 3 folds for each of 5 candidates, totalling 15 fits\n",
      "Cannot have number of splits n_splits=3 greater than the number of samples: n_samples=0.\n",
      "Fitting 3 folds for each of 5 candidates, totalling 15 fits\n"
     ]
    },
    {
     "name": "stderr",
     "output_type": "stream",
     "text": [
      " 66%|███████████████████▉          | 1284/1936 [1:56:22<1:04:17,  5.92s/it]"
     ]
    },
    {
     "name": "stdout",
     "output_type": "stream",
     "text": [
      "Fitting 3 folds for each of 5 candidates, totalling 15 fits\n"
     ]
    },
    {
     "name": "stderr",
     "output_type": "stream",
     "text": [
      " 66%|███████████████████▉          | 1285/1936 [1:56:34<1:15:10,  6.93s/it]"
     ]
    },
    {
     "name": "stdout",
     "output_type": "stream",
     "text": [
      "Fitting 3 folds for each of 5 candidates, totalling 15 fits\n",
      "Cannot have number of splits n_splits=3 greater than the number of samples: n_samples=0.\n",
      "Fitting 3 folds for each of 5 candidates, totalling 15 fits\n",
      "Cannot have number of splits n_splits=3 greater than the number of samples: n_samples=0.\n",
      "Fitting 3 folds for each of 5 candidates, totalling 15 fits\n",
      "Cannot have number of splits n_splits=3 greater than the number of samples: n_samples=0.\n",
      "Fitting 3 folds for each of 5 candidates, totalling 15 fits\n"
     ]
    },
    {
     "name": "stderr",
     "output_type": "stream",
     "text": [
      " 67%|███████████████████▉          | 1289/1936 [1:56:45<52:10,  4.84s/it]  "
     ]
    },
    {
     "name": "stdout",
     "output_type": "stream",
     "text": [
      "Fitting 3 folds for each of 5 candidates, totalling 15 fits\n"
     ]
    },
    {
     "name": "stderr",
     "output_type": "stream",
     "text": [
      " 67%|███████████████████▉          | 1290/1936 [1:56:57<1:03:14,  5.87s/it]"
     ]
    },
    {
     "name": "stdout",
     "output_type": "stream",
     "text": [
      "Fitting 3 folds for each of 5 candidates, totalling 15 fits\n",
      "Cannot have number of splits n_splits=3 greater than the number of samples: n_samples=0.\n",
      "Fitting 3 folds for each of 5 candidates, totalling 15 fits\n"
     ]
    },
    {
     "name": "stderr",
     "output_type": "stream",
     "text": [
      " 67%|████████████████████          | 1292/1936 [1:57:09<1:03:15,  5.89s/it]"
     ]
    },
    {
     "name": "stdout",
     "output_type": "stream",
     "text": [
      "Fitting 3 folds for each of 5 candidates, totalling 15 fits\n"
     ]
    },
    {
     "name": "stderr",
     "output_type": "stream",
     "text": [
      " 67%|████████████████████          | 1293/1936 [1:57:20<1:13:42,  6.88s/it]"
     ]
    },
    {
     "name": "stdout",
     "output_type": "stream",
     "text": [
      "Fitting 3 folds for each of 5 candidates, totalling 15 fits\n",
      "Cannot have number of splits n_splits=3 greater than the number of samples: n_samples=0.\n",
      "Fitting 3 folds for each of 5 candidates, totalling 15 fits\n",
      "Cannot have number of splits n_splits=3 greater than the number of samples: n_samples=0.\n",
      "Fitting 3 folds for each of 5 candidates, totalling 15 fits\n",
      "Cannot have number of splits n_splits=3 greater than the number of samples: n_samples=0.\n",
      "Fitting 3 folds for each of 5 candidates, totalling 15 fits\n"
     ]
    },
    {
     "name": "stderr",
     "output_type": "stream",
     "text": [
      " 67%|████████████████████          | 1297/1936 [1:57:32<51:58,  4.88s/it]  "
     ]
    },
    {
     "name": "stdout",
     "output_type": "stream",
     "text": [
      "Fitting 3 folds for each of 5 candidates, totalling 15 fits\n"
     ]
    },
    {
     "name": "stderr",
     "output_type": "stream",
     "text": [
      " 67%|████████████████████          | 1298/1936 [1:57:43<1:02:14,  5.85s/it]"
     ]
    },
    {
     "name": "stdout",
     "output_type": "stream",
     "text": [
      "Fitting 3 folds for each of 5 candidates, totalling 15 fits\n",
      "Cannot have number of splits n_splits=3 greater than the number of samples: n_samples=0.\n",
      "Fitting 3 folds for each of 5 candidates, totalling 15 fits\n"
     ]
    },
    {
     "name": "stderr",
     "output_type": "stream",
     "text": [
      " 67%|████████████████████▏         | 1300/1936 [1:57:54<1:01:47,  5.83s/it]"
     ]
    },
    {
     "name": "stdout",
     "output_type": "stream",
     "text": [
      "Fitting 3 folds for each of 5 candidates, totalling 15 fits\n"
     ]
    },
    {
     "name": "stderr",
     "output_type": "stream",
     "text": [
      " 67%|████████████████████▏         | 1301/1936 [1:58:06<1:13:07,  6.91s/it]"
     ]
    },
    {
     "name": "stdout",
     "output_type": "stream",
     "text": [
      "Fitting 3 folds for each of 5 candidates, totalling 15 fits\n",
      "Cannot have number of splits n_splits=3 greater than the number of samples: n_samples=0.\n",
      "Fitting 3 folds for each of 5 candidates, totalling 15 fits\n",
      "Cannot have number of splits n_splits=3 greater than the number of samples: n_samples=0.\n",
      "Fitting 3 folds for each of 5 candidates, totalling 15 fits\n",
      "Cannot have number of splits n_splits=3 greater than the number of samples: n_samples=0.\n",
      "Fitting 3 folds for each of 5 candidates, totalling 15 fits\n"
     ]
    },
    {
     "name": "stderr",
     "output_type": "stream",
     "text": [
      " 67%|████████████████████▏         | 1305/1936 [1:58:18<51:33,  4.90s/it]  "
     ]
    },
    {
     "name": "stdout",
     "output_type": "stream",
     "text": [
      "Fitting 3 folds for each of 5 candidates, totalling 15 fits\n"
     ]
    },
    {
     "name": "stderr",
     "output_type": "stream",
     "text": [
      " 67%|████████████████████▏         | 1306/1936 [1:58:30<1:01:59,  5.90s/it]"
     ]
    },
    {
     "name": "stdout",
     "output_type": "stream",
     "text": [
      "Fitting 3 folds for each of 5 candidates, totalling 15 fits\n",
      "Cannot have number of splits n_splits=3 greater than the number of samples: n_samples=0.\n",
      "Fitting 3 folds for each of 5 candidates, totalling 15 fits\n"
     ]
    },
    {
     "name": "stderr",
     "output_type": "stream",
     "text": [
      " 68%|████████████████████▎         | 1308/1936 [1:58:41<1:01:01,  5.83s/it]"
     ]
    },
    {
     "name": "stdout",
     "output_type": "stream",
     "text": [
      "Fitting 3 folds for each of 5 candidates, totalling 15 fits\n"
     ]
    },
    {
     "name": "stderr",
     "output_type": "stream",
     "text": [
      " 68%|████████████████████▎         | 1309/1936 [1:58:53<1:12:15,  6.91s/it]"
     ]
    },
    {
     "name": "stdout",
     "output_type": "stream",
     "text": [
      "Fitting 3 folds for each of 5 candidates, totalling 15 fits\n",
      "Cannot have number of splits n_splits=3 greater than the number of samples: n_samples=0.\n",
      "Fitting 3 folds for each of 5 candidates, totalling 15 fits\n",
      "Cannot have number of splits n_splits=3 greater than the number of samples: n_samples=0.\n",
      "Fitting 3 folds for each of 5 candidates, totalling 15 fits\n",
      "Cannot have number of splits n_splits=3 greater than the number of samples: n_samples=0.\n",
      "Fitting 3 folds for each of 5 candidates, totalling 15 fits\n"
     ]
    },
    {
     "name": "stderr",
     "output_type": "stream",
     "text": [
      " 68%|████████████████████▎         | 1313/1936 [1:59:00<45:39,  4.40s/it]  "
     ]
    },
    {
     "name": "stdout",
     "output_type": "stream",
     "text": [
      "Fitting 3 folds for each of 5 candidates, totalling 15 fits\n"
     ]
    },
    {
     "name": "stderr",
     "output_type": "stream",
     "text": [
      " 68%|████████████████████▎         | 1314/1936 [1:59:08<50:49,  4.90s/it]"
     ]
    },
    {
     "name": "stdout",
     "output_type": "stream",
     "text": [
      "Fitting 3 folds for each of 5 candidates, totalling 15 fits\n",
      "Cannot have number of splits n_splits=3 greater than the number of samples: n_samples=0.\n",
      "Fitting 3 folds for each of 5 candidates, totalling 15 fits\n"
     ]
    },
    {
     "name": "stderr",
     "output_type": "stream",
     "text": [
      " 68%|████████████████████▍         | 1316/1936 [1:59:15<46:36,  4.51s/it]"
     ]
    },
    {
     "name": "stdout",
     "output_type": "stream",
     "text": [
      "Fitting 3 folds for each of 5 candidates, totalling 15 fits\n"
     ]
    },
    {
     "name": "stderr",
     "output_type": "stream",
     "text": [
      " 68%|████████████████████▍         | 1317/1936 [1:59:23<51:32,  5.00s/it]"
     ]
    },
    {
     "name": "stdout",
     "output_type": "stream",
     "text": [
      "Fitting 3 folds for each of 5 candidates, totalling 15 fits\n",
      "Cannot have number of splits n_splits=3 greater than the number of samples: n_samples=0.\n",
      "Fitting 3 folds for each of 5 candidates, totalling 15 fits\n",
      "Cannot have number of splits n_splits=3 greater than the number of samples: n_samples=0.\n",
      "Fitting 3 folds for each of 5 candidates, totalling 15 fits\n",
      "Cannot have number of splits n_splits=3 greater than the number of samples: n_samples=0.\n",
      "Fitting 3 folds for each of 5 candidates, totalling 15 fits\n"
     ]
    },
    {
     "name": "stderr",
     "output_type": "stream",
     "text": [
      " 68%|████████████████████▍         | 1321/1936 [1:59:34<39:58,  3.90s/it]"
     ]
    },
    {
     "name": "stdout",
     "output_type": "stream",
     "text": [
      "Fitting 3 folds for each of 5 candidates, totalling 15 fits\n"
     ]
    },
    {
     "name": "stderr",
     "output_type": "stream",
     "text": [
      " 68%|████████████████████▍         | 1322/1936 [1:59:46<51:55,  5.07s/it]"
     ]
    },
    {
     "name": "stdout",
     "output_type": "stream",
     "text": [
      "Fitting 3 folds for each of 5 candidates, totalling 15 fits\n",
      "Cannot have number of splits n_splits=3 greater than the number of samples: n_samples=0.\n",
      "Fitting 3 folds for each of 5 candidates, totalling 15 fits\n"
     ]
    },
    {
     "name": "stderr",
     "output_type": "stream",
     "text": [
      " 68%|████████████████████▌         | 1324/1936 [1:59:58<55:01,  5.39s/it]"
     ]
    },
    {
     "name": "stdout",
     "output_type": "stream",
     "text": [
      "Fitting 3 folds for each of 5 candidates, totalling 15 fits\n"
     ]
    },
    {
     "name": "stderr",
     "output_type": "stream",
     "text": [
      " 68%|████████████████████▌         | 1325/1936 [2:00:10<1:07:02,  6.58s/it]"
     ]
    },
    {
     "name": "stdout",
     "output_type": "stream",
     "text": [
      "Fitting 3 folds for each of 5 candidates, totalling 15 fits\n",
      "Cannot have number of splits n_splits=3 greater than the number of samples: n_samples=0.\n",
      "Fitting 3 folds for each of 5 candidates, totalling 15 fits\n",
      "Cannot have number of splits n_splits=3 greater than the number of samples: n_samples=0.\n",
      "Fitting 3 folds for each of 5 candidates, totalling 15 fits\n",
      "Cannot have number of splits n_splits=3 greater than the number of samples: n_samples=0.\n",
      "Fitting 3 folds for each of 5 candidates, totalling 15 fits\n"
     ]
    },
    {
     "name": "stderr",
     "output_type": "stream",
     "text": [
      " 69%|████████████████████▌         | 1329/1936 [2:00:20<45:42,  4.52s/it]  "
     ]
    },
    {
     "name": "stdout",
     "output_type": "stream",
     "text": [
      "Fitting 3 folds for each of 5 candidates, totalling 15 fits\n"
     ]
    },
    {
     "name": "stderr",
     "output_type": "stream",
     "text": [
      " 69%|████████████████████▌         | 1330/1936 [2:00:29<53:29,  5.30s/it]"
     ]
    },
    {
     "name": "stdout",
     "output_type": "stream",
     "text": [
      "Fitting 3 folds for each of 5 candidates, totalling 15 fits\n",
      "Cannot have number of splits n_splits=3 greater than the number of samples: n_samples=0.\n",
      "Fitting 3 folds for each of 5 candidates, totalling 15 fits\n"
     ]
    },
    {
     "name": "stderr",
     "output_type": "stream",
     "text": [
      " 69%|████████████████████▋         | 1332/1936 [2:00:39<51:08,  5.08s/it]"
     ]
    },
    {
     "name": "stdout",
     "output_type": "stream",
     "text": [
      "Fitting 3 folds for each of 5 candidates, totalling 15 fits\n"
     ]
    },
    {
     "name": "stderr",
     "output_type": "stream",
     "text": [
      " 69%|████████████████████▋         | 1333/1936 [2:00:48<58:48,  5.85s/it]"
     ]
    },
    {
     "name": "stdout",
     "output_type": "stream",
     "text": [
      "Fitting 3 folds for each of 5 candidates, totalling 15 fits\n",
      "Cannot have number of splits n_splits=3 greater than the number of samples: n_samples=0.\n",
      "Fitting 3 folds for each of 5 candidates, totalling 15 fits\n",
      "Cannot have number of splits n_splits=3 greater than the number of samples: n_samples=0.\n",
      "Fitting 3 folds for each of 5 candidates, totalling 15 fits\n",
      "Cannot have number of splits n_splits=3 greater than the number of samples: n_samples=0.\n",
      "Fitting 3 folds for each of 5 candidates, totalling 15 fits\n"
     ]
    },
    {
     "name": "stderr",
     "output_type": "stream",
     "text": [
      " 69%|████████████████████▋         | 1337/1936 [2:01:00<43:28,  4.35s/it]"
     ]
    },
    {
     "name": "stdout",
     "output_type": "stream",
     "text": [
      "Fitting 3 folds for each of 5 candidates, totalling 15 fits\n"
     ]
    },
    {
     "name": "stderr",
     "output_type": "stream",
     "text": [
      " 69%|████████████████████▋         | 1338/1936 [2:01:11<54:30,  5.47s/it]"
     ]
    },
    {
     "name": "stdout",
     "output_type": "stream",
     "text": [
      "Fitting 3 folds for each of 5 candidates, totalling 15 fits\n",
      "Cannot have number of splits n_splits=3 greater than the number of samples: n_samples=0.\n",
      "Fitting 3 folds for each of 5 candidates, totalling 15 fits\n"
     ]
    },
    {
     "name": "stderr",
     "output_type": "stream",
     "text": [
      " 69%|████████████████████▊         | 1340/1936 [2:01:23<54:54,  5.53s/it]"
     ]
    },
    {
     "name": "stdout",
     "output_type": "stream",
     "text": [
      "Fitting 3 folds for each of 5 candidates, totalling 15 fits\n"
     ]
    },
    {
     "name": "stderr",
     "output_type": "stream",
     "text": [
      " 69%|████████████████████▊         | 1341/1936 [2:01:34<1:04:54,  6.54s/it]"
     ]
    },
    {
     "name": "stdout",
     "output_type": "stream",
     "text": [
      "Fitting 3 folds for each of 5 candidates, totalling 15 fits\n",
      "Cannot have number of splits n_splits=3 greater than the number of samples: n_samples=0.\n",
      "Fitting 3 folds for each of 5 candidates, totalling 15 fits\n",
      "Cannot have number of splits n_splits=3 greater than the number of samples: n_samples=0.\n",
      "Fitting 3 folds for each of 5 candidates, totalling 15 fits\n",
      "Cannot have number of splits n_splits=3 greater than the number of samples: n_samples=0.\n",
      "Fitting 3 folds for each of 5 candidates, totalling 15 fits\n"
     ]
    },
    {
     "name": "stderr",
     "output_type": "stream",
     "text": [
      " 69%|████████████████████▊         | 1345/1936 [2:01:45<46:06,  4.68s/it]  "
     ]
    },
    {
     "name": "stdout",
     "output_type": "stream",
     "text": [
      "Fitting 3 folds for each of 5 candidates, totalling 15 fits\n"
     ]
    },
    {
     "name": "stderr",
     "output_type": "stream",
     "text": [
      " 70%|████████████████████▊         | 1346/1936 [2:01:57<56:53,  5.79s/it]"
     ]
    },
    {
     "name": "stdout",
     "output_type": "stream",
     "text": [
      "Fitting 3 folds for each of 5 candidates, totalling 15 fits\n",
      "Cannot have number of splits n_splits=3 greater than the number of samples: n_samples=0.\n",
      "Fitting 3 folds for each of 5 candidates, totalling 15 fits\n"
     ]
    },
    {
     "name": "stderr",
     "output_type": "stream",
     "text": [
      " 70%|████████████████████▉         | 1348/1936 [2:02:09<57:13,  5.84s/it]"
     ]
    },
    {
     "name": "stdout",
     "output_type": "stream",
     "text": [
      "Fitting 3 folds for each of 5 candidates, totalling 15 fits\n"
     ]
    },
    {
     "name": "stderr",
     "output_type": "stream",
     "text": [
      " 70%|████████████████████▉         | 1349/1936 [2:02:20<1:06:29,  6.80s/it]"
     ]
    },
    {
     "name": "stdout",
     "output_type": "stream",
     "text": [
      "Fitting 3 folds for each of 5 candidates, totalling 15 fits\n",
      "Cannot have number of splits n_splits=3 greater than the number of samples: n_samples=0.\n",
      "Fitting 3 folds for each of 5 candidates, totalling 15 fits\n",
      "Cannot have number of splits n_splits=3 greater than the number of samples: n_samples=0.\n",
      "Fitting 3 folds for each of 5 candidates, totalling 15 fits\n",
      "Cannot have number of splits n_splits=3 greater than the number of samples: n_samples=0.\n",
      "Fitting 3 folds for each of 5 candidates, totalling 15 fits\n"
     ]
    },
    {
     "name": "stderr",
     "output_type": "stream",
     "text": [
      " 70%|████████████████████▉         | 1353/1936 [2:02:31<46:06,  4.75s/it]  "
     ]
    },
    {
     "name": "stdout",
     "output_type": "stream",
     "text": [
      "Fitting 3 folds for each of 5 candidates, totalling 15 fits\n"
     ]
    },
    {
     "name": "stderr",
     "output_type": "stream",
     "text": [
      " 70%|████████████████████▉         | 1354/1936 [2:02:42<54:37,  5.63s/it]"
     ]
    },
    {
     "name": "stdout",
     "output_type": "stream",
     "text": [
      "Fitting 3 folds for each of 5 candidates, totalling 15 fits\n",
      "Cannot have number of splits n_splits=3 greater than the number of samples: n_samples=0.\n",
      "Fitting 3 folds for each of 5 candidates, totalling 15 fits\n"
     ]
    },
    {
     "name": "stderr",
     "output_type": "stream",
     "text": [
      " 70%|█████████████████████         | 1356/1936 [2:02:53<54:41,  5.66s/it]"
     ]
    },
    {
     "name": "stdout",
     "output_type": "stream",
     "text": [
      "Fitting 3 folds for each of 5 candidates, totalling 15 fits\n"
     ]
    },
    {
     "name": "stderr",
     "output_type": "stream",
     "text": [
      " 70%|█████████████████████         | 1357/1936 [2:03:05<1:04:50,  6.72s/it]"
     ]
    },
    {
     "name": "stdout",
     "output_type": "stream",
     "text": [
      "Fitting 3 folds for each of 5 candidates, totalling 15 fits\n",
      "Cannot have number of splits n_splits=3 greater than the number of samples: n_samples=0.\n",
      "Fitting 3 folds for each of 5 candidates, totalling 15 fits\n",
      "Cannot have number of splits n_splits=3 greater than the number of samples: n_samples=0.\n",
      "Fitting 3 folds for each of 5 candidates, totalling 15 fits\n",
      "Cannot have number of splits n_splits=3 greater than the number of samples: n_samples=0.\n",
      "Fitting 3 folds for each of 5 candidates, totalling 15 fits\n"
     ]
    },
    {
     "name": "stderr",
     "output_type": "stream",
     "text": [
      " 70%|█████████████████████         | 1361/1936 [2:03:15<43:46,  4.57s/it]  "
     ]
    },
    {
     "name": "stdout",
     "output_type": "stream",
     "text": [
      "Fitting 3 folds for each of 5 candidates, totalling 15 fits\n"
     ]
    },
    {
     "name": "stderr",
     "output_type": "stream",
     "text": [
      " 70%|█████████████████████         | 1362/1936 [2:03:24<50:54,  5.32s/it]"
     ]
    },
    {
     "name": "stdout",
     "output_type": "stream",
     "text": [
      "Fitting 3 folds for each of 5 candidates, totalling 15 fits\n",
      "Cannot have number of splits n_splits=3 greater than the number of samples: n_samples=0.\n",
      "Fitting 3 folds for each of 5 candidates, totalling 15 fits\n"
     ]
    },
    {
     "name": "stderr",
     "output_type": "stream",
     "text": [
      " 70%|█████████████████████▏        | 1364/1936 [2:03:33<48:55,  5.13s/it]"
     ]
    },
    {
     "name": "stdout",
     "output_type": "stream",
     "text": [
      "Fitting 3 folds for each of 5 candidates, totalling 15 fits\n"
     ]
    },
    {
     "name": "stderr",
     "output_type": "stream",
     "text": [
      " 71%|█████████████████████▏        | 1365/1936 [2:03:43<55:52,  5.87s/it]"
     ]
    },
    {
     "name": "stdout",
     "output_type": "stream",
     "text": [
      "Fitting 3 folds for each of 5 candidates, totalling 15 fits\n",
      "Cannot have number of splits n_splits=3 greater than the number of samples: n_samples=0.\n",
      "Fitting 3 folds for each of 5 candidates, totalling 15 fits\n",
      "Cannot have number of splits n_splits=3 greater than the number of samples: n_samples=0.\n",
      "Fitting 3 folds for each of 5 candidates, totalling 15 fits\n",
      "Cannot have number of splits n_splits=3 greater than the number of samples: n_samples=0.\n",
      "Fitting 3 folds for each of 5 candidates, totalling 15 fits\n"
     ]
    },
    {
     "name": "stderr",
     "output_type": "stream",
     "text": [
      " 71%|█████████████████████▏        | 1369/1936 [2:03:55<41:36,  4.40s/it]"
     ]
    },
    {
     "name": "stdout",
     "output_type": "stream",
     "text": [
      "Fitting 3 folds for each of 5 candidates, totalling 15 fits\n"
     ]
    },
    {
     "name": "stderr",
     "output_type": "stream",
     "text": [
      " 71%|█████████████████████▏        | 1370/1936 [2:04:07<53:09,  5.64s/it]"
     ]
    },
    {
     "name": "stdout",
     "output_type": "stream",
     "text": [
      "Fitting 3 folds for each of 5 candidates, totalling 15 fits\n",
      "Cannot have number of splits n_splits=3 greater than the number of samples: n_samples=0.\n",
      "Fitting 3 folds for each of 5 candidates, totalling 15 fits\n"
     ]
    },
    {
     "name": "stderr",
     "output_type": "stream",
     "text": [
      " 71%|█████████████████████▎        | 1372/1936 [2:04:19<53:30,  5.69s/it]"
     ]
    },
    {
     "name": "stdout",
     "output_type": "stream",
     "text": [
      "Fitting 3 folds for each of 5 candidates, totalling 15 fits\n"
     ]
    },
    {
     "name": "stderr",
     "output_type": "stream",
     "text": [
      " 71%|█████████████████████▎        | 1373/1936 [2:04:30<1:03:25,  6.76s/it]"
     ]
    },
    {
     "name": "stdout",
     "output_type": "stream",
     "text": [
      "Fitting 3 folds for each of 5 candidates, totalling 15 fits\n",
      "Cannot have number of splits n_splits=3 greater than the number of samples: n_samples=0.\n",
      "Fitting 3 folds for each of 5 candidates, totalling 15 fits\n",
      "Cannot have number of splits n_splits=3 greater than the number of samples: n_samples=0.\n",
      "Fitting 3 folds for each of 5 candidates, totalling 15 fits\n",
      "Cannot have number of splits n_splits=3 greater than the number of samples: n_samples=0.\n",
      "Fitting 3 folds for each of 5 candidates, totalling 15 fits\n"
     ]
    },
    {
     "name": "stderr",
     "output_type": "stream",
     "text": [
      " 71%|█████████████████████▎        | 1377/1936 [2:04:42<44:48,  4.81s/it]  "
     ]
    },
    {
     "name": "stdout",
     "output_type": "stream",
     "text": [
      "Fitting 3 folds for each of 5 candidates, totalling 15 fits\n"
     ]
    },
    {
     "name": "stderr",
     "output_type": "stream",
     "text": [
      " 71%|█████████████████████▎        | 1378/1936 [2:04:54<54:56,  5.91s/it]"
     ]
    },
    {
     "name": "stdout",
     "output_type": "stream",
     "text": [
      "Fitting 3 folds for each of 5 candidates, totalling 15 fits\n",
      "Cannot have number of splits n_splits=3 greater than the number of samples: n_samples=0.\n",
      "Fitting 3 folds for each of 5 candidates, totalling 15 fits\n"
     ]
    },
    {
     "name": "stderr",
     "output_type": "stream",
     "text": [
      " 71%|█████████████████████▍        | 1380/1936 [2:05:06<54:55,  5.93s/it]"
     ]
    },
    {
     "name": "stdout",
     "output_type": "stream",
     "text": [
      "Fitting 3 folds for each of 5 candidates, totalling 15 fits\n"
     ]
    },
    {
     "name": "stderr",
     "output_type": "stream",
     "text": [
      " 71%|█████████████████████▍        | 1381/1936 [2:05:17<1:04:09,  6.94s/it]"
     ]
    },
    {
     "name": "stdout",
     "output_type": "stream",
     "text": [
      "Fitting 3 folds for each of 5 candidates, totalling 15 fits\n",
      "Cannot have number of splits n_splits=3 greater than the number of samples: n_samples=0.\n",
      "Fitting 3 folds for each of 5 candidates, totalling 15 fits\n",
      "Cannot have number of splits n_splits=3 greater than the number of samples: n_samples=0.\n",
      "Fitting 3 folds for each of 5 candidates, totalling 15 fits\n",
      "Cannot have number of splits n_splits=3 greater than the number of samples: n_samples=0.\n",
      "Fitting 3 folds for each of 5 candidates, totalling 15 fits\n"
     ]
    },
    {
     "name": "stderr",
     "output_type": "stream",
     "text": [
      " 72%|█████████████████████▍        | 1385/1936 [2:05:25<39:57,  4.35s/it]  "
     ]
    },
    {
     "name": "stdout",
     "output_type": "stream",
     "text": [
      "Fitting 3 folds for each of 5 candidates, totalling 15 fits\n"
     ]
    },
    {
     "name": "stderr",
     "output_type": "stream",
     "text": [
      " 72%|█████████████████████▍        | 1386/1936 [2:05:32<44:10,  4.82s/it]"
     ]
    },
    {
     "name": "stdout",
     "output_type": "stream",
     "text": [
      "Fitting 3 folds for each of 5 candidates, totalling 15 fits\n",
      "Cannot have number of splits n_splits=3 greater than the number of samples: n_samples=0.\n",
      "Fitting 3 folds for each of 5 candidates, totalling 15 fits\n"
     ]
    },
    {
     "name": "stderr",
     "output_type": "stream",
     "text": [
      " 72%|█████████████████████▌        | 1388/1936 [2:05:39<40:45,  4.46s/it]"
     ]
    },
    {
     "name": "stdout",
     "output_type": "stream",
     "text": [
      "Fitting 3 folds for each of 5 candidates, totalling 15 fits\n"
     ]
    },
    {
     "name": "stderr",
     "output_type": "stream",
     "text": [
      " 72%|█████████████████████▌        | 1389/1936 [2:05:47<45:31,  4.99s/it]"
     ]
    },
    {
     "name": "stdout",
     "output_type": "stream",
     "text": [
      "Fitting 3 folds for each of 5 candidates, totalling 15 fits\n",
      "Cannot have number of splits n_splits=3 greater than the number of samples: n_samples=0.\n",
      "Fitting 3 folds for each of 5 candidates, totalling 15 fits\n",
      "Cannot have number of splits n_splits=3 greater than the number of samples: n_samples=0.\n",
      "Fitting 3 folds for each of 5 candidates, totalling 15 fits\n",
      "Cannot have number of splits n_splits=3 greater than the number of samples: n_samples=0.\n",
      "Fitting 3 folds for each of 5 candidates, totalling 15 fits\n"
     ]
    },
    {
     "name": "stderr",
     "output_type": "stream",
     "text": [
      " 72%|█████████████████████▌        | 1393/1936 [2:05:55<31:33,  3.49s/it]"
     ]
    },
    {
     "name": "stdout",
     "output_type": "stream",
     "text": [
      "Fitting 3 folds for each of 5 candidates, totalling 15 fits\n"
     ]
    },
    {
     "name": "stderr",
     "output_type": "stream",
     "text": [
      " 72%|█████████████████████▌        | 1394/1936 [2:06:03<37:48,  4.18s/it]"
     ]
    },
    {
     "name": "stdout",
     "output_type": "stream",
     "text": [
      "Fitting 3 folds for each of 5 candidates, totalling 15 fits\n",
      "Cannot have number of splits n_splits=3 greater than the number of samples: n_samples=0.\n",
      "Fitting 3 folds for each of 5 candidates, totalling 15 fits\n"
     ]
    },
    {
     "name": "stderr",
     "output_type": "stream",
     "text": [
      " 72%|█████████████████████▋        | 1396/1936 [2:06:11<36:34,  4.06s/it]"
     ]
    },
    {
     "name": "stdout",
     "output_type": "stream",
     "text": [
      "Fitting 3 folds for each of 5 candidates, totalling 15 fits\n"
     ]
    },
    {
     "name": "stderr",
     "output_type": "stream",
     "text": [
      " 72%|█████████████████████▋        | 1397/1936 [2:06:18<42:06,  4.69s/it]"
     ]
    },
    {
     "name": "stdout",
     "output_type": "stream",
     "text": [
      "Fitting 3 folds for each of 5 candidates, totalling 15 fits\n",
      "Cannot have number of splits n_splits=3 greater than the number of samples: n_samples=0.\n",
      "Fitting 3 folds for each of 5 candidates, totalling 15 fits\n",
      "Cannot have number of splits n_splits=3 greater than the number of samples: n_samples=0.\n",
      "Fitting 3 folds for each of 5 candidates, totalling 15 fits\n",
      "Cannot have number of splits n_splits=3 greater than the number of samples: n_samples=0.\n",
      "Fitting 3 folds for each of 5 candidates, totalling 15 fits\n"
     ]
    },
    {
     "name": "stderr",
     "output_type": "stream",
     "text": [
      " 72%|█████████████████████▋        | 1401/1936 [2:06:30<34:03,  3.82s/it]"
     ]
    },
    {
     "name": "stdout",
     "output_type": "stream",
     "text": [
      "Fitting 3 folds for each of 5 candidates, totalling 15 fits\n"
     ]
    },
    {
     "name": "stderr",
     "output_type": "stream",
     "text": [
      " 72%|█████████████████████▋        | 1402/1936 [2:06:42<44:50,  5.04s/it]"
     ]
    },
    {
     "name": "stdout",
     "output_type": "stream",
     "text": [
      "Fitting 3 folds for each of 5 candidates, totalling 15 fits\n",
      "Cannot have number of splits n_splits=3 greater than the number of samples: n_samples=0.\n",
      "Fitting 3 folds for each of 5 candidates, totalling 15 fits\n"
     ]
    },
    {
     "name": "stderr",
     "output_type": "stream",
     "text": [
      " 73%|█████████████████████▊        | 1404/1936 [2:06:54<47:39,  5.37s/it]"
     ]
    },
    {
     "name": "stdout",
     "output_type": "stream",
     "text": [
      "Fitting 3 folds for each of 5 candidates, totalling 15 fits\n"
     ]
    },
    {
     "name": "stderr",
     "output_type": "stream",
     "text": [
      " 73%|█████████████████████▊        | 1405/1936 [2:07:07<58:50,  6.65s/it]"
     ]
    },
    {
     "name": "stdout",
     "output_type": "stream",
     "text": [
      "Fitting 3 folds for each of 5 candidates, totalling 15 fits\n",
      "Cannot have number of splits n_splits=3 greater than the number of samples: n_samples=0.\n",
      "Fitting 3 folds for each of 5 candidates, totalling 15 fits\n",
      "Cannot have number of splits n_splits=3 greater than the number of samples: n_samples=0.\n",
      "Fitting 3 folds for each of 5 candidates, totalling 15 fits\n",
      "Cannot have number of splits n_splits=3 greater than the number of samples: n_samples=0.\n",
      "Fitting 3 folds for each of 5 candidates, totalling 15 fits\n"
     ]
    },
    {
     "name": "stderr",
     "output_type": "stream",
     "text": [
      " 73%|█████████████████████▊        | 1409/1936 [2:07:18<42:05,  4.79s/it]"
     ]
    },
    {
     "name": "stdout",
     "output_type": "stream",
     "text": [
      "Fitting 3 folds for each of 5 candidates, totalling 15 fits\n"
     ]
    },
    {
     "name": "stderr",
     "output_type": "stream",
     "text": [
      " 73%|█████████████████████▊        | 1410/1936 [2:07:30<51:21,  5.86s/it]"
     ]
    },
    {
     "name": "stdout",
     "output_type": "stream",
     "text": [
      "Fitting 3 folds for each of 5 candidates, totalling 15 fits\n",
      "Cannot have number of splits n_splits=3 greater than the number of samples: n_samples=0.\n",
      "Fitting 3 folds for each of 5 candidates, totalling 15 fits\n"
     ]
    },
    {
     "name": "stderr",
     "output_type": "stream",
     "text": [
      " 73%|█████████████████████▉        | 1412/1936 [2:07:42<51:14,  5.87s/it]"
     ]
    },
    {
     "name": "stdout",
     "output_type": "stream",
     "text": [
      "Fitting 3 folds for each of 5 candidates, totalling 15 fits\n"
     ]
    },
    {
     "name": "stderr",
     "output_type": "stream",
     "text": [
      " 73%|█████████████████████▉        | 1413/1936 [2:07:54<1:01:20,  7.04s/it]"
     ]
    },
    {
     "name": "stdout",
     "output_type": "stream",
     "text": [
      "Fitting 3 folds for each of 5 candidates, totalling 15 fits\n",
      "Cannot have number of splits n_splits=3 greater than the number of samples: n_samples=0.\n",
      "Fitting 3 folds for each of 5 candidates, totalling 15 fits\n",
      "Cannot have number of splits n_splits=3 greater than the number of samples: n_samples=0.\n",
      "Fitting 3 folds for each of 5 candidates, totalling 15 fits\n",
      "Cannot have number of splits n_splits=3 greater than the number of samples: n_samples=0.\n",
      "Fitting 3 folds for each of 5 candidates, totalling 15 fits\n"
     ]
    },
    {
     "name": "stderr",
     "output_type": "stream",
     "text": [
      " 73%|█████████████████████▉        | 1417/1936 [2:08:05<41:21,  4.78s/it]  "
     ]
    },
    {
     "name": "stdout",
     "output_type": "stream",
     "text": [
      "Fitting 3 folds for each of 5 candidates, totalling 15 fits\n"
     ]
    },
    {
     "name": "stderr",
     "output_type": "stream",
     "text": [
      " 73%|█████████████████████▉        | 1418/1936 [2:08:14<47:37,  5.52s/it]"
     ]
    },
    {
     "name": "stdout",
     "output_type": "stream",
     "text": [
      "Fitting 3 folds for each of 5 candidates, totalling 15 fits\n",
      "Cannot have number of splits n_splits=3 greater than the number of samples: n_samples=0.\n",
      "Fitting 3 folds for each of 5 candidates, totalling 15 fits\n"
     ]
    },
    {
     "name": "stderr",
     "output_type": "stream",
     "text": [
      " 73%|██████████████████████        | 1420/1936 [2:08:24<45:29,  5.29s/it]"
     ]
    },
    {
     "name": "stdout",
     "output_type": "stream",
     "text": [
      "Fitting 3 folds for each of 5 candidates, totalling 15 fits\n"
     ]
    },
    {
     "name": "stderr",
     "output_type": "stream",
     "text": [
      " 73%|██████████████████████        | 1421/1936 [2:08:33<51:46,  6.03s/it]"
     ]
    },
    {
     "name": "stdout",
     "output_type": "stream",
     "text": [
      "Fitting 3 folds for each of 5 candidates, totalling 15 fits\n",
      "Cannot have number of splits n_splits=3 greater than the number of samples: n_samples=0.\n",
      "Fitting 3 folds for each of 5 candidates, totalling 15 fits\n",
      "Cannot have number of splits n_splits=3 greater than the number of samples: n_samples=0.\n",
      "Fitting 3 folds for each of 5 candidates, totalling 15 fits\n",
      "Cannot have number of splits n_splits=3 greater than the number of samples: n_samples=0.\n",
      "Fitting 3 folds for each of 5 candidates, totalling 15 fits\n"
     ]
    },
    {
     "name": "stderr",
     "output_type": "stream",
     "text": [
      " 74%|██████████████████████        | 1425/1936 [2:08:44<37:21,  4.39s/it]"
     ]
    },
    {
     "name": "stdout",
     "output_type": "stream",
     "text": [
      "Fitting 3 folds for each of 5 candidates, totalling 15 fits\n"
     ]
    },
    {
     "name": "stderr",
     "output_type": "stream",
     "text": [
      " 74%|██████████████████████        | 1426/1936 [2:08:56<47:07,  5.55s/it]"
     ]
    },
    {
     "name": "stdout",
     "output_type": "stream",
     "text": [
      "Fitting 3 folds for each of 5 candidates, totalling 15 fits\n",
      "Cannot have number of splits n_splits=3 greater than the number of samples: n_samples=0.\n",
      "Fitting 3 folds for each of 5 candidates, totalling 15 fits\n"
     ]
    },
    {
     "name": "stderr",
     "output_type": "stream",
     "text": [
      " 74%|██████████████████████▏       | 1428/1936 [2:09:09<48:19,  5.71s/it]"
     ]
    },
    {
     "name": "stdout",
     "output_type": "stream",
     "text": [
      "Fitting 3 folds for each of 5 candidates, totalling 15 fits\n"
     ]
    },
    {
     "name": "stderr",
     "output_type": "stream",
     "text": [
      " 74%|██████████████████████▏       | 1429/1936 [2:09:20<56:53,  6.73s/it]"
     ]
    },
    {
     "name": "stdout",
     "output_type": "stream",
     "text": [
      "Fitting 3 folds for each of 5 candidates, totalling 15 fits\n",
      "Cannot have number of splits n_splits=3 greater than the number of samples: n_samples=0.\n",
      "Fitting 3 folds for each of 5 candidates, totalling 15 fits\n",
      "Cannot have number of splits n_splits=3 greater than the number of samples: n_samples=0.\n",
      "Fitting 3 folds for each of 5 candidates, totalling 15 fits\n",
      "Cannot have number of splits n_splits=3 greater than the number of samples: n_samples=0.\n",
      "Fitting 3 folds for each of 5 candidates, totalling 15 fits\n"
     ]
    },
    {
     "name": "stderr",
     "output_type": "stream",
     "text": [
      " 74%|██████████████████████▏       | 1433/1936 [2:09:32<40:11,  4.79s/it]"
     ]
    },
    {
     "name": "stdout",
     "output_type": "stream",
     "text": [
      "Fitting 3 folds for each of 5 candidates, totalling 15 fits\n"
     ]
    },
    {
     "name": "stderr",
     "output_type": "stream",
     "text": [
      " 74%|██████████████████████▏       | 1434/1936 [2:09:43<48:43,  5.82s/it]"
     ]
    },
    {
     "name": "stdout",
     "output_type": "stream",
     "text": [
      "Fitting 3 folds for each of 5 candidates, totalling 15 fits\n",
      "Cannot have number of splits n_splits=3 greater than the number of samples: n_samples=0.\n",
      "Fitting 3 folds for each of 5 candidates, totalling 15 fits\n"
     ]
    },
    {
     "name": "stderr",
     "output_type": "stream",
     "text": [
      " 74%|██████████████████████▎       | 1436/1936 [2:09:55<49:13,  5.91s/it]"
     ]
    },
    {
     "name": "stdout",
     "output_type": "stream",
     "text": [
      "Fitting 3 folds for each of 5 candidates, totalling 15 fits\n"
     ]
    },
    {
     "name": "stderr",
     "output_type": "stream",
     "text": [
      " 74%|██████████████████████▎       | 1437/1936 [2:10:08<58:44,  7.06s/it]"
     ]
    },
    {
     "name": "stdout",
     "output_type": "stream",
     "text": [
      "Fitting 3 folds for each of 5 candidates, totalling 15 fits\n",
      "Cannot have number of splits n_splits=3 greater than the number of samples: n_samples=0.\n",
      "Fitting 3 folds for each of 5 candidates, totalling 15 fits\n",
      "Cannot have number of splits n_splits=3 greater than the number of samples: n_samples=0.\n",
      "Fitting 3 folds for each of 5 candidates, totalling 15 fits\n",
      "Cannot have number of splits n_splits=3 greater than the number of samples: n_samples=0.\n",
      "Fitting 3 folds for each of 5 candidates, totalling 15 fits\n"
     ]
    },
    {
     "name": "stderr",
     "output_type": "stream",
     "text": [
      " 74%|██████████████████████▎       | 1441/1936 [2:10:15<36:27,  4.42s/it]"
     ]
    },
    {
     "name": "stdout",
     "output_type": "stream",
     "text": [
      "Fitting 3 folds for each of 5 candidates, totalling 15 fits\n"
     ]
    },
    {
     "name": "stderr",
     "output_type": "stream",
     "text": [
      " 74%|██████████████████████▎       | 1442/1936 [2:10:22<40:02,  4.86s/it]"
     ]
    },
    {
     "name": "stdout",
     "output_type": "stream",
     "text": [
      "Fitting 3 folds for each of 5 candidates, totalling 15 fits\n",
      "Cannot have number of splits n_splits=3 greater than the number of samples: n_samples=0.\n",
      "Fitting 3 folds for each of 5 candidates, totalling 15 fits\n"
     ]
    },
    {
     "name": "stderr",
     "output_type": "stream",
     "text": [
      " 75%|██████████████████████▍       | 1444/1936 [2:10:30<36:51,  4.50s/it]"
     ]
    },
    {
     "name": "stdout",
     "output_type": "stream",
     "text": [
      "Fitting 3 folds for each of 5 candidates, totalling 15 fits\n"
     ]
    },
    {
     "name": "stderr",
     "output_type": "stream",
     "text": [
      " 75%|██████████████████████▍       | 1445/1936 [2:10:37<40:58,  5.01s/it]"
     ]
    },
    {
     "name": "stdout",
     "output_type": "stream",
     "text": [
      "Fitting 3 folds for each of 5 candidates, totalling 15 fits\n",
      "Cannot have number of splits n_splits=3 greater than the number of samples: n_samples=0.\n",
      "Fitting 3 folds for each of 5 candidates, totalling 15 fits\n",
      "Cannot have number of splits n_splits=3 greater than the number of samples: n_samples=0.\n",
      "Fitting 3 folds for each of 5 candidates, totalling 15 fits\n",
      "Cannot have number of splits n_splits=3 greater than the number of samples: n_samples=0.\n",
      "Fitting 3 folds for each of 5 candidates, totalling 15 fits\n"
     ]
    },
    {
     "name": "stderr",
     "output_type": "stream",
     "text": [
      " 75%|██████████████████████▍       | 1449/1936 [2:10:50<33:06,  4.08s/it]"
     ]
    },
    {
     "name": "stdout",
     "output_type": "stream",
     "text": [
      "Fitting 3 folds for each of 5 candidates, totalling 15 fits\n"
     ]
    },
    {
     "name": "stderr",
     "output_type": "stream",
     "text": [
      " 75%|██████████████████████▍       | 1450/1936 [2:11:02<43:31,  5.37s/it]"
     ]
    },
    {
     "name": "stdout",
     "output_type": "stream",
     "text": [
      "Fitting 3 folds for each of 5 candidates, totalling 15 fits\n",
      "Cannot have number of splits n_splits=3 greater than the number of samples: n_samples=0.\n",
      "Fitting 3 folds for each of 5 candidates, totalling 15 fits\n"
     ]
    },
    {
     "name": "stderr",
     "output_type": "stream",
     "text": [
      " 75%|██████████████████████▌       | 1452/1936 [2:11:14<44:49,  5.56s/it]"
     ]
    },
    {
     "name": "stdout",
     "output_type": "stream",
     "text": [
      "Fitting 3 folds for each of 5 candidates, totalling 15 fits\n"
     ]
    },
    {
     "name": "stderr",
     "output_type": "stream",
     "text": [
      " 75%|██████████████████████▌       | 1453/1936 [2:11:26<53:30,  6.65s/it]"
     ]
    },
    {
     "name": "stdout",
     "output_type": "stream",
     "text": [
      "Fitting 3 folds for each of 5 candidates, totalling 15 fits\n",
      "Cannot have number of splits n_splits=3 greater than the number of samples: n_samples=0.\n",
      "Fitting 3 folds for each of 5 candidates, totalling 15 fits\n",
      "Cannot have number of splits n_splits=3 greater than the number of samples: n_samples=0.\n",
      "Fitting 3 folds for each of 5 candidates, totalling 15 fits\n",
      "Cannot have number of splits n_splits=3 greater than the number of samples: n_samples=0.\n",
      "Fitting 3 folds for each of 5 candidates, totalling 15 fits\n"
     ]
    },
    {
     "name": "stderr",
     "output_type": "stream",
     "text": [
      " 75%|██████████████████████▌       | 1457/1936 [2:11:36<36:25,  4.56s/it]"
     ]
    },
    {
     "name": "stdout",
     "output_type": "stream",
     "text": [
      "Fitting 3 folds for each of 5 candidates, totalling 15 fits\n"
     ]
    },
    {
     "name": "stderr",
     "output_type": "stream",
     "text": [
      " 75%|██████████████████████▌       | 1458/1936 [2:11:46<42:33,  5.34s/it]"
     ]
    },
    {
     "name": "stdout",
     "output_type": "stream",
     "text": [
      "Fitting 3 folds for each of 5 candidates, totalling 15 fits\n",
      "Cannot have number of splits n_splits=3 greater than the number of samples: n_samples=0.\n",
      "Fitting 3 folds for each of 5 candidates, totalling 15 fits\n"
     ]
    },
    {
     "name": "stderr",
     "output_type": "stream",
     "text": [
      " 75%|██████████████████████▌       | 1460/1936 [2:11:56<42:01,  5.30s/it]"
     ]
    },
    {
     "name": "stdout",
     "output_type": "stream",
     "text": [
      "Fitting 3 folds for each of 5 candidates, totalling 15 fits\n"
     ]
    },
    {
     "name": "stderr",
     "output_type": "stream",
     "text": [
      " 75%|██████████████████████▋       | 1461/1936 [2:12:06<49:22,  6.24s/it]"
     ]
    },
    {
     "name": "stdout",
     "output_type": "stream",
     "text": [
      "Fitting 3 folds for each of 5 candidates, totalling 15 fits\n",
      "Cannot have number of splits n_splits=3 greater than the number of samples: n_samples=0.\n",
      "Fitting 3 folds for each of 5 candidates, totalling 15 fits\n",
      "Cannot have number of splits n_splits=3 greater than the number of samples: n_samples=0.\n",
      "Fitting 3 folds for each of 5 candidates, totalling 15 fits\n",
      "Cannot have number of splits n_splits=3 greater than the number of samples: n_samples=0.\n",
      "Fitting 3 folds for each of 5 candidates, totalling 15 fits\n"
     ]
    },
    {
     "name": "stderr",
     "output_type": "stream",
     "text": [
      " 76%|██████████████████████▋       | 1465/1936 [2:12:14<31:58,  4.07s/it]"
     ]
    },
    {
     "name": "stdout",
     "output_type": "stream",
     "text": [
      "Fitting 3 folds for each of 5 candidates, totalling 15 fits\n"
     ]
    },
    {
     "name": "stderr",
     "output_type": "stream",
     "text": [
      " 76%|██████████████████████▋       | 1466/1936 [2:12:22<36:12,  4.62s/it]"
     ]
    },
    {
     "name": "stdout",
     "output_type": "stream",
     "text": [
      "Fitting 3 folds for each of 5 candidates, totalling 15 fits\n",
      "Cannot have number of splits n_splits=3 greater than the number of samples: n_samples=0.\n",
      "Fitting 3 folds for each of 5 candidates, totalling 15 fits\n"
     ]
    },
    {
     "name": "stderr",
     "output_type": "stream",
     "text": [
      " 76%|██████████████████████▋       | 1468/1936 [2:12:30<34:07,  4.37s/it]"
     ]
    },
    {
     "name": "stdout",
     "output_type": "stream",
     "text": [
      "Fitting 3 folds for each of 5 candidates, totalling 15 fits\n"
     ]
    },
    {
     "name": "stderr",
     "output_type": "stream",
     "text": [
      " 76%|██████████████████████▊       | 1469/1936 [2:12:37<38:36,  4.96s/it]"
     ]
    },
    {
     "name": "stdout",
     "output_type": "stream",
     "text": [
      "Fitting 3 folds for each of 5 candidates, totalling 15 fits\n",
      "Cannot have number of splits n_splits=3 greater than the number of samples: n_samples=0.\n",
      "Fitting 3 folds for each of 5 candidates, totalling 15 fits\n",
      "Cannot have number of splits n_splits=3 greater than the number of samples: n_samples=0.\n",
      "Fitting 3 folds for each of 5 candidates, totalling 15 fits\n",
      "Cannot have number of splits n_splits=3 greater than the number of samples: n_samples=0.\n",
      "Fitting 3 folds for each of 5 candidates, totalling 15 fits\n"
     ]
    },
    {
     "name": "stderr",
     "output_type": "stream",
     "text": [
      " 76%|██████████████████████▊       | 1473/1936 [2:12:50<31:15,  4.05s/it]"
     ]
    },
    {
     "name": "stdout",
     "output_type": "stream",
     "text": [
      "Fitting 3 folds for each of 5 candidates, totalling 15 fits\n"
     ]
    },
    {
     "name": "stderr",
     "output_type": "stream",
     "text": [
      " 76%|██████████████████████▊       | 1474/1936 [2:13:02<41:04,  5.33s/it]"
     ]
    },
    {
     "name": "stdout",
     "output_type": "stream",
     "text": [
      "Fitting 3 folds for each of 5 candidates, totalling 15 fits\n",
      "Cannot have number of splits n_splits=3 greater than the number of samples: n_samples=0.\n",
      "Fitting 3 folds for each of 5 candidates, totalling 15 fits\n"
     ]
    },
    {
     "name": "stderr",
     "output_type": "stream",
     "text": [
      " 76%|██████████████████████▊       | 1476/1936 [2:13:14<42:11,  5.50s/it]"
     ]
    },
    {
     "name": "stdout",
     "output_type": "stream",
     "text": [
      "Fitting 3 folds for each of 5 candidates, totalling 15 fits\n"
     ]
    },
    {
     "name": "stderr",
     "output_type": "stream",
     "text": [
      " 76%|██████████████████████▉       | 1477/1936 [2:13:26<50:24,  6.59s/it]"
     ]
    },
    {
     "name": "stdout",
     "output_type": "stream",
     "text": [
      "Fitting 3 folds for each of 5 candidates, totalling 15 fits\n",
      "Cannot have number of splits n_splits=3 greater than the number of samples: n_samples=0.\n",
      "Fitting 3 folds for each of 5 candidates, totalling 15 fits\n",
      "Cannot have number of splits n_splits=3 greater than the number of samples: n_samples=0.\n",
      "Fitting 3 folds for each of 5 candidates, totalling 15 fits\n",
      "Cannot have number of splits n_splits=3 greater than the number of samples: n_samples=0.\n",
      "Fitting 3 folds for each of 5 candidates, totalling 15 fits\n"
     ]
    },
    {
     "name": "stderr",
     "output_type": "stream",
     "text": [
      " 76%|██████████████████████▉       | 1481/1936 [2:13:37<35:50,  4.73s/it]"
     ]
    },
    {
     "name": "stdout",
     "output_type": "stream",
     "text": [
      "Fitting 3 folds for each of 5 candidates, totalling 15 fits\n"
     ]
    },
    {
     "name": "stderr",
     "output_type": "stream",
     "text": [
      " 77%|██████████████████████▉       | 1482/1936 [2:13:49<44:11,  5.84s/it]"
     ]
    },
    {
     "name": "stdout",
     "output_type": "stream",
     "text": [
      "Fitting 3 folds for each of 5 candidates, totalling 15 fits\n",
      "Cannot have number of splits n_splits=3 greater than the number of samples: n_samples=0.\n",
      "Fitting 3 folds for each of 5 candidates, totalling 15 fits\n"
     ]
    },
    {
     "name": "stderr",
     "output_type": "stream",
     "text": [
      " 77%|██████████████████████▉       | 1484/1936 [2:14:02<44:34,  5.92s/it]"
     ]
    },
    {
     "name": "stdout",
     "output_type": "stream",
     "text": [
      "Fitting 3 folds for each of 5 candidates, totalling 15 fits\n"
     ]
    },
    {
     "name": "stderr",
     "output_type": "stream",
     "text": [
      " 77%|███████████████████████       | 1485/1936 [2:14:13<52:15,  6.95s/it]"
     ]
    },
    {
     "name": "stdout",
     "output_type": "stream",
     "text": [
      "Fitting 3 folds for each of 5 candidates, totalling 15 fits\n",
      "Cannot have number of splits n_splits=3 greater than the number of samples: n_samples=0.\n",
      "Fitting 3 folds for each of 5 candidates, totalling 15 fits\n",
      "Cannot have number of splits n_splits=3 greater than the number of samples: n_samples=0.\n",
      "Fitting 3 folds for each of 5 candidates, totalling 15 fits\n",
      "Cannot have number of splits n_splits=3 greater than the number of samples: n_samples=0.\n",
      "Fitting 3 folds for each of 5 candidates, totalling 15 fits\n"
     ]
    },
    {
     "name": "stderr",
     "output_type": "stream",
     "text": [
      " 77%|███████████████████████       | 1489/1936 [2:14:25<36:18,  4.87s/it]"
     ]
    },
    {
     "name": "stdout",
     "output_type": "stream",
     "text": [
      "Fitting 3 folds for each of 5 candidates, totalling 15 fits\n"
     ]
    },
    {
     "name": "stderr",
     "output_type": "stream",
     "text": [
      " 77%|███████████████████████       | 1490/1936 [2:14:36<43:25,  5.84s/it]"
     ]
    },
    {
     "name": "stdout",
     "output_type": "stream",
     "text": [
      "Fitting 3 folds for each of 5 candidates, totalling 15 fits\n",
      "Cannot have number of splits n_splits=3 greater than the number of samples: n_samples=0.\n",
      "Fitting 3 folds for each of 5 candidates, totalling 15 fits\n"
     ]
    },
    {
     "name": "stderr",
     "output_type": "stream",
     "text": [
      " 77%|███████████████████████       | 1492/1936 [2:14:47<42:45,  5.78s/it]"
     ]
    },
    {
     "name": "stdout",
     "output_type": "stream",
     "text": [
      "Fitting 3 folds for each of 5 candidates, totalling 15 fits\n"
     ]
    },
    {
     "name": "stderr",
     "output_type": "stream",
     "text": [
      " 77%|███████████████████████▏      | 1493/1936 [2:14:59<50:36,  6.85s/it]"
     ]
    },
    {
     "name": "stdout",
     "output_type": "stream",
     "text": [
      "Fitting 3 folds for each of 5 candidates, totalling 15 fits\n",
      "Cannot have number of splits n_splits=3 greater than the number of samples: n_samples=0.\n",
      "Fitting 3 folds for each of 5 candidates, totalling 15 fits\n",
      "Cannot have number of splits n_splits=3 greater than the number of samples: n_samples=0.\n",
      "Fitting 3 folds for each of 5 candidates, totalling 15 fits\n",
      "Cannot have number of splits n_splits=3 greater than the number of samples: n_samples=0.\n",
      "Fitting 3 folds for each of 5 candidates, totalling 15 fits\n"
     ]
    },
    {
     "name": "stderr",
     "output_type": "stream",
     "text": [
      " 77%|███████████████████████▏      | 1497/1936 [2:15:11<35:55,  4.91s/it]"
     ]
    },
    {
     "name": "stdout",
     "output_type": "stream",
     "text": [
      "Fitting 3 folds for each of 5 candidates, totalling 15 fits\n"
     ]
    },
    {
     "name": "stderr",
     "output_type": "stream",
     "text": [
      " 77%|███████████████████████▏      | 1498/1936 [2:15:22<43:00,  5.89s/it]"
     ]
    },
    {
     "name": "stdout",
     "output_type": "stream",
     "text": [
      "Fitting 3 folds for each of 5 candidates, totalling 15 fits\n",
      "Cannot have number of splits n_splits=3 greater than the number of samples: n_samples=0.\n",
      "Fitting 3 folds for each of 5 candidates, totalling 15 fits\n"
     ]
    },
    {
     "name": "stderr",
     "output_type": "stream",
     "text": [
      " 77%|███████████████████████▏      | 1500/1936 [2:15:33<42:07,  5.80s/it]"
     ]
    },
    {
     "name": "stdout",
     "output_type": "stream",
     "text": [
      "Fitting 3 folds for each of 5 candidates, totalling 15 fits\n"
     ]
    },
    {
     "name": "stderr",
     "output_type": "stream",
     "text": [
      " 78%|███████████████████████▎      | 1501/1936 [2:15:45<49:08,  6.78s/it]"
     ]
    },
    {
     "name": "stdout",
     "output_type": "stream",
     "text": [
      "Fitting 3 folds for each of 5 candidates, totalling 15 fits\n",
      "Cannot have number of splits n_splits=3 greater than the number of samples: n_samples=0.\n",
      "Fitting 3 folds for each of 5 candidates, totalling 15 fits\n",
      "Cannot have number of splits n_splits=3 greater than the number of samples: n_samples=0.\n",
      "Fitting 3 folds for each of 5 candidates, totalling 15 fits\n",
      "Cannot have number of splits n_splits=3 greater than the number of samples: n_samples=0.\n",
      "Fitting 3 folds for each of 5 candidates, totalling 15 fits\n"
     ]
    },
    {
     "name": "stderr",
     "output_type": "stream",
     "text": [
      " 78%|███████████████████████▎      | 1505/1936 [2:15:56<34:27,  4.80s/it]"
     ]
    },
    {
     "name": "stdout",
     "output_type": "stream",
     "text": [
      "Fitting 3 folds for each of 5 candidates, totalling 15 fits\n"
     ]
    },
    {
     "name": "stderr",
     "output_type": "stream",
     "text": [
      " 78%|███████████████████████▎      | 1506/1936 [2:16:07<41:37,  5.81s/it]"
     ]
    },
    {
     "name": "stdout",
     "output_type": "stream",
     "text": [
      "Fitting 3 folds for each of 5 candidates, totalling 15 fits\n",
      "Cannot have number of splits n_splits=3 greater than the number of samples: n_samples=0.\n",
      "Fitting 3 folds for each of 5 candidates, totalling 15 fits\n"
     ]
    },
    {
     "name": "stderr",
     "output_type": "stream",
     "text": [
      " 78%|███████████████████████▎      | 1508/1936 [2:16:18<40:43,  5.71s/it]"
     ]
    },
    {
     "name": "stdout",
     "output_type": "stream",
     "text": [
      "Fitting 3 folds for each of 5 candidates, totalling 15 fits\n"
     ]
    },
    {
     "name": "stderr",
     "output_type": "stream",
     "text": [
      " 78%|███████████████████████▍      | 1509/1936 [2:16:29<47:01,  6.61s/it]"
     ]
    },
    {
     "name": "stdout",
     "output_type": "stream",
     "text": [
      "Fitting 3 folds for each of 5 candidates, totalling 15 fits\n",
      "Cannot have number of splits n_splits=3 greater than the number of samples: n_samples=0.\n",
      "Fitting 3 folds for each of 5 candidates, totalling 15 fits\n",
      "Cannot have number of splits n_splits=3 greater than the number of samples: n_samples=0.\n",
      "Fitting 3 folds for each of 5 candidates, totalling 15 fits\n",
      "Cannot have number of splits n_splits=3 greater than the number of samples: n_samples=0.\n",
      "Fitting 3 folds for each of 5 candidates, totalling 15 fits\n"
     ]
    },
    {
     "name": "stderr",
     "output_type": "stream",
     "text": [
      " 78%|███████████████████████▍      | 1513/1936 [2:16:40<32:33,  4.62s/it]"
     ]
    },
    {
     "name": "stdout",
     "output_type": "stream",
     "text": [
      "Fitting 3 folds for each of 5 candidates, totalling 15 fits\n"
     ]
    },
    {
     "name": "stderr",
     "output_type": "stream",
     "text": [
      " 78%|███████████████████████▍      | 1514/1936 [2:16:51<39:25,  5.61s/it]"
     ]
    },
    {
     "name": "stdout",
     "output_type": "stream",
     "text": [
      "Fitting 3 folds for each of 5 candidates, totalling 15 fits\n",
      "Cannot have number of splits n_splits=3 greater than the number of samples: n_samples=0.\n",
      "Fitting 3 folds for each of 5 candidates, totalling 15 fits\n"
     ]
    },
    {
     "name": "stderr",
     "output_type": "stream",
     "text": [
      " 78%|███████████████████████▍      | 1516/1936 [2:17:02<39:15,  5.61s/it]"
     ]
    },
    {
     "name": "stdout",
     "output_type": "stream",
     "text": [
      "Fitting 3 folds for each of 5 candidates, totalling 15 fits\n"
     ]
    },
    {
     "name": "stderr",
     "output_type": "stream",
     "text": [
      " 78%|███████████████████████▌      | 1517/1936 [2:17:13<45:53,  6.57s/it]"
     ]
    },
    {
     "name": "stdout",
     "output_type": "stream",
     "text": [
      "Fitting 3 folds for each of 5 candidates, totalling 15 fits\n",
      "Cannot have number of splits n_splits=3 greater than the number of samples: n_samples=0.\n",
      "Fitting 3 folds for each of 5 candidates, totalling 15 fits\n",
      "Cannot have number of splits n_splits=3 greater than the number of samples: n_samples=0.\n",
      "Fitting 3 folds for each of 5 candidates, totalling 15 fits\n",
      "Cannot have number of splits n_splits=3 greater than the number of samples: n_samples=0.\n",
      "Fitting 3 folds for each of 5 candidates, totalling 15 fits\n"
     ]
    },
    {
     "name": "stderr",
     "output_type": "stream",
     "text": [
      " 79%|███████████████████████▌      | 1521/1936 [2:17:25<32:46,  4.74s/it]"
     ]
    },
    {
     "name": "stdout",
     "output_type": "stream",
     "text": [
      "Fitting 3 folds for each of 5 candidates, totalling 15 fits\n"
     ]
    },
    {
     "name": "stderr",
     "output_type": "stream",
     "text": [
      " 79%|███████████████████████▌      | 1522/1936 [2:17:37<40:03,  5.81s/it]"
     ]
    },
    {
     "name": "stdout",
     "output_type": "stream",
     "text": [
      "Fitting 3 folds for each of 5 candidates, totalling 15 fits\n",
      "Cannot have number of splits n_splits=3 greater than the number of samples: n_samples=0.\n",
      "Fitting 3 folds for each of 5 candidates, totalling 15 fits\n"
     ]
    },
    {
     "name": "stderr",
     "output_type": "stream",
     "text": [
      " 79%|███████████████████████▌      | 1524/1936 [2:17:49<40:22,  5.88s/it]"
     ]
    },
    {
     "name": "stdout",
     "output_type": "stream",
     "text": [
      "Fitting 3 folds for each of 5 candidates, totalling 15 fits\n"
     ]
    },
    {
     "name": "stderr",
     "output_type": "stream",
     "text": [
      " 79%|███████████████████████▋      | 1525/1936 [2:18:01<48:11,  7.03s/it]"
     ]
    },
    {
     "name": "stdout",
     "output_type": "stream",
     "text": [
      "Fitting 3 folds for each of 5 candidates, totalling 15 fits\n",
      "Cannot have number of splits n_splits=3 greater than the number of samples: n_samples=0.\n",
      "Fitting 3 folds for each of 5 candidates, totalling 15 fits\n",
      "Cannot have number of splits n_splits=3 greater than the number of samples: n_samples=0.\n",
      "Fitting 3 folds for each of 5 candidates, totalling 15 fits\n",
      "Cannot have number of splits n_splits=3 greater than the number of samples: n_samples=0.\n",
      "Fitting 3 folds for each of 5 candidates, totalling 15 fits\n"
     ]
    },
    {
     "name": "stderr",
     "output_type": "stream",
     "text": [
      " 79%|███████████████████████▋      | 1529/1936 [2:18:13<33:53,  5.00s/it]"
     ]
    },
    {
     "name": "stdout",
     "output_type": "stream",
     "text": [
      "Fitting 3 folds for each of 5 candidates, totalling 15 fits\n"
     ]
    },
    {
     "name": "stderr",
     "output_type": "stream",
     "text": [
      " 79%|███████████████████████▋      | 1530/1936 [2:18:25<40:46,  6.02s/it]"
     ]
    },
    {
     "name": "stdout",
     "output_type": "stream",
     "text": [
      "Fitting 3 folds for each of 5 candidates, totalling 15 fits\n",
      "Cannot have number of splits n_splits=3 greater than the number of samples: n_samples=0.\n",
      "Fitting 3 folds for each of 5 candidates, totalling 15 fits\n"
     ]
    },
    {
     "name": "stderr",
     "output_type": "stream",
     "text": [
      " 79%|███████████████████████▋      | 1532/1936 [2:18:37<40:22,  6.00s/it]"
     ]
    },
    {
     "name": "stdout",
     "output_type": "stream",
     "text": [
      "Fitting 3 folds for each of 5 candidates, totalling 15 fits\n"
     ]
    },
    {
     "name": "stderr",
     "output_type": "stream",
     "text": [
      " 79%|███████████████████████▊      | 1533/1936 [2:18:49<47:27,  7.07s/it]"
     ]
    },
    {
     "name": "stdout",
     "output_type": "stream",
     "text": [
      "Fitting 3 folds for each of 5 candidates, totalling 15 fits\n",
      "Cannot have number of splits n_splits=3 greater than the number of samples: n_samples=0.\n",
      "Fitting 3 folds for each of 5 candidates, totalling 15 fits\n",
      "Cannot have number of splits n_splits=3 greater than the number of samples: n_samples=0.\n",
      "Fitting 3 folds for each of 5 candidates, totalling 15 fits\n",
      "Cannot have number of splits n_splits=3 greater than the number of samples: n_samples=0.\n",
      "Fitting 3 folds for each of 5 candidates, totalling 15 fits\n"
     ]
    },
    {
     "name": "stderr",
     "output_type": "stream",
     "text": [
      " 79%|███████████████████████▊      | 1537/1936 [2:18:58<31:16,  4.70s/it]"
     ]
    },
    {
     "name": "stdout",
     "output_type": "stream",
     "text": [
      "Fitting 3 folds for each of 5 candidates, totalling 15 fits\n"
     ]
    },
    {
     "name": "stderr",
     "output_type": "stream",
     "text": [
      " 79%|███████████████████████▊      | 1538/1936 [2:19:08<36:33,  5.51s/it]"
     ]
    },
    {
     "name": "stdout",
     "output_type": "stream",
     "text": [
      "Fitting 3 folds for each of 5 candidates, totalling 15 fits\n",
      "Cannot have number of splits n_splits=3 greater than the number of samples: n_samples=0.\n",
      "Fitting 3 folds for each of 5 candidates, totalling 15 fits\n"
     ]
    },
    {
     "name": "stderr",
     "output_type": "stream",
     "text": [
      " 80%|███████████████████████▊      | 1540/1936 [2:19:17<34:29,  5.23s/it]"
     ]
    },
    {
     "name": "stdout",
     "output_type": "stream",
     "text": [
      "Fitting 3 folds for each of 5 candidates, totalling 15 fits\n"
     ]
    },
    {
     "name": "stderr",
     "output_type": "stream",
     "text": [
      " 80%|███████████████████████▉      | 1541/1936 [2:19:26<38:42,  5.88s/it]"
     ]
    },
    {
     "name": "stdout",
     "output_type": "stream",
     "text": [
      "Fitting 3 folds for each of 5 candidates, totalling 15 fits\n",
      "Cannot have number of splits n_splits=3 greater than the number of samples: n_samples=0.\n",
      "Fitting 3 folds for each of 5 candidates, totalling 15 fits\n",
      "Cannot have number of splits n_splits=3 greater than the number of samples: n_samples=0.\n",
      "Fitting 3 folds for each of 5 candidates, totalling 15 fits\n",
      "Cannot have number of splits n_splits=3 greater than the number of samples: n_samples=0.\n",
      "Fitting 3 folds for each of 5 candidates, totalling 15 fits\n"
     ]
    },
    {
     "name": "stderr",
     "output_type": "stream",
     "text": [
      " 80%|███████████████████████▉      | 1545/1936 [2:19:38<28:22,  4.35s/it]"
     ]
    },
    {
     "name": "stdout",
     "output_type": "stream",
     "text": [
      "Fitting 3 folds for each of 5 candidates, totalling 15 fits\n"
     ]
    },
    {
     "name": "stderr",
     "output_type": "stream",
     "text": [
      " 80%|███████████████████████▉      | 1546/1936 [2:19:49<35:39,  5.49s/it]"
     ]
    },
    {
     "name": "stdout",
     "output_type": "stream",
     "text": [
      "Fitting 3 folds for each of 5 candidates, totalling 15 fits\n",
      "Cannot have number of splits n_splits=3 greater than the number of samples: n_samples=0.\n",
      "Fitting 3 folds for each of 5 candidates, totalling 15 fits\n"
     ]
    },
    {
     "name": "stderr",
     "output_type": "stream",
     "text": [
      " 80%|███████████████████████▉      | 1548/1936 [2:20:01<36:27,  5.64s/it]"
     ]
    },
    {
     "name": "stdout",
     "output_type": "stream",
     "text": [
      "Fitting 3 folds for each of 5 candidates, totalling 15 fits\n"
     ]
    },
    {
     "name": "stderr",
     "output_type": "stream",
     "text": [
      " 80%|████████████████████████      | 1549/1936 [2:20:13<43:20,  6.72s/it]"
     ]
    },
    {
     "name": "stdout",
     "output_type": "stream",
     "text": [
      "Fitting 3 folds for each of 5 candidates, totalling 15 fits\n",
      "Cannot have number of splits n_splits=3 greater than the number of samples: n_samples=0.\n",
      "Fitting 3 folds for each of 5 candidates, totalling 15 fits\n",
      "Cannot have number of splits n_splits=3 greater than the number of samples: n_samples=0.\n",
      "Fitting 3 folds for each of 5 candidates, totalling 15 fits\n",
      "Cannot have number of splits n_splits=3 greater than the number of samples: n_samples=0.\n",
      "Fitting 3 folds for each of 5 candidates, totalling 15 fits\n"
     ]
    },
    {
     "name": "stderr",
     "output_type": "stream",
     "text": [
      " 80%|████████████████████████      | 1553/1936 [2:20:25<30:35,  4.79s/it]"
     ]
    },
    {
     "name": "stdout",
     "output_type": "stream",
     "text": [
      "Fitting 3 folds for each of 5 candidates, totalling 15 fits\n"
     ]
    },
    {
     "name": "stderr",
     "output_type": "stream",
     "text": [
      " 80%|████████████████████████      | 1554/1936 [2:20:36<37:05,  5.83s/it]"
     ]
    },
    {
     "name": "stdout",
     "output_type": "stream",
     "text": [
      "Fitting 3 folds for each of 5 candidates, totalling 15 fits\n",
      "Cannot have number of splits n_splits=3 greater than the number of samples: n_samples=0.\n",
      "Fitting 3 folds for each of 5 candidates, totalling 15 fits\n"
     ]
    },
    {
     "name": "stderr",
     "output_type": "stream",
     "text": [
      " 80%|████████████████████████      | 1556/1936 [2:20:48<37:09,  5.87s/it]"
     ]
    },
    {
     "name": "stdout",
     "output_type": "stream",
     "text": [
      "Fitting 3 folds for each of 5 candidates, totalling 15 fits\n"
     ]
    },
    {
     "name": "stderr",
     "output_type": "stream",
     "text": [
      " 80%|████████████████████████▏     | 1557/1936 [2:21:01<44:29,  7.04s/it]"
     ]
    },
    {
     "name": "stdout",
     "output_type": "stream",
     "text": [
      "Fitting 3 folds for each of 5 candidates, totalling 15 fits\n",
      "Cannot have number of splits n_splits=3 greater than the number of samples: n_samples=0.\n",
      "Fitting 3 folds for each of 5 candidates, totalling 15 fits\n",
      "Cannot have number of splits n_splits=3 greater than the number of samples: n_samples=0.\n",
      "Fitting 3 folds for each of 5 candidates, totalling 15 fits\n",
      "Cannot have number of splits n_splits=3 greater than the number of samples: n_samples=0.\n",
      "Fitting 3 folds for each of 5 candidates, totalling 15 fits\n"
     ]
    },
    {
     "name": "stderr",
     "output_type": "stream",
     "text": [
      " 81%|████████████████████████▏     | 1561/1936 [2:21:13<31:13,  5.00s/it]"
     ]
    },
    {
     "name": "stdout",
     "output_type": "stream",
     "text": [
      "Fitting 3 folds for each of 5 candidates, totalling 15 fits\n"
     ]
    },
    {
     "name": "stderr",
     "output_type": "stream",
     "text": [
      " 81%|████████████████████████▏     | 1562/1936 [2:21:24<37:27,  6.01s/it]"
     ]
    },
    {
     "name": "stdout",
     "output_type": "stream",
     "text": [
      "Fitting 3 folds for each of 5 candidates, totalling 15 fits\n",
      "Cannot have number of splits n_splits=3 greater than the number of samples: n_samples=0.\n",
      "Fitting 3 folds for each of 5 candidates, totalling 15 fits\n"
     ]
    },
    {
     "name": "stderr",
     "output_type": "stream",
     "text": [
      " 81%|████████████████████████▏     | 1564/1936 [2:21:36<36:48,  5.94s/it]"
     ]
    },
    {
     "name": "stdout",
     "output_type": "stream",
     "text": [
      "Fitting 3 folds for each of 5 candidates, totalling 15 fits\n"
     ]
    },
    {
     "name": "stderr",
     "output_type": "stream",
     "text": [
      " 81%|████████████████████████▎     | 1565/1936 [2:21:47<42:56,  6.95s/it]"
     ]
    },
    {
     "name": "stdout",
     "output_type": "stream",
     "text": [
      "Fitting 3 folds for each of 5 candidates, totalling 15 fits\n",
      "Cannot have number of splits n_splits=3 greater than the number of samples: n_samples=0.\n",
      "Fitting 3 folds for each of 5 candidates, totalling 15 fits\n",
      "Cannot have number of splits n_splits=3 greater than the number of samples: n_samples=0.\n",
      "Fitting 3 folds for each of 5 candidates, totalling 15 fits\n",
      "Cannot have number of splits n_splits=3 greater than the number of samples: n_samples=0.\n",
      "Fitting 3 folds for each of 5 candidates, totalling 15 fits\n"
     ]
    },
    {
     "name": "stderr",
     "output_type": "stream",
     "text": [
      " 81%|████████████████████████▎     | 1569/1936 [2:21:58<28:53,  4.72s/it]"
     ]
    },
    {
     "name": "stdout",
     "output_type": "stream",
     "text": [
      "Fitting 3 folds for each of 5 candidates, totalling 15 fits\n"
     ]
    },
    {
     "name": "stderr",
     "output_type": "stream",
     "text": [
      " 81%|████████████████████████▎     | 1570/1936 [2:22:08<34:07,  5.59s/it]"
     ]
    },
    {
     "name": "stdout",
     "output_type": "stream",
     "text": [
      "Fitting 3 folds for each of 5 candidates, totalling 15 fits\n",
      "Cannot have number of splits n_splits=3 greater than the number of samples: n_samples=0.\n",
      "Fitting 3 folds for each of 5 candidates, totalling 15 fits\n"
     ]
    },
    {
     "name": "stderr",
     "output_type": "stream",
     "text": [
      " 81%|████████████████████████▎     | 1572/1936 [2:22:18<32:43,  5.39s/it]"
     ]
    },
    {
     "name": "stdout",
     "output_type": "stream",
     "text": [
      "Fitting 3 folds for each of 5 candidates, totalling 15 fits\n"
     ]
    },
    {
     "name": "stderr",
     "output_type": "stream",
     "text": [
      " 81%|████████████████████████▍     | 1573/1936 [2:22:28<37:23,  6.18s/it]"
     ]
    },
    {
     "name": "stdout",
     "output_type": "stream",
     "text": [
      "Fitting 3 folds for each of 5 candidates, totalling 15 fits\n",
      "Cannot have number of splits n_splits=3 greater than the number of samples: n_samples=0.\n",
      "Fitting 3 folds for each of 5 candidates, totalling 15 fits\n",
      "Cannot have number of splits n_splits=3 greater than the number of samples: n_samples=0.\n",
      "Fitting 3 folds for each of 5 candidates, totalling 15 fits\n",
      "Cannot have number of splits n_splits=3 greater than the number of samples: n_samples=0.\n",
      "Fitting 3 folds for each of 5 candidates, totalling 15 fits\n"
     ]
    },
    {
     "name": "stderr",
     "output_type": "stream",
     "text": [
      " 81%|████████████████████████▍     | 1577/1936 [2:22:39<26:55,  4.50s/it]"
     ]
    },
    {
     "name": "stdout",
     "output_type": "stream",
     "text": [
      "Fitting 3 folds for each of 5 candidates, totalling 15 fits\n"
     ]
    },
    {
     "name": "stderr",
     "output_type": "stream",
     "text": [
      " 82%|████████████████████████▍     | 1578/1936 [2:22:51<33:42,  5.65s/it]"
     ]
    },
    {
     "name": "stdout",
     "output_type": "stream",
     "text": [
      "Fitting 3 folds for each of 5 candidates, totalling 15 fits\n",
      "Cannot have number of splits n_splits=3 greater than the number of samples: n_samples=0.\n",
      "Fitting 3 folds for each of 5 candidates, totalling 15 fits\n"
     ]
    },
    {
     "name": "stderr",
     "output_type": "stream",
     "text": [
      " 82%|████████████████████████▍     | 1580/1936 [2:23:03<34:04,  5.74s/it]"
     ]
    },
    {
     "name": "stdout",
     "output_type": "stream",
     "text": [
      "Fitting 3 folds for each of 5 candidates, totalling 15 fits\n"
     ]
    },
    {
     "name": "stderr",
     "output_type": "stream",
     "text": [
      " 82%|████████████████████████▍     | 1581/1936 [2:23:15<40:08,  6.78s/it]"
     ]
    },
    {
     "name": "stdout",
     "output_type": "stream",
     "text": [
      "Fitting 3 folds for each of 5 candidates, totalling 15 fits\n",
      "Cannot have number of splits n_splits=3 greater than the number of samples: n_samples=0.\n",
      "Fitting 3 folds for each of 5 candidates, totalling 15 fits\n",
      "Cannot have number of splits n_splits=3 greater than the number of samples: n_samples=0.\n",
      "Fitting 3 folds for each of 5 candidates, totalling 15 fits\n",
      "Cannot have number of splits n_splits=3 greater than the number of samples: n_samples=0.\n",
      "Fitting 3 folds for each of 5 candidates, totalling 15 fits\n"
     ]
    },
    {
     "name": "stderr",
     "output_type": "stream",
     "text": [
      " 82%|████████████████████████▌     | 1585/1936 [2:23:26<28:19,  4.84s/it]"
     ]
    },
    {
     "name": "stdout",
     "output_type": "stream",
     "text": [
      "Fitting 3 folds for each of 5 candidates, totalling 15 fits\n"
     ]
    },
    {
     "name": "stderr",
     "output_type": "stream",
     "text": [
      " 82%|████████████████████████▌     | 1586/1936 [2:23:38<34:10,  5.86s/it]"
     ]
    },
    {
     "name": "stdout",
     "output_type": "stream",
     "text": [
      "Fitting 3 folds for each of 5 candidates, totalling 15 fits\n",
      "Cannot have number of splits n_splits=3 greater than the number of samples: n_samples=0.\n",
      "Fitting 3 folds for each of 5 candidates, totalling 15 fits\n"
     ]
    },
    {
     "name": "stderr",
     "output_type": "stream",
     "text": [
      " 82%|████████████████████████▌     | 1588/1936 [2:23:50<34:31,  5.95s/it]"
     ]
    },
    {
     "name": "stdout",
     "output_type": "stream",
     "text": [
      "Fitting 3 folds for each of 5 candidates, totalling 15 fits\n"
     ]
    },
    {
     "name": "stderr",
     "output_type": "stream",
     "text": [
      " 82%|████████████████████████▌     | 1589/1936 [2:24:02<40:43,  7.04s/it]"
     ]
    },
    {
     "name": "stdout",
     "output_type": "stream",
     "text": [
      "Fitting 3 folds for each of 5 candidates, totalling 15 fits\n",
      "Cannot have number of splits n_splits=3 greater than the number of samples: n_samples=0.\n",
      "Fitting 3 folds for each of 5 candidates, totalling 15 fits\n",
      "Cannot have number of splits n_splits=3 greater than the number of samples: n_samples=0.\n",
      "Fitting 3 folds for each of 5 candidates, totalling 15 fits\n",
      "Cannot have number of splits n_splits=3 greater than the number of samples: n_samples=0.\n",
      "Fitting 3 folds for each of 5 candidates, totalling 15 fits\n"
     ]
    },
    {
     "name": "stderr",
     "output_type": "stream",
     "text": [
      " 82%|████████████████████████▋     | 1593/1936 [2:24:13<27:45,  4.86s/it]"
     ]
    },
    {
     "name": "stdout",
     "output_type": "stream",
     "text": [
      "Fitting 3 folds for each of 5 candidates, totalling 15 fits\n"
     ]
    },
    {
     "name": "stderr",
     "output_type": "stream",
     "text": [
      " 82%|████████████████████████▋     | 1594/1936 [2:24:24<32:51,  5.76s/it]"
     ]
    },
    {
     "name": "stdout",
     "output_type": "stream",
     "text": [
      "Fitting 3 folds for each of 5 candidates, totalling 15 fits\n",
      "Cannot have number of splits n_splits=3 greater than the number of samples: n_samples=0.\n",
      "Fitting 3 folds for each of 5 candidates, totalling 15 fits\n"
     ]
    },
    {
     "name": "stderr",
     "output_type": "stream",
     "text": [
      " 82%|████████████████████████▋     | 1596/1936 [2:24:34<31:52,  5.62s/it]"
     ]
    },
    {
     "name": "stdout",
     "output_type": "stream",
     "text": [
      "Fitting 3 folds for each of 5 candidates, totalling 15 fits\n"
     ]
    },
    {
     "name": "stderr",
     "output_type": "stream",
     "text": [
      " 82%|████████████████████████▋     | 1597/1936 [2:24:45<36:50,  6.52s/it]"
     ]
    },
    {
     "name": "stdout",
     "output_type": "stream",
     "text": [
      "Fitting 3 folds for each of 5 candidates, totalling 15 fits\n",
      "Cannot have number of splits n_splits=3 greater than the number of samples: n_samples=0.\n",
      "Fitting 3 folds for each of 5 candidates, totalling 15 fits\n",
      "Cannot have number of splits n_splits=3 greater than the number of samples: n_samples=0.\n",
      "Fitting 3 folds for each of 5 candidates, totalling 15 fits\n",
      "Cannot have number of splits n_splits=3 greater than the number of samples: n_samples=0.\n",
      "Fitting 3 folds for each of 5 candidates, totalling 15 fits\n"
     ]
    },
    {
     "name": "stderr",
     "output_type": "stream",
     "text": [
      " 83%|████████████████████████▊     | 1601/1936 [2:24:58<26:49,  4.80s/it]"
     ]
    },
    {
     "name": "stdout",
     "output_type": "stream",
     "text": [
      "Fitting 3 folds for each of 5 candidates, totalling 15 fits\n"
     ]
    },
    {
     "name": "stderr",
     "output_type": "stream",
     "text": [
      " 83%|████████████████████████▊     | 1602/1936 [2:25:10<33:25,  6.00s/it]"
     ]
    },
    {
     "name": "stdout",
     "output_type": "stream",
     "text": [
      "Fitting 3 folds for each of 5 candidates, totalling 15 fits\n",
      "Cannot have number of splits n_splits=3 greater than the number of samples: n_samples=0.\n",
      "Fitting 3 folds for each of 5 candidates, totalling 15 fits\n"
     ]
    },
    {
     "name": "stderr",
     "output_type": "stream",
     "text": [
      " 83%|████████████████████████▊     | 1604/1936 [2:25:22<32:58,  5.96s/it]"
     ]
    },
    {
     "name": "stdout",
     "output_type": "stream",
     "text": [
      "Fitting 3 folds for each of 5 candidates, totalling 15 fits\n"
     ]
    },
    {
     "name": "stderr",
     "output_type": "stream",
     "text": [
      " 83%|████████████████████████▊     | 1605/1936 [2:25:34<38:26,  6.97s/it]"
     ]
    },
    {
     "name": "stdout",
     "output_type": "stream",
     "text": [
      "Fitting 3 folds for each of 5 candidates, totalling 15 fits\n",
      "Cannot have number of splits n_splits=3 greater than the number of samples: n_samples=0.\n",
      "Fitting 3 folds for each of 5 candidates, totalling 15 fits\n",
      "Cannot have number of splits n_splits=3 greater than the number of samples: n_samples=0.\n",
      "Fitting 3 folds for each of 5 candidates, totalling 15 fits\n",
      "Cannot have number of splits n_splits=3 greater than the number of samples: n_samples=0.\n",
      "Fitting 3 folds for each of 5 candidates, totalling 15 fits\n"
     ]
    },
    {
     "name": "stderr",
     "output_type": "stream",
     "text": [
      " 83%|████████████████████████▉     | 1609/1936 [2:25:39<22:47,  4.18s/it]"
     ]
    },
    {
     "name": "stdout",
     "output_type": "stream",
     "text": [
      "Fitting 3 folds for each of 5 candidates, totalling 15 fits\n"
     ]
    },
    {
     "name": "stderr",
     "output_type": "stream",
     "text": [
      " 83%|████████████████████████▉     | 1610/1936 [2:25:45<24:06,  4.44s/it]"
     ]
    },
    {
     "name": "stdout",
     "output_type": "stream",
     "text": [
      "Fitting 3 folds for each of 5 candidates, totalling 15 fits\n",
      "Cannot have number of splits n_splits=3 greater than the number of samples: n_samples=0.\n",
      "Fitting 3 folds for each of 5 candidates, totalling 15 fits\n"
     ]
    },
    {
     "name": "stderr",
     "output_type": "stream",
     "text": [
      " 83%|████████████████████████▉     | 1612/1936 [2:25:52<21:54,  4.06s/it]"
     ]
    },
    {
     "name": "stdout",
     "output_type": "stream",
     "text": [
      "Fitting 3 folds for each of 5 candidates, totalling 15 fits\n"
     ]
    },
    {
     "name": "stderr",
     "output_type": "stream",
     "text": [
      " 83%|████████████████████████▉     | 1613/1936 [2:25:58<23:50,  4.43s/it]"
     ]
    },
    {
     "name": "stdout",
     "output_type": "stream",
     "text": [
      "Fitting 3 folds for each of 5 candidates, totalling 15 fits\n",
      "Cannot have number of splits n_splits=3 greater than the number of samples: n_samples=0.\n",
      "Fitting 3 folds for each of 5 candidates, totalling 15 fits\n",
      "Cannot have number of splits n_splits=3 greater than the number of samples: n_samples=0.\n",
      "Fitting 3 folds for each of 5 candidates, totalling 15 fits\n",
      "Cannot have number of splits n_splits=3 greater than the number of samples: n_samples=0.\n",
      "Fitting 3 folds for each of 5 candidates, totalling 15 fits\n"
     ]
    },
    {
     "name": "stderr",
     "output_type": "stream",
     "text": [
      " 84%|█████████████████████████     | 1617/1936 [2:26:06<17:13,  3.24s/it]"
     ]
    },
    {
     "name": "stdout",
     "output_type": "stream",
     "text": [
      "Fitting 3 folds for each of 5 candidates, totalling 15 fits\n"
     ]
    },
    {
     "name": "stderr",
     "output_type": "stream",
     "text": [
      " 84%|█████████████████████████     | 1618/1936 [2:26:14<20:42,  3.91s/it]"
     ]
    },
    {
     "name": "stdout",
     "output_type": "stream",
     "text": [
      "Fitting 3 folds for each of 5 candidates, totalling 15 fits\n",
      "Cannot have number of splits n_splits=3 greater than the number of samples: n_samples=0.\n",
      "Fitting 3 folds for each of 5 candidates, totalling 15 fits\n"
     ]
    },
    {
     "name": "stderr",
     "output_type": "stream",
     "text": [
      " 84%|█████████████████████████     | 1620/1936 [2:26:22<20:35,  3.91s/it]"
     ]
    },
    {
     "name": "stdout",
     "output_type": "stream",
     "text": [
      "Fitting 3 folds for each of 5 candidates, totalling 15 fits\n"
     ]
    },
    {
     "name": "stderr",
     "output_type": "stream",
     "text": [
      " 84%|█████████████████████████     | 1621/1936 [2:26:29<23:52,  4.55s/it]"
     ]
    },
    {
     "name": "stdout",
     "output_type": "stream",
     "text": [
      "Fitting 3 folds for each of 5 candidates, totalling 15 fits\n",
      "Cannot have number of splits n_splits=3 greater than the number of samples: n_samples=0.\n",
      "Fitting 3 folds for each of 5 candidates, totalling 15 fits\n",
      "Cannot have number of splits n_splits=3 greater than the number of samples: n_samples=0.\n",
      "Fitting 3 folds for each of 5 candidates, totalling 15 fits\n",
      "Cannot have number of splits n_splits=3 greater than the number of samples: n_samples=0.\n",
      "Fitting 3 folds for each of 5 candidates, totalling 15 fits\n"
     ]
    },
    {
     "name": "stderr",
     "output_type": "stream",
     "text": [
      " 84%|█████████████████████████▏    | 1625/1936 [2:26:40<19:10,  3.70s/it]"
     ]
    },
    {
     "name": "stdout",
     "output_type": "stream",
     "text": [
      "Fitting 3 folds for each of 5 candidates, totalling 15 fits\n"
     ]
    },
    {
     "name": "stderr",
     "output_type": "stream",
     "text": [
      " 84%|█████████████████████████▏    | 1626/1936 [2:26:52<25:31,  4.94s/it]"
     ]
    },
    {
     "name": "stdout",
     "output_type": "stream",
     "text": [
      "Fitting 3 folds for each of 5 candidates, totalling 15 fits\n",
      "Cannot have number of splits n_splits=3 greater than the number of samples: n_samples=0.\n",
      "Fitting 3 folds for each of 5 candidates, totalling 15 fits\n"
     ]
    },
    {
     "name": "stderr",
     "output_type": "stream",
     "text": [
      " 84%|█████████████████████████▏    | 1628/1936 [2:27:04<27:11,  5.30s/it]"
     ]
    },
    {
     "name": "stdout",
     "output_type": "stream",
     "text": [
      "Fitting 3 folds for each of 5 candidates, totalling 15 fits\n"
     ]
    },
    {
     "name": "stderr",
     "output_type": "stream",
     "text": [
      " 84%|█████████████████████████▏    | 1629/1936 [2:27:16<32:56,  6.44s/it]"
     ]
    },
    {
     "name": "stdout",
     "output_type": "stream",
     "text": [
      "Fitting 3 folds for each of 5 candidates, totalling 15 fits\n",
      "Cannot have number of splits n_splits=3 greater than the number of samples: n_samples=0.\n",
      "Fitting 3 folds for each of 5 candidates, totalling 15 fits\n",
      "Cannot have number of splits n_splits=3 greater than the number of samples: n_samples=0.\n",
      "Fitting 3 folds for each of 5 candidates, totalling 15 fits\n",
      "Cannot have number of splits n_splits=3 greater than the number of samples: n_samples=0.\n",
      "Fitting 3 folds for each of 5 candidates, totalling 15 fits\n"
     ]
    },
    {
     "name": "stderr",
     "output_type": "stream",
     "text": [
      " 84%|█████████████████████████▎    | 1633/1936 [2:27:28<23:20,  4.62s/it]"
     ]
    },
    {
     "name": "stdout",
     "output_type": "stream",
     "text": [
      "Fitting 3 folds for each of 5 candidates, totalling 15 fits\n"
     ]
    },
    {
     "name": "stderr",
     "output_type": "stream",
     "text": [
      " 84%|█████████████████████████▎    | 1634/1936 [2:27:39<28:42,  5.70s/it]"
     ]
    },
    {
     "name": "stdout",
     "output_type": "stream",
     "text": [
      "Fitting 3 folds for each of 5 candidates, totalling 15 fits\n",
      "Cannot have number of splits n_splits=3 greater than the number of samples: n_samples=0.\n",
      "Fitting 3 folds for each of 5 candidates, totalling 15 fits\n"
     ]
    },
    {
     "name": "stderr",
     "output_type": "stream",
     "text": [
      " 85%|█████████████████████████▎    | 1636/1936 [2:27:51<28:59,  5.80s/it]"
     ]
    },
    {
     "name": "stdout",
     "output_type": "stream",
     "text": [
      "Fitting 3 folds for each of 5 candidates, totalling 15 fits\n"
     ]
    },
    {
     "name": "stderr",
     "output_type": "stream",
     "text": [
      " 85%|█████████████████████████▎    | 1637/1936 [2:28:03<34:34,  6.94s/it]"
     ]
    },
    {
     "name": "stdout",
     "output_type": "stream",
     "text": [
      "Fitting 3 folds for each of 5 candidates, totalling 15 fits\n",
      "Cannot have number of splits n_splits=3 greater than the number of samples: n_samples=0.\n",
      "Fitting 3 folds for each of 5 candidates, totalling 15 fits\n",
      "Cannot have number of splits n_splits=3 greater than the number of samples: n_samples=0.\n",
      "Fitting 3 folds for each of 5 candidates, totalling 15 fits\n",
      "Cannot have number of splits n_splits=3 greater than the number of samples: n_samples=0.\n",
      "Fitting 3 folds for each of 5 candidates, totalling 15 fits\n"
     ]
    },
    {
     "name": "stderr",
     "output_type": "stream",
     "text": [
      " 85%|█████████████████████████▍    | 1641/1936 [2:28:14<23:11,  4.72s/it]"
     ]
    },
    {
     "name": "stdout",
     "output_type": "stream",
     "text": [
      "Fitting 3 folds for each of 5 candidates, totalling 15 fits\n"
     ]
    },
    {
     "name": "stderr",
     "output_type": "stream",
     "text": [
      " 85%|█████████████████████████▍    | 1642/1936 [2:28:23<26:58,  5.50s/it]"
     ]
    },
    {
     "name": "stdout",
     "output_type": "stream",
     "text": [
      "Fitting 3 folds for each of 5 candidates, totalling 15 fits\n",
      "Cannot have number of splits n_splits=3 greater than the number of samples: n_samples=0.\n",
      "Fitting 3 folds for each of 5 candidates, totalling 15 fits\n"
     ]
    },
    {
     "name": "stderr",
     "output_type": "stream",
     "text": [
      " 85%|█████████████████████████▍    | 1644/1936 [2:28:33<25:53,  5.32s/it]"
     ]
    },
    {
     "name": "stdout",
     "output_type": "stream",
     "text": [
      "Fitting 3 folds for each of 5 candidates, totalling 15 fits\n"
     ]
    },
    {
     "name": "stderr",
     "output_type": "stream",
     "text": [
      " 85%|█████████████████████████▍    | 1645/1936 [2:28:43<29:36,  6.10s/it]"
     ]
    },
    {
     "name": "stdout",
     "output_type": "stream",
     "text": [
      "Fitting 3 folds for each of 5 candidates, totalling 15 fits\n",
      "Cannot have number of splits n_splits=3 greater than the number of samples: n_samples=0.\n",
      "Fitting 3 folds for each of 5 candidates, totalling 15 fits\n",
      "Cannot have number of splits n_splits=3 greater than the number of samples: n_samples=0.\n",
      "Fitting 3 folds for each of 5 candidates, totalling 15 fits\n",
      "Cannot have number of splits n_splits=3 greater than the number of samples: n_samples=0.\n",
      "Fitting 3 folds for each of 5 candidates, totalling 15 fits\n"
     ]
    },
    {
     "name": "stderr",
     "output_type": "stream",
     "text": [
      " 85%|█████████████████████████▌    | 1649/1936 [2:28:55<21:42,  4.54s/it]"
     ]
    },
    {
     "name": "stdout",
     "output_type": "stream",
     "text": [
      "Fitting 3 folds for each of 5 candidates, totalling 15 fits\n"
     ]
    },
    {
     "name": "stderr",
     "output_type": "stream",
     "text": [
      " 85%|█████████████████████████▌    | 1650/1936 [2:29:07<27:01,  5.67s/it]"
     ]
    },
    {
     "name": "stdout",
     "output_type": "stream",
     "text": [
      "Fitting 3 folds for each of 5 candidates, totalling 15 fits\n",
      "Cannot have number of splits n_splits=3 greater than the number of samples: n_samples=0.\n",
      "Fitting 3 folds for each of 5 candidates, totalling 15 fits\n"
     ]
    },
    {
     "name": "stderr",
     "output_type": "stream",
     "text": [
      " 85%|█████████████████████████▌    | 1652/1936 [2:29:19<27:31,  5.81s/it]"
     ]
    },
    {
     "name": "stdout",
     "output_type": "stream",
     "text": [
      "Fitting 3 folds for each of 5 candidates, totalling 15 fits\n"
     ]
    },
    {
     "name": "stderr",
     "output_type": "stream",
     "text": [
      " 85%|█████████████████████████▌    | 1653/1936 [2:29:31<32:10,  6.82s/it]"
     ]
    },
    {
     "name": "stdout",
     "output_type": "stream",
     "text": [
      "Fitting 3 folds for each of 5 candidates, totalling 15 fits\n",
      "Cannot have number of splits n_splits=3 greater than the number of samples: n_samples=0.\n",
      "Fitting 3 folds for each of 5 candidates, totalling 15 fits\n",
      "Cannot have number of splits n_splits=3 greater than the number of samples: n_samples=0.\n",
      "Fitting 3 folds for each of 5 candidates, totalling 15 fits\n",
      "Cannot have number of splits n_splits=3 greater than the number of samples: n_samples=0.\n",
      "Fitting 3 folds for each of 5 candidates, totalling 15 fits\n"
     ]
    },
    {
     "name": "stderr",
     "output_type": "stream",
     "text": [
      " 86%|█████████████████████████▋    | 1657/1936 [2:29:42<22:17,  4.79s/it]"
     ]
    },
    {
     "name": "stdout",
     "output_type": "stream",
     "text": [
      "Fitting 3 folds for each of 5 candidates, totalling 15 fits\n"
     ]
    },
    {
     "name": "stderr",
     "output_type": "stream",
     "text": [
      " 86%|█████████████████████████▋    | 1658/1936 [2:29:54<27:05,  5.85s/it]"
     ]
    },
    {
     "name": "stdout",
     "output_type": "stream",
     "text": [
      "Fitting 3 folds for each of 5 candidates, totalling 15 fits\n",
      "Cannot have number of splits n_splits=3 greater than the number of samples: n_samples=0.\n",
      "Fitting 3 folds for each of 5 candidates, totalling 15 fits\n"
     ]
    },
    {
     "name": "stderr",
     "output_type": "stream",
     "text": [
      " 86%|█████████████████████████▋    | 1660/1936 [2:30:06<27:07,  5.90s/it]"
     ]
    },
    {
     "name": "stdout",
     "output_type": "stream",
     "text": [
      "Fitting 3 folds for each of 5 candidates, totalling 15 fits\n"
     ]
    },
    {
     "name": "stderr",
     "output_type": "stream",
     "text": [
      " 86%|█████████████████████████▋    | 1661/1936 [2:30:17<31:31,  6.88s/it]"
     ]
    },
    {
     "name": "stdout",
     "output_type": "stream",
     "text": [
      "Fitting 3 folds for each of 5 candidates, totalling 15 fits\n",
      "Cannot have number of splits n_splits=3 greater than the number of samples: n_samples=0.\n",
      "Fitting 3 folds for each of 5 candidates, totalling 15 fits\n",
      "Cannot have number of splits n_splits=3 greater than the number of samples: n_samples=0.\n",
      "Fitting 3 folds for each of 5 candidates, totalling 15 fits\n",
      "Cannot have number of splits n_splits=3 greater than the number of samples: n_samples=0.\n",
      "Fitting 3 folds for each of 5 candidates, totalling 15 fits\n"
     ]
    },
    {
     "name": "stderr",
     "output_type": "stream",
     "text": [
      " 86%|█████████████████████████▊    | 1665/1936 [2:30:26<20:24,  4.52s/it]"
     ]
    },
    {
     "name": "stdout",
     "output_type": "stream",
     "text": [
      "Fitting 3 folds for each of 5 candidates, totalling 15 fits\n"
     ]
    },
    {
     "name": "stderr",
     "output_type": "stream",
     "text": [
      " 86%|█████████████████████████▊    | 1666/1936 [2:30:35<23:18,  5.18s/it]"
     ]
    },
    {
     "name": "stdout",
     "output_type": "stream",
     "text": [
      "Fitting 3 folds for each of 5 candidates, totalling 15 fits\n",
      "Cannot have number of splits n_splits=3 greater than the number of samples: n_samples=0.\n",
      "Fitting 3 folds for each of 5 candidates, totalling 15 fits\n"
     ]
    },
    {
     "name": "stderr",
     "output_type": "stream",
     "text": [
      " 86%|█████████████████████████▊    | 1668/1936 [2:30:44<22:08,  4.96s/it]"
     ]
    },
    {
     "name": "stdout",
     "output_type": "stream",
     "text": [
      "Fitting 3 folds for each of 5 candidates, totalling 15 fits\n"
     ]
    },
    {
     "name": "stderr",
     "output_type": "stream",
     "text": [
      " 86%|█████████████████████████▊    | 1669/1936 [2:30:53<25:32,  5.74s/it]"
     ]
    },
    {
     "name": "stdout",
     "output_type": "stream",
     "text": [
      "Fitting 3 folds for each of 5 candidates, totalling 15 fits\n",
      "Cannot have number of splits n_splits=3 greater than the number of samples: n_samples=0.\n",
      "Fitting 3 folds for each of 5 candidates, totalling 15 fits\n",
      "Cannot have number of splits n_splits=3 greater than the number of samples: n_samples=0.\n",
      "Fitting 3 folds for each of 5 candidates, totalling 15 fits\n",
      "Cannot have number of splits n_splits=3 greater than the number of samples: n_samples=0.\n",
      "Fitting 3 folds for each of 5 candidates, totalling 15 fits\n"
     ]
    },
    {
     "name": "stderr",
     "output_type": "stream",
     "text": [
      " 86%|█████████████████████████▉    | 1673/1936 [2:31:01<16:56,  3.86s/it]"
     ]
    },
    {
     "name": "stdout",
     "output_type": "stream",
     "text": [
      "Fitting 3 folds for each of 5 candidates, totalling 15 fits\n"
     ]
    },
    {
     "name": "stderr",
     "output_type": "stream",
     "text": [
      " 86%|█████████████████████████▉    | 1674/1936 [2:31:09<19:47,  4.53s/it]"
     ]
    },
    {
     "name": "stdout",
     "output_type": "stream",
     "text": [
      "Fitting 3 folds for each of 5 candidates, totalling 15 fits\n",
      "Cannot have number of splits n_splits=3 greater than the number of samples: n_samples=0.\n",
      "Fitting 3 folds for each of 5 candidates, totalling 15 fits\n"
     ]
    },
    {
     "name": "stderr",
     "output_type": "stream",
     "text": [
      " 87%|█████████████████████████▉    | 1676/1936 [2:31:17<18:48,  4.34s/it]"
     ]
    },
    {
     "name": "stdout",
     "output_type": "stream",
     "text": [
      "Fitting 3 folds for each of 5 candidates, totalling 15 fits\n"
     ]
    },
    {
     "name": "stderr",
     "output_type": "stream",
     "text": [
      " 87%|█████████████████████████▉    | 1677/1936 [2:31:25<21:17,  4.93s/it]"
     ]
    },
    {
     "name": "stdout",
     "output_type": "stream",
     "text": [
      "Fitting 3 folds for each of 5 candidates, totalling 15 fits\n",
      "Cannot have number of splits n_splits=3 greater than the number of samples: n_samples=0.\n",
      "Fitting 3 folds for each of 5 candidates, totalling 15 fits\n",
      "Cannot have number of splits n_splits=3 greater than the number of samples: n_samples=0.\n",
      "Fitting 3 folds for each of 5 candidates, totalling 15 fits\n",
      "Cannot have number of splits n_splits=3 greater than the number of samples: n_samples=0.\n",
      "Fitting 3 folds for each of 5 candidates, totalling 15 fits\n"
     ]
    },
    {
     "name": "stderr",
     "output_type": "stream",
     "text": [
      " 87%|██████████████████████████    | 1681/1936 [2:31:35<15:54,  3.74s/it]"
     ]
    },
    {
     "name": "stdout",
     "output_type": "stream",
     "text": [
      "Fitting 3 folds for each of 5 candidates, totalling 15 fits\n"
     ]
    },
    {
     "name": "stderr",
     "output_type": "stream",
     "text": [
      " 87%|██████████████████████████    | 1682/1936 [2:31:45<19:57,  4.72s/it]"
     ]
    },
    {
     "name": "stdout",
     "output_type": "stream",
     "text": [
      "Fitting 3 folds for each of 5 candidates, totalling 15 fits\n",
      "Cannot have number of splits n_splits=3 greater than the number of samples: n_samples=0.\n",
      "Fitting 3 folds for each of 5 candidates, totalling 15 fits\n"
     ]
    },
    {
     "name": "stderr",
     "output_type": "stream",
     "text": [
      " 87%|██████████████████████████    | 1684/1936 [2:31:56<20:34,  4.90s/it]"
     ]
    },
    {
     "name": "stdout",
     "output_type": "stream",
     "text": [
      "Fitting 3 folds for each of 5 candidates, totalling 15 fits\n"
     ]
    },
    {
     "name": "stderr",
     "output_type": "stream",
     "text": [
      " 87%|██████████████████████████    | 1685/1936 [2:32:06<24:44,  5.92s/it]"
     ]
    },
    {
     "name": "stdout",
     "output_type": "stream",
     "text": [
      "Fitting 3 folds for each of 5 candidates, totalling 15 fits\n",
      "Cannot have number of splits n_splits=3 greater than the number of samples: n_samples=0.\n",
      "Fitting 3 folds for each of 5 candidates, totalling 15 fits\n",
      "Cannot have number of splits n_splits=3 greater than the number of samples: n_samples=0.\n",
      "Fitting 3 folds for each of 5 candidates, totalling 15 fits\n",
      "Cannot have number of splits n_splits=3 greater than the number of samples: n_samples=0.\n",
      "Fitting 3 folds for each of 5 candidates, totalling 15 fits\n"
     ]
    },
    {
     "name": "stderr",
     "output_type": "stream",
     "text": [
      " 87%|██████████████████████████▏   | 1689/1936 [2:32:14<16:01,  3.89s/it]"
     ]
    },
    {
     "name": "stdout",
     "output_type": "stream",
     "text": [
      "Fitting 3 folds for each of 5 candidates, totalling 15 fits\n"
     ]
    },
    {
     "name": "stderr",
     "output_type": "stream",
     "text": [
      " 87%|██████████████████████████▏   | 1690/1936 [2:32:22<18:17,  4.46s/it]"
     ]
    },
    {
     "name": "stdout",
     "output_type": "stream",
     "text": [
      "Fitting 3 folds for each of 5 candidates, totalling 15 fits\n",
      "Cannot have number of splits n_splits=3 greater than the number of samples: n_samples=0.\n",
      "Fitting 3 folds for each of 5 candidates, totalling 15 fits\n"
     ]
    },
    {
     "name": "stderr",
     "output_type": "stream",
     "text": [
      " 87%|██████████████████████████▏   | 1692/1936 [2:32:29<17:16,  4.25s/it]"
     ]
    },
    {
     "name": "stdout",
     "output_type": "stream",
     "text": [
      "Fitting 3 folds for each of 5 candidates, totalling 15 fits\n"
     ]
    },
    {
     "name": "stderr",
     "output_type": "stream",
     "text": [
      " 87%|██████████████████████████▏   | 1693/1936 [2:32:37<19:44,  4.87s/it]"
     ]
    },
    {
     "name": "stdout",
     "output_type": "stream",
     "text": [
      "Fitting 3 folds for each of 5 candidates, totalling 15 fits\n",
      "Cannot have number of splits n_splits=3 greater than the number of samples: n_samples=0.\n",
      "Fitting 3 folds for each of 5 candidates, totalling 15 fits\n",
      "Cannot have number of splits n_splits=3 greater than the number of samples: n_samples=0.\n",
      "Fitting 3 folds for each of 5 candidates, totalling 15 fits\n",
      "Cannot have number of splits n_splits=3 greater than the number of samples: n_samples=0.\n",
      "Fitting 3 folds for each of 5 candidates, totalling 15 fits\n"
     ]
    },
    {
     "name": "stderr",
     "output_type": "stream",
     "text": [
      " 88%|██████████████████████████▎   | 1697/1936 [2:32:47<14:36,  3.67s/it]"
     ]
    },
    {
     "name": "stdout",
     "output_type": "stream",
     "text": [
      "Fitting 3 folds for each of 5 candidates, totalling 15 fits\n"
     ]
    },
    {
     "name": "stderr",
     "output_type": "stream",
     "text": [
      " 88%|██████████████████████████▎   | 1698/1936 [2:32:57<18:33,  4.68s/it]"
     ]
    },
    {
     "name": "stdout",
     "output_type": "stream",
     "text": [
      "Fitting 3 folds for each of 5 candidates, totalling 15 fits\n",
      "Cannot have number of splits n_splits=3 greater than the number of samples: n_samples=0.\n",
      "Fitting 3 folds for each of 5 candidates, totalling 15 fits\n"
     ]
    },
    {
     "name": "stderr",
     "output_type": "stream",
     "text": [
      " 88%|██████████████████████████▎   | 1700/1936 [2:33:08<19:07,  4.86s/it]"
     ]
    },
    {
     "name": "stdout",
     "output_type": "stream",
     "text": [
      "Fitting 3 folds for each of 5 candidates, totalling 15 fits\n"
     ]
    },
    {
     "name": "stderr",
     "output_type": "stream",
     "text": [
      " 88%|██████████████████████████▎   | 1701/1936 [2:33:18<22:57,  5.86s/it]"
     ]
    },
    {
     "name": "stdout",
     "output_type": "stream",
     "text": [
      "Fitting 3 folds for each of 5 candidates, totalling 15 fits\n",
      "Cannot have number of splits n_splits=3 greater than the number of samples: n_samples=0.\n",
      "Fitting 3 folds for each of 5 candidates, totalling 15 fits\n",
      "Cannot have number of splits n_splits=3 greater than the number of samples: n_samples=0.\n",
      "Fitting 3 folds for each of 5 candidates, totalling 15 fits\n",
      "Cannot have number of splits n_splits=3 greater than the number of samples: n_samples=0.\n",
      "Fitting 3 folds for each of 5 candidates, totalling 15 fits\n"
     ]
    },
    {
     "name": "stderr",
     "output_type": "stream",
     "text": [
      " 88%|██████████████████████████▍   | 1705/1936 [2:33:28<15:52,  4.12s/it]"
     ]
    },
    {
     "name": "stdout",
     "output_type": "stream",
     "text": [
      "Fitting 3 folds for each of 5 candidates, totalling 15 fits\n"
     ]
    },
    {
     "name": "stderr",
     "output_type": "stream",
     "text": [
      " 88%|██████████████████████████▍   | 1706/1936 [2:33:37<18:48,  4.91s/it]"
     ]
    },
    {
     "name": "stdout",
     "output_type": "stream",
     "text": [
      "Fitting 3 folds for each of 5 candidates, totalling 15 fits\n",
      "Cannot have number of splits n_splits=3 greater than the number of samples: n_samples=0.\n",
      "Fitting 3 folds for each of 5 candidates, totalling 15 fits\n"
     ]
    },
    {
     "name": "stderr",
     "output_type": "stream",
     "text": [
      " 88%|██████████████████████████▍   | 1708/1936 [2:33:46<18:08,  4.78s/it]"
     ]
    },
    {
     "name": "stdout",
     "output_type": "stream",
     "text": [
      "Fitting 3 folds for each of 5 candidates, totalling 15 fits\n"
     ]
    },
    {
     "name": "stderr",
     "output_type": "stream",
     "text": [
      " 88%|██████████████████████████▍   | 1709/1936 [2:33:55<20:47,  5.50s/it]"
     ]
    },
    {
     "name": "stdout",
     "output_type": "stream",
     "text": [
      "Fitting 3 folds for each of 5 candidates, totalling 15 fits\n",
      "Cannot have number of splits n_splits=3 greater than the number of samples: n_samples=0.\n",
      "Fitting 3 folds for each of 5 candidates, totalling 15 fits\n",
      "Cannot have number of splits n_splits=3 greater than the number of samples: n_samples=0.\n",
      "Fitting 3 folds for each of 5 candidates, totalling 15 fits\n",
      "Cannot have number of splits n_splits=3 greater than the number of samples: n_samples=0.\n",
      "Fitting 3 folds for each of 5 candidates, totalling 15 fits\n"
     ]
    },
    {
     "name": "stderr",
     "output_type": "stream",
     "text": [
      " 88%|██████████████████████████▌   | 1713/1936 [2:34:01<12:57,  3.49s/it]"
     ]
    },
    {
     "name": "stdout",
     "output_type": "stream",
     "text": [
      "Fitting 3 folds for each of 5 candidates, totalling 15 fits\n"
     ]
    },
    {
     "name": "stderr",
     "output_type": "stream",
     "text": [
      " 89%|██████████████████████████▌   | 1714/1936 [2:34:07<14:23,  3.89s/it]"
     ]
    },
    {
     "name": "stdout",
     "output_type": "stream",
     "text": [
      "Fitting 3 folds for each of 5 candidates, totalling 15 fits\n",
      "Cannot have number of splits n_splits=3 greater than the number of samples: n_samples=0.\n",
      "Fitting 3 folds for each of 5 candidates, totalling 15 fits\n"
     ]
    },
    {
     "name": "stderr",
     "output_type": "stream",
     "text": [
      " 89%|██████████████████████████▌   | 1716/1936 [2:34:13<13:30,  3.69s/it]"
     ]
    },
    {
     "name": "stdout",
     "output_type": "stream",
     "text": [
      "Fitting 3 folds for each of 5 candidates, totalling 15 fits\n"
     ]
    },
    {
     "name": "stderr",
     "output_type": "stream",
     "text": [
      " 89%|██████████████████████████▌   | 1717/1936 [2:34:20<15:23,  4.22s/it]"
     ]
    },
    {
     "name": "stdout",
     "output_type": "stream",
     "text": [
      "Fitting 3 folds for each of 5 candidates, totalling 15 fits\n",
      "Cannot have number of splits n_splits=3 greater than the number of samples: n_samples=0.\n",
      "Fitting 3 folds for each of 5 candidates, totalling 15 fits\n",
      "Cannot have number of splits n_splits=3 greater than the number of samples: n_samples=0.\n",
      "Fitting 3 folds for each of 5 candidates, totalling 15 fits\n",
      "Cannot have number of splits n_splits=3 greater than the number of samples: n_samples=0.\n",
      "Fitting 3 folds for each of 5 candidates, totalling 15 fits\n"
     ]
    },
    {
     "name": "stderr",
     "output_type": "stream",
     "text": [
      " 89%|██████████████████████████▋   | 1721/1936 [2:34:24<09:13,  2.58s/it]"
     ]
    },
    {
     "name": "stdout",
     "output_type": "stream",
     "text": [
      "Fitting 3 folds for each of 5 candidates, totalling 15 fits\n"
     ]
    },
    {
     "name": "stderr",
     "output_type": "stream",
     "text": [
      " 89%|██████████████████████████▋   | 1722/1936 [2:34:28<09:52,  2.77s/it]"
     ]
    },
    {
     "name": "stdout",
     "output_type": "stream",
     "text": [
      "Fitting 3 folds for each of 5 candidates, totalling 15 fits\n",
      "Cannot have number of splits n_splits=3 greater than the number of samples: n_samples=0.\n",
      "Fitting 3 folds for each of 5 candidates, totalling 15 fits\n"
     ]
    },
    {
     "name": "stderr",
     "output_type": "stream",
     "text": [
      " 89%|██████████████████████████▋   | 1724/1936 [2:34:32<08:48,  2.49s/it]"
     ]
    },
    {
     "name": "stdout",
     "output_type": "stream",
     "text": [
      "Fitting 3 folds for each of 5 candidates, totalling 15 fits\n"
     ]
    },
    {
     "name": "stderr",
     "output_type": "stream",
     "text": [
      " 89%|██████████████████████████▋   | 1725/1936 [2:34:35<09:27,  2.69s/it]"
     ]
    },
    {
     "name": "stdout",
     "output_type": "stream",
     "text": [
      "Fitting 3 folds for each of 5 candidates, totalling 15 fits\n",
      "Cannot have number of splits n_splits=3 greater than the number of samples: n_samples=0.\n",
      "Fitting 3 folds for each of 5 candidates, totalling 15 fits\n",
      "Cannot have number of splits n_splits=3 greater than the number of samples: n_samples=0.\n",
      "Fitting 3 folds for each of 5 candidates, totalling 15 fits\n",
      "Cannot have number of splits n_splits=3 greater than the number of samples: n_samples=0.\n",
      "Fitting 3 folds for each of 5 candidates, totalling 15 fits\n"
     ]
    },
    {
     "name": "stderr",
     "output_type": "stream",
     "text": [
      " 89%|██████████████████████████▊   | 1729/1936 [2:34:43<07:58,  2.31s/it]"
     ]
    },
    {
     "name": "stdout",
     "output_type": "stream",
     "text": [
      "Fitting 3 folds for each of 5 candidates, totalling 15 fits\n"
     ]
    },
    {
     "name": "stderr",
     "output_type": "stream",
     "text": [
      " 89%|██████████████████████████▊   | 1730/1936 [2:34:50<10:39,  3.11s/it]"
     ]
    },
    {
     "name": "stdout",
     "output_type": "stream",
     "text": [
      "Fitting 3 folds for each of 5 candidates, totalling 15 fits\n",
      "Cannot have number of splits n_splits=3 greater than the number of samples: n_samples=0.\n",
      "Fitting 3 folds for each of 5 candidates, totalling 15 fits\n"
     ]
    },
    {
     "name": "stderr",
     "output_type": "stream",
     "text": [
      " 89%|██████████████████████████▊   | 1732/1936 [2:34:58<11:13,  3.30s/it]"
     ]
    },
    {
     "name": "stdout",
     "output_type": "stream",
     "text": [
      "Fitting 3 folds for each of 5 candidates, totalling 15 fits\n"
     ]
    },
    {
     "name": "stderr",
     "output_type": "stream",
     "text": [
      " 90%|██████████████████████████▊   | 1733/1936 [2:35:06<13:46,  4.07s/it]"
     ]
    },
    {
     "name": "stdout",
     "output_type": "stream",
     "text": [
      "Fitting 3 folds for each of 5 candidates, totalling 15 fits\n",
      "Cannot have number of splits n_splits=3 greater than the number of samples: n_samples=0.\n",
      "Fitting 3 folds for each of 5 candidates, totalling 15 fits\n",
      "Cannot have number of splits n_splits=3 greater than the number of samples: n_samples=0.\n",
      "Fitting 3 folds for each of 5 candidates, totalling 15 fits\n",
      "Cannot have number of splits n_splits=3 greater than the number of samples: n_samples=0.\n",
      "Fitting 3 folds for each of 5 candidates, totalling 15 fits\n"
     ]
    },
    {
     "name": "stderr",
     "output_type": "stream",
     "text": [
      " 90%|██████████████████████████▉   | 1737/1936 [2:35:11<09:09,  2.76s/it]"
     ]
    },
    {
     "name": "stdout",
     "output_type": "stream",
     "text": [
      "Fitting 3 folds for each of 5 candidates, totalling 15 fits\n"
     ]
    },
    {
     "name": "stderr",
     "output_type": "stream",
     "text": [
      " 90%|██████████████████████████▉   | 1738/1936 [2:35:18<10:47,  3.27s/it]"
     ]
    },
    {
     "name": "stdout",
     "output_type": "stream",
     "text": [
      "Fitting 3 folds for each of 5 candidates, totalling 15 fits\n",
      "Cannot have number of splits n_splits=3 greater than the number of samples: n_samples=0.\n",
      "Fitting 3 folds for each of 5 candidates, totalling 15 fits\n"
     ]
    },
    {
     "name": "stderr",
     "output_type": "stream",
     "text": [
      " 90%|██████████████████████████▉   | 1740/1936 [2:35:24<10:24,  3.18s/it]"
     ]
    },
    {
     "name": "stdout",
     "output_type": "stream",
     "text": [
      "Fitting 3 folds for each of 5 candidates, totalling 15 fits\n"
     ]
    },
    {
     "name": "stderr",
     "output_type": "stream",
     "text": [
      " 90%|██████████████████████████▉   | 1741/1936 [2:35:30<12:07,  3.73s/it]"
     ]
    },
    {
     "name": "stdout",
     "output_type": "stream",
     "text": [
      "Fitting 3 folds for each of 5 candidates, totalling 15 fits\n",
      "Cannot have number of splits n_splits=3 greater than the number of samples: n_samples=0.\n",
      "Fitting 3 folds for each of 5 candidates, totalling 15 fits\n",
      "Cannot have number of splits n_splits=3 greater than the number of samples: n_samples=0.\n",
      "Fitting 3 folds for each of 5 candidates, totalling 15 fits\n",
      "Cannot have number of splits n_splits=3 greater than the number of samples: n_samples=0.\n",
      "Fitting 3 folds for each of 5 candidates, totalling 15 fits\n"
     ]
    },
    {
     "name": "stderr",
     "output_type": "stream",
     "text": [
      " 90%|███████████████████████████   | 1745/1936 [2:35:41<10:15,  3.22s/it]"
     ]
    },
    {
     "name": "stdout",
     "output_type": "stream",
     "text": [
      "Fitting 3 folds for each of 5 candidates, totalling 15 fits\n"
     ]
    },
    {
     "name": "stderr",
     "output_type": "stream",
     "text": [
      " 90%|███████████████████████████   | 1746/1936 [2:35:51<13:40,  4.32s/it]"
     ]
    },
    {
     "name": "stdout",
     "output_type": "stream",
     "text": [
      "Fitting 3 folds for each of 5 candidates, totalling 15 fits\n",
      "Cannot have number of splits n_splits=3 greater than the number of samples: n_samples=0.\n",
      "Fitting 3 folds for each of 5 candidates, totalling 15 fits\n"
     ]
    },
    {
     "name": "stderr",
     "output_type": "stream",
     "text": [
      " 90%|███████████████████████████   | 1748/1936 [2:36:01<14:23,  4.59s/it]"
     ]
    },
    {
     "name": "stdout",
     "output_type": "stream",
     "text": [
      "Fitting 3 folds for each of 5 candidates, totalling 15 fits\n"
     ]
    },
    {
     "name": "stderr",
     "output_type": "stream",
     "text": [
      " 90%|███████████████████████████   | 1749/1936 [2:36:12<17:50,  5.72s/it]"
     ]
    },
    {
     "name": "stdout",
     "output_type": "stream",
     "text": [
      "Fitting 3 folds for each of 5 candidates, totalling 15 fits\n",
      "Cannot have number of splits n_splits=3 greater than the number of samples: n_samples=0.\n",
      "Fitting 3 folds for each of 5 candidates, totalling 15 fits\n",
      "Cannot have number of splits n_splits=3 greater than the number of samples: n_samples=0.\n",
      "Fitting 3 folds for each of 5 candidates, totalling 15 fits\n",
      "Cannot have number of splits n_splits=3 greater than the number of samples: n_samples=0.\n",
      "Fitting 3 folds for each of 5 candidates, totalling 15 fits\n"
     ]
    },
    {
     "name": "stderr",
     "output_type": "stream",
     "text": [
      " 91%|███████████████████████████▏  | 1753/1936 [2:36:24<12:59,  4.26s/it]"
     ]
    },
    {
     "name": "stdout",
     "output_type": "stream",
     "text": [
      "Fitting 3 folds for each of 5 candidates, totalling 15 fits\n"
     ]
    },
    {
     "name": "stderr",
     "output_type": "stream",
     "text": [
      " 91%|███████████████████████████▏  | 1754/1936 [2:36:34<15:56,  5.25s/it]"
     ]
    },
    {
     "name": "stdout",
     "output_type": "stream",
     "text": [
      "Fitting 3 folds for each of 5 candidates, totalling 15 fits\n",
      "Cannot have number of splits n_splits=3 greater than the number of samples: n_samples=0.\n",
      "Fitting 3 folds for each of 5 candidates, totalling 15 fits\n"
     ]
    },
    {
     "name": "stderr",
     "output_type": "stream",
     "text": [
      " 91%|███████████████████████████▏  | 1756/1936 [2:36:45<15:49,  5.27s/it]"
     ]
    },
    {
     "name": "stdout",
     "output_type": "stream",
     "text": [
      "Fitting 3 folds for each of 5 candidates, totalling 15 fits\n"
     ]
    },
    {
     "name": "stderr",
     "output_type": "stream",
     "text": [
      " 91%|███████████████████████████▏  | 1757/1936 [2:36:56<18:30,  6.21s/it]"
     ]
    },
    {
     "name": "stdout",
     "output_type": "stream",
     "text": [
      "Fitting 3 folds for each of 5 candidates, totalling 15 fits\n",
      "Cannot have number of splits n_splits=3 greater than the number of samples: n_samples=0.\n",
      "Fitting 3 folds for each of 5 candidates, totalling 15 fits\n",
      "Cannot have number of splits n_splits=3 greater than the number of samples: n_samples=0.\n",
      "Fitting 3 folds for each of 5 candidates, totalling 15 fits\n",
      "Cannot have number of splits n_splits=3 greater than the number of samples: n_samples=0.\n",
      "Fitting 3 folds for each of 5 candidates, totalling 15 fits\n"
     ]
    },
    {
     "name": "stderr",
     "output_type": "stream",
     "text": [
      " 91%|███████████████████████████▎  | 1761/1936 [2:37:04<12:11,  4.18s/it]"
     ]
    },
    {
     "name": "stdout",
     "output_type": "stream",
     "text": [
      "Fitting 3 folds for each of 5 candidates, totalling 15 fits\n"
     ]
    },
    {
     "name": "stderr",
     "output_type": "stream",
     "text": [
      " 91%|███████████████████████████▎  | 1762/1936 [2:37:14<14:18,  4.93s/it]"
     ]
    },
    {
     "name": "stdout",
     "output_type": "stream",
     "text": [
      "Fitting 3 folds for each of 5 candidates, totalling 15 fits\n",
      "Cannot have number of splits n_splits=3 greater than the number of samples: n_samples=0.\n",
      "Fitting 3 folds for each of 5 candidates, totalling 15 fits\n"
     ]
    },
    {
     "name": "stderr",
     "output_type": "stream",
     "text": [
      " 91%|███████████████████████████▎  | 1764/1936 [2:37:23<13:56,  4.86s/it]"
     ]
    },
    {
     "name": "stdout",
     "output_type": "stream",
     "text": [
      "Fitting 3 folds for each of 5 candidates, totalling 15 fits\n"
     ]
    },
    {
     "name": "stderr",
     "output_type": "stream",
     "text": [
      " 91%|███████████████████████████▎  | 1765/1936 [2:37:32<16:06,  5.65s/it]"
     ]
    },
    {
     "name": "stdout",
     "output_type": "stream",
     "text": [
      "Fitting 3 folds for each of 5 candidates, totalling 15 fits\n",
      "Cannot have number of splits n_splits=3 greater than the number of samples: n_samples=0.\n",
      "Fitting 3 folds for each of 5 candidates, totalling 15 fits\n",
      "Cannot have number of splits n_splits=3 greater than the number of samples: n_samples=0.\n",
      "Fitting 3 folds for each of 5 candidates, totalling 15 fits\n",
      "Cannot have number of splits n_splits=3 greater than the number of samples: n_samples=0.\n",
      "Fitting 3 folds for each of 5 candidates, totalling 15 fits\n"
     ]
    },
    {
     "name": "stderr",
     "output_type": "stream",
     "text": [
      " 91%|███████████████████████████▍  | 1769/1936 [2:37:40<10:33,  3.79s/it]"
     ]
    },
    {
     "name": "stdout",
     "output_type": "stream",
     "text": [
      "Fitting 3 folds for each of 5 candidates, totalling 15 fits\n"
     ]
    },
    {
     "name": "stderr",
     "output_type": "stream",
     "text": [
      " 91%|███████████████████████████▍  | 1770/1936 [2:37:48<12:13,  4.42s/it]"
     ]
    },
    {
     "name": "stdout",
     "output_type": "stream",
     "text": [
      "Fitting 3 folds for each of 5 candidates, totalling 15 fits\n",
      "Cannot have number of splits n_splits=3 greater than the number of samples: n_samples=0.\n",
      "Fitting 3 folds for each of 5 candidates, totalling 15 fits\n"
     ]
    },
    {
     "name": "stderr",
     "output_type": "stream",
     "text": [
      " 92%|███████████████████████████▍  | 1772/1936 [2:37:56<11:50,  4.33s/it]"
     ]
    },
    {
     "name": "stdout",
     "output_type": "stream",
     "text": [
      "Fitting 3 folds for each of 5 candidates, totalling 15 fits\n"
     ]
    },
    {
     "name": "stderr",
     "output_type": "stream",
     "text": [
      " 92%|███████████████████████████▍  | 1773/1936 [2:38:04<13:39,  5.03s/it]"
     ]
    },
    {
     "name": "stdout",
     "output_type": "stream",
     "text": [
      "Fitting 3 folds for each of 5 candidates, totalling 15 fits\n",
      "Cannot have number of splits n_splits=3 greater than the number of samples: n_samples=0.\n",
      "Fitting 3 folds for each of 5 candidates, totalling 15 fits\n",
      "Cannot have number of splits n_splits=3 greater than the number of samples: n_samples=0.\n",
      "Fitting 3 folds for each of 5 candidates, totalling 15 fits\n",
      "Cannot have number of splits n_splits=3 greater than the number of samples: n_samples=0.\n",
      "Fitting 3 folds for each of 5 candidates, totalling 15 fits\n"
     ]
    },
    {
     "name": "stderr",
     "output_type": "stream",
     "text": [
      " 92%|███████████████████████████▌  | 1777/1936 [2:38:09<07:59,  3.02s/it]"
     ]
    },
    {
     "name": "stdout",
     "output_type": "stream",
     "text": [
      "Fitting 3 folds for each of 5 candidates, totalling 15 fits\n"
     ]
    },
    {
     "name": "stderr",
     "output_type": "stream",
     "text": [
      " 92%|███████████████████████████▌  | 1778/1936 [2:38:13<08:17,  3.15s/it]"
     ]
    },
    {
     "name": "stdout",
     "output_type": "stream",
     "text": [
      "Fitting 3 folds for each of 5 candidates, totalling 15 fits\n",
      "Cannot have number of splits n_splits=3 greater than the number of samples: n_samples=0.\n",
      "Fitting 3 folds for each of 5 candidates, totalling 15 fits\n"
     ]
    },
    {
     "name": "stderr",
     "output_type": "stream",
     "text": [
      " 92%|███████████████████████████▌  | 1780/1936 [2:38:16<07:15,  2.79s/it]"
     ]
    },
    {
     "name": "stdout",
     "output_type": "stream",
     "text": [
      "Fitting 3 folds for each of 5 candidates, totalling 15 fits\n"
     ]
    },
    {
     "name": "stderr",
     "output_type": "stream",
     "text": [
      " 92%|███████████████████████████▌  | 1781/1936 [2:38:20<07:42,  2.98s/it]"
     ]
    },
    {
     "name": "stdout",
     "output_type": "stream",
     "text": [
      "Fitting 3 folds for each of 5 candidates, totalling 15 fits\n",
      "Cannot have number of splits n_splits=3 greater than the number of samples: n_samples=0.\n",
      "Fitting 3 folds for each of 5 candidates, totalling 15 fits\n",
      "Cannot have number of splits n_splits=3 greater than the number of samples: n_samples=0.\n",
      "Fitting 3 folds for each of 5 candidates, totalling 15 fits\n",
      "Cannot have number of splits n_splits=3 greater than the number of samples: n_samples=0.\n",
      "Fitting 3 folds for each of 5 candidates, totalling 15 fits\n"
     ]
    },
    {
     "name": "stderr",
     "output_type": "stream",
     "text": [
      " 92%|███████████████████████████▋  | 1785/1936 [2:38:30<06:55,  2.75s/it]"
     ]
    },
    {
     "name": "stdout",
     "output_type": "stream",
     "text": [
      "Fitting 3 folds for each of 5 candidates, totalling 15 fits\n"
     ]
    },
    {
     "name": "stderr",
     "output_type": "stream",
     "text": [
      " 92%|███████████████████████████▋  | 1786/1936 [2:38:41<09:41,  3.87s/it]"
     ]
    },
    {
     "name": "stdout",
     "output_type": "stream",
     "text": [
      "Fitting 3 folds for each of 5 candidates, totalling 15 fits\n",
      "Cannot have number of splits n_splits=3 greater than the number of samples: n_samples=0.\n",
      "Fitting 3 folds for each of 5 candidates, totalling 15 fits\n"
     ]
    },
    {
     "name": "stderr",
     "output_type": "stream",
     "text": [
      " 92%|███████████████████████████▋  | 1788/1936 [2:38:51<10:33,  4.28s/it]"
     ]
    },
    {
     "name": "stdout",
     "output_type": "stream",
     "text": [
      "Fitting 3 folds for each of 5 candidates, totalling 15 fits\n"
     ]
    },
    {
     "name": "stderr",
     "output_type": "stream",
     "text": [
      " 92%|███████████████████████████▋  | 1789/1936 [2:39:02<13:15,  5.41s/it]"
     ]
    },
    {
     "name": "stdout",
     "output_type": "stream",
     "text": [
      "Fitting 3 folds for each of 5 candidates, totalling 15 fits\n",
      "Cannot have number of splits n_splits=3 greater than the number of samples: n_samples=0.\n",
      "Fitting 3 folds for each of 5 candidates, totalling 15 fits\n",
      "Cannot have number of splits n_splits=3 greater than the number of samples: n_samples=0.\n",
      "Fitting 3 folds for each of 5 candidates, totalling 15 fits\n",
      "Cannot have number of splits n_splits=3 greater than the number of samples: n_samples=0.\n",
      "Fitting 3 folds for each of 5 candidates, totalling 15 fits\n"
     ]
    },
    {
     "name": "stderr",
     "output_type": "stream",
     "text": [
      " 93%|███████████████████████████▊  | 1793/1936 [2:39:08<08:18,  3.49s/it]"
     ]
    },
    {
     "name": "stdout",
     "output_type": "stream",
     "text": [
      "Fitting 3 folds for each of 5 candidates, totalling 15 fits\n"
     ]
    },
    {
     "name": "stderr",
     "output_type": "stream",
     "text": [
      " 93%|███████████████████████████▊  | 1794/1936 [2:39:14<09:09,  3.87s/it]"
     ]
    },
    {
     "name": "stdout",
     "output_type": "stream",
     "text": [
      "Fitting 3 folds for each of 5 candidates, totalling 15 fits\n",
      "Cannot have number of splits n_splits=3 greater than the number of samples: n_samples=0.\n",
      "Fitting 3 folds for each of 5 candidates, totalling 15 fits\n"
     ]
    },
    {
     "name": "stderr",
     "output_type": "stream",
     "text": [
      " 93%|███████████████████████████▊  | 1796/1936 [2:39:20<08:23,  3.60s/it]"
     ]
    },
    {
     "name": "stdout",
     "output_type": "stream",
     "text": [
      "Fitting 3 folds for each of 5 candidates, totalling 15 fits\n"
     ]
    },
    {
     "name": "stderr",
     "output_type": "stream",
     "text": [
      " 93%|███████████████████████████▊  | 1797/1936 [2:39:26<09:18,  4.02s/it]"
     ]
    },
    {
     "name": "stdout",
     "output_type": "stream",
     "text": [
      "Fitting 3 folds for each of 5 candidates, totalling 15 fits\n",
      "Cannot have number of splits n_splits=3 greater than the number of samples: n_samples=0.\n",
      "Fitting 3 folds for each of 5 candidates, totalling 15 fits\n",
      "Cannot have number of splits n_splits=3 greater than the number of samples: n_samples=0.\n",
      "Fitting 3 folds for each of 5 candidates, totalling 15 fits\n",
      "Cannot have number of splits n_splits=3 greater than the number of samples: n_samples=0.\n",
      "Fitting 3 folds for each of 5 candidates, totalling 15 fits\n"
     ]
    },
    {
     "name": "stderr",
     "output_type": "stream",
     "text": [
      " 93%|███████████████████████████▉  | 1801/1936 [2:39:29<05:14,  2.33s/it]"
     ]
    },
    {
     "name": "stdout",
     "output_type": "stream",
     "text": [
      "Fitting 3 folds for each of 5 candidates, totalling 15 fits\n"
     ]
    },
    {
     "name": "stderr",
     "output_type": "stream",
     "text": [
      " 93%|███████████████████████████▉  | 1802/1936 [2:39:31<05:19,  2.39s/it]"
     ]
    },
    {
     "name": "stdout",
     "output_type": "stream",
     "text": [
      "Fitting 3 folds for each of 5 candidates, totalling 15 fits\n",
      "Cannot have number of splits n_splits=3 greater than the number of samples: n_samples=0.\n",
      "Fitting 3 folds for each of 5 candidates, totalling 15 fits\n"
     ]
    },
    {
     "name": "stderr",
     "output_type": "stream",
     "text": [
      " 93%|███████████████████████████▉  | 1804/1936 [2:39:34<04:33,  2.07s/it]"
     ]
    },
    {
     "name": "stdout",
     "output_type": "stream",
     "text": [
      "Fitting 3 folds for each of 5 candidates, totalling 15 fits\n"
     ]
    },
    {
     "name": "stderr",
     "output_type": "stream",
     "text": [
      " 93%|███████████████████████████▉  | 1805/1936 [2:39:37<04:45,  2.18s/it]"
     ]
    },
    {
     "name": "stdout",
     "output_type": "stream",
     "text": [
      "Fitting 3 folds for each of 5 candidates, totalling 15 fits\n",
      "Cannot have number of splits n_splits=3 greater than the number of samples: n_samples=0.\n",
      "Fitting 3 folds for each of 5 candidates, totalling 15 fits\n",
      "Cannot have number of splits n_splits=3 greater than the number of samples: n_samples=0.\n",
      "Fitting 3 folds for each of 5 candidates, totalling 15 fits\n",
      "Cannot have number of splits n_splits=3 greater than the number of samples: n_samples=0.\n",
      "Fitting 3 folds for each of 5 candidates, totalling 15 fits\n"
     ]
    },
    {
     "name": "stderr",
     "output_type": "stream",
     "text": [
      " 93%|████████████████████████████  | 1809/1936 [2:39:40<03:13,  1.53s/it]"
     ]
    },
    {
     "name": "stdout",
     "output_type": "stream",
     "text": [
      "Fitting 3 folds for each of 5 candidates, totalling 15 fits\n"
     ]
    },
    {
     "name": "stderr",
     "output_type": "stream",
     "text": [
      " 93%|████████████████████████████  | 1810/1936 [2:39:44<03:49,  1.82s/it]"
     ]
    },
    {
     "name": "stdout",
     "output_type": "stream",
     "text": [
      "Fitting 3 folds for each of 5 candidates, totalling 15 fits\n",
      "Cannot have number of splits n_splits=3 greater than the number of samples: n_samples=0.\n",
      "Fitting 3 folds for each of 5 candidates, totalling 15 fits\n"
     ]
    },
    {
     "name": "stderr",
     "output_type": "stream",
     "text": [
      " 94%|████████████████████████████  | 1812/1936 [2:39:47<03:44,  1.81s/it]"
     ]
    },
    {
     "name": "stdout",
     "output_type": "stream",
     "text": [
      "Fitting 3 folds for each of 5 candidates, totalling 15 fits\n"
     ]
    },
    {
     "name": "stderr",
     "output_type": "stream",
     "text": [
      " 94%|████████████████████████████  | 1813/1936 [2:39:51<04:29,  2.19s/it]"
     ]
    },
    {
     "name": "stdout",
     "output_type": "stream",
     "text": [
      "Fitting 3 folds for each of 5 candidates, totalling 15 fits\n",
      "Cannot have number of splits n_splits=3 greater than the number of samples: n_samples=0.\n",
      "Fitting 3 folds for each of 5 candidates, totalling 15 fits\n",
      "Cannot have number of splits n_splits=3 greater than the number of samples: n_samples=0.\n",
      "Fitting 3 folds for each of 5 candidates, totalling 15 fits\n",
      "Cannot have number of splits n_splits=3 greater than the number of samples: n_samples=0.\n",
      "Fitting 3 folds for each of 5 candidates, totalling 15 fits\n"
     ]
    },
    {
     "name": "stderr",
     "output_type": "stream",
     "text": [
      " 94%|████████████████████████████▏ | 1817/1936 [2:40:01<04:33,  2.30s/it]"
     ]
    },
    {
     "name": "stdout",
     "output_type": "stream",
     "text": [
      "Fitting 3 folds for each of 5 candidates, totalling 15 fits\n"
     ]
    },
    {
     "name": "stderr",
     "output_type": "stream",
     "text": [
      " 94%|████████████████████████████▏ | 1818/1936 [2:40:10<06:34,  3.34s/it]"
     ]
    },
    {
     "name": "stdout",
     "output_type": "stream",
     "text": [
      "Fitting 3 folds for each of 5 candidates, totalling 15 fits\n",
      "Cannot have number of splits n_splits=3 greater than the number of samples: n_samples=0.\n",
      "Fitting 3 folds for each of 5 candidates, totalling 15 fits\n"
     ]
    },
    {
     "name": "stderr",
     "output_type": "stream",
     "text": [
      " 94%|████████████████████████████▏ | 1820/1936 [2:40:19<07:05,  3.67s/it]"
     ]
    },
    {
     "name": "stdout",
     "output_type": "stream",
     "text": [
      "Fitting 3 folds for each of 5 candidates, totalling 15 fits\n"
     ]
    },
    {
     "name": "stderr",
     "output_type": "stream",
     "text": [
      " 94%|████████████████████████████▏ | 1821/1936 [2:40:28<08:46,  4.58s/it]"
     ]
    },
    {
     "name": "stdout",
     "output_type": "stream",
     "text": [
      "Fitting 3 folds for each of 5 candidates, totalling 15 fits\n",
      "Cannot have number of splits n_splits=3 greater than the number of samples: n_samples=0.\n",
      "Fitting 3 folds for each of 5 candidates, totalling 15 fits\n",
      "Cannot have number of splits n_splits=3 greater than the number of samples: n_samples=0.\n",
      "Fitting 3 folds for each of 5 candidates, totalling 15 fits\n",
      "Cannot have number of splits n_splits=3 greater than the number of samples: n_samples=0.\n",
      "Fitting 3 folds for each of 5 candidates, totalling 15 fits\n"
     ]
    },
    {
     "name": "stderr",
     "output_type": "stream",
     "text": [
      " 94%|████████████████████████████▎ | 1825/1936 [2:40:30<04:51,  2.62s/it]"
     ]
    },
    {
     "name": "stdout",
     "output_type": "stream",
     "text": [
      "Fitting 3 folds for each of 5 candidates, totalling 15 fits\n"
     ]
    },
    {
     "name": "stderr",
     "output_type": "stream",
     "text": [
      " 94%|████████████████████████████▎ | 1826/1936 [2:40:33<04:52,  2.66s/it]"
     ]
    },
    {
     "name": "stdout",
     "output_type": "stream",
     "text": [
      "Fitting 3 folds for each of 5 candidates, totalling 15 fits\n",
      "Cannot have number of splits n_splits=3 greater than the number of samples: n_samples=0.\n",
      "Fitting 3 folds for each of 5 candidates, totalling 15 fits\n"
     ]
    },
    {
     "name": "stderr",
     "output_type": "stream",
     "text": [
      " 94%|████████████████████████████▎ | 1828/1936 [2:40:36<04:06,  2.28s/it]"
     ]
    },
    {
     "name": "stdout",
     "output_type": "stream",
     "text": [
      "Fitting 3 folds for each of 5 candidates, totalling 15 fits\n"
     ]
    },
    {
     "name": "stderr",
     "output_type": "stream",
     "text": [
      " 94%|████████████████████████████▎ | 1829/1936 [2:40:39<04:14,  2.38s/it]"
     ]
    },
    {
     "name": "stdout",
     "output_type": "stream",
     "text": [
      "Fitting 3 folds for each of 5 candidates, totalling 15 fits\n",
      "Cannot have number of splits n_splits=3 greater than the number of samples: n_samples=0.\n",
      "Fitting 3 folds for each of 5 candidates, totalling 15 fits\n",
      "Cannot have number of splits n_splits=3 greater than the number of samples: n_samples=0.\n",
      "Fitting 3 folds for each of 5 candidates, totalling 15 fits\n",
      "Cannot have number of splits n_splits=3 greater than the number of samples: n_samples=0.\n",
      "Fitting 3 folds for each of 5 candidates, totalling 15 fits\n"
     ]
    },
    {
     "name": "stderr",
     "output_type": "stream",
     "text": [
      " 95%|████████████████████████████▍ | 1833/1936 [2:40:41<02:23,  1.39s/it]"
     ]
    },
    {
     "name": "stdout",
     "output_type": "stream",
     "text": [
      "Fitting 3 folds for each of 5 candidates, totalling 15 fits\n"
     ]
    },
    {
     "name": "stderr",
     "output_type": "stream",
     "text": [
      " 95%|████████████████████████████▍ | 1834/1936 [2:40:42<02:26,  1.43s/it]"
     ]
    },
    {
     "name": "stdout",
     "output_type": "stream",
     "text": [
      "Fitting 3 folds for each of 5 candidates, totalling 15 fits\n",
      "Cannot have number of splits n_splits=3 greater than the number of samples: n_samples=0.\n",
      "Fitting 3 folds for each of 5 candidates, totalling 15 fits\n"
     ]
    },
    {
     "name": "stderr",
     "output_type": "stream",
     "text": [
      " 95%|████████████████████████████▍ | 1836/1936 [2:40:44<02:05,  1.26s/it]"
     ]
    },
    {
     "name": "stdout",
     "output_type": "stream",
     "text": [
      "Fitting 3 folds for each of 5 candidates, totalling 15 fits\n"
     ]
    },
    {
     "name": "stderr",
     "output_type": "stream",
     "text": [
      " 95%|████████████████████████████▍ | 1837/1936 [2:40:46<02:12,  1.33s/it]"
     ]
    },
    {
     "name": "stdout",
     "output_type": "stream",
     "text": [
      "Fitting 3 folds for each of 5 candidates, totalling 15 fits\n",
      "Cannot have number of splits n_splits=3 greater than the number of samples: n_samples=0.\n",
      "Fitting 3 folds for each of 5 candidates, totalling 15 fits\n",
      "Cannot have number of splits n_splits=3 greater than the number of samples: n_samples=0.\n",
      "Fitting 3 folds for each of 5 candidates, totalling 15 fits\n",
      "Cannot have number of splits n_splits=3 greater than the number of samples: n_samples=0.\n",
      "Fitting 3 folds for each of 5 candidates, totalling 15 fits\n"
     ]
    },
    {
     "name": "stderr",
     "output_type": "stream",
     "text": [
      " 95%|████████████████████████████▌ | 1841/1936 [2:40:55<02:57,  1.87s/it]"
     ]
    },
    {
     "name": "stdout",
     "output_type": "stream",
     "text": [
      "Fitting 3 folds for each of 5 candidates, totalling 15 fits\n"
     ]
    },
    {
     "name": "stderr",
     "output_type": "stream",
     "text": [
      " 95%|████████████████████████████▌ | 1842/1936 [2:41:05<04:46,  3.05s/it]"
     ]
    },
    {
     "name": "stdout",
     "output_type": "stream",
     "text": [
      "Fitting 3 folds for each of 5 candidates, totalling 15 fits\n",
      "Cannot have number of splits n_splits=3 greater than the number of samples: n_samples=0.\n",
      "Fitting 3 folds for each of 5 candidates, totalling 15 fits\n"
     ]
    },
    {
     "name": "stderr",
     "output_type": "stream",
     "text": [
      " 95%|████████████████████████████▌ | 1844/1936 [2:41:14<05:26,  3.55s/it]"
     ]
    },
    {
     "name": "stdout",
     "output_type": "stream",
     "text": [
      "Fitting 3 folds for each of 5 candidates, totalling 15 fits\n"
     ]
    },
    {
     "name": "stderr",
     "output_type": "stream",
     "text": [
      " 95%|████████████████████████████▌ | 1845/1936 [2:41:23<06:54,  4.56s/it]"
     ]
    },
    {
     "name": "stdout",
     "output_type": "stream",
     "text": [
      "Fitting 3 folds for each of 5 candidates, totalling 15 fits\n",
      "Cannot have number of splits n_splits=3 greater than the number of samples: n_samples=0.\n",
      "Fitting 3 folds for each of 5 candidates, totalling 15 fits\n",
      "Cannot have number of splits n_splits=3 greater than the number of samples: n_samples=0.\n",
      "Fitting 3 folds for each of 5 candidates, totalling 15 fits\n",
      "Cannot have number of splits n_splits=3 greater than the number of samples: n_samples=0.\n",
      "Fitting 3 folds for each of 5 candidates, totalling 15 fits\n"
     ]
    },
    {
     "name": "stderr",
     "output_type": "stream",
     "text": [
      " 96%|████████████████████████████▋ | 1849/1936 [2:41:25<03:29,  2.40s/it]"
     ]
    },
    {
     "name": "stdout",
     "output_type": "stream",
     "text": [
      "Fitting 3 folds for each of 5 candidates, totalling 15 fits\n"
     ]
    },
    {
     "name": "stderr",
     "output_type": "stream",
     "text": [
      " 96%|████████████████████████████▋ | 1850/1936 [2:41:26<03:09,  2.21s/it]"
     ]
    },
    {
     "name": "stdout",
     "output_type": "stream",
     "text": [
      "Fitting 3 folds for each of 5 candidates, totalling 15 fits\n",
      "Cannot have number of splits n_splits=3 greater than the number of samples: n_samples=0.\n",
      "Fitting 3 folds for each of 5 candidates, totalling 15 fits\n"
     ]
    },
    {
     "name": "stderr",
     "output_type": "stream",
     "text": [
      " 96%|████████████████████████████▋ | 1852/1936 [2:41:27<02:23,  1.71s/it]"
     ]
    },
    {
     "name": "stdout",
     "output_type": "stream",
     "text": [
      "Fitting 3 folds for each of 5 candidates, totalling 15 fits\n"
     ]
    },
    {
     "name": "stderr",
     "output_type": "stream",
     "text": [
      " 96%|████████████████████████████▋ | 1853/1936 [2:41:28<02:13,  1.61s/it]"
     ]
    },
    {
     "name": "stdout",
     "output_type": "stream",
     "text": [
      "Fitting 3 folds for each of 5 candidates, totalling 15 fits\n",
      "Cannot have number of splits n_splits=3 greater than the number of samples: n_samples=0.\n",
      "Fitting 3 folds for each of 5 candidates, totalling 15 fits\n",
      "Cannot have number of splits n_splits=3 greater than the number of samples: n_samples=0.\n",
      "Fitting 3 folds for each of 5 candidates, totalling 15 fits\n",
      "Cannot have number of splits n_splits=3 greater than the number of samples: n_samples=0.\n",
      "Fitting 3 folds for each of 5 candidates, totalling 15 fits\n"
     ]
    },
    {
     "name": "stderr",
     "output_type": "stream",
     "text": [
      " 96%|████████████████████████████▊ | 1857/1936 [2:41:30<01:19,  1.01s/it]"
     ]
    },
    {
     "name": "stdout",
     "output_type": "stream",
     "text": [
      "Fitting 3 folds for each of 5 candidates, totalling 15 fits\n"
     ]
    },
    {
     "name": "stderr",
     "output_type": "stream",
     "text": [
      " 96%|████████████████████████████▊ | 1858/1936 [2:41:31<01:26,  1.10s/it]"
     ]
    },
    {
     "name": "stdout",
     "output_type": "stream",
     "text": [
      "Fitting 3 folds for each of 5 candidates, totalling 15 fits\n",
      "Cannot have number of splits n_splits=3 greater than the number of samples: n_samples=0.\n",
      "Fitting 3 folds for each of 5 candidates, totalling 15 fits\n"
     ]
    },
    {
     "name": "stderr",
     "output_type": "stream",
     "text": [
      " 96%|████████████████████████████▊ | 1860/1936 [2:41:33<01:17,  1.02s/it]"
     ]
    },
    {
     "name": "stdout",
     "output_type": "stream",
     "text": [
      "Fitting 3 folds for each of 5 candidates, totalling 15 fits\n"
     ]
    },
    {
     "name": "stderr",
     "output_type": "stream",
     "text": [
      " 96%|████████████████████████████▊ | 1861/1936 [2:41:34<01:24,  1.12s/it]"
     ]
    },
    {
     "name": "stdout",
     "output_type": "stream",
     "text": [
      "Fitting 3 folds for each of 5 candidates, totalling 15 fits\n",
      "Cannot have number of splits n_splits=3 greater than the number of samples: n_samples=0.\n",
      "Fitting 3 folds for each of 5 candidates, totalling 15 fits\n",
      "Cannot have number of splits n_splits=3 greater than the number of samples: n_samples=0.\n",
      "Fitting 3 folds for each of 5 candidates, totalling 15 fits\n",
      "Cannot have number of splits n_splits=3 greater than the number of samples: n_samples=0.\n",
      "Fitting 3 folds for each of 5 candidates, totalling 15 fits\n"
     ]
    },
    {
     "name": "stderr",
     "output_type": "stream",
     "text": [
      " 96%|████████████████████████████▉ | 1865/1936 [2:41:36<00:50,  1.42it/s]"
     ]
    },
    {
     "name": "stdout",
     "output_type": "stream",
     "text": [
      "Fitting 3 folds for each of 5 candidates, totalling 15 fits\n"
     ]
    },
    {
     "name": "stderr",
     "output_type": "stream",
     "text": [
      " 96%|████████████████████████████▉ | 1866/1936 [2:41:37<00:59,  1.18it/s]"
     ]
    },
    {
     "name": "stdout",
     "output_type": "stream",
     "text": [
      "Fitting 3 folds for each of 5 candidates, totalling 15 fits\n",
      "Cannot have number of splits n_splits=3 greater than the number of samples: n_samples=0.\n",
      "Fitting 3 folds for each of 5 candidates, totalling 15 fits\n"
     ]
    },
    {
     "name": "stderr",
     "output_type": "stream",
     "text": [
      " 96%|████████████████████████████▉ | 1868/1936 [2:41:38<00:52,  1.30it/s]"
     ]
    },
    {
     "name": "stdout",
     "output_type": "stream",
     "text": [
      "Fitting 3 folds for each of 5 candidates, totalling 15 fits\n"
     ]
    },
    {
     "name": "stderr",
     "output_type": "stream",
     "text": [
      " 97%|████████████████████████████▉ | 1869/1936 [2:41:40<00:56,  1.18it/s]"
     ]
    },
    {
     "name": "stdout",
     "output_type": "stream",
     "text": [
      "Fitting 3 folds for each of 5 candidates, totalling 15 fits\n",
      "Cannot have number of splits n_splits=3 greater than the number of samples: n_samples=0.\n",
      "Fitting 3 folds for each of 5 candidates, totalling 15 fits\n",
      "Cannot have number of splits n_splits=3 greater than the number of samples: n_samples=0.\n",
      "Fitting 3 folds for each of 5 candidates, totalling 15 fits\n",
      "Cannot have number of splits n_splits=3 greater than the number of samples: n_samples=0.\n",
      "Fitting 3 folds for each of 5 candidates, totalling 15 fits\n"
     ]
    },
    {
     "name": "stderr",
     "output_type": "stream",
     "text": [
      " 97%|█████████████████████████████ | 1873/1936 [2:41:44<00:57,  1.10it/s]"
     ]
    },
    {
     "name": "stdout",
     "output_type": "stream",
     "text": [
      "Fitting 3 folds for each of 5 candidates, totalling 15 fits\n"
     ]
    },
    {
     "name": "stderr",
     "output_type": "stream",
     "text": [
      " 97%|█████████████████████████████ | 1874/1936 [2:41:48<01:26,  1.39s/it]"
     ]
    },
    {
     "name": "stdout",
     "output_type": "stream",
     "text": [
      "Fitting 3 folds for each of 5 candidates, totalling 15 fits\n",
      "Cannot have number of splits n_splits=3 greater than the number of samples: n_samples=0.\n",
      "Fitting 3 folds for each of 5 candidates, totalling 15 fits\n"
     ]
    },
    {
     "name": "stderr",
     "output_type": "stream",
     "text": [
      " 97%|█████████████████████████████ | 1876/1936 [2:41:52<01:38,  1.64s/it]"
     ]
    },
    {
     "name": "stdout",
     "output_type": "stream",
     "text": [
      "Fitting 3 folds for each of 5 candidates, totalling 15 fits\n"
     ]
    },
    {
     "name": "stderr",
     "output_type": "stream",
     "text": [
      " 97%|█████████████████████████████ | 1877/1936 [2:41:56<02:04,  2.11s/it]"
     ]
    },
    {
     "name": "stdout",
     "output_type": "stream",
     "text": [
      "Fitting 3 folds for each of 5 candidates, totalling 15 fits\n",
      "Cannot have number of splits n_splits=3 greater than the number of samples: n_samples=0.\n",
      "Fitting 3 folds for each of 5 candidates, totalling 15 fits\n",
      "Cannot have number of splits n_splits=3 greater than the number of samples: n_samples=0.\n",
      "Fitting 3 folds for each of 5 candidates, totalling 15 fits\n",
      "Cannot have number of splits n_splits=3 greater than the number of samples: n_samples=0.\n",
      "Fitting 3 folds for each of 5 candidates, totalling 15 fits\n"
     ]
    },
    {
     "name": "stderr",
     "output_type": "stream",
     "text": [
      " 97%|█████████████████████████████▏| 1881/1936 [2:41:59<01:17,  1.41s/it]"
     ]
    },
    {
     "name": "stdout",
     "output_type": "stream",
     "text": [
      "Fitting 3 folds for each of 5 candidates, totalling 15 fits\n"
     ]
    },
    {
     "name": "stderr",
     "output_type": "stream",
     "text": [
      " 97%|█████████████████████████████▏| 1882/1936 [2:42:02<01:28,  1.64s/it]"
     ]
    },
    {
     "name": "stdout",
     "output_type": "stream",
     "text": [
      "Fitting 3 folds for each of 5 candidates, totalling 15 fits\n",
      "Cannot have number of splits n_splits=3 greater than the number of samples: n_samples=0.\n",
      "Fitting 3 folds for each of 5 candidates, totalling 15 fits\n"
     ]
    },
    {
     "name": "stderr",
     "output_type": "stream",
     "text": [
      " 97%|█████████████████████████████▏| 1884/1936 [2:42:05<01:22,  1.59s/it]"
     ]
    },
    {
     "name": "stdout",
     "output_type": "stream",
     "text": [
      "Fitting 3 folds for each of 5 candidates, totalling 15 fits\n"
     ]
    },
    {
     "name": "stderr",
     "output_type": "stream",
     "text": [
      " 97%|█████████████████████████████▏| 1885/1936 [2:42:08<01:33,  1.82s/it]"
     ]
    },
    {
     "name": "stdout",
     "output_type": "stream",
     "text": [
      "Fitting 3 folds for each of 5 candidates, totalling 15 fits\n",
      "Cannot have number of splits n_splits=3 greater than the number of samples: n_samples=0.\n",
      "Fitting 3 folds for each of 5 candidates, totalling 15 fits\n",
      "Cannot have number of splits n_splits=3 greater than the number of samples: n_samples=0.\n",
      "Fitting 3 folds for each of 5 candidates, totalling 15 fits\n",
      "Cannot have number of splits n_splits=3 greater than the number of samples: n_samples=0.\n",
      "Fitting 3 folds for each of 5 candidates, totalling 15 fits\n"
     ]
    },
    {
     "name": "stderr",
     "output_type": "stream",
     "text": [
      " 98%|█████████████████████████████▎| 1889/1936 [2:42:09<00:49,  1.06s/it]"
     ]
    },
    {
     "name": "stdout",
     "output_type": "stream",
     "text": [
      "Fitting 3 folds for each of 5 candidates, totalling 15 fits\n"
     ]
    },
    {
     "name": "stderr",
     "output_type": "stream",
     "text": [
      " 98%|█████████████████████████████▎| 1890/1936 [2:42:10<00:49,  1.07s/it]"
     ]
    },
    {
     "name": "stdout",
     "output_type": "stream",
     "text": [
      "Fitting 3 folds for each of 5 candidates, totalling 15 fits\n",
      "Cannot have number of splits n_splits=3 greater than the number of samples: n_samples=0.\n",
      "Fitting 3 folds for each of 5 candidates, totalling 15 fits\n"
     ]
    },
    {
     "name": "stderr",
     "output_type": "stream",
     "text": [
      " 98%|█████████████████████████████▎| 1892/1936 [2:42:12<00:40,  1.08it/s]"
     ]
    },
    {
     "name": "stdout",
     "output_type": "stream",
     "text": [
      "Fitting 3 folds for each of 5 candidates, totalling 15 fits\n"
     ]
    },
    {
     "name": "stderr",
     "output_type": "stream",
     "text": [
      " 98%|█████████████████████████████▎| 1893/1936 [2:42:13<00:41,  1.03it/s]"
     ]
    },
    {
     "name": "stdout",
     "output_type": "stream",
     "text": [
      "Fitting 3 folds for each of 5 candidates, totalling 15 fits\n",
      "Cannot have number of splits n_splits=3 greater than the number of samples: n_samples=0.\n",
      "Fitting 3 folds for each of 5 candidates, totalling 15 fits\n",
      "Cannot have number of splits n_splits=3 greater than the number of samples: n_samples=0.\n",
      "Fitting 3 folds for each of 5 candidates, totalling 15 fits\n",
      "Cannot have number of splits n_splits=3 greater than the number of samples: n_samples=0.\n",
      "Fitting 3 folds for each of 5 candidates, totalling 15 fits\n"
     ]
    },
    {
     "name": "stderr",
     "output_type": "stream",
     "text": [
      " 98%|█████████████████████████████▍| 1897/1936 [2:42:14<00:24,  1.58it/s]"
     ]
    },
    {
     "name": "stdout",
     "output_type": "stream",
     "text": [
      "Fitting 3 folds for each of 5 candidates, totalling 15 fits\n"
     ]
    },
    {
     "name": "stderr",
     "output_type": "stream",
     "text": [
      " 98%|█████████████████████████████▍| 1898/1936 [2:42:15<00:27,  1.38it/s]"
     ]
    },
    {
     "name": "stdout",
     "output_type": "stream",
     "text": [
      "Fitting 3 folds for each of 5 candidates, totalling 15 fits\n",
      "Cannot have number of splits n_splits=3 greater than the number of samples: n_samples=0.\n",
      "Fitting 3 folds for each of 5 candidates, totalling 15 fits\n"
     ]
    },
    {
     "name": "stderr",
     "output_type": "stream",
     "text": [
      " 98%|█████████████████████████████▍| 1900/1936 [2:42:16<00:24,  1.46it/s]"
     ]
    },
    {
     "name": "stdout",
     "output_type": "stream",
     "text": [
      "Fitting 3 folds for each of 5 candidates, totalling 15 fits\n"
     ]
    },
    {
     "name": "stderr",
     "output_type": "stream",
     "text": [
      " 98%|█████████████████████████████▍| 1901/1936 [2:42:17<00:26,  1.31it/s]"
     ]
    },
    {
     "name": "stdout",
     "output_type": "stream",
     "text": [
      "Fitting 3 folds for each of 5 candidates, totalling 15 fits\n",
      "Cannot have number of splits n_splits=3 greater than the number of samples: n_samples=0.\n",
      "Fitting 3 folds for each of 5 candidates, totalling 15 fits\n",
      "Cannot have number of splits n_splits=3 greater than the number of samples: n_samples=0.\n",
      "Fitting 3 folds for each of 5 candidates, totalling 15 fits\n",
      "Cannot have number of splits n_splits=3 greater than the number of samples: n_samples=0.\n",
      "Fitting 3 folds for each of 5 candidates, totalling 15 fits\n"
     ]
    },
    {
     "name": "stderr",
     "output_type": "stream",
     "text": [
      " 98%|█████████████████████████████▌| 1905/1936 [2:42:19<00:16,  1.89it/s]"
     ]
    },
    {
     "name": "stdout",
     "output_type": "stream",
     "text": [
      "Fitting 3 folds for each of 5 candidates, totalling 15 fits\n"
     ]
    },
    {
     "name": "stderr",
     "output_type": "stream",
     "text": [
      " 98%|█████████████████████████████▌| 1906/1936 [2:42:20<00:18,  1.60it/s]"
     ]
    },
    {
     "name": "stdout",
     "output_type": "stream",
     "text": [
      "Fitting 3 folds for each of 5 candidates, totalling 15 fits\n",
      "Cannot have number of splits n_splits=3 greater than the number of samples: n_samples=0.\n",
      "Fitting 3 folds for each of 5 candidates, totalling 15 fits\n"
     ]
    },
    {
     "name": "stderr",
     "output_type": "stream",
     "text": [
      " 99%|█████████████████████████████▌| 1908/1936 [2:42:21<00:17,  1.64it/s]"
     ]
    },
    {
     "name": "stdout",
     "output_type": "stream",
     "text": [
      "Fitting 3 folds for each of 5 candidates, totalling 15 fits\n"
     ]
    },
    {
     "name": "stderr",
     "output_type": "stream",
     "text": [
      " 99%|█████████████████████████████▌| 1909/1936 [2:42:22<00:18,  1.43it/s]"
     ]
    },
    {
     "name": "stdout",
     "output_type": "stream",
     "text": [
      "Fitting 3 folds for each of 5 candidates, totalling 15 fits\n",
      "Cannot have number of splits n_splits=3 greater than the number of samples: n_samples=0.\n",
      "Fitting 3 folds for each of 5 candidates, totalling 15 fits\n",
      "Cannot have number of splits n_splits=3 greater than the number of samples: n_samples=0.\n",
      "Fitting 3 folds for each of 5 candidates, totalling 15 fits\n",
      "Cannot have number of splits n_splits=3 greater than the number of samples: n_samples=0.\n",
      "Fitting 3 folds for each of 5 candidates, totalling 15 fits\n"
     ]
    },
    {
     "name": "stderr",
     "output_type": "stream",
     "text": [
      " 99%|█████████████████████████████▋| 1913/1936 [2:42:26<00:18,  1.23it/s]"
     ]
    },
    {
     "name": "stdout",
     "output_type": "stream",
     "text": [
      "Fitting 3 folds for each of 5 candidates, totalling 15 fits\n"
     ]
    },
    {
     "name": "stderr",
     "output_type": "stream",
     "text": [
      " 99%|█████████████████████████████▋| 1914/1936 [2:42:30<00:27,  1.26s/it]"
     ]
    },
    {
     "name": "stdout",
     "output_type": "stream",
     "text": [
      "Fitting 3 folds for each of 5 candidates, totalling 15 fits\n",
      "Cannot have number of splits n_splits=3 greater than the number of samples: n_samples=0.\n",
      "Fitting 3 folds for each of 5 candidates, totalling 15 fits\n"
     ]
    },
    {
     "name": "stderr",
     "output_type": "stream",
     "text": [
      " 99%|█████████████████████████████▋| 1916/1936 [2:42:33<00:29,  1.46s/it]"
     ]
    },
    {
     "name": "stdout",
     "output_type": "stream",
     "text": [
      "Fitting 3 folds for each of 5 candidates, totalling 15 fits\n"
     ]
    },
    {
     "name": "stderr",
     "output_type": "stream",
     "text": [
      " 99%|█████████████████████████████▋| 1917/1936 [2:42:37<00:36,  1.90s/it]"
     ]
    },
    {
     "name": "stdout",
     "output_type": "stream",
     "text": [
      "Fitting 3 folds for each of 5 candidates, totalling 15 fits\n",
      "Cannot have number of splits n_splits=3 greater than the number of samples: n_samples=0.\n",
      "Fitting 3 folds for each of 5 candidates, totalling 15 fits\n",
      "Cannot have number of splits n_splits=3 greater than the number of samples: n_samples=0.\n",
      "Fitting 3 folds for each of 5 candidates, totalling 15 fits\n",
      "Cannot have number of splits n_splits=3 greater than the number of samples: n_samples=0.\n",
      "Fitting 3 folds for each of 5 candidates, totalling 15 fits\n"
     ]
    },
    {
     "name": "stderr",
     "output_type": "stream",
     "text": [
      " 99%|█████████████████████████████▊| 1921/1936 [2:42:39<00:17,  1.16s/it]"
     ]
    },
    {
     "name": "stdout",
     "output_type": "stream",
     "text": [
      "Fitting 3 folds for each of 5 candidates, totalling 15 fits\n"
     ]
    },
    {
     "name": "stderr",
     "output_type": "stream",
     "text": [
      " 99%|█████████████████████████████▊| 1922/1936 [2:42:41<00:17,  1.25s/it]"
     ]
    },
    {
     "name": "stdout",
     "output_type": "stream",
     "text": [
      "Fitting 3 folds for each of 5 candidates, totalling 15 fits\n",
      "Cannot have number of splits n_splits=3 greater than the number of samples: n_samples=0.\n",
      "Fitting 3 folds for each of 5 candidates, totalling 15 fits\n"
     ]
    },
    {
     "name": "stderr",
     "output_type": "stream",
     "text": [
      " 99%|█████████████████████████████▊| 1924/1936 [2:42:43<00:13,  1.14s/it]"
     ]
    },
    {
     "name": "stdout",
     "output_type": "stream",
     "text": [
      "Fitting 3 folds for each of 5 candidates, totalling 15 fits\n"
     ]
    },
    {
     "name": "stderr",
     "output_type": "stream",
     "text": [
      " 99%|█████████████████████████████▊| 1925/1936 [2:42:44<00:13,  1.24s/it]"
     ]
    },
    {
     "name": "stdout",
     "output_type": "stream",
     "text": [
      "Fitting 3 folds for each of 5 candidates, totalling 15 fits\n",
      "Cannot have number of splits n_splits=3 greater than the number of samples: n_samples=0.\n",
      "Fitting 3 folds for each of 5 candidates, totalling 15 fits\n",
      "Cannot have number of splits n_splits=3 greater than the number of samples: n_samples=0.\n",
      "Fitting 3 folds for each of 5 candidates, totalling 15 fits\n",
      "Cannot have number of splits n_splits=3 greater than the number of samples: n_samples=0.\n",
      "Fitting 3 folds for each of 5 candidates, totalling 15 fits\n"
     ]
    },
    {
     "name": "stderr",
     "output_type": "stream",
     "text": [
      "100%|█████████████████████████████▉| 1929/1936 [2:42:45<00:05,  1.30it/s]"
     ]
    },
    {
     "name": "stdout",
     "output_type": "stream",
     "text": [
      "Fitting 3 folds for each of 5 candidates, totalling 15 fits\n"
     ]
    },
    {
     "name": "stderr",
     "output_type": "stream",
     "text": [
      "100%|█████████████████████████████▉| 1930/1936 [2:42:47<00:05,  1.20it/s]"
     ]
    },
    {
     "name": "stdout",
     "output_type": "stream",
     "text": [
      "Fitting 3 folds for each of 5 candidates, totalling 15 fits\n",
      "Cannot have number of splits n_splits=3 greater than the number of samples: n_samples=0.\n",
      "Fitting 3 folds for each of 5 candidates, totalling 15 fits\n"
     ]
    },
    {
     "name": "stderr",
     "output_type": "stream",
     "text": [
      "100%|█████████████████████████████▉| 1932/1936 [2:42:48<00:03,  1.31it/s]"
     ]
    },
    {
     "name": "stdout",
     "output_type": "stream",
     "text": [
      "Fitting 3 folds for each of 5 candidates, totalling 15 fits\n"
     ]
    },
    {
     "name": "stderr",
     "output_type": "stream",
     "text": [
      "100%|██████████████████████████████| 1936/1936 [2:42:49<00:00,  5.05s/it]"
     ]
    },
    {
     "name": "stdout",
     "output_type": "stream",
     "text": [
      "Fitting 3 folds for each of 5 candidates, totalling 15 fits\n",
      "Cannot have number of splits n_splits=3 greater than the number of samples: n_samples=0.\n",
      "Fitting 3 folds for each of 5 candidates, totalling 15 fits\n",
      "Cannot have number of splits n_splits=3 greater than the number of samples: n_samples=0.\n",
      "Fitting 3 folds for each of 5 candidates, totalling 15 fits\n",
      "Cannot have number of splits n_splits=3 greater than the number of samples: n_samples=0.\n"
     ]
    },
    {
     "name": "stderr",
     "output_type": "stream",
     "text": [
      "\n"
     ]
    }
   ],
   "source": [
    "TRAIN_RATIO = 0.9\n",
    "AGG_LEVEL = 2\n",
    "\n",
    "results = {}\n",
    "\n",
    "agg_data = data_aggregation(data, AGG_LEVEL)\n",
    "feature_extractor = FeatureExtractor(agg_data)\n",
    "features_dict = feature_extractor.extract()\n",
    "\n",
    "num_features = features_dict['numeric']\n",
    "cat_features = categorical_features_encoding(features_dict['categorical'])\n",
    "features = num_features.merge(cat_features, on=['date', 'item_nbr', 'store_nbr'])\n",
    "\n",
    "rmsse_list = []\n",
    "for sample in tqdm(\n",
    "    samples,\n",
    "    bar_format='{l_bar}{bar:30}{r_bar}{bar:-30b}'\n",
    "):\n",
    "    item_nbr, store_nbr = sample\n",
    "    try:\n",
    "        item_mask = features['item_nbr'] == item_nbr\n",
    "        store_mask = features['store_nbr'] == store_nbr\n",
    "\n",
    "        df = features[item_mask & store_nbr]\n",
    "        df_target = df[['unit_sales']]\n",
    "        date_list = df['date'].tolist()\n",
    "        df_features = df.drop(columns=['date', 'item_nbr', 'store_nbr', 'unit_sales'])\n",
    "\n",
    "        train_size = int(TRAIN_RATIO*len(df_features))\n",
    "\n",
    "        X = df_features.values\n",
    "        y = df_target.values\n",
    "\n",
    "        X_train, y_train = X[:train_size], y[:train_size]\n",
    "        X_test, y_test = X[train_size:], y[train_size:]\n",
    "\n",
    "        reg = LGBMRegressor()\n",
    "\n",
    "        random_grid_search = RandomizedSearchCV(\n",
    "            estimator=reg,\n",
    "            param_distributions=search_grid,\n",
    "            n_iter=5,\n",
    "            cv=3,\n",
    "            verbose=2,\n",
    "            random_state=42,\n",
    "            n_jobs=-1)\n",
    "\n",
    "        random_grid_search.fit(X_train, y_train)\n",
    "\n",
    "        y_pred = random_grid_search.predict(X_test)\n",
    "        y_pred = y_pred.reshape(-1, 1)\n",
    "\n",
    "        df_test = df.iloc[train_size:]\n",
    "        df_pred = df_test[['date', 'item_nbr', 'store_nbr']]\n",
    "        df_pred['unit_sales_pred'] = y_pred\n",
    "        df_pred.to_csv(f'results/predictions/{item_nbr}_{store_nbr}.csv', index=False)\n",
    "    except Exception as e:\n",
    "        print(e)"
   ]
  },
  {
   "cell_type": "code",
   "execution_count": 15,
   "id": "530653c4-cb1f-4186-8d80-d650ad2fd248",
   "metadata": {},
   "outputs": [],
   "source": [
    "PREDICTIONS_PATH = 'results/predictions'"
   ]
  },
  {
   "cell_type": "code",
   "execution_count": 19,
   "id": "47e2b1b8-c2bb-4833-b906-ffb56322dda3",
   "metadata": {},
   "outputs": [],
   "source": [
    "df_pred = pd.DataFrame()\n",
    "for file in os.listdir(PREDICTIONS_PATH):\n",
    "    pred = pd.read_csv(os.path.join(PREDICTIONS_PATH, file))\n",
    "    df_pred = pd.concat([df_pred, pred])"
   ]
  },
  {
   "cell_type": "code",
   "execution_count": 22,
   "id": "1216b93b-b936-4664-9281-a85dc0952422",
   "metadata": {},
   "outputs": [],
   "source": [
    "df_pred.to_csv('results/df_pred.csv', index=False)"
   ]
  },
  {
   "cell_type": "code",
   "execution_count": null,
   "id": "6690dd43-2ea4-4ef5-b8f3-033360f1a80a",
   "metadata": {},
   "outputs": [],
   "source": []
  }
 ],
 "metadata": {
  "kernelspec": {
   "display_name": "Python 3",
   "language": "python",
   "name": "python3"
  },
  "language_info": {
   "codemirror_mode": {
    "name": "ipython",
    "version": 3
   },
   "file_extension": ".py",
   "mimetype": "text/x-python",
   "name": "python",
   "nbconvert_exporter": "python",
   "pygments_lexer": "ipython3",
   "version": "3.8.8"
  }
 },
 "nbformat": 4,
 "nbformat_minor": 5
}
