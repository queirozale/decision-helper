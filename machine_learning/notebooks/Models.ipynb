{
 "cells": [
  {
   "cell_type": "code",
   "execution_count": 2,
   "id": "fd6e846c-d25c-4f6c-a0eb-9deb0b44d101",
   "metadata": {},
   "outputs": [],
   "source": [
    "import os\n",
    "from datetime import datetime\n",
    "\n",
    "import pandas as pd\n",
    "import numpy as np\n",
    "\n",
    "from xgboost import XGBRegressor\n",
    "\n",
    "from sklearn.utils import all_estimators\n",
    "from sklearn.metrics import mean_absolute_error\n",
    "from sklearn.model_selection import RandomizedSearchCV\n",
    "\n",
    "from keras.models import Sequential\n",
    "from keras.layers import LSTM, Dense\n",
    "\n",
    "import sys\n",
    "sys.path.insert(0, \"../scripts\")\n",
    "\n",
    "from feature_extractor import FeatureExtractor\n",
    "\n",
    "import warnings\n",
    "warnings.filterwarnings('ignore')"
   ]
  },
  {
   "cell_type": "code",
   "execution_count": 3,
   "id": "1f7cbeb3-7633-4a36-adb2-05b2218c9d8f",
   "metadata": {},
   "outputs": [],
   "source": [
    "DATA_PATH = '../data/raw/pinheiro'\n",
    "\n",
    "df_sales = pd.read_csv(os.path.join(DATA_PATH, 'sales.csv'))\n",
    "df_sales = df_sales.groupby(['date', 'product_code'])['unit_sales'].mean().reset_index()\n",
    "df_sales = df_sales[df_sales['date'] < '2019-12-01']\n",
    "\n",
    "df = df_sales[df_sales['product_code'] == 104649]\n",
    "df.rename(columns={\n",
    "    'unit_sales': 'y'\n",
    "}, inplace=True)\n",
    "df['baseline'] = df['y'].rolling(7).mean()"
   ]
  },
  {
   "cell_type": "code",
   "execution_count": 4,
   "id": "814549ec-9090-4c93-bbd7-76db7f35ea11",
   "metadata": {},
   "outputs": [],
   "source": [
    "start_date = datetime(2018, 1, 1)\n",
    "\n",
    "fe = FeatureExtractor(df, start_date)\n",
    "fe.extract(n_days=6, n_weeks=7)\n",
    "features = fe.features"
   ]
  },
  {
   "cell_type": "code",
   "execution_count": 5,
   "id": "efb3db5a-5e10-45d6-b83d-a49779d5b5a7",
   "metadata": {},
   "outputs": [],
   "source": [
    "df_on_period = df[df['date'].isin(fe.date_list)]\n",
    "\n",
    "X = features['autoregressive'].values\n",
    "y = df[df['date'].isin(fe.date_list)]['y'].values.reshape(-1, 1)\n",
    "y_baseline = df_on_period['baseline'].values.reshape(-1, 1)"
   ]
  },
  {
   "cell_type": "code",
   "execution_count": 6,
   "id": "ce510591-f329-4253-9064-55460573f61a",
   "metadata": {},
   "outputs": [],
   "source": [
    "train_ratio = 0.8\n",
    "train_size = int(train_ratio*len(df_on_period))"
   ]
  },
  {
   "cell_type": "code",
   "execution_count": 7,
   "id": "33bf9249-7811-467f-9e25-42d5ad4280ad",
   "metadata": {},
   "outputs": [],
   "source": [
    "X_train, y_train = X[:train_size], y[:train_size]\n",
    "X_test, y_test = X[train_size:], y[train_size:]\n",
    "\n",
    "y_baseline_train = y_baseline[train_size:]\n",
    "y_baseline_test = y_baseline[train_size:]"
   ]
  },
  {
   "cell_type": "code",
   "execution_count": 8,
   "id": "4f82ffba-dbc1-4d20-ad03-4e34ee3ae1ed",
   "metadata": {},
   "outputs": [
    {
     "data": {
      "text/plain": [
       "((559, 13), (559, 1))"
      ]
     },
     "execution_count": 8,
     "metadata": {},
     "output_type": "execute_result"
    }
   ],
   "source": [
    "X_train.shape, y_train.shape"
   ]
  },
  {
   "cell_type": "code",
   "execution_count": 9,
   "id": "70ec7be8-a811-4168-abbe-389fb072c193",
   "metadata": {},
   "outputs": [
    {
     "data": {
      "text/plain": [
       "((140, 13), (140, 1))"
      ]
     },
     "execution_count": 9,
     "metadata": {},
     "output_type": "execute_result"
    }
   ],
   "source": [
    "X_test.shape, y_test.shape"
   ]
  },
  {
   "cell_type": "code",
   "execution_count": 10,
   "id": "0fdbf245-9a62-47d4-92bd-a3915fc8c1e3",
   "metadata": {},
   "outputs": [],
   "source": [
    "n_steps = X.shape[1]\n",
    "n_features = y.shape[1]"
   ]
  },
  {
   "cell_type": "code",
   "execution_count": 11,
   "id": "5be3b003-eca6-4ea6-919e-3e4b6b2892a0",
   "metadata": {},
   "outputs": [],
   "source": [
    "def get_LSTM(n_steps, n_features):\n",
    "    model = Sequential()\n",
    "    model.add(LSTM(50, activation='relu', input_shape=(n_steps, n_features)))\n",
    "    model.add(Dense(1))\n",
    "    model.compile(optimizer='adam', loss='mse')\n",
    "            \n",
    "    return {\n",
    "        'LSTM': model\n",
    "    }"
   ]
  },
  {
   "cell_type": "code",
   "execution_count": 12,
   "id": "d41863d4-397f-4da9-8878-6b2a504994e1",
   "metadata": {
    "tags": []
   },
   "outputs": [
    {
     "name": "stdout",
     "output_type": "stream",
     "text": [
      "__init__() missing 1 required positional argument: 'estimator'\n",
      "__init__() missing 1 required positional argument: 'base_estimator'\n",
      "__init__() missing 1 required positional argument: 'estimators'\n",
      "__init__() missing 1 required positional argument: 'estimators'\n"
     ]
    }
   ],
   "source": [
    "# Scikit-learn models\n",
    "estimators = all_estimators(type_filter='regressor')\n",
    "\n",
    "all_regs = {}\n",
    "for name, RegressorClass in estimators:\n",
    "    try:\n",
    "#         print('Appending', name)\n",
    "        reg = RegressorClass()\n",
    "        all_regs[name] = reg\n",
    "    except Exception as e:\n",
    "        print(e)\n",
    "        \n",
    "        \n",
    "all_regs.update({\n",
    "    XGBRegressor.__name__: XGBRegressor()\n",
    "})\n",
    "\n",
    "# print('Appending', XGBRegressor.__name__)\n",
    "\n",
    "all_regs.update(get_LSTM(n_steps, n_features))\n",
    "# print('Appending', 'LSTM')"
   ]
  },
  {
   "cell_type": "code",
   "execution_count": 13,
   "id": "aba1eafe-3f64-4657-926c-ad45905529cf",
   "metadata": {},
   "outputs": [],
   "source": [
    "def eval_pred(y, y_pred):\n",
    "    return mean_absolute_error(y, y_pred)/np.mean(y)"
   ]
  },
  {
   "cell_type": "code",
   "execution_count": 33,
   "id": "416bef7f-358f-4c65-982b-ecf6289351d0",
   "metadata": {
    "tags": []
   },
   "outputs": [
    {
     "name": "stdout",
     "output_type": "stream",
     "text": [
      "Error on model GammaRegressor\n",
      "Error on model IsotonicRegression\n",
      "Error on model RadiusNeighborsRegressor\n",
      "18/18 [==============================] - 1s 5ms/step - loss: 1186534.2500\n"
     ]
    }
   ],
   "source": [
    "performances = {}\n",
    "for model_name, model in all_regs.items():\n",
    "    try:\n",
    "        model.fit(X_train, y_train)\n",
    "        y_pred = model.predict(X_test)\n",
    "        performances[model_name] = eval_pred(y_test, y_pred)\n",
    "    except:\n",
    "        print(f\"Error on model {model_name}\")"
   ]
  },
  {
   "cell_type": "markdown",
   "id": "ecee85bb-99d8-4bf8-a59b-8bb441060ad5",
   "metadata": {},
   "source": [
    "---"
   ]
  },
  {
   "cell_type": "markdown",
   "id": "cf5fbfeb-7202-4e04-9caa-1904ec8a1131",
   "metadata": {},
   "source": [
    "## GridSearch"
   ]
  },
  {
   "cell_type": "code",
   "execution_count": 35,
   "id": "8c23ebf7-9047-4ee2-8a08-b34c1b2e7a77",
   "metadata": {},
   "outputs": [],
   "source": [
    "# Number of trees in Random Forest\n",
    "rf_n_estimators = [int(x) for x in np.linspace(200, 1000, 5)]\n",
    "rf_n_estimators.append(1500)\n",
    "rf_n_estimators.append(2000)\n",
    "\n",
    "# Maximum number of levels in tree\n",
    "rf_max_depth = [int(x) for x in np.linspace(5, 55, 6)]\n",
    "# Add the default as a possible value\n",
    "rf_max_depth.append(None)\n",
    "\n",
    "# Criterion to split on\n",
    "rf_criterion = ['mse', 'mae']\n",
    "\n",
    "# Method of selecting samples for training each tree\n",
    "rf_bootstrap = [True, False]\n",
    "\n",
    "# Create the grid\n",
    "rf_grid = {'n_estimators': rf_n_estimators,\n",
    "           'max_depth': rf_max_depth,\n",
    "           'criterion': rf_criterion,\n",
    "           'bootstrap': rf_bootstrap}"
   ]
  },
  {
   "cell_type": "code",
   "execution_count": 36,
   "id": "33d97b1c-ebfe-4bdf-8229-1027c6a9756a",
   "metadata": {},
   "outputs": [
    {
     "data": {
      "text/plain": [
       "{'n_estimators': [200, 400, 600, 800, 1000, 1500, 2000],\n",
       " 'max_depth': [5, 15, 25, 35, 45, 55, None],\n",
       " 'criterion': ['mse', 'mae'],\n",
       " 'bootstrap': [True, False]}"
      ]
     },
     "execution_count": 36,
     "metadata": {},
     "output_type": "execute_result"
    }
   ],
   "source": [
    "rf_grid"
   ]
  },
  {
   "cell_type": "code",
   "execution_count": 37,
   "id": "c2f53a62-aeba-4aad-9c80-77154da8be74",
   "metadata": {},
   "outputs": [],
   "source": [
    "# model = all_regs['RandomForestRegressor']\n",
    "\n",
    "# grid = RandomizedSearchCV(\n",
    "#     estimator=model,\n",
    "#     param_distributions=rf_grid,\n",
    "#     n_iter=5,\n",
    "#     cv=3,\n",
    "#     verbose=2,\n",
    "#     random_state=42,\n",
    "#     n_jobs=-1)\n",
    "\n",
    "# grid.fit(X_train, y_train)"
   ]
  },
  {
   "cell_type": "code",
   "execution_count": 14,
   "id": "468b4d39-ca95-46b6-829d-6fe12291a622",
   "metadata": {},
   "outputs": [],
   "source": [
    "model = all_regs['RandomForestRegressor']"
   ]
  },
  {
   "cell_type": "code",
   "execution_count": 52,
   "id": "3af1b68b-17f5-4518-b535-8751f58dab0f",
   "metadata": {},
   "outputs": [],
   "source": [
    "model = list(all_regs.values())[0]"
   ]
  },
  {
   "cell_type": "code",
   "execution_count": 57,
   "id": "e727f69c-618c-42a2-bd2b-8d93faade886",
   "metadata": {},
   "outputs": [],
   "source": [
    "model_name = list(all_regs.keys())[0]"
   ]
  },
  {
   "cell_type": "code",
   "execution_count": 58,
   "id": "83622744-16af-43b2-8d79-52318acfa39b",
   "metadata": {},
   "outputs": [
    {
     "data": {
      "text/plain": [
       "'ARDRegression'"
      ]
     },
     "execution_count": 58,
     "metadata": {},
     "output_type": "execute_result"
    }
   ],
   "source": [
    "model_name"
   ]
  },
  {
   "cell_type": "code",
   "execution_count": 55,
   "id": "71447eb7-87c4-44d6-addd-a3844006b656",
   "metadata": {},
   "outputs": [
    {
     "data": {
      "text/plain": [
       "52"
      ]
     },
     "execution_count": 55,
     "metadata": {},
     "output_type": "execute_result"
    }
   ],
   "source": [
    "len(list(all_regs.values()))"
   ]
  },
  {
   "cell_type": "code",
   "execution_count": null,
   "id": "97543690-123c-40ab-b17e-33f990989e09",
   "metadata": {},
   "outputs": [],
   "source": [
    "alpha_1float, default=1e-6\n",
    "Hyper-parameter : shape parameter for the Gamma distribution prior over the alpha parameter.\n",
    "\n",
    "alpha_2float, default=1e-6\n",
    "Hyper-parameter : inverse scale parameter (rate parameter) for the Gamma distribution prior over the alpha parameter.\n",
    "\n",
    "lambda_1float, default=1e-6\n",
    "Hyper-parameter : shape parameter for the Gamma distribution prior over the lambda parameter.\n",
    "\n",
    "lambda_2float, default=1e-6\n",
    "Hyper-parameter : inverse scale parameter (rate parameter) for the Gamma distribution prior over the lambda parameter."
   ]
  },
  {
   "cell_type": "code",
   "execution_count": 62,
   "id": "d8711411-c166-4119-bb25-7c2752072275",
   "metadata": {},
   "outputs": [],
   "source": [
    "hyper_parameters_list = [\n",
    "    'alpha_1',\n",
    "    'alpha_2',\n",
    "    'lambda_1',\n",
    "    'lambda_2'\n",
    "]"
   ]
  },
  {
   "cell_type": "code",
   "execution_count": 15,
   "id": "2c72e74b-13c8-4072-a3a2-57769a49f562",
   "metadata": {},
   "outputs": [],
   "source": [
    "params = model.get_params()"
   ]
  },
  {
   "cell_type": "code",
   "execution_count": 16,
   "id": "33f7c125-1237-4972-a469-99d31d345634",
   "metadata": {},
   "outputs": [
    {
     "data": {
      "text/plain": [
       "{'bootstrap': True,\n",
       " 'ccp_alpha': 0.0,\n",
       " 'criterion': 'mse',\n",
       " 'max_depth': None,\n",
       " 'max_features': 'auto',\n",
       " 'max_leaf_nodes': None,\n",
       " 'max_samples': None,\n",
       " 'min_impurity_decrease': 0.0,\n",
       " 'min_impurity_split': None,\n",
       " 'min_samples_leaf': 1,\n",
       " 'min_samples_split': 2,\n",
       " 'min_weight_fraction_leaf': 0.0,\n",
       " 'n_estimators': 100,\n",
       " 'n_jobs': None,\n",
       " 'oob_score': False,\n",
       " 'random_state': None,\n",
       " 'verbose': 0,\n",
       " 'warm_start': False}"
      ]
     },
     "execution_count": 16,
     "metadata": {},
     "output_type": "execute_result"
    }
   ],
   "source": [
    "params"
   ]
  },
  {
   "cell_type": "code",
   "execution_count": 63,
   "id": "ec823aae-db20-4469-b80c-29cfd99a7f01",
   "metadata": {},
   "outputs": [],
   "source": [
    "hyper_parameters = {k: params[k] for k in hyper_parameters_list}"
   ]
  },
  {
   "cell_type": "code",
   "execution_count": 67,
   "id": "8dc7183e-72e6-4742-a8f5-6c09f53ba523",
   "metadata": {},
   "outputs": [],
   "source": [
    "a = hyper_parameters['alpha_1']"
   ]
  },
  {
   "cell_type": "code",
   "execution_count": 68,
   "id": "7cc2c968-6c6b-43b2-949a-569b0875e16b",
   "metadata": {},
   "outputs": [
    {
     "data": {
      "text/plain": [
       "float"
      ]
     },
     "execution_count": 68,
     "metadata": {},
     "output_type": "execute_result"
    }
   ],
   "source": [
    "type(a)"
   ]
  },
  {
   "cell_type": "code",
   "execution_count": 70,
   "id": "e38647db-eaaa-49f2-a299-9f9c228f745a",
   "metadata": {},
   "outputs": [
    {
     "data": {
      "text/plain": [
       "2.5e-07"
      ]
     },
     "execution_count": 70,
     "metadata": {},
     "output_type": "execute_result"
    }
   ],
   "source": [
    "0.25*a"
   ]
  },
  {
   "cell_type": "code",
   "execution_count": 72,
   "id": "071fdea9-a507-45ba-8394-1feb7496f605",
   "metadata": {},
   "outputs": [
    {
     "data": {
      "text/plain": [
       "'ARDRegression'"
      ]
     },
     "execution_count": 72,
     "metadata": {},
     "output_type": "execute_result"
    }
   ],
   "source": [
    "model_name"
   ]
  },
  {
   "cell_type": "code",
   "execution_count": null,
   "id": "7cab2047-f628-4296-b0f5-6ae25e2c6eba",
   "metadata": {},
   "outputs": [],
   "source": [
    "g1 = {\n",
    "    'alpha_1': ,\n",
    "    'alpha_2',\n",
    "    'lambda_1',\n",
    "    'lambda_2' \n",
    "}"
   ]
  }
 ],
 "metadata": {
  "kernelspec": {
   "display_name": "Python 3",
   "language": "python",
   "name": "python3"
  },
  "language_info": {
   "codemirror_mode": {
    "name": "ipython",
    "version": 3
   },
   "file_extension": ".py",
   "mimetype": "text/x-python",
   "name": "python",
   "nbconvert_exporter": "python",
   "pygments_lexer": "ipython3",
   "version": "3.8.8"
  }
 },
 "nbformat": 4,
 "nbformat_minor": 5
}
